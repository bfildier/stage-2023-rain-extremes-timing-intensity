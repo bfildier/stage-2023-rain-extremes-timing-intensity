{
 "cells": [
  {
   "cell_type": "code",
   "execution_count": 56,
   "id": "ed0ee4f0-2d9b-45ea-8add-0905598163c5",
   "metadata": {},
   "outputs": [],
   "source": [
    "# import functions from my_functions.py file\n",
    "import sys\n",
    "sys.path.append('/home/gmaxemin/code/stage-2023-rain-extremes-timing-intensity/scripts/start')\n",
    "from my_functions import *"
   ]
  },
  {
   "cell_type": "code",
   "execution_count": 57,
   "id": "75b542a2-36c2-42a6-bafc-a9eba4f3f529",
   "metadata": {},
   "outputs": [],
   "source": [
    "#-- Select the variable of interest\n",
    "variable = \"Precac\""
   ]
  },
  {
   "cell_type": "code",
   "execution_count": 58,
   "id": "a1998532-4232-47fe-9c93-19a6d158763d",
   "metadata": {},
   "outputs": [],
   "source": [
    "#-- Condition if Precac; Load segmentation relation file \n",
    "if variable == \"Precac\":\n",
    "    df = loadRelTable()\n",
    "    num_df_files = len(df['path_dyamond'])"
   ]
  },
  {
   "cell_type": "code",
   "execution_count": 59,
   "id": "4af80ff7-8c3d-4640-883e-41a26d958223",
   "metadata": {},
   "outputs": [],
   "source": [
    "#-- Condition if not Precac; Search for files containing the desired characters\n",
    "if not variable == \"Precac\":\n",
    "    matching_files = glob.glob(path_2D + '/*{}*'.format(variable))\n",
    "    sorted_files = sorted(matching_files)"
   ]
  },
  {
   "cell_type": "code",
   "execution_count": 60,
   "id": "dbfe7a87-1ed0-45cd-a079-7c00c630c520",
   "metadata": {},
   "outputs": [],
   "source": [
    "#-- initialize lists containing spatial mean over time and the times\n",
    "data_list = [] \n",
    "timestamp_list = []"
   ]
  },
  {
   "cell_type": "code",
   "execution_count": 63,
   "id": "f8034390-39d0-48d6-8504-5389de95cd4f",
   "metadata": {},
   "outputs": [
    {
     "name": "stderr",
     "output_type": "stream",
     "text": [
      "Processing:   0%|                          | 3/1919 [00:01<13:21,  2.39it/s]"
     ]
    },
    {
     "name": "stdout",
     "output_type": "stream",
     "text": [
      "prec: <xarray.DataArray 'Precac' (lat: 518, lon: 896)>\n",
      "array([[0., 0., 0., ..., 0., 0., 0.],\n",
      "       [0., 0., 0., ..., 0., 0., 0.],\n",
      "       [0., 0., 0., ..., 0., 0., 0.],\n",
      "       ...,\n",
      "       [0., 0., 0., ..., 0., 0., 0.],\n",
      "       [0., 0., 0., ..., 0., 0., 0.],\n",
      "       [0., 0., 0., ..., 0., 0., 0.]], dtype=float32)\n",
      "Coordinates:\n",
      "  * lat      (lat) float32 0.01931 0.05794 0.09657 0.1352 ... 19.91 19.95 19.99\n",
      "  * lon      (lon) float32 130.0 130.1 130.1 130.1 ... 164.9 164.9 164.9 165.0\n",
      "prec_filename: /home/gmaxemin/windows/internship_g_maxemin/DYAMOND_REGIONS/130E_165E_0N_20N/SAM/2D/DYAMOND_9216x4608x74_7.5s_4km_4608_0000001200.Precac.2D.nc\n"
     ]
    },
    {
     "name": "stderr",
     "output_type": "stream",
     "text": [
      "Processing:   4%|▉                        | 71/1919 [00:30<13:09,  2.34it/s]\n"
     ]
    },
    {
     "ename": "KeyboardInterrupt",
     "evalue": "",
     "output_type": "error",
     "traceback": [
      "\u001b[0;31m---------------------------------------------------------------------------\u001b[0m",
      "\u001b[0;31mKeyboardInterrupt\u001b[0m                         Traceback (most recent call last)",
      "Cell \u001b[0;32mIn[63], line 46\u001b[0m\n\u001b[1;32m     43\u001b[0m         seg_index \u001b[38;5;241m=\u001b[39m \u001b[38;5;241m1\u001b[39m\n\u001b[1;32m     45\u001b[0m \u001b[38;5;66;03m# Load data\u001b[39;00m\n\u001b[0;32m---> 46\u001b[0m prec \u001b[38;5;241m=\u001b[39m \u001b[43mloadPrec\u001b[49m\u001b[43m(\u001b[49m\u001b[43mseg_index\u001b[49m\u001b[43m,\u001b[49m\u001b[43mdf\u001b[49m\u001b[43m)\u001b[49m\n\u001b[1;32m     47\u001b[0m prec_filename \u001b[38;5;241m=\u001b[39m loadPrecacFilename(seg_index, df)\n\u001b[1;32m     48\u001b[0m prec_timestamp \u001b[38;5;241m=\u001b[39m prec_filename[\u001b[38;5;241m119\u001b[39m:\u001b[38;5;241m129\u001b[39m]\n",
      "File \u001b[0;32m~/code/stage-2023-rain-extremes-timing-intensity/scripts/start/precac_functions.py:48\u001b[0m, in \u001b[0;36mloadPrec\u001b[0;34m(i_t, df)\u001b[0m\n\u001b[1;32m     46\u001b[0m \u001b[38;5;28;01mdel\u001b[39;00m precac_prev\n\u001b[1;32m     47\u001b[0m \u001b[38;5;28;01mdel\u001b[39;00m precac_current\n\u001b[0;32m---> 48\u001b[0m \u001b[43mgc\u001b[49m\u001b[38;5;241;43m.\u001b[39;49m\u001b[43mcollect\u001b[49m\u001b[43m(\u001b[49m\u001b[43m)\u001b[49m\n\u001b[1;32m     50\u001b[0m \u001b[38;5;28;01mreturn\u001b[39;00m prec\n",
      "\u001b[0;31mKeyboardInterrupt\u001b[0m: "
     ]
    }
   ],
   "source": [
    "#-- Iterate through the timestamps and populate the arrays with a progress bar\n",
    "\n",
    "from tqdm import tqdm\n",
    "\n",
    "if not variable == \"Precac\":\n",
    "    \n",
    "    for i, file in tqdm(enumerate(sorted_files), total=len(sorted_files), desc='Processing'):\n",
    "\n",
    "        # Access data\n",
    "        data = xr.open_dataset(file)\n",
    "        variable_data = data[variable]\n",
    "        \n",
    "        # Calculate spatial mean\n",
    "        mean_lonlat = variable_data.mean(dim=['lon', 'lat'])\n",
    "        mean_lonlat_value = mean_lonlat.values[0]\n",
    "\n",
    "        # Getting timestamp\n",
    "        start_marker = \"DYAMOND_9216x4608x74_7.5s_4km_4608_\"\n",
    "        end_marker = f\".{variable}.2D.nc\"\n",
    "\n",
    "        start_index = file.index(start_marker) + len(start_marker)\n",
    "        end_index = file.index(end_marker)\n",
    "\n",
    "        time_stamp = file[start_index:end_index]\n",
    "\n",
    "        # Append to lists\n",
    "        data_list.append(mean_lonlat_value)\n",
    "        timestamp_list.append(time_stamp)\n",
    "        \n",
    "        # Delete data and remove from memory\n",
    "        del data\n",
    "        del mean_lonlat\n",
    "        del mean_lonlat_value\n",
    "        del variable_data\n",
    "        gc.collect\n",
    "        \n",
    "else:\n",
    "    \n",
    "    for seg_index in tqdm(range(num_df_files), desc='Processing'):\n",
    "        \n",
    "        # Handling edge case: making data the same for 0 and 1 index\n",
    "        if seg_index == 0:\n",
    "                seg_index = 1\n",
    "\n",
    "        # Load data\n",
    "        prec = loadPrec(seg_index,df)\n",
    "        prec_filename = loadPrecacFilename(seg_index, df)\n",
    "        prec_timestamp = prec_filename[119:129]\n",
    "\n",
    "        # Replace negative values with NaN\n",
    "        variable_data = xr.where(prec < 0, np.nan, prec)\n",
    "        \n",
    "        # Calculate spatial mean\n",
    "\n",
    "        mean_lonlat = variable_data.mean(dim=['lon', 'lat'])\n",
    "        mean_lonlat_value = mean_lonlat.item()  # Convert scalar to a Python float\n",
    "    \n",
    "        \n",
    "        # Append to lists\n",
    "        data_list.append(mean_lonlat_value)\n",
    "        timestamp_list.append(time_stamp)\n",
    "\n",
    "        # Delete data and remove from memory\n",
    "        del prec\n",
    "        del prec_filename\n",
    "        del variable_data\n",
    "        gc.collect\n",
    "        \n",
    "\n",
    "# Convert lists to arrays\n",
    "PW_means_lonlat_array = np.array(data_list)\n",
    "timestamps_array = np.array(timestamp_list)\n",
    "\n",
    "# Print the resulting array\n",
    "print(PW_means_lonlat_array)\n",
    "print(timestamps_array)"
   ]
  },
  {
   "cell_type": "code",
   "execution_count": 17,
   "id": "7bfb1105-f09e-44cf-a1d6-a06b5d70dba0",
   "metadata": {},
   "outputs": [
    {
     "data": {
      "image/png": "[encoded data removed]",
      "text/plain": [
       "<Figure size 640x480 with 1 Axes>"
      ]
     },
     "metadata": {},
     "output_type": "display_data"
    }
   ],
   "source": [
    "#-- plotting\n",
    "\n",
    "name_dict = {\"OM500\":\"Pressure velocity at 500 mb\", \"T2mm\":\"2-m temperature\", \"OM850\":\"Pressure velocity at 850 mb\", \"Precac\":\"Surface Accum Precip.\", \"PW\":\"Precipitable Water\", \"CWP\":\"Cloud Water Path\", \"U10m\":\"10-m zonal wind\", \"RH500\":\"Relative Humidity 500mb\", \"PSFC\":\"P at the surface\",\"V10m\":\"10-m meridional wind\",\"SHF\":\"Sensible Heat Flux\", \"LHF\":\"Latent Heat Flux\"}\n",
    "unit_dict = {\"OM500\":\"Pa/s\",\"T2mm\":\"K\", \"OM850\":\"Pa/s\",\"Precac\":\"mm\", \"PW\":\"kg/m²\", \"CWP\":\"kg/m²\", \"U10m\":\"m/s\", \"RH500\":\"\", \"PSFC\":\"mbar\", \"V10m\":\"m/s\",\"SHF\":\"W/m²\", \"LHF\":\"W/m²\"}\n",
    "var_name = name_dict.get(variable)\n",
    "var_unit = unit_dict.get(variable)\n",
    "\n",
    "\n",
    "# Create a figure and axes\n",
    "fig, ax = plt.subplots()\n",
    "\n",
    "# Plot the data\n",
    "ax.plot(timestamps_array, PW_means_lonlat_array, marker='.', linestyle='none')\n",
    "ax.set_xlabel('Time')\n",
    "ax.set_ylabel(f'{var_name} ({var_unit})')\n",
    "ax.set_title(f'DYAMOND SAM {var_name} over Time\\n130:165E, 0:20N')\n",
    "\n",
    "\n",
    "plt.xticks([])\n",
    "\n",
    "plt.show()"
   ]
  },
  {
   "cell_type": "code",
   "execution_count": null,
   "id": "260d6edb-b8e9-40c2-8399-acc801abcccf",
   "metadata": {},
   "outputs": [],
   "source": [
    "# Open the NetCDF file\n",
    "data = xr.open_dataset(file)"
   ]
  }
 ],
 "metadata": {
  "kernelspec": {
   "display_name": "Python 3 (ipykernel)",
   "language": "python",
   "name": "python3"
  },
  "language_info": {
   "codemirror_mode": {
    "name": "ipython",
    "version": 3
   },
   "file_extension": ".py",
   "mimetype": "text/x-python",
   "name": "python",
   "nbconvert_exporter": "python",
   "pygments_lexer": "ipython3",
   "version": "3.10.9"
  }
 },
 "nbformat": 4,
 "nbformat_minor": 5
}
