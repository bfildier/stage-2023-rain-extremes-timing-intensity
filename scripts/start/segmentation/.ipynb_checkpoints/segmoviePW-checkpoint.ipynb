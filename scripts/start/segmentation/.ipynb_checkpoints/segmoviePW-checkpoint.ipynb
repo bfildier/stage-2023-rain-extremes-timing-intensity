{
 "cells": [
  {
   "cell_type": "markdown",
   "id": "e6cd79b9-e0ab-4143-ae42-18f76b833d89",
   "metadata": {},
   "source": [
    "# Imports"
   ]
  },
  {
   "cell_type": "code",
   "execution_count": 79,
   "id": "2db3df17-d477-468a-af5f-2214236b531a",
   "metadata": {},
   "outputs": [],
   "source": [
    "#-- import functions from my_functions.py file\n",
    "import sys\n",
    "sys.path.append('/home/gmaxemin/code/stage-2023-rain-extremes-timing-intensity/scripts/start')\n",
    "from my_functions import *\n",
    "\n",
    "import datetime as dt\n",
    "import re\n",
    "import cartopy.crs as ccrs\n",
    "import matplotlib.cm as cm\n",
    "import psutil\n",
    "thismodule = sys.modules[__name__]"
   ]
  },
  {
   "cell_type": "markdown",
   "id": "8d93eaa3-5966-480a-8b63-e86e5020d0af",
   "metadata": {},
   "source": [
    "# Paths"
   ]
  },
  {
   "cell_type": "code",
   "execution_count": 80,
   "id": "88a3d9b9-9afc-47f2-9096-d76f3af4408a",
   "metadata": {},
   "outputs": [
    {
     "name": "stdout",
     "output_type": "stream",
     "text": [
      "/home/gmaxemin/windows/internship_g_maxemin/DYAMOND_REGIONS/130E_165E_0N_20N/SAM/2D\n"
     ]
    }
   ],
   "source": [
    "#-- Paths\n",
    "\n",
    "# DIR_DYAMOND (where DYAMOND data are)\n",
    "\n",
    "path_DYAMOND_REGIONS = '/home/gmaxemin/windows/internship_g_maxemin/DYAMOND_REGIONS'\n",
    "path_reg1_SAM = os.path.join(path_DYAMOND_REGIONS, \"130E_165E_0N_20N/SAM\")\n",
    "path_2D = os.path.join(path_reg1_SAM,'2D')\n",
    "\n",
    "DIR_DYAMOND = path_2D\n",
    "print(DIR_DYAMOND)\n",
    "\n",
    "# DIR_DATA (where segmentation relation table is)\n",
    "\n",
    "DIR_DATA = \"/home/gmaxemin/code/stage-2023-rain-extremes-timing-intensity/input/\""
   ]
  },
  {
   "cell_type": "code",
   "execution_count": 81,
   "id": "22b0b9c7-4cc4-4da7-b39b-335952a11bfc",
   "metadata": {},
   "outputs": [
    {
     "data": {
      "text/html": [
       "<div>\n",
       "<style scoped>\n",
       "    .dataframe tbody tr th:only-of-type {\n",
       "        vertical-align: middle;\n",
       "    }\n",
       "\n",
       "    .dataframe tbody tr th {\n",
       "        vertical-align: top;\n",
       "    }\n",
       "\n",
       "    .dataframe thead th {\n",
       "        text-align: right;\n",
       "    }\n",
       "</style>\n",
       "<table border=\"1\" class=\"dataframe\">\n",
       "  <thead>\n",
       "    <tr style=\"text-align: right;\">\n",
       "      <th></th>\n",
       "      <th>Unnamed: 0.5</th>\n",
       "      <th>Unnamed: 0.4</th>\n",
       "      <th>Unnamed: 0.3</th>\n",
       "      <th>Unnamed: 0.2</th>\n",
       "      <th>img_seg_path</th>\n",
       "      <th>str_code</th>\n",
       "      <th>Unnamed: 0.1</th>\n",
       "      <th>Unnamed: 0</th>\n",
       "      <th>year</th>\n",
       "      <th>month</th>\n",
       "      <th>day</th>\n",
       "      <th>hour</th>\n",
       "      <th>minute</th>\n",
       "      <th>path_dyamond</th>\n",
       "      <th>UTC</th>\n",
       "    </tr>\n",
       "  </thead>\n",
       "  <tbody>\n",
       "    <tr>\n",
       "      <th>0</th>\n",
       "      <td>476</td>\n",
       "      <td>476.0</td>\n",
       "      <td>476.0</td>\n",
       "      <td>476.0</td>\n",
       "      <td>data/fiolleau/DYAMOND/TOOCAN/TOOCAN_v2.07/GLOB...</td>\n",
       "      <td>2016-8-1-1-30</td>\n",
       "      <td>2.0</td>\n",
       "      <td>2.0</td>\n",
       "      <td>2016.0</td>\n",
       "      <td>8.0</td>\n",
       "      <td>1.0</td>\n",
       "      <td>1.0</td>\n",
       "      <td>30.0</td>\n",
       "      <td>DYAMOND_9216x4608x74_7.5s_4km_4608_0000000720</td>\n",
       "      <td>17014.03</td>\n",
       "    </tr>\n",
       "    <tr>\n",
       "      <th>1</th>\n",
       "      <td>443</td>\n",
       "      <td>443.0</td>\n",
       "      <td>443.0</td>\n",
       "      <td>443.0</td>\n",
       "      <td>data/fiolleau/DYAMOND/TOOCAN/TOOCAN_v2.07/GLOB...</td>\n",
       "      <td>2016-8-1-2-0</td>\n",
       "      <td>3.0</td>\n",
       "      <td>3.0</td>\n",
       "      <td>2016.0</td>\n",
       "      <td>8.0</td>\n",
       "      <td>1.0</td>\n",
       "      <td>2.0</td>\n",
       "      <td>0.0</td>\n",
       "      <td>DYAMOND_9216x4608x74_7.5s_4km_4608_0000000960</td>\n",
       "      <td>17014.04</td>\n",
       "    </tr>\n",
       "    <tr>\n",
       "      <th>2</th>\n",
       "      <td>468</td>\n",
       "      <td>468.0</td>\n",
       "      <td>468.0</td>\n",
       "      <td>468.0</td>\n",
       "      <td>data/fiolleau/DYAMOND/TOOCAN/TOOCAN_v2.07/GLOB...</td>\n",
       "      <td>2016-8-1-2-30</td>\n",
       "      <td>4.0</td>\n",
       "      <td>4.0</td>\n",
       "      <td>2016.0</td>\n",
       "      <td>8.0</td>\n",
       "      <td>1.0</td>\n",
       "      <td>2.0</td>\n",
       "      <td>30.0</td>\n",
       "      <td>DYAMOND_9216x4608x74_7.5s_4km_4608_0000001200</td>\n",
       "      <td>17014.05</td>\n",
       "    </tr>\n",
       "    <tr>\n",
       "      <th>3</th>\n",
       "      <td>432</td>\n",
       "      <td>432.0</td>\n",
       "      <td>432.0</td>\n",
       "      <td>432.0</td>\n",
       "      <td>data/fiolleau/DYAMOND/TOOCAN/TOOCAN_v2.07/GLOB...</td>\n",
       "      <td>2016-8-1-3-0</td>\n",
       "      <td>5.0</td>\n",
       "      <td>5.0</td>\n",
       "      <td>2016.0</td>\n",
       "      <td>8.0</td>\n",
       "      <td>1.0</td>\n",
       "      <td>3.0</td>\n",
       "      <td>0.0</td>\n",
       "      <td>DYAMOND_9216x4608x74_7.5s_4km_4608_0000001440</td>\n",
       "      <td>17014.06</td>\n",
       "    </tr>\n",
       "    <tr>\n",
       "      <th>4</th>\n",
       "      <td>437</td>\n",
       "      <td>437.0</td>\n",
       "      <td>437.0</td>\n",
       "      <td>437.0</td>\n",
       "      <td>data/fiolleau/DYAMOND/TOOCAN/TOOCAN_v2.07/GLOB...</td>\n",
       "      <td>2016-8-1-3-30</td>\n",
       "      <td>6.0</td>\n",
       "      <td>6.0</td>\n",
       "      <td>2016.0</td>\n",
       "      <td>8.0</td>\n",
       "      <td>1.0</td>\n",
       "      <td>3.0</td>\n",
       "      <td>30.0</td>\n",
       "      <td>DYAMOND_9216x4608x74_7.5s_4km_4608_0000001680</td>\n",
       "      <td>17014.07</td>\n",
       "    </tr>\n",
       "    <tr>\n",
       "      <th>...</th>\n",
       "      <td>...</td>\n",
       "      <td>...</td>\n",
       "      <td>...</td>\n",
       "      <td>...</td>\n",
       "      <td>...</td>\n",
       "      <td>...</td>\n",
       "      <td>...</td>\n",
       "      <td>...</td>\n",
       "      <td>...</td>\n",
       "      <td>...</td>\n",
       "      <td>...</td>\n",
       "      <td>...</td>\n",
       "      <td>...</td>\n",
       "      <td>...</td>\n",
       "      <td>...</td>\n",
       "    </tr>\n",
       "    <tr>\n",
       "      <th>1914</th>\n",
       "      <td>1295</td>\n",
       "      <td>1295.0</td>\n",
       "      <td>1295.0</td>\n",
       "      <td>1295.0</td>\n",
       "      <td>data/fiolleau/DYAMOND/TOOCAN/TOOCAN_v2.07/GLOB...</td>\n",
       "      <td>2016-9-9-22-30</td>\n",
       "      <td>1916.0</td>\n",
       "      <td>1916.0</td>\n",
       "      <td>2016.0</td>\n",
       "      <td>9.0</td>\n",
       "      <td>9.0</td>\n",
       "      <td>22.0</td>\n",
       "      <td>30.0</td>\n",
       "      <td>DYAMOND_9216x4608x74_7.5s_4km_4608_0000460080</td>\n",
       "      <td>17053.45</td>\n",
       "    </tr>\n",
       "    <tr>\n",
       "      <th>1915</th>\n",
       "      <td>1315</td>\n",
       "      <td>1315.0</td>\n",
       "      <td>1315.0</td>\n",
       "      <td>1315.0</td>\n",
       "      <td>data/fiolleau/DYAMOND/TOOCAN/TOOCAN_v2.07/GLOB...</td>\n",
       "      <td>2016-9-9-23-0</td>\n",
       "      <td>1917.0</td>\n",
       "      <td>1917.0</td>\n",
       "      <td>2016.0</td>\n",
       "      <td>9.0</td>\n",
       "      <td>9.0</td>\n",
       "      <td>23.0</td>\n",
       "      <td>0.0</td>\n",
       "      <td>DYAMOND_9216x4608x74_7.5s_4km_4608_0000460320</td>\n",
       "      <td>17053.46</td>\n",
       "    </tr>\n",
       "    <tr>\n",
       "      <th>1916</th>\n",
       "      <td>1313</td>\n",
       "      <td>1313.0</td>\n",
       "      <td>1313.0</td>\n",
       "      <td>1313.0</td>\n",
       "      <td>data/fiolleau/DYAMOND/TOOCAN/TOOCAN_v2.07/GLOB...</td>\n",
       "      <td>2016-9-9-23-30</td>\n",
       "      <td>1918.0</td>\n",
       "      <td>1918.0</td>\n",
       "      <td>2016.0</td>\n",
       "      <td>9.0</td>\n",
       "      <td>9.0</td>\n",
       "      <td>23.0</td>\n",
       "      <td>30.0</td>\n",
       "      <td>DYAMOND_9216x4608x74_7.5s_4km_4608_0000460560</td>\n",
       "      <td>17053.47</td>\n",
       "    </tr>\n",
       "    <tr>\n",
       "      <th>1917</th>\n",
       "      <td>1304</td>\n",
       "      <td>1304.0</td>\n",
       "      <td>1304.0</td>\n",
       "      <td>1304.0</td>\n",
       "      <td>data/fiolleau/DYAMOND/TOOCAN/TOOCAN_v2.07/GLOB...</td>\n",
       "      <td>2016-9-10-0-0</td>\n",
       "      <td>1919.0</td>\n",
       "      <td>1919.0</td>\n",
       "      <td>2016.0</td>\n",
       "      <td>9.0</td>\n",
       "      <td>10.0</td>\n",
       "      <td>0.0</td>\n",
       "      <td>0.0</td>\n",
       "      <td>DYAMOND_9216x4608x74_7.5s_4km_4608_0000460800</td>\n",
       "      <td>17053.48</td>\n",
       "    </tr>\n",
       "    <tr>\n",
       "      <th>1918</th>\n",
       "      <td>1919</td>\n",
       "      <td>NaN</td>\n",
       "      <td>NaN</td>\n",
       "      <td>NaN</td>\n",
       "      <td>NaN</td>\n",
       "      <td>NaN</td>\n",
       "      <td>NaN</td>\n",
       "      <td>NaN</td>\n",
       "      <td>NaN</td>\n",
       "      <td>NaN</td>\n",
       "      <td>NaN</td>\n",
       "      <td>NaN</td>\n",
       "      <td>NaN</td>\n",
       "      <td>NaN</td>\n",
       "      <td>17054.01</td>\n",
       "    </tr>\n",
       "  </tbody>\n",
       "</table>\n",
       "<p>1919 rows × 15 columns</p>\n",
       "</div>"
      ],
      "text/plain": [
       "      Unnamed: 0.5  Unnamed: 0.4  Unnamed: 0.3  Unnamed: 0.2  \\\n",
       "0              476         476.0         476.0         476.0   \n",
       "1              443         443.0         443.0         443.0   \n",
       "2              468         468.0         468.0         468.0   \n",
       "3              432         432.0         432.0         432.0   \n",
       "4              437         437.0         437.0         437.0   \n",
       "...            ...           ...           ...           ...   \n",
       "1914          1295        1295.0        1295.0        1295.0   \n",
       "1915          1315        1315.0        1315.0        1315.0   \n",
       "1916          1313        1313.0        1313.0        1313.0   \n",
       "1917          1304        1304.0        1304.0        1304.0   \n",
       "1918          1919           NaN           NaN           NaN   \n",
       "\n",
       "                                           img_seg_path        str_code  \\\n",
       "0     data/fiolleau/DYAMOND/TOOCAN/TOOCAN_v2.07/GLOB...   2016-8-1-1-30   \n",
       "1     data/fiolleau/DYAMOND/TOOCAN/TOOCAN_v2.07/GLOB...    2016-8-1-2-0   \n",
       "2     data/fiolleau/DYAMOND/TOOCAN/TOOCAN_v2.07/GLOB...   2016-8-1-2-30   \n",
       "3     data/fiolleau/DYAMOND/TOOCAN/TOOCAN_v2.07/GLOB...    2016-8-1-3-0   \n",
       "4     data/fiolleau/DYAMOND/TOOCAN/TOOCAN_v2.07/GLOB...   2016-8-1-3-30   \n",
       "...                                                 ...             ...   \n",
       "1914  data/fiolleau/DYAMOND/TOOCAN/TOOCAN_v2.07/GLOB...  2016-9-9-22-30   \n",
       "1915  data/fiolleau/DYAMOND/TOOCAN/TOOCAN_v2.07/GLOB...   2016-9-9-23-0   \n",
       "1916  data/fiolleau/DYAMOND/TOOCAN/TOOCAN_v2.07/GLOB...  2016-9-9-23-30   \n",
       "1917  data/fiolleau/DYAMOND/TOOCAN/TOOCAN_v2.07/GLOB...   2016-9-10-0-0   \n",
       "1918                                                NaN             NaN   \n",
       "\n",
       "      Unnamed: 0.1  Unnamed: 0    year  month   day  hour  minute  \\\n",
       "0              2.0         2.0  2016.0    8.0   1.0   1.0    30.0   \n",
       "1              3.0         3.0  2016.0    8.0   1.0   2.0     0.0   \n",
       "2              4.0         4.0  2016.0    8.0   1.0   2.0    30.0   \n",
       "3              5.0         5.0  2016.0    8.0   1.0   3.0     0.0   \n",
       "4              6.0         6.0  2016.0    8.0   1.0   3.0    30.0   \n",
       "...            ...         ...     ...    ...   ...   ...     ...   \n",
       "1914        1916.0      1916.0  2016.0    9.0   9.0  22.0    30.0   \n",
       "1915        1917.0      1917.0  2016.0    9.0   9.0  23.0     0.0   \n",
       "1916        1918.0      1918.0  2016.0    9.0   9.0  23.0    30.0   \n",
       "1917        1919.0      1919.0  2016.0    9.0  10.0   0.0     0.0   \n",
       "1918           NaN         NaN     NaN    NaN   NaN   NaN     NaN   \n",
       "\n",
       "                                       path_dyamond       UTC  \n",
       "0     DYAMOND_9216x4608x74_7.5s_4km_4608_0000000720  17014.03  \n",
       "1     DYAMOND_9216x4608x74_7.5s_4km_4608_0000000960  17014.04  \n",
       "2     DYAMOND_9216x4608x74_7.5s_4km_4608_0000001200  17014.05  \n",
       "3     DYAMOND_9216x4608x74_7.5s_4km_4608_0000001440  17014.06  \n",
       "4     DYAMOND_9216x4608x74_7.5s_4km_4608_0000001680  17014.07  \n",
       "...                                             ...       ...  \n",
       "1914  DYAMOND_9216x4608x74_7.5s_4km_4608_0000460080  17053.45  \n",
       "1915  DYAMOND_9216x4608x74_7.5s_4km_4608_0000460320  17053.46  \n",
       "1916  DYAMOND_9216x4608x74_7.5s_4km_4608_0000460560  17053.47  \n",
       "1917  DYAMOND_9216x4608x74_7.5s_4km_4608_0000460800  17053.48  \n",
       "1918                                            NaN  17054.01  \n",
       "\n",
       "[1919 rows x 15 columns]"
      ]
     },
     "execution_count": 81,
     "metadata": {},
     "output_type": "execute_result"
    }
   ],
   "source": [
    "#-- Correspondence table\n",
    "df = pd.read_csv(os.path.join(DIR_DATA,'relation_2_table_UTC_dyamond_segmentation.csv'))\n",
    "df.sort_values(by='UTC',ignore_index=True,inplace=True)\n",
    "df"
   ]
  },
  {
   "cell_type": "markdown",
   "id": "610caca4-d870-4ed2-a322-3ace33c25162",
   "metadata": {},
   "source": [
    "# Functions"
   ]
  },
  {
   "cell_type": "code",
   "execution_count": 82,
   "id": "e171a986-ea59-4f5f-939f-5ce5f064874a",
   "metadata": {},
   "outputs": [],
   "source": [
    "def importData(i_t):\n",
    "    \n",
    "    # paths\n",
    "    root_DYAMOND = df.iloc[i_t]['path_dyamond'] + '.%s.2D.nc'\n",
    "    file_PW_DYAMOND = root_DYAMOND%'PW'\n",
    "    file_Precac_DYAMOND = root_DYAMOND%'Precac'\n",
    "    path_TOOCAN_SEG = \"/home/gmaxemin/windows/internship_g_maxemin/DYAMOND_REGIONS/130E_165E_0N_20N/SAM/TOOCAN_SEG/\"\n",
    "    path_TOOCAN = path_TOOCAN_SEG + ((df.iloc[i_t]['img_seg_path'])[65:94])\n",
    "\n",
    "    # Check if file exists\n",
    "    if os.path.exists(os.path.join(DIR_DYAMOND, file_PW_DYAMOND)):\n",
    "        # Load DYAMOND data\n",
    "        PW_DYAMOND = xr.open_dataarray(os.path.join(DIR_DYAMOND, file_PW_DYAMOND))\n",
    "        \n",
    "        # Load TOOCAN data\n",
    "        img_TOOCAN = xr.open_dataarray(path_TOOCAN)\n",
    "    else:\n",
    "        # Increase i_t by 1\n",
    "        i_t += 1\n",
    "        # Recursive call with the updated i_t\n",
    "        PW_DYAMOND, img_TOOCAN = importData(i_t)\n",
    "    return PW_DYAMOND, img_TOOCAN\n"
   ]
  },
  {
   "cell_type": "code",
   "execution_count": 83,
   "id": "061cf3a6-1381-4ce0-aff5-bd2223a61c61",
   "metadata": {},
   "outputs": [
    {
     "name": "stdout",
     "output_type": "stream",
     "text": [
      "(<xarray.DataArray 'PW' (time: 1, lat: 518, lon: 896)>\n",
      "[464128 values with dtype=float32]\n",
      "Coordinates:\n",
      "  * lat      (lat) float32 0.01931 0.05794 0.09657 0.1352 ... 19.91 19.95 19.99\n",
      "  * lon      (lon) float32 130.0 130.1 130.1 130.1 ... 164.9 164.9 164.9 165.0\n",
      "  * time     (time) float32 231.4\n",
      "Attributes:\n",
      "    long_name:  Precipitable Water\n",
      "    units:      kg/m2, <xarray.DataArray 'MCS_label' (time: 1, latitude: 518, longitude: 896)>\n",
      "[464128 values with dtype=float32]\n",
      "Coordinates:\n",
      "  * latitude   (latitude) float32 0.01931 0.05794 0.09657 ... 19.91 19.95 19.99\n",
      "  * longitude  (longitude) float32 130.0 130.1 130.1 130.1 ... 164.9 164.9 165.0\n",
      "  * time       (time) datetime64[ns] 2016-08-18T08:30:00\n",
      "Attributes:\n",
      "    units:           \n",
      "    standard_name:  MCS_label\n",
      "    long_name:      MCS labellisation)\n"
     ]
    },
    {
     "name": "stderr",
     "output_type": "stream",
     "text": [
      "/home/gmaxemin/anaconda3/lib/python3.10/site-packages/xarray/conventions.py:523: SerializationWarning: variable 'MCS_label' has multiple fill values {-999.0, -998.0}, decoding all values to NaN.\n",
      "  new_vars[k] = decode_cf_variable(\n"
     ]
    }
   ],
   "source": [
    "print(importData(3))"
   ]
  },
  {
   "cell_type": "code",
   "execution_count": 84,
   "id": "d6167032-74f0-45aa-8aeb-eb89160116e9",
   "metadata": {},
   "outputs": [],
   "source": [
    "def getTimeStr(i_t):\n",
    "\n",
    "    timestamp = df.path_dyamond[i_t].split('_')[-1]\n",
    "    delta = dt.timedelta(seconds=int(int(timestamp)*7.5))\n",
    "    date_t = dt.datetime(2016,8,1) + delta\n",
    "    time_str = dt.datetime.strftime(date_t,\"%h %d %Y, %H:%M\")\n",
    "\n",
    "    return time_str"
   ]
  },
  {
   "cell_type": "code",
   "execution_count": 85,
   "id": "e155451b-6363-4ba2-9ecf-52baaa7e1928",
   "metadata": {},
   "outputs": [],
   "source": [
    "def getCoords2D(dataset,slice_lon,slice_lat):\n",
    "    \n",
    "    # get correct coordinate names in dataset\n",
    "    for prefix in 'lat','lon':\n",
    "        r = re.compile(\"%s.*\"%prefix)\n",
    "        coord = list(filter(r.match,list(dataset.coords.dims)))[0]\n",
    "        setattr(thismodule,'%s_coord'%prefix,coord)\n",
    "    \n",
    "    # extract coordinates\n",
    "    lat_1D = dataset[lat_coord].sel({lat_coord:slice_lat})\n",
    "    lon_1D = dataset[lon_coord].sel({lon_coord:slice_lon})\n",
    "\n",
    "    # compute 2D meshgrid of coordinates\n",
    "    lonarray,latarray = np.meshgrid(lon_1D,lat_1D)\n",
    "    \n",
    "    return lonarray,latarray"
   ]
  },
  {
   "cell_type": "code",
   "execution_count": 86,
   "id": "6da1aaaf-6164-4899-831e-ab24f2e9e6fb",
   "metadata": {},
   "outputs": [],
   "source": [
    "def showColorBar(fig,ax,im):\n",
    "    \n",
    "    x,y,w,h = ax.get_position().bounds\n",
    "    dx = w/60\n",
    "    cax = plt.axes([x+w+2*dx,y,dx,h])\n",
    "    cbar = fig.colorbar(im, cax=cax, orientation='vertical')\n",
    "    cbar.ax.set_ylabel('Precipitable Water (kg/m²)')"
   ]
  },
  {
   "cell_type": "code",
   "execution_count": 87,
   "id": "2dc10bce-bacf-4f8e-b888-db1a7ba17cbb",
   "metadata": {},
   "outputs": [],
   "source": [
    "def initFigure(i_t0,Lx_fig,Ly_fig,title=None,norm=None):\n",
    "    # initialize figure\n",
    "    fig = plt.figure(figsize=(Lx_fig,Ly_fig))\n",
    "    ax = plt.axes(projection=ccrs.PlateCarree(central_longitude=0))\n",
    "\n",
    "    ims = []\n",
    "    ## MY EDIT\n",
    "    # ims = [[ax.imshow(np.zeros((Ly_fig, Lx_fig))), ax.imshow(np.zeros((Ly_fig, Lx_fig)))] for _ in range(2)]\n",
    "    \n",
    "    # for slice_lon in slice(lon_lim[0],360),slice(0,lon_lim[1]):\n",
    "    for slice_lon in [slice(lon_lim[0], lon_lim[1])]:\n",
    "\n",
    "        #- background\n",
    "\n",
    "        # coords\n",
    "        lonarray_dyamond,latarray_dyamond = getCoords2D(PW_DYAMOND,slice_lon,slice_lat)            \n",
    "        # data\n",
    "        Z = PW_DYAMOND.sel(lon=slice_lon,lat=slice_lat)[0]\n",
    "        # log scale\n",
    "        Z = np.log(Z)\n",
    "\n",
    "        # show\n",
    "        im = ax.pcolormesh(lonarray_dyamond,latarray_dyamond,Z,transform=ccrs.PlateCarree(),alpha=0.9,cmap=cmap)\n",
    "        im.set_clim(*clim)\n",
    "\n",
    "        #- MCSs\n",
    "        \n",
    "        # coords\n",
    "        lonarray_toocan,latarray_toocan = getCoords2D(img_TOOCAN,slice_lon,slice_lat)            \n",
    "        # data\n",
    "        IMG_SEG = img_TOOCAN.sel(longitude=slice_lon,latitude=slice_lat)[0]%10    \n",
    "        # show\n",
    "        im_MCS = ax.pcolormesh(lonarray_toocan,latarray_toocan,IMG_SEG,transform=ccrs.PlateCarree(),cmap=cmap_mcs,alpha=1)\n",
    "\n",
    "        # store image placeholders for later updating\n",
    "        ims.append([im,im_MCS])\n",
    "\n",
    "    # delete data and remove from memory\n",
    "    # del Precac_DYAMOND\n",
    "    # del img_TOOCAN\n",
    "    del Z\n",
    "    del IMG_SEG\n",
    "    gc.collect()\n",
    "    \n",
    "    # cosmetics\n",
    "    ax.set_xlabel('Longitude')\n",
    "    ax.set_ylabel('Latitude')\n",
    "    ax.set_title(title)\n",
    "    showColorBar(fig,ax,im)\n",
    "        \n",
    "    # ax.set_extent([lon_lim[0]-360,lon_lim[1], *lat_lim],crs=ccrs.PlateCarree(central_longitude=0))\n",
    "    ax.coastlines('110m')\n",
    "    ax.gridlines()\n",
    "    \n",
    "    return fig, ax, ims"
   ]
  },
  {
   "cell_type": "code",
   "execution_count": 88,
   "id": "446291f6-1bfe-46d2-8fad-cd94b49586a5",
   "metadata": {},
   "outputs": [],
   "source": [
    "def makeMovie(movie_path,j_start,j_end,Lx_fig,Ly_fig):\n",
    "    \n",
    "    Nt = len(df)\n",
    "    \n",
    "    # -- initialize figure\n",
    "    \n",
    "    # first time step\n",
    "    i_t0 = j_row_t0\n",
    "    print(\"i_t0:\", i_t0)\n",
    "    \n",
    "    title_root = 'DYAMOND-Summer SAM-4km, %s'\n",
    "    # t_str = \"%3.2f\"%PW_DYAMOND.time.data[0]\n",
    "    t_str = getTimeStr(i_t0)\n",
    "    title = title_root%t_str\n",
    "    # title = ''\n",
    "    \n",
    "    # initialize\n",
    "    fig, ax, ims = initFigure(i_t0,Lx_fig,Ly_fig,title=title)\n",
    "\n",
    "    # remove margins~ish\n",
    "    fig.subplots_adjust(left=0.02)\n",
    "    \n",
    "    # -- define movie loop\n",
    "    \n",
    "    def updateImage(i_t):\n",
    "\n",
    "        \n",
    "        # load data at i_t\n",
    "        PW_DYAMOND, img_TOOCAN = importData(i_t)\n",
    "        \n",
    "        t_str = getTimeStr(i_t)\n",
    "        \n",
    "        # for slice_lon,i_ims in zip([slice(lon_lim[0],360),slice(0,lon_lim[1])],list(np.arange(2))):\n",
    "        for slice_lon,i_ims in zip([slice(lon_lim[0], lon_lim[1])],list(np.arange(2))):\n",
    "\n",
    "            Z = PW_DYAMOND.sel(lon=slice_lon,lat=slice_lat)[0]\n",
    "            IMG_SEG = img_TOOCAN.sel(longitude=slice_lon,latitude=slice_lat)[0]%10\n",
    "            \n",
    "            lonarray_dyamond,latarray_dyamond = getCoords2D(PW_DYAMOND,slice_lon,slice_lat)\n",
    "\n",
    "            # update images\n",
    "            # ims[i_ims][0].set_array(np.ravel(Z[:-1,:-1].data))\n",
    "            ims[i_ims][0].set_array(np.ravel(Z.data))\n",
    "\n",
    "            # ims[i_ims][1].set_array(np.ravel(IMG_SEG[:-1,:-1].data))\n",
    "            ims[i_ims][1].set_array(np.ravel(IMG_SEG.data))\n",
    "\n",
    "\n",
    "\n",
    "        \n",
    "        ax.set_title(title_root%t_str)\n",
    "        \n",
    "        MB_used = psutil.Process(os.getpid()).memory_info().rss / 1024 ** 2\n",
    "\n",
    "        # delete data and remove from memory\n",
    "        # del Precac_DYAMOND\n",
    "        # del img_TOOCAN\n",
    "        del Z\n",
    "        del IMG_SEG\n",
    "        gc.collect()\n",
    "        \n",
    "        return [ims]\n",
    "    anim = animation.FuncAnimation(fig, updateImage,\n",
    "                                   frames=range(j_start,j_end), interval=interval, blit=False)\n",
    "    \n",
    "    writer = animation.writers['ffmpeg'](fps=frame_rate)\n",
    "\n",
    "    anim.save(movie_path,writer=writer,dpi=150)#,savefig_kwargs={'bbox_inches':'tight'})\n",
    "    "
   ]
  },
  {
   "cell_type": "markdown",
   "id": "6940d498-db03-4564-bd95-fdc735b22ad5",
   "metadata": {},
   "source": [
    "# Settings"
   ]
  },
  {
   "cell_type": "code",
   "execution_count": 89,
   "id": "434fe951-609f-4d99-a9de-538148790ee6",
   "metadata": {},
   "outputs": [],
   "source": [
    "i_t_chosen = 5"
   ]
  },
  {
   "cell_type": "code",
   "execution_count": 90,
   "id": "b89e300c-8321-44a0-bc67-465afd070ce6",
   "metadata": {},
   "outputs": [
    {
     "name": "stderr",
     "output_type": "stream",
     "text": [
      "/tmp/ipykernel_2157388/1293519531.py:4: MatplotlibDeprecationWarning: The get_cmap function was deprecated in Matplotlib 3.7 and will be removed two minor releases later. Use ``matplotlib.colormaps[name]`` or ``matplotlib.colormaps.get_cmap(obj)`` instead.\n",
      "  cmap_mcs = plt.cm.get_cmap('Set3', 12)\n"
     ]
    }
   ],
   "source": [
    "## image\n",
    "cmap = plt.cm.RdBu\n",
    "# cmap_mcs = plt.cm.get_cmap('rainbow', 10)\n",
    "cmap_mcs = plt.cm.get_cmap('Set3', 12)\n",
    "\n",
    "clim = (0,70)"
   ]
  },
  {
   "cell_type": "code",
   "execution_count": 91,
   "id": "20c8ec30-fe79-483b-85fc-cb2a53bddbbf",
   "metadata": {},
   "outputs": [],
   "source": [
    "#-- Lon and Lat limits\n",
    "lon_lim = (130,165)\n",
    "lat_lim = (0,20)\n",
    "slice_lat = slice(*lat_lim)"
   ]
  },
  {
   "cell_type": "code",
   "execution_count": 92,
   "id": "8d71f0f7-030c-422b-a62a-45c51d2290ee",
   "metadata": {},
   "outputs": [
    {
     "name": "stdout",
     "output_type": "stream",
     "text": [
      "<xarray.DataArray 'PW' (time: 1, lat: 518, lon: 896)>\n",
      "[464128 values with dtype=float32]\n",
      "Coordinates:\n",
      "  * lat      (lat) float32 0.01931 0.05794 0.09657 0.1352 ... 19.91 19.95 19.99\n",
      "  * lon      (lon) float32 130.0 130.1 130.1 130.1 ... 164.9 164.9 164.9 165.0\n",
      "  * time     (time) float32 231.4\n",
      "Attributes:\n",
      "    long_name:  Precipitable Water\n",
      "    units:      kg/m2\n",
      "<xarray.DataArray 'MCS_label' (time: 1, latitude: 518, longitude: 896)>\n",
      "[464128 values with dtype=float32]\n",
      "Coordinates:\n",
      "  * latitude   (latitude) float32 0.01931 0.05794 0.09657 ... 19.91 19.95 19.99\n",
      "  * longitude  (longitude) float32 130.0 130.1 130.1 130.1 ... 164.9 164.9 165.0\n",
      "  * time       (time) datetime64[ns] 2016-08-18T08:30:00\n",
      "Attributes:\n",
      "    units:           \n",
      "    standard_name:  MCS_label\n",
      "    long_name:      MCS labellisation\n"
     ]
    },
    {
     "name": "stderr",
     "output_type": "stream",
     "text": [
      "/home/gmaxemin/anaconda3/lib/python3.10/site-packages/xarray/conventions.py:523: SerializationWarning: variable 'MCS_label' has multiple fill values {-999.0, -998.0}, decoding all values to NaN.\n",
      "  new_vars[k] = decode_cf_variable(\n"
     ]
    }
   ],
   "source": [
    "# load data\n",
    "PW_DYAMOND, img_TOOCAN = importData(i_t_chosen)"
   ]
  },
  {
   "cell_type": "markdown",
   "id": "54aaddd3-c275-430c-b4e6-ed5fce24b888",
   "metadata": {},
   "source": [
    "*test*"
   ]
  },
  {
   "cell_type": "code",
   "execution_count": 94,
   "id": "cc2700a4-1e21-4650-859c-a3cf3f41b481",
   "metadata": {},
   "outputs": [
    {
     "data": {
      "text/plain": [
       "(array([[130.01953, 130.05858, 130.09764, ..., 164.90233, 164.94139,\n",
       "         164.98045],\n",
       "        [130.01953, 130.05858, 130.09764, ..., 164.90233, 164.94139,\n",
       "         164.98045],\n",
       "        [130.01953, 130.05858, 130.09764, ..., 164.90233, 164.94139,\n",
       "         164.98045],\n",
       "        ...,\n",
       "        [130.01953, 130.05858, 130.09764, ..., 164.90233, 164.94139,\n",
       "         164.98045],\n",
       "        [130.01953, 130.05858, 130.09764, ..., 164.90233, 164.94139,\n",
       "         164.98045],\n",
       "        [130.01953, 130.05858, 130.09764, ..., 164.90233, 164.94139,\n",
       "         164.98045]], dtype=float32),\n",
       " array([[1.9314237e-02, 1.9314237e-02, 1.9314237e-02, ..., 1.9314237e-02,\n",
       "         1.9314237e-02, 1.9314237e-02],\n",
       "        [5.7942707e-02, 5.7942707e-02, 5.7942707e-02, ..., 5.7942707e-02,\n",
       "         5.7942707e-02, 5.7942707e-02],\n",
       "        [9.6571177e-02, 9.6571177e-02, 9.6571177e-02, ..., 9.6571177e-02,\n",
       "         9.6571177e-02, 9.6571177e-02],\n",
       "        ...,\n",
       "        [1.9912977e+01, 1.9912977e+01, 1.9912977e+01, ..., 1.9912977e+01,\n",
       "         1.9912977e+01, 1.9912977e+01],\n",
       "        [1.9951607e+01, 1.9951607e+01, 1.9951607e+01, ..., 1.9951607e+01,\n",
       "         1.9951607e+01, 1.9951607e+01],\n",
       "        [1.9990234e+01, 1.9990234e+01, 1.9990234e+01, ..., 1.9990234e+01,\n",
       "         1.9990234e+01, 1.9990234e+01]], dtype=float32))"
      ]
     },
     "execution_count": 94,
     "metadata": {},
     "output_type": "execute_result"
    }
   ],
   "source": [
    "slice_lon = slice(*lon_lim)\n",
    "getCoords2D(PW_DYAMOND, slice_lon,slice_lat)"
   ]
  },
  {
   "cell_type": "code",
   "execution_count": 95,
   "id": "30be69c5-f65f-43e6-8457-36f7c6e1897d",
   "metadata": {},
   "outputs": [],
   "source": [
    "del slice_lon"
   ]
  },
  {
   "cell_type": "markdown",
   "id": "97e4b300-53d3-4f63-a111-7741865f5661",
   "metadata": {},
   "source": [
    "*test*"
   ]
  },
  {
   "cell_type": "markdown",
   "id": "e29e0ddc-978c-4ea5-ba22-c6e0ae73bae5",
   "metadata": {},
   "source": [
    "# original:"
   ]
  },
  {
   "cell_type": "code",
   "execution_count": 96,
   "id": "7260d619-e57b-4047-ba73-f0162a76c019",
   "metadata": {},
   "outputs": [
    {
     "name": "stdout",
     "output_type": "stream",
     "text": [
      "9.071428571428571\n"
     ]
    }
   ],
   "source": [
    "## compute figure size\n",
    "dlon = np.diff(lon_lim)[0] % 360\n",
    "dlat = np.diff(lat_lim)[0]\n",
    "Lx_fig = 15\n",
    "Lx_cbar = 0\n",
    "Ly_title = 0.5\n",
    "Ly_fig = (Lx_fig-Lx_cbar)/dlon*dlat + Ly_title"
   ]
  },
  {
   "cell_type": "markdown",
   "id": "baa403b3-0bcf-4838-ab45-46cf51689a43",
   "metadata": {},
   "source": [
    "# Mine:"
   ]
  },
  {
   "cell_type": "code",
   "execution_count": 97,
   "id": "5aad497b-f8e2-4399-b230-abe28ce2754b",
   "metadata": {},
   "outputs": [],
   "source": [
    "dlon = np.diff(lon_lim)[0] % 360\n",
    "dlat = np.diff(lat_lim)[0]\n",
    "Lx_fig = int(dlon / 3)\n",
    "Ly_fig = int(dlat / 3)"
   ]
  },
  {
   "cell_type": "code",
   "execution_count": 98,
   "id": "6cbbce98-9f45-4339-b3aa-7a342a07ad92",
   "metadata": {},
   "outputs": [],
   "source": [
    "## time bounds\n",
    "i_start = 832    \n",
    "i_end = 900"
   ]
  },
  {
   "cell_type": "code",
   "execution_count": 99,
   "id": "f6a95c6b-8b65-450b-b64d-6af8f1588524",
   "metadata": {},
   "outputs": [
    {
     "name": "stdout",
     "output_type": "stream",
     "text": [
      "first available index: 832\n"
     ]
    }
   ],
   "source": [
    "# Find first available index\n",
    "t0_SAM = 200400\n",
    "root_SAM_t0 = 'DYAMOND_9216x4608x74_7.5s_4km_4608_0000%d'%t0_SAM\n",
    "j_row_t0 = df.index[df.path_dyamond == root_SAM_t0][0]\n",
    "print('first available index:',j_row_t0)\n",
    "\n",
    "if i_start < j_row_t0:\n",
    "    err_str = \"start index is too small (minimum is %d)\"%j_row_t0\n",
    "    raise ValueError(srr_str)"
   ]
  },
  {
   "cell_type": "code",
   "execution_count": 100,
   "id": "36244973-94f4-4c4f-893b-eb7037ab9dc1",
   "metadata": {},
   "outputs": [
    {
     "name": "stdout",
     "output_type": "stream",
     "text": [
      "last available index: 1917\n"
     ]
    }
   ],
   "source": [
    "# Find last available index\n",
    "t1_SAM = 460800\n",
    "root_SAM_t1 = 'DYAMOND_9216x4608x74_7.5s_4km_4608_0000%d'%t1_SAM\n",
    "j_row_t1 = df.index[df.path_dyamond == root_SAM_t1][0]\n",
    "print('last available index:',j_row_t1)\n",
    "\n",
    "if i_end > j_row_t1:\n",
    "    err_str = \"end index is too large (maximum is %d)\"%j_row_t1\n",
    "    raise ValueError(err_str)"
   ]
  },
  {
   "cell_type": "code",
   "execution_count": 101,
   "id": "cbf3d527-35eb-4e31-8235-b4d53bbef760",
   "metadata": {},
   "outputs": [
    {
     "name": "stderr",
     "output_type": "stream",
     "text": [
      "/home/gmaxemin/anaconda3/lib/python3.10/site-packages/xarray/conventions.py:523: SerializationWarning: variable 'MCS_label' has multiple fill values {-999.0, -998.0}, decoding all values to NaN.\n",
      "  new_vars[k] = decode_cf_variable(\n"
     ]
    },
    {
     "data": {
      "text/plain": [
       "(<Figure size 1100x600 with 2 Axes>,\n",
       " <GeoAxes: title={'center': 'Precipitable Water & MCS'}, xlabel='Longitude', ylabel='Latitude'>,\n",
       " [[<cartopy.mpl.geocollection.GeoQuadMesh at 0x7fdcaa1d0250>,\n",
       "   <cartopy.mpl.geocollection.GeoQuadMesh at 0x7fdcaa1d0c70>]])"
      ]
     },
     "execution_count": 101,
     "metadata": {},
     "output_type": "execute_result"
    },
    {
     "data": {
      "image/png": "[encoded data removed]",
      "text/plain": [
       "<Figure size 1100x600 with 2 Axes>"
      ]
     },
     "metadata": {},
     "output_type": "display_data"
    }
   ],
   "source": [
    "PW_DYAMOND, img_TOOCAN = importData(i_t_chosen)\n",
    "initFigure(i_t_chosen,Lx_fig,Ly_fig, title=\"Precipitable Water & MCS\")"
   ]
  },
  {
   "cell_type": "code",
   "execution_count": null,
   "id": "fa4aa414-7a10-44c0-850a-48b728fa62c3",
   "metadata": {},
   "outputs": [
    {
     "name": "stdout",
     "output_type": "stream",
     "text": [
      "i_t0: 832\n"
     ]
    },
    {
     "name": "stderr",
     "output_type": "stream",
     "text": [
      "/home/gmaxemin/anaconda3/lib/python3.10/site-packages/xarray/conventions.py:523: SerializationWarning: variable 'MCS_label' has multiple fill values {-999.0, -998.0}, decoding all values to NaN.\n",
      "  new_vars[k] = decode_cf_variable(\n",
      "/home/gmaxemin/anaconda3/lib/python3.10/site-packages/xarray/conventions.py:523: SerializationWarning: variable 'MCS_label' has multiple fill values {-999.0, -998.0}, decoding all values to NaN.\n",
      "  new_vars[k] = decode_cf_variable(\n",
      "/home/gmaxemin/anaconda3/lib/python3.10/site-packages/xarray/conventions.py:523: SerializationWarning: variable 'MCS_label' has multiple fill values {-999.0, -998.0}, decoding all values to NaN.\n",
      "  new_vars[k] = decode_cf_variable(\n",
      "/home/gmaxemin/anaconda3/lib/python3.10/site-packages/xarray/conventions.py:523: SerializationWarning: variable 'MCS_label' has multiple fill values {-999.0, -998.0}, decoding all values to NaN.\n",
      "  new_vars[k] = decode_cf_variable(\n",
      "/home/gmaxemin/anaconda3/lib/python3.10/site-packages/xarray/conventions.py:523: SerializationWarning: variable 'MCS_label' has multiple fill values {-999.0, -998.0}, decoding all values to NaN.\n",
      "  new_vars[k] = decode_cf_variable(\n",
      "/home/gmaxemin/anaconda3/lib/python3.10/site-packages/xarray/conventions.py:523: SerializationWarning: variable 'MCS_label' has multiple fill values {-999.0, -998.0}, decoding all values to NaN.\n",
      "  new_vars[k] = decode_cf_variable(\n",
      "/home/gmaxemin/anaconda3/lib/python3.10/site-packages/xarray/conventions.py:523: SerializationWarning: variable 'MCS_label' has multiple fill values {-999.0, -998.0}, decoding all values to NaN.\n",
      "  new_vars[k] = decode_cf_variable(\n",
      "/home/gmaxemin/anaconda3/lib/python3.10/site-packages/xarray/conventions.py:523: SerializationWarning: variable 'MCS_label' has multiple fill values {-999.0, -998.0}, decoding all values to NaN.\n",
      "  new_vars[k] = decode_cf_variable(\n",
      "/home/gmaxemin/anaconda3/lib/python3.10/site-packages/xarray/conventions.py:523: SerializationWarning: variable 'MCS_label' has multiple fill values {-999.0, -998.0}, decoding all values to NaN.\n",
      "  new_vars[k] = decode_cf_variable(\n",
      "/home/gmaxemin/anaconda3/lib/python3.10/site-packages/xarray/conventions.py:523: SerializationWarning: variable 'MCS_label' has multiple fill values {-999.0, -998.0}, decoding all values to NaN.\n",
      "  new_vars[k] = decode_cf_variable(\n",
      "/home/gmaxemin/anaconda3/lib/python3.10/site-packages/xarray/conventions.py:523: SerializationWarning: variable 'MCS_label' has multiple fill values {-999.0, -998.0}, decoding all values to NaN.\n",
      "  new_vars[k] = decode_cf_variable(\n",
      "/home/gmaxemin/anaconda3/lib/python3.10/site-packages/xarray/conventions.py:523: SerializationWarning: variable 'MCS_label' has multiple fill values {-999.0, -998.0}, decoding all values to NaN.\n",
      "  new_vars[k] = decode_cf_variable(\n",
      "/home/gmaxemin/anaconda3/lib/python3.10/site-packages/xarray/conventions.py:523: SerializationWarning: variable 'MCS_label' has multiple fill values {-999.0, -998.0}, decoding all values to NaN.\n",
      "  new_vars[k] = decode_cf_variable(\n",
      "/home/gmaxemin/anaconda3/lib/python3.10/site-packages/xarray/conventions.py:523: SerializationWarning: variable 'MCS_label' has multiple fill values {-999.0, -998.0}, decoding all values to NaN.\n",
      "  new_vars[k] = decode_cf_variable(\n",
      "/home/gmaxemin/anaconda3/lib/python3.10/site-packages/xarray/conventions.py:523: SerializationWarning: variable 'MCS_label' has multiple fill values {-999.0, -998.0}, decoding all values to NaN.\n",
      "  new_vars[k] = decode_cf_variable(\n",
      "/home/gmaxemin/anaconda3/lib/python3.10/site-packages/xarray/conventions.py:523: SerializationWarning: variable 'MCS_label' has multiple fill values {-999.0, -998.0}, decoding all values to NaN.\n",
      "  new_vars[k] = decode_cf_variable(\n",
      "/home/gmaxemin/anaconda3/lib/python3.10/site-packages/xarray/conventions.py:523: SerializationWarning: variable 'MCS_label' has multiple fill values {-999.0, -998.0}, decoding all values to NaN.\n",
      "  new_vars[k] = decode_cf_variable(\n",
      "/home/gmaxemin/anaconda3/lib/python3.10/site-packages/xarray/conventions.py:523: SerializationWarning: variable 'MCS_label' has multiple fill values {-999.0, -998.0}, decoding all values to NaN.\n",
      "  new_vars[k] = decode_cf_variable(\n",
      "/home/gmaxemin/anaconda3/lib/python3.10/site-packages/xarray/conventions.py:523: SerializationWarning: variable 'MCS_label' has multiple fill values {-999.0, -998.0}, decoding all values to NaN.\n",
      "  new_vars[k] = decode_cf_variable(\n",
      "/home/gmaxemin/anaconda3/lib/python3.10/site-packages/xarray/conventions.py:523: SerializationWarning: variable 'MCS_label' has multiple fill values {-999.0, -998.0}, decoding all values to NaN.\n",
      "  new_vars[k] = decode_cf_variable(\n",
      "/home/gmaxemin/anaconda3/lib/python3.10/site-packages/xarray/conventions.py:523: SerializationWarning: variable 'MCS_label' has multiple fill values {-999.0, -998.0}, decoding all values to NaN.\n",
      "  new_vars[k] = decode_cf_variable(\n",
      "/home/gmaxemin/anaconda3/lib/python3.10/site-packages/xarray/conventions.py:523: SerializationWarning: variable 'MCS_label' has multiple fill values {-999.0, -998.0}, decoding all values to NaN.\n",
      "  new_vars[k] = decode_cf_variable(\n",
      "/home/gmaxemin/anaconda3/lib/python3.10/site-packages/xarray/conventions.py:523: SerializationWarning: variable 'MCS_label' has multiple fill values {-999.0, -998.0}, decoding all values to NaN.\n",
      "  new_vars[k] = decode_cf_variable(\n",
      "/home/gmaxemin/anaconda3/lib/python3.10/site-packages/xarray/conventions.py:523: SerializationWarning: variable 'MCS_label' has multiple fill values {-999.0, -998.0}, decoding all values to NaN.\n",
      "  new_vars[k] = decode_cf_variable(\n",
      "/home/gmaxemin/anaconda3/lib/python3.10/site-packages/xarray/conventions.py:523: SerializationWarning: variable 'MCS_label' has multiple fill values {-999.0, -998.0}, decoding all values to NaN.\n",
      "  new_vars[k] = decode_cf_variable(\n",
      "/home/gmaxemin/anaconda3/lib/python3.10/site-packages/xarray/conventions.py:523: SerializationWarning: variable 'MCS_label' has multiple fill values {-999.0, -998.0}, decoding all values to NaN.\n",
      "  new_vars[k] = decode_cf_variable(\n",
      "/home/gmaxemin/anaconda3/lib/python3.10/site-packages/xarray/conventions.py:523: SerializationWarning: variable 'MCS_label' has multiple fill values {-999.0, -998.0}, decoding all values to NaN.\n",
      "  new_vars[k] = decode_cf_variable(\n",
      "/home/gmaxemin/anaconda3/lib/python3.10/site-packages/xarray/conventions.py:523: SerializationWarning: variable 'MCS_label' has multiple fill values {-999.0, -998.0}, decoding all values to NaN.\n",
      "  new_vars[k] = decode_cf_variable(\n",
      "/home/gmaxemin/anaconda3/lib/python3.10/site-packages/xarray/conventions.py:523: SerializationWarning: variable 'MCS_label' has multiple fill values {-999.0, -998.0}, decoding all values to NaN.\n",
      "  new_vars[k] = decode_cf_variable(\n",
      "/home/gmaxemin/anaconda3/lib/python3.10/site-packages/xarray/conventions.py:523: SerializationWarning: variable 'MCS_label' has multiple fill values {-999.0, -998.0}, decoding all values to NaN.\n",
      "  new_vars[k] = decode_cf_variable(\n",
      "/home/gmaxemin/anaconda3/lib/python3.10/site-packages/xarray/conventions.py:523: SerializationWarning: variable 'MCS_label' has multiple fill values {-999.0, -998.0}, decoding all values to NaN.\n",
      "  new_vars[k] = decode_cf_variable(\n",
      "/home/gmaxemin/anaconda3/lib/python3.10/site-packages/xarray/conventions.py:523: SerializationWarning: variable 'MCS_label' has multiple fill values {-999.0, -998.0}, decoding all values to NaN.\n",
      "  new_vars[k] = decode_cf_variable(\n"
     ]
    }
   ],
   "source": [
    "\n",
    "movie_path = \"segmovietest_PW_3.mp4\"\n",
    "## animation\n",
    "N_frames_per_day = 48\n",
    "N_days_per_movie_second = 0.25\n",
    "frame_rate = N_frames_per_day * N_days_per_movie_second\n",
    "interval = int(1000/frame_rate)\n",
    "\n",
    "makeMovie(movie_path,i_start,i_end,Lx_fig,Ly_fig)"
   ]
  },
  {
   "cell_type": "code",
   "execution_count": null,
   "id": "6239157d-877d-4a0a-9a27-e613b14d15ca",
   "metadata": {},
   "outputs": [],
   "source": []
  },
  {
   "cell_type": "code",
   "execution_count": null,
   "id": "afe34dd0-1b89-4961-ba7a-a0d13d511770",
   "metadata": {},
   "outputs": [],
   "source": []
  },
  {
   "cell_type": "code",
   "execution_count": null,
   "id": "69a626f2-4003-4a29-a391-188cb6914203",
   "metadata": {},
   "outputs": [],
   "source": []
  },
  {
   "cell_type": "code",
   "execution_count": null,
   "id": "70a8e6db-7a01-49b5-8a3a-adc2658d2ede",
   "metadata": {},
   "outputs": [],
   "source": []
  }
 ],
 "metadata": {
  "kernelspec": {
   "display_name": "Python 3 (ipykernel)",
   "language": "python",
   "name": "python3"
  },
  "language_info": {
   "codemirror_mode": {
    "name": "ipython",
    "version": 3
   },
   "file_extension": ".py",
   "mimetype": "text/x-python",
   "name": "python",
   "nbconvert_exporter": "python",
   "pygments_lexer": "ipython3",
   "version": "3.10.9"
  }
 },
 "nbformat": 4,
 "nbformat_minor": 5
}
