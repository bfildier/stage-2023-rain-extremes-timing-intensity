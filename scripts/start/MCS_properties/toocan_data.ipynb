{
 "cells": [
  {
   "cell_type": "code",
   "execution_count": 1,
   "id": "fb9b2e2a-d4f6-4baf-babb-d0a40fc14299",
   "metadata": {},
   "outputs": [],
   "source": [
    "%reload_ext autoreload\n",
    "%matplotlib inline"
   ]
  },
  {
   "cell_type": "code",
   "execution_count": 2,
   "id": "82e6a563-8bef-4aca-9014-6267f743f541",
   "metadata": {},
   "outputs": [],
   "source": [
    "%autoreload 2\n",
    "\n",
    "import sys,os,glob\n",
    "import psutil\n",
    "\n",
    "import matplotlib\n",
    "import matplotlib.pyplot as plt\n",
    "import numpy as np\n",
    "import xarray as xr\n",
    "import pandas as pd\n",
    "from pprint import pprint\n",
    "import datetime as dt\n",
    "\n",
    "\n",
    "from matplotlib.colors import LogNorm\n",
    "from matplotlib.gridspec import GridSpec\n",
    "import cartopy.crs as ccrs\n",
    "\n",
    "import datetime as dt\n",
    "import re\n",
    "import gc\n",
    "import matplotlib.animation as animation\n",
    "import warnings\n",
    "import pickle\n",
    "from scipy.interpolate import interp1d\n",
    "\n",
    "\n",
    "#-- Own settings\n",
    "\n",
    "sys.path.append('/home/gmaxemin/code/stage-2023-rain-extremes-timing-intensity/scripts/start')\n",
    "from my_functions import *\n",
    "from load_TOOCAN_DYAMOND_modif_BF import load_TOOCAN_DYAMOND"
   ]
  },
  {
   "cell_type": "code",
   "execution_count": 3,
   "id": "faeff351-59ec-4def-9b00-1eb1b9b0ec28",
   "metadata": {},
   "outputs": [],
   "source": [
    "path = '/home/gmaxemin/windows/internship_g_maxemin/DYAMOND_REGIONS'"
   ]
  },
  {
   "cell_type": "code",
   "execution_count": 4,
   "id": "8c3fe9ab-8e62-44d2-9b1b-5bf1b6ccba64",
   "metadata": {},
   "outputs": [],
   "source": [
    "filename = 'TOOCAN-GLOBAL-20160801-20160831.dat.gz'"
   ]
  },
  {
   "cell_type": "code",
   "execution_count": null,
   "id": "29878619-f5c7-46ae-b4be-03e6d18260ae",
   "metadata": {},
   "outputs": [
    {
     "name": "stdout",
     "output_type": "stream",
     "text": [
      "/home/gmaxemin/windows/internship_g_maxemin/DYAMOND_REGIONS/TOOCAN-GLOBAL-20160801-20160831.dat.gz\n",
      "here\n",
      "header1 done\n",
      "header10 done\n",
      "header20 done\n"
     ]
    }
   ],
   "source": [
    "toocan = load_TOOCAN_DYAMOND(os.path.join(path,filename))"
   ]
  },
  {
   "cell_type": "code",
   "execution_count": null,
   "id": "31561853-64d0-4f49-8cb3-0b9931e753e7",
   "metadata": {},
   "outputs": [],
   "source": [
    "toocan"
   ]
  },
  {
   "cell_type": "code",
   "execution_count": null,
   "id": "ed5eaf77-5edf-4778-9916-cfa23b7a0f63",
   "metadata": {},
   "outputs": [],
   "source": []
  }
 ],
 "metadata": {
  "kernelspec": {
   "display_name": "Python 3 (ipykernel)",
   "language": "python",
   "name": "python3"
  },
  "language_info": {
   "codemirror_mode": {
    "name": "ipython",
    "version": 3
   },
   "file_extension": ".py",
   "mimetype": "text/x-python",
   "name": "python",
   "nbconvert_exporter": "python",
   "pygments_lexer": "ipython3",
   "version": "3.10.9"
  }
 },
 "nbformat": 4,
 "nbformat_minor": 5
}
