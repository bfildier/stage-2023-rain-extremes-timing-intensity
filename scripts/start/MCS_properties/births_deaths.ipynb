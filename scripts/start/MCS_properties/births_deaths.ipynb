{
 "cells": [
  {
   "cell_type": "code",
   "execution_count": 1,
   "id": "01db9fdb-4c3d-4022-a741-16a3c1220035",
   "metadata": {},
   "outputs": [],
   "source": [
    "reload_toocan = False # part of code that takes long time"
   ]
  },
  {
   "cell_type": "markdown",
   "id": "22350de2-16af-465b-bb59-d2aea0cb6ea2",
   "metadata": {},
   "source": [
    "<span style=\"color:pink\">## choose subregion</span>"
   ]
  },
  {
   "cell_type": "code",
   "execution_count": 2,
   "id": "40356a56-0223-438c-943e-8c544df0cb24",
   "metadata": {},
   "outputs": [],
   "source": [
    "lon_min_subregion = 130\n",
    "lon_max_subregion = 165\n",
    "lat_min_subregion = 0\n",
    "lat_max_subregion = 20"
   ]
  },
  {
   "cell_type": "markdown",
   "id": "790c0ea0-91c9-4d7e-b67e-a642e92348b8",
   "metadata": {},
   "source": [
    "<span style=\"color:pink\">## choose attribute (listed in code below in toocan[0])</span>"
   ]
  },
  {
   "cell_type": "code",
   "execution_count": 3,
   "id": "1f4e5f6f-916b-482a-8551-9d54a04fdb64",
   "metadata": {},
   "outputs": [],
   "source": [
    "attribute = \"duration\""
   ]
  },
  {
   "cell_type": "markdown",
   "id": "6d247154-98c1-485f-ac3e-2d2610dfae07",
   "metadata": {},
   "source": [
    "<span style=\"color:pink\">## choose MCS index and attribute (when plotting a single MCS, which MCS do you want to look at? Which attribute?). attributes listed in code blow in under toocan[36].clusters</span>"
   ]
  },
  {
   "cell_type": "code",
   "execution_count": 4,
   "id": "64bc86ee-2cc7-4650-9b1d-63172e860b55",
   "metadata": {},
   "outputs": [],
   "source": [
    "MCS_idx = 0\n",
    "attribute_single_MCS = \"surfkm2_132Wm2\""
   ]
  },
  {
   "cell_type": "markdown",
   "id": "c7148622-e99a-45a4-8ed5-fadadf009866",
   "metadata": {},
   "source": [
    "<span style=\"color:pink\">## choose single timestep index for prec</span>"
   ]
  },
  {
   "cell_type": "code",
   "execution_count": 5,
   "id": "e101ba79-ae8b-4b1a-9ac2-df9542cd2a91",
   "metadata": {},
   "outputs": [],
   "source": [
    "prec_idx = 5"
   ]
  },
  {
   "cell_type": "markdown",
   "id": "bc62522b-eb49-4524-b3f9-0677a1df4c2c",
   "metadata": {},
   "source": [
    "<span style=\"color:pink\">## choose extreme percentile</span>"
   ]
  },
  {
   "cell_type": "code",
   "execution_count": 6,
   "id": "8571fa81-a140-44a5-88d0-990752847a13",
   "metadata": {},
   "outputs": [],
   "source": [
    "percentile = 99.999"
   ]
  },
  {
   "cell_type": "markdown",
   "id": "974d513a-3923-44e2-9709-026fb9e13eca",
   "metadata": {},
   "source": [
    "<span style=\"color:pink\">##</span>"
   ]
  },
  {
   "cell_type": "markdown",
   "id": "3e2523e0-9062-4746-a9ad-ff4431ec4026",
   "metadata": {},
   "source": [
    "# Imports"
   ]
  },
  {
   "cell_type": "code",
   "execution_count": 7,
   "id": "fb9b2e2a-d4f6-4baf-babb-d0a40fc14299",
   "metadata": {},
   "outputs": [],
   "source": [
    "%reload_ext autoreload\n",
    "%matplotlib inline"
   ]
  },
  {
   "cell_type": "code",
   "execution_count": 8,
   "id": "82e6a563-8bef-4aca-9014-6267f743f541",
   "metadata": {},
   "outputs": [
    {
     "name": "stdout",
     "output_type": "stream",
     "text": [
      "/data/bfildier/DYAMOND_REGIONS/130E_165E_0N_20N/SAM/2D\n"
     ]
    }
   ],
   "source": [
    "%autoreload 2\n",
    "\n",
    "import sys,os,glob\n",
    "import psutil\n",
    "\n",
    "import matplotlib\n",
    "import matplotlib.pyplot as plt\n",
    "import numpy as np\n",
    "import xarray as xr\n",
    "import pandas as pd\n",
    "from pprint import pprint\n",
    "import datetime as dt\n",
    "\n",
    "\n",
    "from matplotlib.colors import LogNorm\n",
    "from matplotlib.gridspec import GridSpec\n",
    "import cartopy.crs as ccrs\n",
    "\n",
    "import datetime as dt\n",
    "import re\n",
    "import gc\n",
    "import matplotlib.animation as animation\n",
    "import warnings\n",
    "import pickle\n",
    "from scipy.interpolate import interp1d\n",
    "from pprint import pprint \n",
    "\n",
    "\n",
    "#-- Own settings\n",
    "\n",
    "sys.path.append('/home/gmaxemin/code/stage-2023-rain-extremes-timing-intensity/scripts/start')\n",
    "\n",
    "\n",
    "from my_functions import *\n",
    "from load_TOOCAN_DYAMOND_modif_BF import load_TOOCAN_DYAMOND"
   ]
  },
  {
   "cell_type": "markdown",
   "id": "cee1930f-a5e0-448b-9aca-93c5633a6206",
   "metadata": {},
   "source": [
    "# Paths"
   ]
  },
  {
   "cell_type": "code",
   "execution_count": 9,
   "id": "faeff351-59ec-4def-9b00-1eb1b9b0ec28",
   "metadata": {},
   "outputs": [],
   "source": [
    "# path = '/home/gmaxemin/windows/internship_g_maxemin/DYAMOND_REGIONS'\n",
    "toocan_path = \"/data/fiolleau/DYAMOND/TOOCAN/TOOCAN_v2.07/GLOBAL/2016/FileTracking\"\n",
    "# filename = 'TOOCAN-GLOBAL-20160801-20160831.dat.gz'\n",
    "toocan_filename = 'TOOCAN-GLOBAL-20160801-20160831.dat.gz'"
   ]
  },
  {
   "cell_type": "code",
   "execution_count": 10,
   "id": "677834c4-1181-4f0c-86be-82d6948c27a4",
   "metadata": {},
   "outputs": [
    {
     "name": "stdout",
     "output_type": "stream",
     "text": [
      "/data/bfildier/DYAMOND_REGIONS/130E_165E_0N_20N/SAM/2D\n"
     ]
    }
   ],
   "source": [
    "#-- Paths\n",
    "\n",
    "# DIR_DYAMOND (where DYAMOND data are)\n",
    "\n",
    "path_DYAMOND_REGIONS = '/data/bfildier/DYAMOND_REGIONS/'\n",
    "path_reg1_SAM = os.path.join(path_DYAMOND_REGIONS, \"130E_165E_0N_20N/SAM\")\n",
    "path_2D = os.path.join(path_reg1_SAM,'2D')\n",
    "\n",
    "DIR_DYAMOND = path_2D\n",
    "print(DIR_DYAMOND)\n",
    "\n",
    "# DIR_DATA (where segmentation relation table is)\n",
    "\n",
    "DIR_DATA = \"/home/gmaxemin/code/stage-2023-rain-extremes-timing-intensity/input/\""
   ]
  },
  {
   "cell_type": "code",
   "execution_count": 11,
   "id": "812a2cc3-2443-48f1-ae21-fa928c6531f3",
   "metadata": {},
   "outputs": [
    {
     "data": {
      "text/html": [
       "<div>\n",
       "<style scoped>\n",
       "    .dataframe tbody tr th:only-of-type {\n",
       "        vertical-align: middle;\n",
       "    }\n",
       "\n",
       "    .dataframe tbody tr th {\n",
       "        vertical-align: top;\n",
       "    }\n",
       "\n",
       "    .dataframe thead th {\n",
       "        text-align: right;\n",
       "    }\n",
       "</style>\n",
       "<table border=\"1\" class=\"dataframe\">\n",
       "  <thead>\n",
       "    <tr style=\"text-align: right;\">\n",
       "      <th></th>\n",
       "      <th>Unnamed: 0</th>\n",
       "      <th>Unnamed: 0.4</th>\n",
       "      <th>Unnamed: 0.3</th>\n",
       "      <th>Unnamed: 0.2</th>\n",
       "      <th>img_seg_path</th>\n",
       "      <th>str_code</th>\n",
       "      <th>Unnamed: 0.1</th>\n",
       "      <th>Unnamed: 0.1.1</th>\n",
       "      <th>year</th>\n",
       "      <th>month</th>\n",
       "      <th>day</th>\n",
       "      <th>hour</th>\n",
       "      <th>minute</th>\n",
       "      <th>path_dyamond</th>\n",
       "      <th>UTC</th>\n",
       "    </tr>\n",
       "  </thead>\n",
       "  <tbody>\n",
       "    <tr>\n",
       "      <th>0</th>\n",
       "      <td>476</td>\n",
       "      <td>476.0</td>\n",
       "      <td>476.0</td>\n",
       "      <td>476.0</td>\n",
       "      <td>data/fiolleau/DYAMOND/TOOCAN/TOOCAN_v2.07/GLOB...</td>\n",
       "      <td>2016-8-1-1-30</td>\n",
       "      <td>2.0</td>\n",
       "      <td>2.0</td>\n",
       "      <td>2016.0</td>\n",
       "      <td>8.0</td>\n",
       "      <td>1.0</td>\n",
       "      <td>1.0</td>\n",
       "      <td>30.0</td>\n",
       "      <td>DYAMOND_9216x4608x74_7.5s_4km_4608_0000000720</td>\n",
       "      <td>17014.03</td>\n",
       "    </tr>\n",
       "    <tr>\n",
       "      <th>1</th>\n",
       "      <td>443</td>\n",
       "      <td>443.0</td>\n",
       "      <td>443.0</td>\n",
       "      <td>443.0</td>\n",
       "      <td>data/fiolleau/DYAMOND/TOOCAN/TOOCAN_v2.07/GLOB...</td>\n",
       "      <td>2016-8-1-2-0</td>\n",
       "      <td>3.0</td>\n",
       "      <td>3.0</td>\n",
       "      <td>2016.0</td>\n",
       "      <td>8.0</td>\n",
       "      <td>1.0</td>\n",
       "      <td>2.0</td>\n",
       "      <td>0.0</td>\n",
       "      <td>DYAMOND_9216x4608x74_7.5s_4km_4608_0000000960</td>\n",
       "      <td>17014.04</td>\n",
       "    </tr>\n",
       "    <tr>\n",
       "      <th>2</th>\n",
       "      <td>468</td>\n",
       "      <td>468.0</td>\n",
       "      <td>468.0</td>\n",
       "      <td>468.0</td>\n",
       "      <td>data/fiolleau/DYAMOND/TOOCAN/TOOCAN_v2.07/GLOB...</td>\n",
       "      <td>2016-8-1-2-30</td>\n",
       "      <td>4.0</td>\n",
       "      <td>4.0</td>\n",
       "      <td>2016.0</td>\n",
       "      <td>8.0</td>\n",
       "      <td>1.0</td>\n",
       "      <td>2.0</td>\n",
       "      <td>30.0</td>\n",
       "      <td>DYAMOND_9216x4608x74_7.5s_4km_4608_0000001200</td>\n",
       "      <td>17014.05</td>\n",
       "    </tr>\n",
       "    <tr>\n",
       "      <th>3</th>\n",
       "      <td>432</td>\n",
       "      <td>432.0</td>\n",
       "      <td>432.0</td>\n",
       "      <td>432.0</td>\n",
       "      <td>data/fiolleau/DYAMOND/TOOCAN/TOOCAN_v2.07/GLOB...</td>\n",
       "      <td>2016-8-1-3-0</td>\n",
       "      <td>5.0</td>\n",
       "      <td>5.0</td>\n",
       "      <td>2016.0</td>\n",
       "      <td>8.0</td>\n",
       "      <td>1.0</td>\n",
       "      <td>3.0</td>\n",
       "      <td>0.0</td>\n",
       "      <td>DYAMOND_9216x4608x74_7.5s_4km_4608_0000001440</td>\n",
       "      <td>17014.06</td>\n",
       "    </tr>\n",
       "    <tr>\n",
       "      <th>4</th>\n",
       "      <td>437</td>\n",
       "      <td>437.0</td>\n",
       "      <td>437.0</td>\n",
       "      <td>437.0</td>\n",
       "      <td>data/fiolleau/DYAMOND/TOOCAN/TOOCAN_v2.07/GLOB...</td>\n",
       "      <td>2016-8-1-3-30</td>\n",
       "      <td>6.0</td>\n",
       "      <td>6.0</td>\n",
       "      <td>2016.0</td>\n",
       "      <td>8.0</td>\n",
       "      <td>1.0</td>\n",
       "      <td>3.0</td>\n",
       "      <td>30.0</td>\n",
       "      <td>DYAMOND_9216x4608x74_7.5s_4km_4608_0000001680</td>\n",
       "      <td>17014.07</td>\n",
       "    </tr>\n",
       "    <tr>\n",
       "      <th>...</th>\n",
       "      <td>...</td>\n",
       "      <td>...</td>\n",
       "      <td>...</td>\n",
       "      <td>...</td>\n",
       "      <td>...</td>\n",
       "      <td>...</td>\n",
       "      <td>...</td>\n",
       "      <td>...</td>\n",
       "      <td>...</td>\n",
       "      <td>...</td>\n",
       "      <td>...</td>\n",
       "      <td>...</td>\n",
       "      <td>...</td>\n",
       "      <td>...</td>\n",
       "      <td>...</td>\n",
       "    </tr>\n",
       "    <tr>\n",
       "      <th>1914</th>\n",
       "      <td>1295</td>\n",
       "      <td>1295.0</td>\n",
       "      <td>1295.0</td>\n",
       "      <td>1295.0</td>\n",
       "      <td>data/fiolleau/DYAMOND/TOOCAN/TOOCAN_v2.07/GLOB...</td>\n",
       "      <td>2016-9-9-22-30</td>\n",
       "      <td>1916.0</td>\n",
       "      <td>1916.0</td>\n",
       "      <td>2016.0</td>\n",
       "      <td>9.0</td>\n",
       "      <td>9.0</td>\n",
       "      <td>22.0</td>\n",
       "      <td>30.0</td>\n",
       "      <td>DYAMOND_9216x4608x74_7.5s_4km_4608_0000460080</td>\n",
       "      <td>17053.45</td>\n",
       "    </tr>\n",
       "    <tr>\n",
       "      <th>1915</th>\n",
       "      <td>1315</td>\n",
       "      <td>1315.0</td>\n",
       "      <td>1315.0</td>\n",
       "      <td>1315.0</td>\n",
       "      <td>data/fiolleau/DYAMOND/TOOCAN/TOOCAN_v2.07/GLOB...</td>\n",
       "      <td>2016-9-9-23-0</td>\n",
       "      <td>1917.0</td>\n",
       "      <td>1917.0</td>\n",
       "      <td>2016.0</td>\n",
       "      <td>9.0</td>\n",
       "      <td>9.0</td>\n",
       "      <td>23.0</td>\n",
       "      <td>0.0</td>\n",
       "      <td>DYAMOND_9216x4608x74_7.5s_4km_4608_0000460320</td>\n",
       "      <td>17053.46</td>\n",
       "    </tr>\n",
       "    <tr>\n",
       "      <th>1916</th>\n",
       "      <td>1313</td>\n",
       "      <td>1313.0</td>\n",
       "      <td>1313.0</td>\n",
       "      <td>1313.0</td>\n",
       "      <td>data/fiolleau/DYAMOND/TOOCAN/TOOCAN_v2.07/GLOB...</td>\n",
       "      <td>2016-9-9-23-30</td>\n",
       "      <td>1918.0</td>\n",
       "      <td>1918.0</td>\n",
       "      <td>2016.0</td>\n",
       "      <td>9.0</td>\n",
       "      <td>9.0</td>\n",
       "      <td>23.0</td>\n",
       "      <td>30.0</td>\n",
       "      <td>DYAMOND_9216x4608x74_7.5s_4km_4608_0000460560</td>\n",
       "      <td>17053.47</td>\n",
       "    </tr>\n",
       "    <tr>\n",
       "      <th>1917</th>\n",
       "      <td>1304</td>\n",
       "      <td>1304.0</td>\n",
       "      <td>1304.0</td>\n",
       "      <td>1304.0</td>\n",
       "      <td>data/fiolleau/DYAMOND/TOOCAN/TOOCAN_v2.07/GLOB...</td>\n",
       "      <td>2016-9-10-0-0</td>\n",
       "      <td>1919.0</td>\n",
       "      <td>1919.0</td>\n",
       "      <td>2016.0</td>\n",
       "      <td>9.0</td>\n",
       "      <td>10.0</td>\n",
       "      <td>0.0</td>\n",
       "      <td>0.0</td>\n",
       "      <td>DYAMOND_9216x4608x74_7.5s_4km_4608_0000460800</td>\n",
       "      <td>17053.48</td>\n",
       "    </tr>\n",
       "    <tr>\n",
       "      <th>1918</th>\n",
       "      <td>1919</td>\n",
       "      <td>NaN</td>\n",
       "      <td>NaN</td>\n",
       "      <td>NaN</td>\n",
       "      <td>NaN</td>\n",
       "      <td>NaN</td>\n",
       "      <td>NaN</td>\n",
       "      <td>NaN</td>\n",
       "      <td>NaN</td>\n",
       "      <td>NaN</td>\n",
       "      <td>NaN</td>\n",
       "      <td>NaN</td>\n",
       "      <td>NaN</td>\n",
       "      <td>NaN</td>\n",
       "      <td>17054.01</td>\n",
       "    </tr>\n",
       "  </tbody>\n",
       "</table>\n",
       "<p>1919 rows × 15 columns</p>\n",
       "</div>"
      ],
      "text/plain": [
       "      Unnamed: 0  Unnamed: 0.4  Unnamed: 0.3  Unnamed: 0.2  \\\n",
       "0            476         476.0         476.0         476.0   \n",
       "1            443         443.0         443.0         443.0   \n",
       "2            468         468.0         468.0         468.0   \n",
       "3            432         432.0         432.0         432.0   \n",
       "4            437         437.0         437.0         437.0   \n",
       "...          ...           ...           ...           ...   \n",
       "1914        1295        1295.0        1295.0        1295.0   \n",
       "1915        1315        1315.0        1315.0        1315.0   \n",
       "1916        1313        1313.0        1313.0        1313.0   \n",
       "1917        1304        1304.0        1304.0        1304.0   \n",
       "1918        1919           NaN           NaN           NaN   \n",
       "\n",
       "                                           img_seg_path        str_code  \\\n",
       "0     data/fiolleau/DYAMOND/TOOCAN/TOOCAN_v2.07/GLOB...   2016-8-1-1-30   \n",
       "1     data/fiolleau/DYAMOND/TOOCAN/TOOCAN_v2.07/GLOB...    2016-8-1-2-0   \n",
       "2     data/fiolleau/DYAMOND/TOOCAN/TOOCAN_v2.07/GLOB...   2016-8-1-2-30   \n",
       "3     data/fiolleau/DYAMOND/TOOCAN/TOOCAN_v2.07/GLOB...    2016-8-1-3-0   \n",
       "4     data/fiolleau/DYAMOND/TOOCAN/TOOCAN_v2.07/GLOB...   2016-8-1-3-30   \n",
       "...                                                 ...             ...   \n",
       "1914  data/fiolleau/DYAMOND/TOOCAN/TOOCAN_v2.07/GLOB...  2016-9-9-22-30   \n",
       "1915  data/fiolleau/DYAMOND/TOOCAN/TOOCAN_v2.07/GLOB...   2016-9-9-23-0   \n",
       "1916  data/fiolleau/DYAMOND/TOOCAN/TOOCAN_v2.07/GLOB...  2016-9-9-23-30   \n",
       "1917  data/fiolleau/DYAMOND/TOOCAN/TOOCAN_v2.07/GLOB...   2016-9-10-0-0   \n",
       "1918                                                NaN             NaN   \n",
       "\n",
       "      Unnamed: 0.1  Unnamed: 0.1.1    year  month   day  hour  minute  \\\n",
       "0              2.0             2.0  2016.0    8.0   1.0   1.0    30.0   \n",
       "1              3.0             3.0  2016.0    8.0   1.0   2.0     0.0   \n",
       "2              4.0             4.0  2016.0    8.0   1.0   2.0    30.0   \n",
       "3              5.0             5.0  2016.0    8.0   1.0   3.0     0.0   \n",
       "4              6.0             6.0  2016.0    8.0   1.0   3.0    30.0   \n",
       "...            ...             ...     ...    ...   ...   ...     ...   \n",
       "1914        1916.0          1916.0  2016.0    9.0   9.0  22.0    30.0   \n",
       "1915        1917.0          1917.0  2016.0    9.0   9.0  23.0     0.0   \n",
       "1916        1918.0          1918.0  2016.0    9.0   9.0  23.0    30.0   \n",
       "1917        1919.0          1919.0  2016.0    9.0  10.0   0.0     0.0   \n",
       "1918           NaN             NaN     NaN    NaN   NaN   NaN     NaN   \n",
       "\n",
       "                                       path_dyamond       UTC  \n",
       "0     DYAMOND_9216x4608x74_7.5s_4km_4608_0000000720  17014.03  \n",
       "1     DYAMOND_9216x4608x74_7.5s_4km_4608_0000000960  17014.04  \n",
       "2     DYAMOND_9216x4608x74_7.5s_4km_4608_0000001200  17014.05  \n",
       "3     DYAMOND_9216x4608x74_7.5s_4km_4608_0000001440  17014.06  \n",
       "4     DYAMOND_9216x4608x74_7.5s_4km_4608_0000001680  17014.07  \n",
       "...                                             ...       ...  \n",
       "1914  DYAMOND_9216x4608x74_7.5s_4km_4608_0000460080  17053.45  \n",
       "1915  DYAMOND_9216x4608x74_7.5s_4km_4608_0000460320  17053.46  \n",
       "1916  DYAMOND_9216x4608x74_7.5s_4km_4608_0000460560  17053.47  \n",
       "1917  DYAMOND_9216x4608x74_7.5s_4km_4608_0000460800  17053.48  \n",
       "1918                                            NaN  17054.01  \n",
       "\n",
       "[1919 rows x 15 columns]"
      ]
     },
     "execution_count": 11,
     "metadata": {},
     "output_type": "execute_result"
    }
   ],
   "source": [
    "# Load relation table DYAMOND-TOOCAN\n",
    "filename_table = 'relation_2_table_UTC_dyamond_segmentation.csv'\n",
    "# load\n",
    "df = pd.read_csv(os.path.join('/home/gmaxemin/code/stage-2023-rain-extremes-timing-intensity/scripts',filename_table))\n",
    "# sort\n",
    "df.sort_values(by='UTC',ignore_index=True,inplace=True)\n",
    "# show\n",
    "df"
   ]
  },
  {
   "cell_type": "markdown",
   "id": "e36240ef-309e-4f0d-a787-fbe68efab5f0",
   "metadata": {},
   "source": [
    "# Load Toocan Data"
   ]
  },
  {
   "cell_type": "code",
   "execution_count": 12,
   "id": "29878619-f5c7-46ae-b4be-03e6d18260ae",
   "metadata": {},
   "outputs": [],
   "source": [
    "if reload_toocan == True:\n",
    "    toocan = load_TOOCAN_DYAMOND(os.path.join(toocan_path,toocan_filename))"
   ]
  },
  {
   "cell_type": "code",
   "execution_count": 13,
   "id": "31561853-64d0-4f49-8cb3-0b9931e753e7",
   "metadata": {},
   "outputs": [
    {
     "data": {
      "text/plain": [
       "< MCS_IntParameters object:\n",
       " . label: 1\n",
       " . qc_MCS: 11100\n",
       " . duration: 12.5\n",
       " . classif: 2\n",
       " . Tmax: 0.0\n",
       " . Utime_Init: 17014.18\n",
       " . lonInit: 115.04\n",
       " . latInit: 20.71\n",
       " . Utime_End: 17014.42\n",
       " . lonEnd: 116.37\n",
       " . latEnd: 21.88\n",
       " . lonmin: 114.93\n",
       " . latmin: 20.71\n",
       " . lonmax: 116.37\n",
       " . latmax: 21.89\n",
       " . vavg: 4.2\n",
       " . dist: 189.2\n",
       " . olrmin: 188.0\n",
       " . surfmaxPix_172Wm2: 0\n",
       " . surfmaxkm2_172Wm2: 32864.0\n",
       " . surfmaxkm2_132Wm2: 32592.0\n",
       " . surfmaxkm2_110Wm2: 32320.0\n",
       " . surfmaxkm2_90Wm2: 31520.0\n",
       " . surfcumkm2_172Wm2: 354480.0\n",
       " . surfcumkm2_132Wm2: 0\n",
       " . surfcumkm2_110Wm2: 0\n",
       " . surfcumkm2_90Wm2: 0\n",
       " . precip_total: 0\n",
       " . precip_max: 0\n",
       " . maxSurf00mmh_km2: 0\n",
       " . maxSurf02mmh_km2: 0\n",
       " . maxSurf05mmh_km2: 0\n",
       " . maxSurf10mmh_km2: 0\n",
       " . classif_JIRAK: 0.0\n",
       " . localtime_Init: 17014.6737\n",
       " . localtime_End: 17015.1774\n",
       " . clusters: <class 'load_TOOCAN_DYAMOND_modif_BF.MCS_Lifecycle'>\n",
       " >"
      ]
     },
     "execution_count": 13,
     "metadata": {},
     "output_type": "execute_result"
    }
   ],
   "source": [
    "# toocan is a list. to access an object:\n",
    "toocan[0]"
   ]
  },
  {
   "cell_type": "code",
   "execution_count": 14,
   "id": "ed5eaf77-5edf-4778-9916-cfa23b7a0f63",
   "metadata": {},
   "outputs": [
    {
     "data": {
      "text/plain": [
       "[0.0,\n",
       " 0.0,\n",
       " 1168.0,\n",
       " 2768.0,\n",
       " 4960.0,\n",
       " 6624.0,\n",
       " 8288.0,\n",
       " 9072.0,\n",
       " 8480.0,\n",
       " 6688.0,\n",
       " 5072.0,\n",
       " 2960.0,\n",
       " 1120.0,\n",
       " 208.0,\n",
       " 96.0]"
      ]
     },
     "execution_count": 14,
     "metadata": {},
     "output_type": "execute_result"
    }
   ],
   "source": [
    "# to access an attribute over time:\n",
    "toocan[36].clusters.surfkm2_132Wm2"
   ]
  },
  {
   "cell_type": "code",
   "execution_count": 15,
   "id": "a6f45d0d-0337-4148-a14d-7b3cdd039a26",
   "metadata": {},
   "outputs": [
    {
     "data": {
      "text/plain": [
       "< MCS_Lifecycle object:\n",
       " . qc_im: <class 'list'>\n",
       " . olrmin: <class 'list'>\n",
       " . olravg_172Wm2: <class 'list'>\n",
       " . olravg_110Wm2: <class 'list'>\n",
       " . olravg_90Wm2: <class 'list'>\n",
       " . olr_90th: <class 'list'>\n",
       " . surfPix_172Wm2: <class 'list'>\n",
       " . surfPix_110Wm2: <class 'list'>\n",
       " . surfKm2: []\n",
       " . Utime: <class 'list'>\n",
       " . Localtime: <class 'list'>\n",
       " . lon: <class 'list'>\n",
       " . lat: <class 'list'>\n",
       " . x: <class 'list'>\n",
       " . y: <class 'list'>\n",
       " . velocity: <class 'list'>\n",
       " . semiminor_132Wm2: <class 'list'>\n",
       " . semimajor_132Wm2: <class 'list'>\n",
       " . orientation_132Wm2: <class 'list'>\n",
       " . excentricity_132Wm2: <class 'list'>\n",
       " . semiminor_172Wm2: <class 'list'>\n",
       " . semimajor_172Wm2: <class 'list'>\n",
       " . orientation_172Wm2: <class 'list'>\n",
       " . excentricity_172Wm2: <class 'list'>\n",
       " . surfkm2_172Wm2: <class 'list'>\n",
       " . surfkm2_132Wm2: <class 'list'>\n",
       " . surfkm2_110Wm2: <class 'list'>\n",
       " . surfkm2_90Wm2: <class 'list'>\n",
       " >"
      ]
     },
     "execution_count": 15,
     "metadata": {},
     "output_type": "execute_result"
    }
   ],
   "source": [
    "toocan[36].clusters"
   ]
  },
  {
   "cell_type": "code",
   "execution_count": 16,
   "id": "03cf746d-792e-40bc-8d26-aece83bdb765",
   "metadata": {},
   "outputs": [],
   "source": [
    "#- redefining toocan for subregion\n",
    "\n",
    "filtered_toocan = []\n",
    "\n",
    "for obj in toocan:\n",
    "    # Check if the object is within the desired region\n",
    "    if (\n",
    "        obj.lonmin <= lon_max_subregion\n",
    "        and obj.lonmax >= lon_min_subregion\n",
    "        and obj.latmin <= lat_max_subregion\n",
    "        and obj.latmax >= lat_min_subregion\n",
    "    ):\n",
    "        # Check and modify lonmin\n",
    "        if obj.lonmin < lon_min_subregion:\n",
    "            obj.lonmin = lon_min_subregion\n",
    "        if obj.lonmin > lon_max_subregion:\n",
    "            obj.lonmin = lon_max_subregion\n",
    "\n",
    "        # Check and modify lonmax\n",
    "        if obj.lonmax < lon_min_subregion:\n",
    "            obj.lonmax = lon_min_subregion\n",
    "        if obj.lonmax > lon_max_subregion:\n",
    "            obj.lonmax = lon_max_subregion\n",
    "\n",
    "        # Check and modify latmin\n",
    "        if obj.latmin < lat_min_subregion:\n",
    "            obj.latmin = lat_min_subregion\n",
    "        if obj.latmin > lat_max_subregion:\n",
    "            obj.latmin = lat_max_subregion\n",
    "\n",
    "        # Check and modify latmax\n",
    "        if obj.latmax < lat_min_subregion:\n",
    "            obj.latmax = lat_min_subregion\n",
    "        if obj.latmax > lat_max_subregion:\n",
    "            obj.latmax = lat_max_subregion\n",
    "            \n",
    "        filtered_toocan.append(obj)\n",
    "\n",
    "toocan = filtered_toocan"
   ]
  },
  {
   "cell_type": "code",
   "execution_count": 17,
   "id": "1d4f71d4-465c-46a2-b9e4-40d00a0c6362",
   "metadata": {},
   "outputs": [
    {
     "data": {
      "text/plain": [
       "< MCS_IntParameters object:\n",
       " . label: 9\n",
       " . qc_MCS: 11100\n",
       " . duration: 15.0\n",
       " . classif: 2\n",
       " . Tmax: 0.0\n",
       " . Utime_Init: 17014.07\n",
       " . lonInit: 157.44\n",
       " . latInit: 13.7\n",
       " . Utime_End: 17014.36\n",
       " . lonEnd: 156.71\n",
       " . latEnd: 12.52\n",
       " . lonmin: 156.71\n",
       " . latmin: 12.44\n",
       " . lonmax: 157.44\n",
       " . latmax: 13.7\n",
       " . vavg: 2.83\n",
       " . dist: 153.07\n",
       " . olrmin: 192.0\n",
       " . surfmaxPix_172Wm2: 0\n",
       " . surfmaxkm2_172Wm2: 17744.0\n",
       " . surfmaxkm2_132Wm2: 16272.0\n",
       " . surfmaxkm2_110Wm2: 13760.0\n",
       " . surfmaxkm2_90Wm2: 7152.0\n",
       " . surfcumkm2_172Wm2: 259136.0\n",
       " . surfcumkm2_132Wm2: 0\n",
       " . surfcumkm2_110Wm2: 0\n",
       " . surfcumkm2_90Wm2: 0\n",
       " . precip_total: 0\n",
       " . precip_max: 0\n",
       " . maxSurf00mmh_km2: 0\n",
       " . maxSurf02mmh_km2: 0\n",
       " . maxSurf05mmh_km2: 0\n",
       " . maxSurf10mmh_km2: 0\n",
       " . classif_JIRAK: 0.0\n",
       " . localtime_Init: 17014.5623\n",
       " . localtime_End: 17015.1645\n",
       " . clusters: <class 'load_TOOCAN_DYAMOND_modif_BF.MCS_Lifecycle'>\n",
       " >"
      ]
     },
     "execution_count": 17,
     "metadata": {},
     "output_type": "execute_result"
    }
   ],
   "source": [
    "toocan[0]"
   ]
  },
  {
   "cell_type": "markdown",
   "id": "6b02d911-9ad5-4640-a9f3-6d32e4992722",
   "metadata": {},
   "source": [
    "# Convert dates"
   ]
  },
  {
   "cell_type": "code",
   "execution_count": 18,
   "id": "e3ac9926-5802-40fc-a247-65d86c5ebfb1",
   "metadata": {},
   "outputs": [],
   "source": [
    "data_reference = dt.datetime(1970, 1, 1)"
   ]
  },
  {
   "cell_type": "code",
   "execution_count": 19,
   "id": "95869358-611b-4b94-8b05-4f2b8b3e9e4b",
   "metadata": {},
   "outputs": [],
   "source": [
    "localtime_Init_dates, localtime_End_dates = [], []\n",
    "Localdate_list = []\n",
    "\n",
    "for obj in toocan:\n",
    "    days_Init = str( obj.localtime_Init )\n",
    "    days_End = str ( obj.localtime_End )\n",
    "    Localtime_list = obj.clusters.Localtime\n",
    "    \n",
    "\n",
    "    days_Init = days_Init.split('.')\n",
    "    days_End = days_End.split('.')\n",
    "    \n",
    "    date_Init = data_reference + dt.timedelta(days=int(days_Init[0])) + dt.timedelta(hours=( int(days_Init[1]) / 2) )\n",
    "    date_End = data_reference + dt.timedelta(days=int(days_End[0])) + dt.timedelta(hours=( int(days_End[1]) / 2) )\n",
    "    \n",
    "    date_list = []\n",
    "    for ltime in Localtime_list:\n",
    "        ltime = str(ltime)\n",
    "        ltime = ltime.split('.')\n",
    "        ltime_item = data_reference + dt.timedelta(days=int(ltime[0])) + dt.timedelta(hours=( int(ltime[1]) / 2) )\n",
    "        date_list.append(ltime_item)\n",
    "    \n",
    "    localtime_Init_dates.append(date_Init)\n",
    "    localtime_End_dates.append(date_End)\n",
    "    Localdate_list.append(date_list)\n",
    "    "
   ]
  },
  {
   "cell_type": "code",
   "execution_count": 20,
   "id": "edf8c285-20b2-4c83-85dd-27bcf0390260",
   "metadata": {},
   "outputs": [
    {
     "name": "stdout",
     "output_type": "stream",
     "text": [
      "2016-11-14 06:00:00\n",
      "2016-08-10 00:30:00\n"
     ]
    }
   ],
   "source": [
    "print(localtime_Init_dates[1])\n",
    "print(localtime_End_dates[1])"
   ]
  },
  {
   "cell_type": "code",
   "execution_count": 21,
   "id": "2576f9e0-8779-4612-a162-815b7b19a85a",
   "metadata": {},
   "outputs": [],
   "source": [
    "def attr_list(data, attr_name):\n",
    "    # Extract the attribute values from the data\n",
    "    attribute_values = [getattr(obj, attr_name) for obj in data]\n",
    "    return attribute_values"
   ]
  },
  {
   "cell_type": "markdown",
   "id": "909bc7bb-8866-441e-a1d6-7641e213f3a9",
   "metadata": {},
   "source": [
    "# Plotting birth and death counts simultaneously"
   ]
  },
  {
   "cell_type": "code",
   "execution_count": 22,
   "id": "54d079f7-8d3a-46db-869e-e83ae05ac354",
   "metadata": {},
   "outputs": [
    {
     "name": "stdout",
     "output_type": "stream",
     "text": [
      "29680\n"
     ]
    }
   ],
   "source": [
    "Utime_Init_list = []\n",
    "for UInit_time in (attr_list(toocan, \"Utime_Init\")):\n",
    "    UInit_time = str(UInit_time)\n",
    "    UInit_time = UInit_time.split('.')\n",
    "    UInit_time_item = data_reference + dt.timedelta(days=int(UInit_time[0])) + dt.timedelta(hours=(int(UInit_time[1])/2 ))\n",
    "    Utime_Init_list.append(UInit_time_item)\n",
    "                   \n",
    "Utime_End_list = []\n",
    "for UEnd_time in (attr_list(toocan, \"Utime_End\")):\n",
    "    UEnd_time = str(UEnd_time)\n",
    "    UEnd_time = UEnd_time.split('.')\n",
    "    UEnd_time_item = data_reference + dt.timedelta(days=int(UEnd_time[0])) + dt.timedelta(hours=(int(UEnd_time[1])/2 ))\n",
    "    Utime_End_list.append(UEnd_time_item)\n",
    "\n",
    "print(len(Utime_Init_list))"
   ]
  },
  {
   "cell_type": "code",
   "execution_count": 23,
   "id": "ef46d24a-03db-407e-b9b1-a5d824916b06",
   "metadata": {},
   "outputs": [
    {
     "data": {
      "text/plain": [
       "Text(0, 0.5, 'birth day, original float number')"
      ]
     },
     "execution_count": 23,
     "metadata": {},
     "output_type": "execute_result"
    }
   ],
   "source": [
    "in_times_float = attr_list(toocan, \"Utime_Init\")\n",
    "end_times_float = attr_list(toocan, \"Utime_End\")\n",
    "N_toocan = len(in_times_float)\n",
    "N_MCS = 2000\n",
    "# plt.plot(np.arange(N_toocan),in_times_float)\n",
    "fig,ax = plt.subplots(figsize=(18,6))\n",
    "ax.plot(np.arange(N_MCS),in_times_float[:N_MCS])\n",
    "ax.plot(np.arange(N_MCS),end_times_float[:N_MCS])\n",
    "ax.set_title('First 1.5 days, Warm Pool region')\n",
    "ax.set_xlabel('TOOCAN label')\n",
    "ax.set_ylabel('birth day, original float number')"
   ]
  },
  {
   "cell_type": "markdown",
   "id": "9e90799f-a5bd-43d5-891f-76bd4e207fae",
   "metadata": {},
   "source": [
    "# Binning Births and Deaths (METHOD 1)\n",
    "* Method 1 = binning via a for loop and np.where"
   ]
  },
  {
   "cell_type": "markdown",
   "id": "d2b38139-5512-47b9-badf-901aa6310874",
   "metadata": {},
   "source": [
    "determining time bins"
   ]
  },
  {
   "cell_type": "code",
   "execution_count": 24,
   "id": "a481a09d-4f27-4b18-bd69-7f081560d9fc",
   "metadata": {},
   "outputs": [
    {
     "name": "stdout",
     "output_type": "stream",
     "text": [
      "2016-08-01 03:30:00\n",
      "2016-08-01 00:30:00\n",
      "2016-09-01 21:30:00\n"
     ]
    }
   ],
   "source": [
    "print(Utime_Init_list[0]) # birth time of MCS with index 0 (or label 1)\n",
    "\n",
    "print(min(Utime_Init_list)) # first time\n",
    "\n",
    "print(max(Utime_End_list)) # last time"
   ]
  },
  {
   "cell_type": "code",
   "execution_count": 25,
   "id": "4270e652-6490-4bf2-9e2a-acc3cd6bfd49",
   "metadata": {},
   "outputs": [],
   "source": [
    "#-- New way of binning\n",
    "\n",
    "start_time = '2016-08-01 00:00:00'\n",
    "end_time = '2016-09-01 23:30:00'\n",
    "binsize = '30T'\n",
    "\n",
    "time_bins = pd.date_range(start=start_time, end=end_time, freq=binsize)"
   ]
  },
  {
   "cell_type": "markdown",
   "id": "ef3da4a9-e11b-46aa-808a-c279c19a7e3a",
   "metadata": {},
   "source": [
    "binning the Init and End times into time_bins"
   ]
  },
  {
   "cell_type": "code",
   "execution_count": 26,
   "id": "80910ad6-53fe-49c6-b60b-b2daa3cb0b69",
   "metadata": {},
   "outputs": [],
   "source": [
    "count_per_bin_Init = [0] * len(time_bins)  # count list with zeros\n",
    "count_per_bin_End = [0] * len(time_bins)  # count list with zeros\n",
    "\n",
    "# iterate over each value in Utime_Init_list\n",
    "for In_time in Utime_Init_list:\n",
    "    # find the index of the first bin that the value falls into\n",
    "    bin_index = np.where((In_time >= time_bins) & (In_time < time_bins + pd.Timedelta(minutes=30)))[0]\n",
    "    if bin_index:\n",
    "        count_per_bin_Init[bin_index[0]] += 1  # increment count\n",
    "        \n",
    "# iterate over each value in Utime_Init_list\n",
    "for End_time in Utime_End_list:\n",
    "    # find the index of the first bin that the value falls into\n",
    "    bin_index = np.where((End_time >= time_bins) & (End_time < time_bins + pd.Timedelta(minutes=30)))[0]\n",
    "    if bin_index:\n",
    "        count_per_bin_End[bin_index[0]] += 1  # increment count\n"
   ]
  },
  {
   "cell_type": "markdown",
   "id": "eb0d3df0-b13d-4df9-ba7f-4715d90799da",
   "metadata": {},
   "source": [
    "complete plot"
   ]
  },
  {
   "cell_type": "code",
   "execution_count": 27,
   "id": "796fd3d5-1991-41cd-9c6b-bae25187b56e",
   "metadata": {},
   "outputs": [],
   "source": [
    "plt.plot(time_bins, count_per_bin_Init, label=\"Births\")\n",
    "plt.plot(time_bins, count_per_bin_End, label=\"Deaths\")\n",
    "\n",
    "plt.xlabel(\"Time\")\n",
    "plt.ylabel(\"Counts\")\n",
    "plt.xticks(rotation=45)\n",
    "plt.legend()\n",
    "plt.title(f\"TOOCAN MCS Birth vs Death counts\\n{lon_min_subregion}:{lon_max_subregion}E, {lat_min_subregion}:{lat_max_subregion}N\")\n",
    "\n",
    "# Display the plot\n",
    "plt.show()"
   ]
  },
  {
   "cell_type": "markdown",
   "id": "95fd477c-4a5b-44ba-869a-3f30ee4ef199",
   "metadata": {},
   "source": [
    "plotting only a small range of timesteps"
   ]
  },
  {
   "cell_type": "code",
   "execution_count": 28,
   "id": "04f0db28-2c35-4209-8083-4da7ee9a9ab2",
   "metadata": {},
   "outputs": [],
   "source": [
    "reg_start_idx = 800\n",
    "reg_end_idx = 1000\n",
    "\n",
    "fig,ax = plt.subplots(figsize=(18,6))\n",
    "\n",
    "plt.plot(time_bins[reg_start_idx:reg_end_idx], count_per_bin_Init[reg_start_idx:reg_end_idx], label=\"Births\")\n",
    "plt.plot(time_bins[reg_start_idx:reg_end_idx], count_per_bin_End[reg_start_idx:reg_end_idx], label=\"Deaths\")\n",
    "\n",
    "plt.xlabel(\"Time\")\n",
    "plt.ylabel(\"Counts\")\n",
    "plt.xticks(rotation=45)\n",
    "plt.legend()\n",
    "plt.title(f\"TOOCAN MCS Birth vs Death counts\\n{lon_min_subregion}:{lon_max_subregion}E, {lat_min_subregion}:{lat_max_subregion}N\")\n",
    "\n",
    "# Display the plot\n",
    "plt.show()"
   ]
  },
  {
   "cell_type": "markdown",
   "id": "69e3db58-3bcf-4911-8bf8-ffeeb685a83e",
   "metadata": {},
   "source": [
    "# Investigating the points equal to 0"
   ]
  },
  {
   "cell_type": "code",
   "execution_count": 29,
   "id": "3ac36206-347a-4337-8919-ec749f37cccb",
   "metadata": {},
   "outputs": [
    {
     "name": "stdout",
     "output_type": "stream",
     "text": [
      "for count_per_bin_Init: [  8  26  36  46  56  74  84  94 104 122 132 142 152 170 180 190]\n",
      "for count_per_bin_End: [  8  26  36  46  56  74  84  94 104 122 132 142 152 170 180 190]\n"
     ]
    }
   ],
   "source": [
    "count_per_bin_Init = np.array(count_per_bin_Init)\n",
    "count_per_bin_End = np.array(count_per_bin_End)\n",
    "\n",
    "# indices where counts=0 for count_per_bin_Init\n",
    "zero_indices_Init = np.where(count_per_bin_Init[reg_start_idx:reg_end_idx] == 0)[0]\n",
    "\n",
    "# indices where counts=0 for count_per_bin_End\n",
    "zero_indices_End = np.where(count_per_bin_End[reg_start_idx:reg_end_idx] == 0)[0]\n",
    "\n",
    "\n",
    "print(\"for count_per_bin_Init:\", zero_indices_Init)\n",
    "print(\"for count_per_bin_End:\", zero_indices_End)"
   ]
  },
  {
   "cell_type": "markdown",
   "id": "d2012d46-dce4-4393-977c-e10df40c5988",
   "metadata": {},
   "source": [
    "## Convolution and Diurnal Cycle with method 1"
   ]
  },
  {
   "cell_type": "markdown",
   "id": "87df2712-759f-4018-b328-34063f9d1ec6",
   "metadata": {},
   "source": [
    "convolution"
   ]
  },
  {
   "cell_type": "code",
   "execution_count": 30,
   "id": "86383a1e-b3dd-4aba-8c13-9f0d8d865ae9",
   "metadata": {},
   "outputs": [],
   "source": [
    "num_int_per_day = 24\n",
    "kernel = np.ones(num_int_per_day) / num_int_per_day"
   ]
  },
  {
   "cell_type": "code",
   "execution_count": 31,
   "id": "d803f986-a4a1-48f0-9254-81f705815da5",
   "metadata": {},
   "outputs": [],
   "source": [
    "convolved_Init = np.convolve(count_per_bin_Init, kernel, mode='same')\n",
    "convolved_End = np.convolve(count_per_bin_End, kernel, mode='same')"
   ]
  },
  {
   "cell_type": "code",
   "execution_count": 32,
   "id": "7faa3438-5999-4925-bec9-5b6c3fd40b0e",
   "metadata": {},
   "outputs": [],
   "source": [
    "# Create a figure and axes\n",
    "fig, ax = plt.subplots()\n",
    "\n",
    "plt.plot(time_bins[12:-12], convolved_Init[12:-12], label=\"Utime_Init\")\n",
    "plt.plot(time_bins[12:-12], convolved_End[12:-12], label=\"Utime_End\")\n",
    "\n",
    "plt.xticks(rotation=45)\n",
    "ax.set_xlabel('localtime_Init')\n",
    "plt.ylabel('Mean ' + attribute)\n",
    "plt.title('Convolved Mean ' + attribute + ' over Time')\n",
    "\n",
    "\n",
    "plt.show()"
   ]
  },
  {
   "cell_type": "markdown",
   "id": "9571b328-542d-4259-a0cf-c28191efbe8a",
   "metadata": {},
   "source": [
    "diurnal cycle method A\n",
    "* method A = subtracting convolved data from data and using np.reshape"
   ]
  },
  {
   "cell_type": "code",
   "execution_count": 33,
   "id": "3c1b9f76-5b35-4a0f-b577-cbb4deb3a50b",
   "metadata": {},
   "outputs": [],
   "source": [
    "diurnal_hours = range(48)  # 24 hours in a day\n",
    "for i in range(2):\n",
    "    if i == 0:\n",
    "        binned_data = count_per_bin_Init\n",
    "        convolved_data = convolved_Init\n",
    "        label = \"Utime_Init\"\n",
    "        color = \"lightblue\"\n",
    "        \n",
    "        # data is original-convolved data\n",
    "        diurnal_data = (binned_data - convolved_data)[24:-24]\n",
    "    else:\n",
    "        binned_data = count_per_bin_End\n",
    "        convolved_data = convolved_End\n",
    "        label = \"Utime_End\"\n",
    "        color = \"peachpuff\"\n",
    "        \n",
    "        # data is original-convolved data\n",
    "        diurnal_data = (binned_data - convolved_data)[24:-24]\n",
    "    \n",
    "\n",
    "    # axes for reshaping. ndays calculated based on the length of data\n",
    "    ndays = diurnal_data.shape[0] // 48\n",
    "    nhours = 48\n",
    "\n",
    "    diurnal_cycle = np.mean(np.reshape(diurnal_data, (nhours, ndays)), axis=1)\n",
    "    dcycle_std = np.std(np.reshape(diurnal_data, (nhours, ndays)), axis=1)\n",
    "\n",
    "    # plot\n",
    "    plt.plot(diurnal_hours, diurnal_cycle, label=label)\n",
    "    \n",
    "    lower_bound = [(diurnal_cycle[i] - dcycle_std[i]) for i in range(len(diurnal_cycle))]\n",
    "    upper_bound = [(diurnal_cycle[i] + dcycle_std[i]) for i in range(len(diurnal_cycle))]\n",
    "    \n",
    "    plt.fill_between(diurnal_hours, lower_bound, upper_bound, color=color, alpha=0.3, label=f'st.dev {label}')\n",
    "    \n",
    "    \n",
    "plt.xlabel('Half Hour of the day')\n",
    "plt.ylabel(\"Counts\")\n",
    "plt.title(\"Diurnal Cycle of Births and Deaths\")\n",
    "plt.legend()\n",
    "plt.show()"
   ]
  },
  {
   "cell_type": "markdown",
   "id": "6dcd82b7-4a44-48b5-beaf-0e502bed835f",
   "metadata": {},
   "source": [
    "# Binning Births and Deaths (METHOD 2)\n",
    "* method 2 = using dt.floor to make bins"
   ]
  },
  {
   "cell_type": "code",
   "execution_count": 34,
   "id": "272d298b-32b8-4fbf-b512-cd8b1f2cc290",
   "metadata": {},
   "outputs": [
    {
     "name": "stdout",
     "output_type": "stream",
     "text": [
      "0       2016-08-01 03:30:00\n",
      "1       2016-08-01 02:30:00\n",
      "2       2016-08-01 08:00:00\n",
      "3       2016-08-01 06:30:00\n",
      "4       2016-08-01 08:30:00\n",
      "                ...        \n",
      "29675   2016-08-31 22:30:00\n",
      "29676   2016-08-31 23:30:00\n",
      "29677   2016-08-31 23:00:00\n",
      "29678   2016-08-31 23:30:00\n",
      "29679   2016-09-01 00:00:00\n",
      "Length: 29680, dtype: datetime64[ns]\n",
      "1362\n",
      "29680\n",
      "<xarray.DataArray ()>\n",
      "array(29680)\n"
     ]
    }
   ],
   "source": [
    "# convert to a pandas Series\n",
    "time_series_Init = pd.Series(Utime_Init_list)\n",
    "time_series_End = pd.Series(Utime_End_list)\n",
    "\n",
    "# bin size of 1/2 hour\n",
    "binsize = '30T'\n",
    "\n",
    "# group the data into bins \n",
    "binned_data_series_Init = time_series_Init.groupby(time_series_Init.dt.floor(binsize)).count()\n",
    "binned_data_series_End = time_series_End.groupby(time_series_End.dt.floor(binsize)).count()\n",
    "\n",
    "print(time_series_Init.dt.floor(binsize))\n",
    "\n",
    "# convert to an xarray DataArray\n",
    "binned_data_Init = xr.DataArray(binned_data_series_Init.values, dims='time', coords={'time': binned_data_series_Init.index})\n",
    "binned_data_End = xr.DataArray(binned_data_series_End.values, dims='time', coords={'time': binned_data_series_End.index})\n",
    "\n",
    "# line plot\n",
    "plt.plot(binned_data_Init.coords['time'], binned_data_Init, label=\"Utime_Init\")\n",
    "plt.plot(binned_data_End.coords['time'], binned_data_End, label=\"Utime_End\")\n",
    "\n",
    "plt.xlabel(\"Time\")\n",
    "plt.ylabel(\"Counts\")\n",
    "plt.xticks(rotation=45)\n",
    "plt.legend()\n",
    "plt.title(f\"TOOCAN MCS Utime_Init vs Utime_End counts\\n{lon_min_subregion}:{lon_max_subregion}E, {lat_min_subregion}:{lat_max_subregion}N\")\n",
    "\n",
    "# Display the plot\n",
    "plt.show()\n",
    "print(len(binned_data_Init))\n",
    "print(len(Utime_Init_list))\n",
    "print(sum(binned_data_Init))"
   ]
  },
  {
   "cell_type": "markdown",
   "id": "8b60239e-d830-4875-afeb-74b8cb3e2623",
   "metadata": {},
   "source": [
    "plotting only a small range of timesteps"
   ]
  },
  {
   "cell_type": "code",
   "execution_count": 35,
   "id": "846db558-1ccf-4603-adf2-9c8a4b1c5a86",
   "metadata": {},
   "outputs": [],
   "source": [
    "# line plot\n",
    "\n",
    "reg_start_idx = 800\n",
    "reg_end_idx = 1000\n",
    "\n",
    "# reg_start_idx = 0\n",
    "# reg_end_idx = 100\n",
    "\n",
    "plt.plot(binned_data_Init.coords['time'][reg_start_idx:reg_end_idx], binned_data_Init[reg_start_idx:reg_end_idx], label=\"Utime_Init\")\n",
    "plt.plot(binned_data_End.coords['time'][reg_start_idx:reg_end_idx], binned_data_End[reg_start_idx:reg_end_idx], label=\"Utime_End\")\n",
    "\n",
    "plt.xlabel(\"Time\")\n",
    "plt.ylabel(\"Counts\")\n",
    "plt.xticks(rotation=45)\n",
    "plt.legend()\n",
    "plt.title(f\"TOOCAN MCS Utime_Init vs Utime_End counts\\n{lon_min_subregion}:{lon_max_subregion}E, {lat_min_subregion}:{lat_max_subregion}N\")\n",
    "\n",
    "# Display the plot\n",
    "plt.show()\n",
    "\n"
   ]
  },
  {
   "cell_type": "markdown",
   "id": "e92d09de-dada-4b07-b04d-3e526f615728",
   "metadata": {},
   "source": [
    "In order to do a spatial map at this time, converting the datetime to a timestep"
   ]
  },
  {
   "cell_type": "code",
   "execution_count": 36,
   "id": "dd0fb89b-e4a1-4a4d-a4d8-425d157f449a",
   "metadata": {},
   "outputs": [],
   "source": [
    "#- Convert the time of range\n",
    "\n",
    "for i in range(2):\n",
    "    if i == 0:\n",
    "        reg_date = binned_data_Init.coords['time'][reg_start_idx]\n",
    "    else:\n",
    "        reg_date = binned_data_End.coords['time'][reg_end_idx]\n",
    "    timestamp = pd.to_datetime(str(reg_date.values))\n",
    "    reg_timestep = (timestamp - pd.Timestamp('1970-01-01')) / pd.Timedelta(days=1)\n",
    "    time_i = ( np.where(df['UTC'] > reg_timestep) )[0][0]\n",
    "    reg_DYAMOND_timestamp = df['path_dyamond'][time_i][35:45]\n",
    "    if i == 0:\n",
    "        reg_DYAMOND_timestamp_begin = reg_DYAMOND_timestamp\n",
    "    else:\n",
    "        reg_DYAMOND_timestamp_end = reg_DYAMOND_timestamp\n"
   ]
  },
  {
   "cell_type": "code",
   "execution_count": 37,
   "id": "d52c7585-3c13-4465-89d7-488bcc7c2ca4",
   "metadata": {},
   "outputs": [
    {
     "name": "stdout",
     "output_type": "stream",
     "text": [
      "working\n",
      "working\n"
     ]
    },
    {
     "data": {
      "text/plain": [
       "<matplotlib.image.AxesImage at 0x14a164ab98b0>"
      ]
     },
     "execution_count": 37,
     "metadata": {},
     "output_type": "execute_result"
    }
   ],
   "source": [
    "#- Plot\n",
    "\n",
    "plot_singletime_var(\"PW\", reg_DYAMOND_timestamp_begin)\n",
    "plot_singletime_var(\"PW\", reg_DYAMOND_timestamp_end)"
   ]
  },
  {
   "cell_type": "markdown",
   "id": "76feaee6-f861-48f4-9ba4-fa7fd83a81bc",
   "metadata": {},
   "source": [
    "## Convolution and Diurnal Cycle with method 2"
   ]
  },
  {
   "cell_type": "markdown",
   "id": "063a1010-a41d-4a77-ae27-7ef909ffa6c1",
   "metadata": {},
   "source": [
    "convolution"
   ]
  },
  {
   "cell_type": "code",
   "execution_count": 38,
   "id": "9b9d8d9d-07d3-4c0c-b4ab-7375110532c5",
   "metadata": {},
   "outputs": [],
   "source": [
    "num_int_per_day = 24\n",
    "kernel = np.ones(num_int_per_day) / num_int_per_day"
   ]
  },
  {
   "cell_type": "code",
   "execution_count": 39,
   "id": "e8dde408-2d67-49fd-93cc-932ee41451e8",
   "metadata": {},
   "outputs": [],
   "source": [
    "convolved_Init = np.convolve(binned_data_Init, kernel, mode='same')\n",
    "convolved_End = np.convolve(binned_data_End, kernel, mode='same')"
   ]
  },
  {
   "cell_type": "code",
   "execution_count": 40,
   "id": "c70bda78-6ef5-4fd2-bf26-85781e079983",
   "metadata": {},
   "outputs": [],
   "source": [
    "# Create a figure and axes\n",
    "fig, ax = plt.subplots()\n",
    "\n",
    "plt.plot((binned_data_Init.coords['time'])[12:-12], convolved_Init[12:-12], label=\"Utime_Init\")\n",
    "plt.plot((binned_data_End.coords['time'])[12:-12], convolved_End[12:-12], label=\"Utime_End\")\n",
    "\n",
    "plt.xticks(rotation=45)\n",
    "ax.set_xlabel('localtime_Init')\n",
    "plt.ylabel('Mean ' + attribute)\n",
    "plt.title('Convolved Mean ' + attribute + ' over Time')\n",
    "\n",
    "\n",
    "plt.show()"
   ]
  },
  {
   "cell_type": "markdown",
   "id": "b7eb9969-f29c-4623-8d2f-0a81eb3d1ec1",
   "metadata": {},
   "source": [
    "convolution method A\n",
    "* method A = subtracting convolved data from data and using np.reshape\n",
    "* NOTE: in order to reshape data, subtracting 33 data points at start and end for Init and 47, 48 at start, end for End"
   ]
  },
  {
   "cell_type": "code",
   "execution_count": 41,
   "id": "b67d6844-7431-4c80-9356-c720418110f5",
   "metadata": {},
   "outputs": [],
   "source": [
    "diurnal_hours = range(48)  # 24 hours in a day\n",
    "for i in range(2):\n",
    "    if i == 0:\n",
    "        binned_data = binned_data_Init\n",
    "        convolved_data = convolved_Init\n",
    "        label = \"Utime_Init\"\n",
    "        color = \"lightblue\"\n",
    "        \n",
    "        # data is original-convolved data\n",
    "        diurnal_data = (binned_data - convolved_data).values[33:-33] # [12:-(12+12)]\n",
    "    else:\n",
    "        binned_data = binned_data_End\n",
    "        convolved_data = convolved_End\n",
    "        label = \"Utime_End\"\n",
    "        color = \"peachpuff\"\n",
    "        # data is original-convolved data\n",
    "        diurnal_data = (binned_data - convolved_data).values[47:-48] # [12:-(12+21)]\n",
    "    \n",
    "\n",
    "    # axes for reshaping. ndays calculated based on the length of data\n",
    "    ndays = diurnal_data.shape[0] // 48\n",
    "    nhours = 48\n",
    "\n",
    "    diurnal_cycle = np.mean(np.reshape(diurnal_data, (nhours, ndays)), axis=1)\n",
    "\n",
    "    # plot\n",
    "    plt.plot(diurnal_hours, diurnal_cycle, label=label)\n",
    "    \n",
    "    lower_bound = [(diurnal_cycle[i] - dcycle_std[i]) for i in range(len(diurnal_cycle))]\n",
    "    upper_bound = [(diurnal_cycle[i] + dcycle_std[i]) for i in range(len(diurnal_cycle))]\n",
    "    \n",
    "    plt.fill_between(diurnal_hours, lower_bound, upper_bound, color=color, alpha=0.3, label=f'st.dev {label}')\n",
    "    \n",
    "plt.xlabel('Half Hour of the day')\n",
    "plt.ylabel(\"Counts\")\n",
    "plt.title(\"Diurnal Cycle of Births and Deaths\")\n",
    "plt.legend()\n",
    "plt.show()"
   ]
  },
  {
   "cell_type": "markdown",
   "id": "23b0bc39-7d91-4acf-beba-0454cf13755b",
   "metadata": {},
   "source": [
    "diurnal cycle method B\n",
    "* method B = grouping data by hour of the day and finding the average at each hour"
   ]
  },
  {
   "cell_type": "code",
   "execution_count": 42,
   "id": "b1f5d057-31d5-47f7-a13d-80981aa5f723",
   "metadata": {},
   "outputs": [
    {
     "name": "stdout",
     "output_type": "stream",
     "text": [
      "<xarray.DataArray 'time' (time: 1362)>\n",
      "array(['2016-08-01T00:30:00.000000000', '2016-08-01T01:00:00.000000000',\n",
      "       '2016-08-01T01:30:00.000000000', ..., '2016-08-31T23:00:00.000000000',\n",
      "       '2016-08-31T23:30:00.000000000', '2016-09-01T00:00:00.000000000'],\n",
      "      dtype='datetime64[ns]')\n",
      "Coordinates:\n",
      "  * time     (time) datetime64[ns] 2016-08-01T00:30:00 ... 2016-09-01\n"
     ]
    },
    {
     "ename": "NameError",
     "evalue": "name 'dcycle_std_Init' is not defined",
     "output_type": "error",
     "traceback": [
      "\u001b[0;31m---------------------------------------------------------------------------\u001b[0m",
      "\u001b[0;31mNameError\u001b[0m                                 Traceback (most recent call last)",
      "\u001b[0;32m<ipython-input-42-5069ebef773d>\u001b[0m in \u001b[0;36m<module>\u001b[0;34m\u001b[0m\n\u001b[1;32m     30\u001b[0m     \u001b[0mdiurnal_cycle_End\u001b[0m\u001b[0;34m.\u001b[0m\u001b[0mappend\u001b[0m\u001b[0;34m(\u001b[0m\u001b[0maverage_End\u001b[0m\u001b[0;34m)\u001b[0m\u001b[0;34m\u001b[0m\u001b[0;34m\u001b[0m\u001b[0m\n\u001b[1;32m     31\u001b[0m \u001b[0;34m\u001b[0m\u001b[0m\n\u001b[0;32m---> 32\u001b[0;31m     \u001b[0mdcycle_std_Init\u001b[0m\u001b[0;34m.\u001b[0m\u001b[0mappend\u001b[0m\u001b[0;34m(\u001b[0m\u001b[0mstd_Init\u001b[0m\u001b[0;34m)\u001b[0m\u001b[0;34m\u001b[0m\u001b[0;34m\u001b[0m\u001b[0m\n\u001b[0m\u001b[1;32m     33\u001b[0m     \u001b[0mdcycle_std_End\u001b[0m\u001b[0;34m.\u001b[0m\u001b[0mappend\u001b[0m\u001b[0;34m(\u001b[0m\u001b[0mstd_End\u001b[0m\u001b[0;34m)\u001b[0m\u001b[0;34m\u001b[0m\u001b[0;34m\u001b[0m\u001b[0m\n\u001b[1;32m     34\u001b[0m \u001b[0;34m\u001b[0m\u001b[0m\n",
      "\u001b[0;31mNameError\u001b[0m: name 'dcycle_std_Init' is not defined"
     ]
    }
   ],
   "source": [
    "import datetime\n",
    "# convert to datetime objects\n",
    "def convert_datetime64_to_datetime(dt64):\n",
    "    dt = np.datetime_as_string(dt64, unit='s')\n",
    "    return datetime.datetime.strptime(dt, '%Y-%m-%dT%H:%M:%S')\n",
    "\n",
    "# convert to hours of the day\n",
    "hours_Init = [convert_datetime64_to_datetime(dt).hour for dt in binned_data_Init.time.data[12:-12]]\n",
    "hours_End = [convert_datetime64_to_datetime(dt).hour for dt in binned_data_End.time.data[12:-12]]\n",
    "\n",
    "print((binned_data_Init.coords['time']))\n",
    "# average value for each hour of the day\n",
    "diurnal_hours = range(24)  # 24 hours in a day\n",
    "diurnal_cycle_Init = []\n",
    "diurnal_cycle_End = []\n",
    "for hour in diurnal_hours:\n",
    "    # make list called values\n",
    "    # if the hour in the data matches the hour in the current loop, append the data value to values list\n",
    "    # find the mean for the hour in the current loop (e.g. average of all data in hour 20)\n",
    "    values_Init = [value_Init for value_Init, h_Init in zip(convolved_Init, hours_Init) if h_Init == hour]\n",
    "    values_End = [value_End for value_End, h_End in zip(convolved_End, hours_End) if h_End == hour]\n",
    "    \n",
    "    average_Init = np.mean(values_Init)\n",
    "    average_End = np.mean(values_End)\n",
    "    \n",
    "    std_Init = np.std(values_Init)\n",
    "    std_End = np.std(values_End)\n",
    "    \n",
    "    diurnal_cycle_Init.append(average_Init)\n",
    "    diurnal_cycle_End.append(average_End)\n",
    "    \n",
    "    dcycle_std_Init.append(std_Init)\n",
    "    dcycle_std_End.append(std_End)\n",
    "    \n",
    "# plot\n",
    "plt.plot(diurnal_hours, diurnal_cycle_Init, label=\"Utime_Init\")\n",
    "plt.plot(diurnal_hours, diurnal_cycle_End, label=\"Utime_End\")\n",
    "\n",
    "\n",
    "lower_bound_Init = [(diurnal_cycle_Init[i] - dcycle_std_Init[i]) for i in range(len(diurnal_cycle_Init))]\n",
    "upper_bound_Init = [(diurnal_cycle_Init[i] + dcycle_std_Init[i]) for i in range(len(diurnal_cycle_Init))]\n",
    "plt.fill_between(diurnal_hours, lower_bound_Init, upper_bound_Init, color='lightblue', alpha=0.3, label='st.dev Init')\n",
    "\n",
    "\n",
    "lower_bound_End = [(diurnal_cycle_End[i] - dcycle_std_End[i]) for i in range(len(diurnal_cycle_End))]\n",
    "upper_bound_End = [(diurnal_cycle_End[i] + dcycle_std_End[i]) for i in range(len(diurnal_cycle_End))]\n",
    "plt.fill_between(diurnal_hours, lower_bound_End, upper_bound_End, color='peachpuff', alpha=0.3, label='st.dev End')\n",
    "\n",
    "\n",
    "plt.xlabel('Hour of the day')\n",
    "plt.ylabel(\"Counts\")\n",
    "plt.title(\"Diurnal Cycle of Births and Deaths\")\n",
    "plt.legend()\n",
    "plt.show()"
   ]
  },
  {
   "cell_type": "markdown",
   "id": "194b086a-9fce-4920-8076-525277f6c6a8",
   "metadata": {},
   "source": [
    "# Histogram of \"duration\" and \"Utime_End\" - \"Utime_Init\""
   ]
  },
  {
   "cell_type": "code",
   "execution_count": null,
   "id": "d3e47459-deef-4591-89a5-9ec262d664c9",
   "metadata": {},
   "outputs": [],
   "source": [
    "death_minus_birth = []\n",
    "for i in range(len(Utime_Init_list)):\n",
    "    Utime_Init = Utime_Init_list[i]\n",
    "    Utime_End = Utime_End_list[i]\n",
    "    difference = Utime_End - Utime_Init\n",
    "    death_minus_birth.append(difference)\n",
    "death_minus_birth_hrs = [td.total_seconds() / 3600 for td in death_minus_birth]"
   ]
  },
  {
   "cell_type": "code",
   "execution_count": null,
   "id": "a9893c41-603a-4205-87c3-55070065a932",
   "metadata": {},
   "outputs": [],
   "source": [
    "# duration / 2 in order to convert from slot to hours\n",
    "duration_list_hrs = [( duration / 2 ) for duration in (attr_list(toocan, \"duration\"))] "
   ]
  },
  {
   "cell_type": "code",
   "execution_count": null,
   "id": "a2a626a4-cb5f-4898-8878-e0224e5060f4",
   "metadata": {},
   "outputs": [],
   "source": []
  },
  {
   "cell_type": "code",
   "execution_count": null,
   "id": "23e58bc9-ff34-4410-b0e2-484ede75a74b",
   "metadata": {},
   "outputs": [],
   "source": [
    "print(min(duration_list_hrs))\n",
    "print(max(duration_list_hrs))\n",
    "\n",
    "print(min(death_minus_birth_hrs))\n",
    "print(max(death_minus_birth_hrs))\n",
    "\n",
    "binsize_dur = 1\n",
    "dur_bins = np.array(range(0, 43, binsize_dur))\n",
    "dur_bins"
   ]
  },
  {
   "cell_type": "code",
   "execution_count": null,
   "id": "9d10d4db-8dfa-431b-bbdd-915c05addb04",
   "metadata": {},
   "outputs": [],
   "source": [
    "count_per_bin_duration = [0] * len(dur_bins)  # count list with zeros\n",
    "count_per_bin_difference = [0] * len(dur_bins)  # count list with zeros\n",
    "\n",
    "# iterate over each value in duration_list_hrs\n",
    "for dur in duration_list_hrs:\n",
    "    # find the index of the first bin that the value falls into\n",
    "    bin_index = np.where((dur >= dur_bins) & (dur < dur_bins + binsize_dur))[0]\n",
    "    if bin_index:\n",
    "        count_per_bin_duration[bin_index[0]] += 1  # increment count\n",
    "        \n",
    "# iterate over each value in death_minus_birth_hrs\n",
    "for diff in death_minus_birth_hrs:\n",
    "    # find the index of the first bin that the value falls into\n",
    "    bin_index = np.where((diff >= dur_bins) & (diff < dur_bins + binsize_dur))[0]\n",
    "    if bin_index:\n",
    "        count_per_bin_difference[bin_index[0]] += 1  # increment count"
   ]
  },
  {
   "cell_type": "code",
   "execution_count": null,
   "id": "a4b3ef3b-4320-46fc-b5a6-cac97fb5683a",
   "metadata": {},
   "outputs": [],
   "source": [
    "print(count_per_bin_duration)"
   ]
  },
  {
   "cell_type": "code",
   "execution_count": null,
   "id": "85dd342f-667e-423b-aa3b-8c2f0bfd3c60",
   "metadata": {},
   "outputs": [],
   "source": [
    "fig,ax = plt.subplots(figsize=(18,6))\n",
    "\n",
    "plt.plot(dur_bins, count_per_bin_duration, label=\"duration\")\n",
    "plt.plot(dur_bins, count_per_bin_difference, label=\"Utime_End - Utime_Init\")\n",
    "\n",
    "plt.xlabel(\"Lifetime (hours)\")\n",
    "plt.ylabel(\"Counts\")\n",
    "plt.legend()\n",
    "plt.title(f\"TOOCAN MCS Lifetime\\n{lon_min_subregion}:{lon_max_subregion}E, {lat_min_subregion}:{lat_max_subregion}N\")\n",
    "\n",
    "# Display the plot\n",
    "plt.show()"
   ]
  },
  {
   "cell_type": "code",
   "execution_count": null,
   "id": "2fb24b2e-6f03-4b64-af96-83a961255450",
   "metadata": {},
   "outputs": [],
   "source": []
  },
  {
   "cell_type": "code",
   "execution_count": null,
   "id": "7e2fa4c1-58ee-4011-a9e4-6884d3ff74bc",
   "metadata": {},
   "outputs": [],
   "source": [
    "timestamp = str(toocan[0].Utime_Init)\n",
    "timestamp.split('.')"
   ]
  },
  {
   "cell_type": "markdown",
   "id": "c4d3641f-e50f-49ed-86bc-50f319fa6e00",
   "metadata": {},
   "source": [
    "# Using .clusters.Utime[0] and .clusters.Utime[-1] for birth and death instead\n",
    "* variables denoted as \"first\" and \"last\" and as \"new\""
   ]
  },
  {
   "cell_type": "code",
   "execution_count": null,
   "id": "23057c3d-9f66-4e50-92dd-b5659dad0310",
   "metadata": {},
   "outputs": [],
   "source": [
    "Utime_first, Utime_last = [], []\n",
    "for obj in toocan:\n",
    "    Utimes = getattr(obj.clusters, \"Utime\")\n",
    "    Utime_f = Utimes[0]\n",
    "    Utime_l = Utimes[-1]\n",
    "    \n",
    "    Utime_first.append(Utime_f)\n",
    "    Utime_last.append(Utime_l)\n"
   ]
  },
  {
   "cell_type": "code",
   "execution_count": null,
   "id": "9315341a-984f-4797-8e2c-7fdec3ad89f9",
   "metadata": {},
   "outputs": [],
   "source": [
    "Utime_first_list = []\n",
    "for Ufirst_time in Utime_first:\n",
    "    Ufirst_time = str(Ufirst_time)\n",
    "    Ufirst_time = Ufirst_time.split('.')\n",
    "    Ufirst_time_item = data_reference + dt.timedelta(days=int(Ufirst_time[0])) + dt.timedelta(hours=(int(Ufirst_time[1])/2 ))\n",
    "    Utime_first_list.append(Ufirst_time_item)\n",
    "                   \n",
    "Utime_last_list = []\n",
    "for Ulast_time in Utime_last:\n",
    "    Ulast_time = str(Ulast_time)\n",
    "    Ulast_time = Ulast_time.split('.')\n",
    "    Ulast_time_item = data_reference + dt.timedelta(days=int(Ulast_time[0])) + dt.timedelta(hours=(int(Ulast_time[1])/2 ))\n",
    "    Utime_last_list.append(Ulast_time_item)\n",
    "\n",
    "\n",
    "print(Utime_first_list[:10])"
   ]
  },
  {
   "cell_type": "code",
   "execution_count": null,
   "id": "24a1fd0f-9ba1-4334-b9b5-2791e24a0c78",
   "metadata": {},
   "outputs": [],
   "source": [
    "death_minus_birth_new = []\n",
    "for i in range(len(Utime_first_list)):\n",
    "    Utime_first = Utime_first_list[i]\n",
    "    Utime_last = Utime_last_list[i]\n",
    "    difference_new = Utime_last - Utime_first\n",
    "    death_minus_birth_new.append(difference_new)\n",
    "death_minus_birth_hrs_new = [td.total_seconds() / 3600 for td in death_minus_birth_new]\n",
    "\n",
    "\n",
    "count_per_bin_difference_new = [0] * len(dur_bins)  # count list with zeros\n",
    "\n",
    "# iterate over each value in death_minus_birth_hrs\n",
    "for diff_new in death_minus_birth_hrs_new:\n",
    "    # find the index of the first bin that the value falls into\n",
    "    bin_index = np.where((diff_new >= dur_bins) & (diff_new < dur_bins + binsize_dur))[0]\n",
    "    if bin_index:\n",
    "        count_per_bin_difference_new[bin_index[0]] += 1  # increment count"
   ]
  },
  {
   "cell_type": "code",
   "execution_count": null,
   "id": "24eceda7-ec99-4225-9ea1-adaa6b893e6c",
   "metadata": {},
   "outputs": [],
   "source": [
    "fig,ax = plt.subplots(figsize=(18,6))\n",
    "\n",
    "plt.plot(dur_bins, count_per_bin_duration, label=\"duration\")\n",
    "plt.plot(dur_bins, count_per_bin_difference, label=\"Utime_End - Utime_Init\")\n",
    "plt.plot(dur_bins, count_per_bin_difference_new, label=\"cluster.Utime[-1] - cluster.Utime[0]\")\n",
    "\n",
    "plt.xlabel(\"Lifetime (hours)\")\n",
    "plt.ylabel(\"Counts\")\n",
    "plt.legend()\n",
    "plt.title(f\"TOOCAN MCS Lifetime\\n{lon_min_subregion}:{lon_max_subregion}E, {lat_min_subregion}:{lat_max_subregion}N\")\n",
    "\n",
    "# Display the plot\n",
    "plt.show()"
   ]
  },
  {
   "cell_type": "code",
   "execution_count": null,
   "id": "8cc57ef9-d94b-4d9a-afb3-ab8eff624c10",
   "metadata": {},
   "outputs": [],
   "source": [
    "N_toocan = len(Utime_first_list)\n",
    "N_MCS = 2000\n",
    "\n",
    "fig,ax = plt.subplots(figsize=(18,6))\n",
    "ax.plot(np.arange(N_MCS),Utime_first_list[:N_MCS], label=\"clusters.Utime[0]\")\n",
    "ax.plot(np.arange(N_MCS),Utime_last_list[:N_MCS], label=\"clusters.Utime[-1]\")\n",
    "ax.set_title('First 1.5 days, Warm Pool region')\n",
    "ax.set_xlabel('TOOCAN label')\n",
    "ax.set_ylabel('birth day, original float number')\n",
    "plt.legend()"
   ]
  },
  {
   "cell_type": "code",
   "execution_count": null,
   "id": "ad8b7f6a-d6ce-416f-a7ff-0b8b8b529ead",
   "metadata": {},
   "outputs": [],
   "source": [
    "fig,ax = plt.subplots(figsize=(18,6))\n",
    "\n",
    "colors = ['red' if Utime_first > Utime_last else 'green' for Utime_first, Utime_last in zip(Utime_first_list[:N_MCS], Utime_last_list[:N_MCS])]\n",
    "\n",
    "plt.scatter(Utime_last_list[:N_MCS], Utime_first_list[:N_MCS], c=colors)\n",
    "\n",
    "\n",
    "ax.set_title('First 1.5 days, Warm Pool region')\n",
    "ax.set_xlabel('clusters.Utime[-1]', color=\"orange\")\n",
    "ax.set_ylabel('clusters.Utime[0]', color=\"blue\")\n",
    "plt.grid(which='both', linestyle='dotted')"
   ]
  },
  {
   "cell_type": "code",
   "execution_count": null,
   "id": "3eb0e679-d6b1-4200-a463-5438bf48d41f",
   "metadata": {},
   "outputs": [],
   "source": []
  },
  {
   "cell_type": "markdown",
   "id": "99fe1251-9637-4ea5-81a0-43a735bd3385",
   "metadata": {},
   "source": [
    "# Plotting (Area vs time) and overlaying duration on x axis for different MCSs"
   ]
  },
  {
   "cell_type": "code",
   "execution_count": null,
   "id": "bded4016-ca88-4ac6-8847-c7db08db3e5a",
   "metadata": {},
   "outputs": [],
   "source": [
    "#- first identifying which MCSs are interesting to map\n",
    "n_diff_pts = 5\n",
    "plt.scatter(duration_list_hrs, death_minus_birth_hrs)\n",
    "\n",
    "coefficients = np.polyfit(duration_list_hrs, death_minus_birth_hrs, deg=1)\n",
    "trendline = np.polyval(coefficients, duration_list_hrs)\n",
    "plt.plot(duration_list_hrs, trendline, color='red')\n",
    "\n",
    "\n",
    "residuals = death_minus_birth_hrs - trendline\n",
    "# 5 points with largest residuals\n",
    "indices_most_different = np.argsort(np.abs(residuals))[::-1][:n_diff_pts] \n",
    "\n",
    "\n",
    "print(\"Indices of the most different points:\")\n",
    "print(indices_most_different)\n",
    "\n",
    "indices_most_different = indices_most_different.tolist()\n",
    "\n",
    "# 5 most different points in a different color\n",
    "plt.scatter(\n",
    "    np.array(duration_list_hrs)[indices_most_different],\n",
    "    np.array(death_minus_birth_hrs)[indices_most_different],\n",
    "    color='orange',\n",
    "    label='Most Different'\n",
    ")\n",
    "\n",
    "plt.xlabel('duration')\n",
    "plt.ylabel('Death-Birth')\n",
    "plt.title('(Death-Birth) vs duration variables')\n",
    "plt.legend()\n",
    "\n",
    "# Show the plot\n",
    "plt.show()"
   ]
  },
  {
   "cell_type": "markdown",
   "id": "28d3b896-0565-4064-b646-439dd3c52fd1",
   "metadata": {},
   "source": [
    "problems:\n",
    "* I have to sort the dates for the graphs to make sense, which I didn't need to do before.\n",
    "* the birth and death times aren't being properly graphed as vertical lines\n",
    "\n",
    "for borth of these problems, the issue may be with indexing"
   ]
  },
  {
   "cell_type": "code",
   "execution_count": null,
   "id": "bf5a823e-455d-4010-9064-762f7aaec5c7",
   "metadata": {},
   "outputs": [],
   "source": [
    "fig, ax = plt.subplots()\n",
    "for MCS in range(1):\n",
    "    MCS_ex = indices_most_different[MCS]\n",
    "    MCS_ex_idx = int(MCS_ex)\n",
    "    MCS_attr_ex = getattr(toocan[MCS_ex_idx].clusters, attribute_single_MCS)\n",
    "\n",
    "#     pprint(Localdate_list[MCS_ex_idx])\n",
    "#     print(\"----\")\n",
    "#     pprint(MCS_attr_ex)\n",
    "    plt.plot(Localdate_list[MCS_ex_idx], MCS_attr_ex)\n",
    "\n",
    "plt.xticks(rotation=45)\n",
    "ax.set_xlabel(\"Time\")\n",
    "plt.ylabel(f'{attribute_single_MCS}')\n",
    "plt.title(f\"Extreme MCS\\n{attribute_single_MCS} over Time\")\n",
    "\n",
    "plt.show()"
   ]
  },
  {
   "cell_type": "code",
   "execution_count": null,
   "id": "03c6ce10-4563-4c16-8531-762ad0923f4f",
   "metadata": {},
   "outputs": [],
   "source": [
    "import matplotlib.cm as cm\n",
    "fig, ax = plt.subplots()\n",
    "\n",
    "cmap = cm.get_cmap('Accent')\n",
    "\n",
    "# Define the number of colors you want\n",
    "num_colors = len(indices_most_different) + 1\n",
    "\n",
    "# Create a list of colors from the colormap\n",
    "color_list = [cmap(i) for i in range(num_colors)]\n",
    "\n",
    "\n",
    "for MCS in range(len(indices_most_different)):\n",
    "    MCS_ex = indices_most_different[MCS]\n",
    "    MCS_ex_idx = int(MCS_ex)\n",
    "    MCS_attr_ex = getattr(toocan[MCS_ex_idx].clusters, attribute_single_MCS)\n",
    "\n",
    "\n",
    "    plt.plot(sorted(Localdate_list[MCS_ex_idx]), MCS_attr_ex, color=color_list[MCS])\n",
    "    plt.axvline(Utime_first_list[MCS_ex_idx], color=color_list[MCS])\n",
    "    plt.axvline(Utime_last_list[MCS_ex_idx], color=color_list[MCS])\n",
    "\n",
    "\n",
    "plt.xticks(rotation=45)\n",
    "ax.set_xlabel(\"Time\")\n",
    "plt.ylabel(f'{attribute_single_MCS}')\n",
    "plt.title(f\"Extreme MCS\\n{attribute_single_MCS} over Time\")\n",
    "\n",
    "plt.show()\n"
   ]
  },
  {
   "cell_type": "code",
   "execution_count": null,
   "id": "1dca0d4f-706b-4d6d-848b-3c9bf363bcc4",
   "metadata": {},
   "outputs": [],
   "source": []
  },
  {
   "cell_type": "code",
   "execution_count": null,
   "id": "0f5582fc-8ad3-4922-b88e-766e8aff2de8",
   "metadata": {},
   "outputs": [],
   "source": []
  },
  {
   "cell_type": "code",
   "execution_count": null,
   "id": "dcd4e4db-7539-4f37-b4de-70c0b96b66a5",
   "metadata": {},
   "outputs": [],
   "source": []
  }
 ],
 "metadata": {
  "kernelspec": {
   "display_name": "Python 3",
   "language": "python",
   "name": "python3"
  },
  "language_info": {
   "codemirror_mode": {
    "name": "ipython",
    "version": 3
   },
   "file_extension": ".py",
   "mimetype": "text/x-python",
   "name": "python",
   "nbconvert_exporter": "python",
   "pygments_lexer": "ipython3",
   "version": "3.8.8"
  }
 },
 "nbformat": 4,
 "nbformat_minor": 5
}
