{
 "cells": [
  {
   "cell_type": "code",
   "execution_count": 1,
   "id": "01db9fdb-4c3d-4022-a741-16a3c1220035",
   "metadata": {},
   "outputs": [],
   "source": [
    "reload_toocan = False # part of code that takes long time\n",
    "TESTING = True # If true, will only use limited number of timesteps, takes a long time otherwise"
   ]
  },
  {
   "cell_type": "markdown",
   "id": "22350de2-16af-465b-bb59-d2aea0cb6ea2",
   "metadata": {},
   "source": [
    "<span style=\"color:pink\">## choose subregion</span>"
   ]
  },
  {
   "cell_type": "code",
   "execution_count": 2,
   "id": "40356a56-0223-438c-943e-8c544df0cb24",
   "metadata": {},
   "outputs": [],
   "source": [
    "lon_min_subregion = 130\n",
    "lon_max_subregion = 165\n",
    "lat_min_subregion = 0\n",
    "lat_max_subregion = 20"
   ]
  },
  {
   "cell_type": "markdown",
   "id": "3e2523e0-9062-4746-a9ad-ff4431ec4026",
   "metadata": {},
   "source": [
    "# Imports"
   ]
  },
  {
   "cell_type": "code",
   "execution_count": 33,
   "id": "fb9b2e2a-d4f6-4baf-babb-d0a40fc14299",
   "metadata": {},
   "outputs": [],
   "source": [
    "%reload_ext autoreload\n",
    "%matplotlib inline"
   ]
  },
  {
   "cell_type": "code",
   "execution_count": 34,
   "id": "82e6a563-8bef-4aca-9014-6267f743f541",
   "metadata": {},
   "outputs": [],
   "source": [
    "%autoreload 2\n",
    "\n",
    "import sys,os,glob\n",
    "import psutil\n",
    "\n",
    "import matplotlib\n",
    "import matplotlib.pyplot as plt\n",
    "import numpy as np\n",
    "import xarray as xr\n",
    "import pandas as pd\n",
    "from pprint import pprint\n",
    "import datetime as dt\n",
    "\n",
    "\n",
    "from matplotlib.colors import LogNorm\n",
    "from matplotlib.gridspec import GridSpec\n",
    "import cartopy.crs as ccrs\n",
    "\n",
    "import datetime as dt\n",
    "import re\n",
    "import gc\n",
    "import matplotlib.animation as animation\n",
    "import warnings\n",
    "import pickle\n",
    "from scipy.interpolate import interp1d\n",
    "\n",
    "\n",
    "#-- Own settings\n",
    "\n",
    "sys.path.append('/home/gmaxemin/code/stage-2023-rain-extremes-timing-intensity/scripts/start')\n",
    "\n",
    "\n",
    "from my_functions import *\n",
    "from load_TOOCAN_DYAMOND_modif_BF import load_TOOCAN_DYAMOND"
   ]
  },
  {
   "cell_type": "markdown",
   "id": "cee1930f-a5e0-448b-9aca-93c5633a6206",
   "metadata": {},
   "source": [
    "# Paths"
   ]
  },
  {
   "cell_type": "code",
   "execution_count": 5,
   "id": "faeff351-59ec-4def-9b00-1eb1b9b0ec28",
   "metadata": {},
   "outputs": [],
   "source": [
    "# path = '/home/gmaxemin/windows/internship_g_maxemin/DYAMOND_REGIONS'\n",
    "toocan_path = \"/data/fiolleau/DYAMOND/TOOCAN/TOOCAN_v2.07/GLOBAL/2016/FileTracking\"\n",
    "# filename = 'TOOCAN-GLOBAL-20160801-20160831.dat.gz'\n",
    "toocan_filename = 'TOOCAN-GLOBAL-20160801-20160831.dat.gz'"
   ]
  },
  {
   "cell_type": "code",
   "execution_count": 6,
   "id": "677834c4-1181-4f0c-86be-82d6948c27a4",
   "metadata": {},
   "outputs": [
    {
     "name": "stdout",
     "output_type": "stream",
     "text": [
      "/data/bfildier/DYAMOND_REGIONS/130E_165E_0N_20N/SAM/2D\n"
     ]
    }
   ],
   "source": [
    "#-- Paths\n",
    "\n",
    "# DIR_DYAMOND (where DYAMOND data are)\n",
    "\n",
    "path_DYAMOND_REGIONS = '/data/bfildier/DYAMOND_REGIONS/'\n",
    "path_reg1_SAM = os.path.join(path_DYAMOND_REGIONS, \"130E_165E_0N_20N/SAM\")\n",
    "path_2D = os.path.join(path_reg1_SAM,'2D')\n",
    "\n",
    "DIR_DYAMOND = path_2D\n",
    "print(DIR_DYAMOND)\n",
    "\n",
    "# DIR_DATA (where segmentation relation table is)\n",
    "\n",
    "DIR_DATA = \"/home/gmaxemin/code/stage-2023-rain-extremes-timing-intensity/input/\""
   ]
  },
  {
   "cell_type": "code",
   "execution_count": 7,
   "id": "812a2cc3-2443-48f1-ae21-fa928c6531f3",
   "metadata": {},
   "outputs": [
    {
     "data": {
      "text/html": [
       "<div>\n",
       "<style scoped>\n",
       "    .dataframe tbody tr th:only-of-type {\n",
       "        vertical-align: middle;\n",
       "    }\n",
       "\n",
       "    .dataframe tbody tr th {\n",
       "        vertical-align: top;\n",
       "    }\n",
       "\n",
       "    .dataframe thead th {\n",
       "        text-align: right;\n",
       "    }\n",
       "</style>\n",
       "<table border=\"1\" class=\"dataframe\">\n",
       "  <thead>\n",
       "    <tr style=\"text-align: right;\">\n",
       "      <th></th>\n",
       "      <th>Unnamed: 0</th>\n",
       "      <th>Unnamed: 0.4</th>\n",
       "      <th>Unnamed: 0.3</th>\n",
       "      <th>Unnamed: 0.2</th>\n",
       "      <th>img_seg_path</th>\n",
       "      <th>str_code</th>\n",
       "      <th>Unnamed: 0.1</th>\n",
       "      <th>Unnamed: 0.1.1</th>\n",
       "      <th>year</th>\n",
       "      <th>month</th>\n",
       "      <th>day</th>\n",
       "      <th>hour</th>\n",
       "      <th>minute</th>\n",
       "      <th>path_dyamond</th>\n",
       "      <th>UTC</th>\n",
       "    </tr>\n",
       "  </thead>\n",
       "  <tbody>\n",
       "    <tr>\n",
       "      <th>0</th>\n",
       "      <td>476</td>\n",
       "      <td>476.0</td>\n",
       "      <td>476.0</td>\n",
       "      <td>476.0</td>\n",
       "      <td>data/fiolleau/DYAMOND/TOOCAN/TOOCAN_v2.07/GLOB...</td>\n",
       "      <td>2016-8-1-1-30</td>\n",
       "      <td>2.0</td>\n",
       "      <td>2.0</td>\n",
       "      <td>2016.0</td>\n",
       "      <td>8.0</td>\n",
       "      <td>1.0</td>\n",
       "      <td>1.0</td>\n",
       "      <td>30.0</td>\n",
       "      <td>DYAMOND_9216x4608x74_7.5s_4km_4608_0000000720</td>\n",
       "      <td>17014.03</td>\n",
       "    </tr>\n",
       "    <tr>\n",
       "      <th>1</th>\n",
       "      <td>443</td>\n",
       "      <td>443.0</td>\n",
       "      <td>443.0</td>\n",
       "      <td>443.0</td>\n",
       "      <td>data/fiolleau/DYAMOND/TOOCAN/TOOCAN_v2.07/GLOB...</td>\n",
       "      <td>2016-8-1-2-0</td>\n",
       "      <td>3.0</td>\n",
       "      <td>3.0</td>\n",
       "      <td>2016.0</td>\n",
       "      <td>8.0</td>\n",
       "      <td>1.0</td>\n",
       "      <td>2.0</td>\n",
       "      <td>0.0</td>\n",
       "      <td>DYAMOND_9216x4608x74_7.5s_4km_4608_0000000960</td>\n",
       "      <td>17014.04</td>\n",
       "    </tr>\n",
       "    <tr>\n",
       "      <th>2</th>\n",
       "      <td>468</td>\n",
       "      <td>468.0</td>\n",
       "      <td>468.0</td>\n",
       "      <td>468.0</td>\n",
       "      <td>data/fiolleau/DYAMOND/TOOCAN/TOOCAN_v2.07/GLOB...</td>\n",
       "      <td>2016-8-1-2-30</td>\n",
       "      <td>4.0</td>\n",
       "      <td>4.0</td>\n",
       "      <td>2016.0</td>\n",
       "      <td>8.0</td>\n",
       "      <td>1.0</td>\n",
       "      <td>2.0</td>\n",
       "      <td>30.0</td>\n",
       "      <td>DYAMOND_9216x4608x74_7.5s_4km_4608_0000001200</td>\n",
       "      <td>17014.05</td>\n",
       "    </tr>\n",
       "    <tr>\n",
       "      <th>3</th>\n",
       "      <td>432</td>\n",
       "      <td>432.0</td>\n",
       "      <td>432.0</td>\n",
       "      <td>432.0</td>\n",
       "      <td>data/fiolleau/DYAMOND/TOOCAN/TOOCAN_v2.07/GLOB...</td>\n",
       "      <td>2016-8-1-3-0</td>\n",
       "      <td>5.0</td>\n",
       "      <td>5.0</td>\n",
       "      <td>2016.0</td>\n",
       "      <td>8.0</td>\n",
       "      <td>1.0</td>\n",
       "      <td>3.0</td>\n",
       "      <td>0.0</td>\n",
       "      <td>DYAMOND_9216x4608x74_7.5s_4km_4608_0000001440</td>\n",
       "      <td>17014.06</td>\n",
       "    </tr>\n",
       "    <tr>\n",
       "      <th>4</th>\n",
       "      <td>437</td>\n",
       "      <td>437.0</td>\n",
       "      <td>437.0</td>\n",
       "      <td>437.0</td>\n",
       "      <td>data/fiolleau/DYAMOND/TOOCAN/TOOCAN_v2.07/GLOB...</td>\n",
       "      <td>2016-8-1-3-30</td>\n",
       "      <td>6.0</td>\n",
       "      <td>6.0</td>\n",
       "      <td>2016.0</td>\n",
       "      <td>8.0</td>\n",
       "      <td>1.0</td>\n",
       "      <td>3.0</td>\n",
       "      <td>30.0</td>\n",
       "      <td>DYAMOND_9216x4608x74_7.5s_4km_4608_0000001680</td>\n",
       "      <td>17014.07</td>\n",
       "    </tr>\n",
       "    <tr>\n",
       "      <th>...</th>\n",
       "      <td>...</td>\n",
       "      <td>...</td>\n",
       "      <td>...</td>\n",
       "      <td>...</td>\n",
       "      <td>...</td>\n",
       "      <td>...</td>\n",
       "      <td>...</td>\n",
       "      <td>...</td>\n",
       "      <td>...</td>\n",
       "      <td>...</td>\n",
       "      <td>...</td>\n",
       "      <td>...</td>\n",
       "      <td>...</td>\n",
       "      <td>...</td>\n",
       "      <td>...</td>\n",
       "    </tr>\n",
       "    <tr>\n",
       "      <th>1914</th>\n",
       "      <td>1295</td>\n",
       "      <td>1295.0</td>\n",
       "      <td>1295.0</td>\n",
       "      <td>1295.0</td>\n",
       "      <td>data/fiolleau/DYAMOND/TOOCAN/TOOCAN_v2.07/GLOB...</td>\n",
       "      <td>2016-9-9-22-30</td>\n",
       "      <td>1916.0</td>\n",
       "      <td>1916.0</td>\n",
       "      <td>2016.0</td>\n",
       "      <td>9.0</td>\n",
       "      <td>9.0</td>\n",
       "      <td>22.0</td>\n",
       "      <td>30.0</td>\n",
       "      <td>DYAMOND_9216x4608x74_7.5s_4km_4608_0000460080</td>\n",
       "      <td>17053.45</td>\n",
       "    </tr>\n",
       "    <tr>\n",
       "      <th>1915</th>\n",
       "      <td>1315</td>\n",
       "      <td>1315.0</td>\n",
       "      <td>1315.0</td>\n",
       "      <td>1315.0</td>\n",
       "      <td>data/fiolleau/DYAMOND/TOOCAN/TOOCAN_v2.07/GLOB...</td>\n",
       "      <td>2016-9-9-23-0</td>\n",
       "      <td>1917.0</td>\n",
       "      <td>1917.0</td>\n",
       "      <td>2016.0</td>\n",
       "      <td>9.0</td>\n",
       "      <td>9.0</td>\n",
       "      <td>23.0</td>\n",
       "      <td>0.0</td>\n",
       "      <td>DYAMOND_9216x4608x74_7.5s_4km_4608_0000460320</td>\n",
       "      <td>17053.46</td>\n",
       "    </tr>\n",
       "    <tr>\n",
       "      <th>1916</th>\n",
       "      <td>1313</td>\n",
       "      <td>1313.0</td>\n",
       "      <td>1313.0</td>\n",
       "      <td>1313.0</td>\n",
       "      <td>data/fiolleau/DYAMOND/TOOCAN/TOOCAN_v2.07/GLOB...</td>\n",
       "      <td>2016-9-9-23-30</td>\n",
       "      <td>1918.0</td>\n",
       "      <td>1918.0</td>\n",
       "      <td>2016.0</td>\n",
       "      <td>9.0</td>\n",
       "      <td>9.0</td>\n",
       "      <td>23.0</td>\n",
       "      <td>30.0</td>\n",
       "      <td>DYAMOND_9216x4608x74_7.5s_4km_4608_0000460560</td>\n",
       "      <td>17053.47</td>\n",
       "    </tr>\n",
       "    <tr>\n",
       "      <th>1917</th>\n",
       "      <td>1304</td>\n",
       "      <td>1304.0</td>\n",
       "      <td>1304.0</td>\n",
       "      <td>1304.0</td>\n",
       "      <td>data/fiolleau/DYAMOND/TOOCAN/TOOCAN_v2.07/GLOB...</td>\n",
       "      <td>2016-9-10-0-0</td>\n",
       "      <td>1919.0</td>\n",
       "      <td>1919.0</td>\n",
       "      <td>2016.0</td>\n",
       "      <td>9.0</td>\n",
       "      <td>10.0</td>\n",
       "      <td>0.0</td>\n",
       "      <td>0.0</td>\n",
       "      <td>DYAMOND_9216x4608x74_7.5s_4km_4608_0000460800</td>\n",
       "      <td>17053.48</td>\n",
       "    </tr>\n",
       "    <tr>\n",
       "      <th>1918</th>\n",
       "      <td>1919</td>\n",
       "      <td>NaN</td>\n",
       "      <td>NaN</td>\n",
       "      <td>NaN</td>\n",
       "      <td>NaN</td>\n",
       "      <td>NaN</td>\n",
       "      <td>NaN</td>\n",
       "      <td>NaN</td>\n",
       "      <td>NaN</td>\n",
       "      <td>NaN</td>\n",
       "      <td>NaN</td>\n",
       "      <td>NaN</td>\n",
       "      <td>NaN</td>\n",
       "      <td>NaN</td>\n",
       "      <td>17054.01</td>\n",
       "    </tr>\n",
       "  </tbody>\n",
       "</table>\n",
       "<p>1919 rows × 15 columns</p>\n",
       "</div>"
      ],
      "text/plain": [
       "      Unnamed: 0  Unnamed: 0.4  Unnamed: 0.3  Unnamed: 0.2  \\\n",
       "0            476         476.0         476.0         476.0   \n",
       "1            443         443.0         443.0         443.0   \n",
       "2            468         468.0         468.0         468.0   \n",
       "3            432         432.0         432.0         432.0   \n",
       "4            437         437.0         437.0         437.0   \n",
       "...          ...           ...           ...           ...   \n",
       "1914        1295        1295.0        1295.0        1295.0   \n",
       "1915        1315        1315.0        1315.0        1315.0   \n",
       "1916        1313        1313.0        1313.0        1313.0   \n",
       "1917        1304        1304.0        1304.0        1304.0   \n",
       "1918        1919           NaN           NaN           NaN   \n",
       "\n",
       "                                           img_seg_path        str_code  \\\n",
       "0     data/fiolleau/DYAMOND/TOOCAN/TOOCAN_v2.07/GLOB...   2016-8-1-1-30   \n",
       "1     data/fiolleau/DYAMOND/TOOCAN/TOOCAN_v2.07/GLOB...    2016-8-1-2-0   \n",
       "2     data/fiolleau/DYAMOND/TOOCAN/TOOCAN_v2.07/GLOB...   2016-8-1-2-30   \n",
       "3     data/fiolleau/DYAMOND/TOOCAN/TOOCAN_v2.07/GLOB...    2016-8-1-3-0   \n",
       "4     data/fiolleau/DYAMOND/TOOCAN/TOOCAN_v2.07/GLOB...   2016-8-1-3-30   \n",
       "...                                                 ...             ...   \n",
       "1914  data/fiolleau/DYAMOND/TOOCAN/TOOCAN_v2.07/GLOB...  2016-9-9-22-30   \n",
       "1915  data/fiolleau/DYAMOND/TOOCAN/TOOCAN_v2.07/GLOB...   2016-9-9-23-0   \n",
       "1916  data/fiolleau/DYAMOND/TOOCAN/TOOCAN_v2.07/GLOB...  2016-9-9-23-30   \n",
       "1917  data/fiolleau/DYAMOND/TOOCAN/TOOCAN_v2.07/GLOB...   2016-9-10-0-0   \n",
       "1918                                                NaN             NaN   \n",
       "\n",
       "      Unnamed: 0.1  Unnamed: 0.1.1    year  month   day  hour  minute  \\\n",
       "0              2.0             2.0  2016.0    8.0   1.0   1.0    30.0   \n",
       "1              3.0             3.0  2016.0    8.0   1.0   2.0     0.0   \n",
       "2              4.0             4.0  2016.0    8.0   1.0   2.0    30.0   \n",
       "3              5.0             5.0  2016.0    8.0   1.0   3.0     0.0   \n",
       "4              6.0             6.0  2016.0    8.0   1.0   3.0    30.0   \n",
       "...            ...             ...     ...    ...   ...   ...     ...   \n",
       "1914        1916.0          1916.0  2016.0    9.0   9.0  22.0    30.0   \n",
       "1915        1917.0          1917.0  2016.0    9.0   9.0  23.0     0.0   \n",
       "1916        1918.0          1918.0  2016.0    9.0   9.0  23.0    30.0   \n",
       "1917        1919.0          1919.0  2016.0    9.0  10.0   0.0     0.0   \n",
       "1918           NaN             NaN     NaN    NaN   NaN   NaN     NaN   \n",
       "\n",
       "                                       path_dyamond       UTC  \n",
       "0     DYAMOND_9216x4608x74_7.5s_4km_4608_0000000720  17014.03  \n",
       "1     DYAMOND_9216x4608x74_7.5s_4km_4608_0000000960  17014.04  \n",
       "2     DYAMOND_9216x4608x74_7.5s_4km_4608_0000001200  17014.05  \n",
       "3     DYAMOND_9216x4608x74_7.5s_4km_4608_0000001440  17014.06  \n",
       "4     DYAMOND_9216x4608x74_7.5s_4km_4608_0000001680  17014.07  \n",
       "...                                             ...       ...  \n",
       "1914  DYAMOND_9216x4608x74_7.5s_4km_4608_0000460080  17053.45  \n",
       "1915  DYAMOND_9216x4608x74_7.5s_4km_4608_0000460320  17053.46  \n",
       "1916  DYAMOND_9216x4608x74_7.5s_4km_4608_0000460560  17053.47  \n",
       "1917  DYAMOND_9216x4608x74_7.5s_4km_4608_0000460800  17053.48  \n",
       "1918                                            NaN  17054.01  \n",
       "\n",
       "[1919 rows x 15 columns]"
      ]
     },
     "execution_count": 7,
     "metadata": {},
     "output_type": "execute_result"
    }
   ],
   "source": [
    "# Load relation table DYAMOND-TOOCAN\n",
    "filename_table = 'relation_2_table_UTC_dyamond_segmentation.csv'\n",
    "# load\n",
    "df = pd.read_csv(os.path.join('/home/gmaxemin/code/stage-2023-rain-extremes-timing-intensity/scripts',filename_table))\n",
    "# sort\n",
    "df.sort_values(by='UTC',ignore_index=True,inplace=True)\n",
    "# show\n",
    "df"
   ]
  },
  {
   "cell_type": "markdown",
   "id": "e36240ef-309e-4f0d-a787-fbe68efab5f0",
   "metadata": {},
   "source": [
    "# Load Toocan Data"
   ]
  },
  {
   "cell_type": "code",
   "execution_count": 8,
   "id": "29878619-f5c7-46ae-b4be-03e6d18260ae",
   "metadata": {},
   "outputs": [],
   "source": [
    "if reload_toocan == True:\n",
    "    toocan = load_TOOCAN_DYAMOND(os.path.join(toocan_path,toocan_filename))"
   ]
  },
  {
   "cell_type": "code",
   "execution_count": 9,
   "id": "31561853-64d0-4f49-8cb3-0b9931e753e7",
   "metadata": {},
   "outputs": [
    {
     "data": {
      "text/plain": [
       "< MCS_IntParameters object:\n",
       " . label: 1\n",
       " . qc_MCS: 11100\n",
       " . duration: 12.5\n",
       " . classif: 2\n",
       " . Tmax: 0.0\n",
       " . Utime_Init: 17014.18\n",
       " . lonInit: 115.04\n",
       " . latInit: 20.71\n",
       " . Utime_End: 17014.42\n",
       " . lonEnd: 116.37\n",
       " . latEnd: 21.88\n",
       " . lonmin: 114.93\n",
       " . latmin: 20.71\n",
       " . lonmax: 116.37\n",
       " . latmax: 21.89\n",
       " . vavg: 4.2\n",
       " . dist: 189.2\n",
       " . olrmin: 188.0\n",
       " . surfmaxPix_172Wm2: 0\n",
       " . surfmaxkm2_172Wm2: 32864.0\n",
       " . surfmaxkm2_132Wm2: 32592.0\n",
       " . surfmaxkm2_110Wm2: 32320.0\n",
       " . surfmaxkm2_90Wm2: 31520.0\n",
       " . surfcumkm2_172Wm2: 354480.0\n",
       " . surfcumkm2_132Wm2: 0\n",
       " . surfcumkm2_110Wm2: 0\n",
       " . surfcumkm2_90Wm2: 0\n",
       " . precip_total: 0\n",
       " . precip_max: 0\n",
       " . maxSurf00mmh_km2: 0\n",
       " . maxSurf02mmh_km2: 0\n",
       " . maxSurf05mmh_km2: 0\n",
       " . maxSurf10mmh_km2: 0\n",
       " . classif_JIRAK: 0.0\n",
       " . localtime_Init: 17014.6737\n",
       " . localtime_End: 17015.1774\n",
       " . clusters: <class 'load_TOOCAN_DYAMOND_modif_BF.MCS_Lifecycle'>\n",
       " >"
      ]
     },
     "execution_count": 9,
     "metadata": {},
     "output_type": "execute_result"
    }
   ],
   "source": [
    "# toocan is a list. to access an object:\n",
    "toocan[0]"
   ]
  },
  {
   "cell_type": "code",
   "execution_count": 10,
   "id": "ed5eaf77-5edf-4778-9916-cfa23b7a0f63",
   "metadata": {},
   "outputs": [
    {
     "data": {
      "text/plain": [
       "[0.0,\n",
       " 0.0,\n",
       " 1168.0,\n",
       " 2768.0,\n",
       " 4960.0,\n",
       " 6624.0,\n",
       " 8288.0,\n",
       " 9072.0,\n",
       " 8480.0,\n",
       " 6688.0,\n",
       " 5072.0,\n",
       " 2960.0,\n",
       " 1120.0,\n",
       " 208.0,\n",
       " 96.0]"
      ]
     },
     "execution_count": 10,
     "metadata": {},
     "output_type": "execute_result"
    }
   ],
   "source": [
    "# to access an attribute over time:\n",
    "toocan[36].clusters.surfkm2_132Wm2"
   ]
  },
  {
   "cell_type": "code",
   "execution_count": 11,
   "id": "a6f45d0d-0337-4148-a14d-7b3cdd039a26",
   "metadata": {},
   "outputs": [
    {
     "data": {
      "text/plain": [
       "< MCS_Lifecycle object:\n",
       " . qc_im: <class 'list'>\n",
       " . olrmin: <class 'list'>\n",
       " . olravg_172Wm2: <class 'list'>\n",
       " . olravg_110Wm2: <class 'list'>\n",
       " . olravg_90Wm2: <class 'list'>\n",
       " . olr_90th: <class 'list'>\n",
       " . surfPix_172Wm2: <class 'list'>\n",
       " . surfPix_110Wm2: <class 'list'>\n",
       " . surfKm2: []\n",
       " . Utime: <class 'list'>\n",
       " . Localtime: <class 'list'>\n",
       " . lon: <class 'list'>\n",
       " . lat: <class 'list'>\n",
       " . x: <class 'list'>\n",
       " . y: <class 'list'>\n",
       " . velocity: <class 'list'>\n",
       " . semiminor_132Wm2: <class 'list'>\n",
       " . semimajor_132Wm2: <class 'list'>\n",
       " . orientation_132Wm2: <class 'list'>\n",
       " . excentricity_132Wm2: <class 'list'>\n",
       " . semiminor_172Wm2: <class 'list'>\n",
       " . semimajor_172Wm2: <class 'list'>\n",
       " . orientation_172Wm2: <class 'list'>\n",
       " . excentricity_172Wm2: <class 'list'>\n",
       " . surfkm2_172Wm2: <class 'list'>\n",
       " . surfkm2_132Wm2: <class 'list'>\n",
       " . surfkm2_110Wm2: <class 'list'>\n",
       " . surfkm2_90Wm2: <class 'list'>\n",
       " >"
      ]
     },
     "execution_count": 11,
     "metadata": {},
     "output_type": "execute_result"
    }
   ],
   "source": [
    "toocan[36].clusters"
   ]
  },
  {
   "cell_type": "code",
   "execution_count": 12,
   "id": "03cf746d-792e-40bc-8d26-aece83bdb765",
   "metadata": {},
   "outputs": [],
   "source": [
    "#- redefining toocan for subregion\n",
    "\n",
    "filtered_toocan = []\n",
    "\n",
    "for obj in toocan:\n",
    "    # Check if the object is within the desired region\n",
    "    if (\n",
    "        obj.lonmin <= lon_max_subregion\n",
    "        and obj.lonmax >= lon_min_subregion\n",
    "        and obj.latmin <= lat_max_subregion\n",
    "        and obj.latmax >= lat_min_subregion\n",
    "    ):\n",
    "        # Check and modify lonmin\n",
    "        if obj.lonmin < lon_min_subregion:\n",
    "            obj.lonmin = lon_min_subregion\n",
    "        if obj.lonmin > lon_max_subregion:\n",
    "            obj.lonmin = lon_max_subregion\n",
    "\n",
    "        # Check and modify lonmax\n",
    "        if obj.lonmax < lon_min_subregion:\n",
    "            obj.lonmax = lon_min_subregion\n",
    "        if obj.lonmax > lon_max_subregion:\n",
    "            obj.lonmax = lon_max_subregion\n",
    "\n",
    "        # Check and modify latmin\n",
    "        if obj.latmin < lat_min_subregion:\n",
    "            obj.latmin = lat_min_subregion\n",
    "        if obj.latmin > lat_max_subregion:\n",
    "            obj.latmin = lat_max_subregion\n",
    "\n",
    "        # Check and modify latmax\n",
    "        if obj.latmax < lat_min_subregion:\n",
    "            obj.latmax = lat_min_subregion\n",
    "        if obj.latmax > lat_max_subregion:\n",
    "            obj.latmax = lat_max_subregion\n",
    "            \n",
    "        filtered_toocan.append(obj)\n",
    "\n",
    "toocan = filtered_toocan"
   ]
  },
  {
   "cell_type": "code",
   "execution_count": 13,
   "id": "1d4f71d4-465c-46a2-b9e4-40d00a0c6362",
   "metadata": {},
   "outputs": [
    {
     "data": {
      "text/plain": [
       "< MCS_IntParameters object:\n",
       " . label: 9\n",
       " . qc_MCS: 11100\n",
       " . duration: 15.0\n",
       " . classif: 2\n",
       " . Tmax: 0.0\n",
       " . Utime_Init: 17014.07\n",
       " . lonInit: 157.44\n",
       " . latInit: 13.7\n",
       " . Utime_End: 17014.36\n",
       " . lonEnd: 156.71\n",
       " . latEnd: 12.52\n",
       " . lonmin: 156.71\n",
       " . latmin: 12.44\n",
       " . lonmax: 157.44\n",
       " . latmax: 13.7\n",
       " . vavg: 2.83\n",
       " . dist: 153.07\n",
       " . olrmin: 192.0\n",
       " . surfmaxPix_172Wm2: 0\n",
       " . surfmaxkm2_172Wm2: 17744.0\n",
       " . surfmaxkm2_132Wm2: 16272.0\n",
       " . surfmaxkm2_110Wm2: 13760.0\n",
       " . surfmaxkm2_90Wm2: 7152.0\n",
       " . surfcumkm2_172Wm2: 259136.0\n",
       " . surfcumkm2_132Wm2: 0\n",
       " . surfcumkm2_110Wm2: 0\n",
       " . surfcumkm2_90Wm2: 0\n",
       " . precip_total: 0\n",
       " . precip_max: 0\n",
       " . maxSurf00mmh_km2: 0\n",
       " . maxSurf02mmh_km2: 0\n",
       " . maxSurf05mmh_km2: 0\n",
       " . maxSurf10mmh_km2: 0\n",
       " . classif_JIRAK: 0.0\n",
       " . localtime_Init: 17014.5623\n",
       " . localtime_End: 17015.1645\n",
       " . clusters: <class 'load_TOOCAN_DYAMOND_modif_BF.MCS_Lifecycle'>\n",
       " >"
      ]
     },
     "execution_count": 13,
     "metadata": {},
     "output_type": "execute_result"
    }
   ],
   "source": [
    "toocan[0]"
   ]
  },
  {
   "cell_type": "markdown",
   "id": "6b02d911-9ad5-4640-a9f3-6d32e4992722",
   "metadata": {},
   "source": [
    "# Convert dates"
   ]
  },
  {
   "cell_type": "code",
   "execution_count": 35,
   "id": "e3ac9926-5802-40fc-a247-65d86c5ebfb1",
   "metadata": {},
   "outputs": [],
   "source": [
    "data_reference = dt.datetime(1970, 1, 1)"
   ]
  },
  {
   "cell_type": "code",
   "execution_count": 36,
   "id": "95869358-611b-4b94-8b05-4f2b8b3e9e4b",
   "metadata": {},
   "outputs": [],
   "source": [
    "localtime_Init_dates, localtime_End_dates = [], []\n",
    "Localdate_list = []\n",
    "\n",
    "for obj in toocan:\n",
    "    days_Init = obj.localtime_Init\n",
    "    days_End = obj.localtime_End\n",
    "    Localtime_list = obj.clusters.Localtime\n",
    "    \n",
    "    date_Init = data_reference + dt.timedelta(days=days_Init)\n",
    "    date_End = data_reference + dt.timedelta(days=days_End)\n",
    "    date_list = [( data_reference + dt.timedelta(days=ltime) ) for ltime in Localtime_list]\n",
    "    \n",
    "    localtime_Init_dates.append(date_Init)\n",
    "    localtime_End_dates.append(date_End)\n",
    "    Localdate_list.append(date_list)\n",
    "    "
   ]
  },
  {
   "cell_type": "code",
   "execution_count": 37,
   "id": "edf8c285-20b2-4c83-85dd-27bcf0390260",
   "metadata": {},
   "outputs": [
    {
     "name": "stdout",
     "output_type": "stream",
     "text": [
      "2016-08-01 12:07:29.280000\n",
      "2016-08-03 00:48:31.680000\n"
     ]
    }
   ],
   "source": [
    "print(localtime_Init_dates[1])\n",
    "print(localtime_End_dates[1])"
   ]
  },
  {
   "cell_type": "markdown",
   "id": "17e0ab80-46b0-4a48-b019-2ac16543ec3e",
   "metadata": {},
   "source": [
    "# Plan:\n",
    "1. Scan through each timestep and at each timestep, get the highest precipitation value. Make sure to keep information about the latitude and longitude associated with each value.\n",
    "2. From this list of values, identify the greatest as well as its coordinates and its timestep.\n",
    "3. Link this precipitation extreme to an MCS\n",
    "4. Plot different variables for this MCS\n",
    "5. Compare these variables to the average MCS\n",
    "6. Find the time and spatial proximity of this MCS to other MCSs"
   ]
  },
  {
   "cell_type": "code",
   "execution_count": 38,
   "id": "1bbc7e67-411e-4090-ba34-26b011c8c74b",
   "metadata": {},
   "outputs": [],
   "source": [
    "if TESTING == True:\n",
    "    df_len = 50\n",
    "else:\n",
    "    df_len = len(df) - 1 # -1 because the last precac file is nan"
   ]
  },
  {
   "cell_type": "code",
   "execution_count": 39,
   "id": "d6208fc6-01be-4152-8b81-791612672dc8",
   "metadata": {},
   "outputs": [],
   "source": [
    "#-- 1. Scan through each timestep\n",
    "\n",
    "ext_values, ext_lats, ext_lons, ext_filenames = [], [], [], []\n",
    "\n",
    "for df_i in range(df_len):\n",
    "    if not df_i == 0:\n",
    "        prec_i = loadPrec(df_i, df)\n",
    "        # Replace negative values with NaN\n",
    "        prec_i = xr.where(prec_i < 0, np.nan, prec_i)\n",
    "\n",
    "        # Find the maximum value and its coordinates\n",
    "        max_value = np.nanmax(prec_i)\n",
    "        max_index = np.unravel_index(np.nanargmax(prec_i), prec_i.shape)\n",
    "        max_latitude = prec_i.lat.values[max_index[0]]\n",
    "        max_longitude = prec_i.lon.values[max_index[1]]\n",
    "        \n",
    "        \n",
    "        filename_i = loadPrecacFilename(df_i, df)\n",
    "        \n",
    "        ext_values.append(max_value)\n",
    "        ext_lats.append(max_latitude)\n",
    "        ext_lons.append(max_longitude)\n",
    "        ext_filenames.append(filename_i)\n"
   ]
  },
  {
   "cell_type": "code",
   "execution_count": 40,
   "id": "c3a09456-c7c6-4e00-b7b2-d7e092a76a4d",
   "metadata": {},
   "outputs": [],
   "source": [
    "#-- 2. Identify the greatest\n",
    "ext_max = max(ext_values)\n",
    "ext_max_index = ext_values.index(ext_max)\n",
    "ext_max_lat = ext_lats[ext_max_index]\n",
    "ext_max_lon = ext_lons[ext_max_index]"
   ]
  },
  {
   "cell_type": "code",
   "execution_count": 41,
   "id": "ef29f0d3-8621-496d-9526-7c19b75679b5",
   "metadata": {},
   "outputs": [
    {
     "name": "stderr",
     "output_type": "stream",
     "text": [
      "/net/nfs/tools/u20/Python/anaconda-2021.11/envs/meso-3.8/lib/python3.8/site-packages/xarray/conventions.py:512: SerializationWarning: variable 'MCS_label' has multiple fill values {-999.0, -998.0}, decoding all values to NaN.\n",
      "  new_vars[k] = decode_cf_variable(\n"
     ]
    },
    {
     "name": "stdout",
     "output_type": "stream",
     "text": [
      "9\n"
     ]
    }
   ],
   "source": [
    "#-- 3. Link extreme to MCS\n",
    "\n",
    "ext_dyamond_path = ext_filenames[ext_max_index][55:100] ## 55:100 containes the DYAMOND path string relevant for df\n",
    "ext_TOOCAN_path = df.loc[df['path_dyamond'] == ext_dyamond_path, 'img_seg_path'].values[0]\n",
    "\n",
    "corresponding_toocan = xr.open_dataarray(os.path.join(\"/\",ext_TOOCAN_path), engine='netcdf4').load()[0]\n",
    "combined_corr_toocan_coords = list(zip(corresponding_toocan.latitude, corresponding_toocan.longitude))\n",
    "\n",
    "i_lat = (np.where(corresponding_toocan.latitude > ext_max_lat))[0][0]\n",
    "j_lon = (np.where(corresponding_toocan.longitude > ext_max_lon))[0][0]\n",
    "\n",
    "MCS_label = corresponding_toocan[i_lat, j_lon]\n",
    "MCS_index = int(MCS_label - 1)\n",
    "print(MCS_index)"
   ]
  },
  {
   "cell_type": "markdown",
   "id": "3543196a-8c11-438c-8e50-51a4a076f2f8",
   "metadata": {},
   "source": [
    "<span style=\"color:pink\">## choose attribute of interesti</span>"
   ]
  },
  {
   "cell_type": "code",
   "execution_count": 42,
   "id": "73b24924-6307-48ad-aea4-fb6f1b24b13b",
   "metadata": {},
   "outputs": [],
   "source": [
    "attribute_1 = \"surfkm2_132Wm2\""
   ]
  },
  {
   "cell_type": "code",
   "execution_count": 43,
   "id": "09b1c4b9-d5b5-4c85-89be-587620f959fd",
   "metadata": {},
   "outputs": [
    {
     "data": {
      "image/png": "[encoded data removed]",
      "text/plain": [
       "<Figure size 432x288 with 1 Axes>"
      ]
     },
     "metadata": {
      "needs_background": "light"
     },
     "output_type": "display_data"
    }
   ],
   "source": [
    "#-- 4. Visualize extreme MCS variables\n",
    "\n",
    "fig, ax = plt.subplots()\n",
    "MCS_attr_ex = getattr(toocan[MCS_index].clusters, attribute_1)\n",
    "most_extreme_times_list = Localdate_list[MCS_index]\n",
    "\n",
    "plt.plot(most_extreme_times_list, MCS_attr_ex)\n",
    "\n",
    "plt.xticks(rotation=45)\n",
    "ax.set_xlabel(\"Time\")\n",
    "plt.ylabel(f'{attribute_1}')\n",
    "plt.title(f\"Most Extreme MCS:\\n{attribute_1} over Time\")\n",
    "\n",
    "plt.show()"
   ]
  },
  {
   "cell_type": "code",
   "execution_count": 44,
   "id": "0e7d14c7-41a1-44e9-a07b-c4a9e6409cbe",
   "metadata": {},
   "outputs": [],
   "source": [
    "#-- 5. Compare variable of most extreme MCS to average MCS\n",
    "\n",
    "all_MCS_attr = [] # list where each item is a list of an attribute over time\n",
    "all_MCS_attr_times = []\n",
    "\n",
    "for MCS_i, MCS in enumerate(toocan):\n",
    "    MCS_attr_i = getattr(toocan[MCS_i].clusters, attribute_1)\n",
    "    MCS_attr_times_i = Localdate_list[MCS_i]\n",
    "    all_MCS_attr.append(MCS_attr_i)\n",
    "    all_MCS_attr_times.append(MCS_attr_times_i)\n"
   ]
  },
  {
   "cell_type": "code",
   "execution_count": 45,
   "id": "82f234a4-c101-4991-a7db-1f073475866a",
   "metadata": {},
   "outputs": [],
   "source": [
    "# lowest and greatest values from Localdate_list\n",
    "lowest_time = min(min(sublist) for sublist in Localdate_list)\n",
    "greatest_time = max(max(sublist) for sublist in Localdate_list)\n",
    "\n",
    "# create time range for the bins\n",
    "start_time = pd.to_datetime(lowest_time)\n",
    "end_time = pd.to_datetime(greatest_time)\n",
    "hourly_intervals = pd.date_range(start=start_time, end=end_time, freq='H')"
   ]
  },
  {
   "cell_type": "code",
   "execution_count": 46,
   "id": "eb23e9a6-2aee-4c06-92b9-df1046cf5329",
   "metadata": {},
   "outputs": [],
   "source": [
    "binned_values = {}\n",
    "for attr_list, time_list in zip(all_MCS_attr, all_MCS_attr_times):\n",
    "    for value, time in zip(attr_list, time_list):\n",
    "        bin_index = (time - start_time) // pd.Timedelta(hours=1)\n",
    "        bin_time = hourly_intervals[bin_index]\n",
    "        if bin_time not in binned_values:\n",
    "            binned_values[bin_time] = []\n",
    "        binned_values[bin_time].append(value)\n",
    "        \n",
    "# Now we have all of the data for all of the MCSs binned in times"
   ]
  },
  {
   "cell_type": "code",
   "execution_count": 47,
   "id": "363c1dba-7b85-4090-ba6c-9e17a49d1ca4",
   "metadata": {},
   "outputs": [],
   "source": [
    "# finding average of for each bin\n",
    "average_values = {bin_time: sum(values) / len(values) for bin_time, values in binned_values.items()}"
   ]
  },
  {
   "cell_type": "code",
   "execution_count": 48,
   "id": "273d4c0f-5baa-48b1-a065-740805215baa",
   "metadata": {},
   "outputs": [],
   "source": [
    "# getting time range from the most extreme MCS\n",
    "\n",
    "most_extreme_start_time = min(most_extreme_times_list)\n",
    "most_extreme_end_time = max(most_extreme_times_list)"
   ]
  },
  {
   "cell_type": "code",
   "execution_count": 49,
   "id": "d6823d81-1251-4a88-a951-089fa10fc303",
   "metadata": {},
   "outputs": [],
   "source": [
    "# stripping data outside of time range of most extreme MCS\n",
    "filtered_values = {bin_time: value for bin_time, value in average_values.items()\n",
    "                   if most_extreme_start_time <= bin_time <= most_extreme_end_time}"
   ]
  },
  {
   "cell_type": "code",
   "execution_count": 50,
   "id": "53c1af60-f0a0-4503-a523-fe184c7bf6dd",
   "metadata": {},
   "outputs": [
    {
     "data": {
      "image/png": "[encoded data removed]",
      "text/plain": [
       "<Figure size 432x288 with 1 Axes>"
      ]
     },
     "metadata": {
      "needs_background": "light"
     },
     "output_type": "display_data"
    }
   ],
   "source": [
    "# Looking at just the time range of the most extreme MCS\n",
    "fig, ax = plt.subplots()\n",
    "\n",
    "plt.plot(most_extreme_times_list, MCS_attr_ex, label=f\"Most Extreme MCS\")\n",
    "plt.plot(filtered_values.keys(), filtered_values.values(), label=\"Average MCS\")\n",
    "\n",
    "plt.xticks(rotation=45)\n",
    "ax.set_xlabel(\"Time\")\n",
    "plt.ylabel(f'{attribute_1}')\n",
    "plt.title(f\"{attribute_1} over Time\")\n",
    "plt.legend()\n",
    "\n",
    "plt.show()"
   ]
  },
  {
   "cell_type": "code",
   "execution_count": 51,
   "id": "00c28d5e-1fc3-4189-af40-4d764f7ab41f",
   "metadata": {},
   "outputs": [
    {
     "data": {
      "image/png": "[encoded data removed]",
      "text/plain": [
       "<Figure size 432x288 with 1 Axes>"
      ]
     },
     "metadata": {
      "needs_background": "light"
     },
     "output_type": "display_data"
    }
   ],
   "source": [
    "# In context of the entire time series\n",
    "fig, ax = plt.subplots()\n",
    "\n",
    "plt.plot(most_extreme_times_list, MCS_attr_ex, label=f\"Most Extreme MCS\")\n",
    "plt.plot(average_values.keys(), average_values.values(), label=\"Average MCS (all time)\")\n",
    "\n",
    "plt.xticks(rotation=45)\n",
    "ax.set_xlabel(\"Time\")\n",
    "plt.ylabel(f'{attribute_1}')\n",
    "plt.title(f\"{attribute_1} over Time\")\n",
    "plt.legend()\n",
    "\n",
    "plt.show()"
   ]
  },
  {
   "cell_type": "code",
   "execution_count": 52,
   "id": "290bb4d6-2a4c-4766-800e-cea711612816",
   "metadata": {},
   "outputs": [],
   "source": [
    "#-- 6a. Spatial proximity of this MCS to other MCSs\n",
    "\n",
    "# Q: How close is the center of mass of this MCS to that of other MCSs at this timestep? Over time?\n",
    "\n",
    "\n",
    "# lat, lon, time for extreme MCS:\n",
    "ex_MCS_lat_list = getattr(toocan[MCS_index].clusters, \"lat\")\n",
    "ex_MCS_lon_list = getattr(toocan[MCS_index].clusters, \"lon\")\n",
    "most_extreme_times_list = Localdate_list[MCS_index]"
   ]
  },
  {
   "cell_type": "code",
   "execution_count": 53,
   "id": "0a6cd883-0122-4b58-921e-b0493b158989",
   "metadata": {},
   "outputs": [],
   "source": [
    "# lat, lon, time for all MCSs:\n",
    "\n",
    "all_MCS_lat = [] # list where each item is a list of lat over time\n",
    "all_MCS_lon = []\n",
    "all_MCS_attr_times = []\n",
    "\n",
    "for MCS_i, MCS in enumerate(toocan):\n",
    "    MCS_lat_i = getattr(toocan[MCS_i].clusters, \"lat\")\n",
    "    MCS_lon_i = getattr(toocan[MCS_i].clusters, \"lon\")\n",
    "    MCS_attr_times_i = Localdate_list[MCS_i]\n",
    "    all_MCS_lat.append(MCS_lat_i)\n",
    "    all_MCS_lon.append(MCS_lon_i)\n",
    "    all_MCS_attr_times.append(MCS_attr_times_i)"
   ]
  },
  {
   "cell_type": "code",
   "execution_count": null,
   "id": "339aedae-efc0-4003-9148-4a2cbb0c2852",
   "metadata": {},
   "outputs": [],
   "source": []
  },
  {
   "cell_type": "code",
   "execution_count": null,
   "id": "3312ec03-e313-41bb-876d-1b8e2d819bd3",
   "metadata": {},
   "outputs": [],
   "source": []
  },
  {
   "cell_type": "code",
   "execution_count": null,
   "id": "d1e95dcf-29b6-4fee-ab64-f61e1cdce683",
   "metadata": {},
   "outputs": [],
   "source": []
  },
  {
   "cell_type": "code",
   "execution_count": null,
   "id": "f0238177-f9cc-41cd-aafa-aafbb28ea64f",
   "metadata": {},
   "outputs": [],
   "source": []
  }
 ],
 "metadata": {
  "kernelspec": {
   "display_name": "Python 3",
   "language": "python",
   "name": "python3"
  },
  "language_info": {
   "codemirror_mode": {
    "name": "ipython",
    "version": 3
   },
   "file_extension": ".py",
   "mimetype": "text/x-python",
   "name": "python",
   "nbconvert_exporter": "python",
   "pygments_lexer": "ipython3",
   "version": "3.8.8"
  }
 },
 "nbformat": 4,
 "nbformat_minor": 5
}
