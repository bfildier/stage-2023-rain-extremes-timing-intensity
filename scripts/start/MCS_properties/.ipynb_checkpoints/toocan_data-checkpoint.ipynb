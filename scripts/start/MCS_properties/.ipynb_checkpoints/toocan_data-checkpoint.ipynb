{
 "cells": [
  {
   "cell_type": "code",
   "execution_count": 19,
   "id": "fb9b2e2a-d4f6-4baf-babb-d0a40fc14299",
   "metadata": {},
   "outputs": [],
   "source": [
    "%reload_ext autoreload\n",
    "%matplotlib inline"
   ]
  },
  {
   "cell_type": "code",
   "execution_count": 20,
   "id": "82e6a563-8bef-4aca-9014-6267f743f541",
   "metadata": {},
   "outputs": [],
   "source": [
    "%autoreload 2\n",
    "\n",
    "import sys,os,glob\n",
    "import psutil\n",
    "\n",
    "import matplotlib\n",
    "import matplotlib.pyplot as plt\n",
    "import numpy as np\n",
    "import xarray as xr\n",
    "import pandas as pd\n",
    "from pprint import pprint\n",
    "import datetime as dt\n",
    "\n",
    "\n",
    "from matplotlib.colors import LogNorm\n",
    "from matplotlib.gridspec import GridSpec\n",
    "import cartopy.crs as ccrs\n",
    "\n",
    "import datetime as dt\n",
    "import re\n",
    "import gc\n",
    "import matplotlib.animation as animation\n",
    "import warnings\n",
    "import pickle\n",
    "from scipy.interpolate import interp1d\n",
    "\n",
    "\n",
    "#-- Own settings\n",
    "\n",
    "sys.path.append('/home/gmaxemin/code/stage-2023-rain-extremes-timing-intensity/scripts/start')\n",
    "\n",
    "\n",
    "from my_functions import *\n",
    "from load_TOOCAN_DYAMOND_modif_BF import load_TOOCAN_DYAMOND"
   ]
  },
  {
   "cell_type": "code",
   "execution_count": 21,
   "id": "faeff351-59ec-4def-9b00-1eb1b9b0ec28",
   "metadata": {},
   "outputs": [],
   "source": [
    "# path = '/home/gmaxemin/windows/internship_g_maxemin/DYAMOND_REGIONS'\n",
    "path = \"/data/fiolleau/DYAMOND/TOOCAN/TOOCAN_v2.07/GLOBAL/2016/FileTracking\""
   ]
  },
  {
   "cell_type": "code",
   "execution_count": 22,
   "id": "8c3fe9ab-8e62-44d2-9b1b-5bf1b6ccba64",
   "metadata": {},
   "outputs": [],
   "source": [
    "# filename = 'TOOCAN-GLOBAL-20160801-20160831.dat.gz'\n",
    "filename = 'TOOCAN-GLOBAL-20160801-20160831.dat.gz'"
   ]
  },
  {
   "cell_type": "code",
   "execution_count": 23,
   "id": "29878619-f5c7-46ae-b4be-03e6d18260ae",
   "metadata": {},
   "outputs": [],
   "source": [
    "toocan = load_TOOCAN_DYAMOND(os.path.join(path,filename))"
   ]
  },
  {
   "cell_type": "code",
   "execution_count": 35,
   "id": "31561853-64d0-4f49-8cb3-0b9931e753e7",
   "metadata": {},
   "outputs": [
    {
     "data": {
      "text/plain": [
       "< MCS_IntParameters object:\n",
       " . label: 1\n",
       " . qc_MCS: 11100\n",
       " . duration: 12.5\n",
       " . classif: 2\n",
       " . Tmax: 0.0\n",
       " . Utime_Init: 17014.18\n",
       " . lonInit: 115.04\n",
       " . latInit: 20.71\n",
       " . Utime_End: 17014.42\n",
       " . lonEnd: 116.37\n",
       " . latEnd: 21.88\n",
       " . lonmin: 114.93\n",
       " . latmin: 20.71\n",
       " . lonmax: 116.37\n",
       " . latmax: 21.89\n",
       " . vavg: 4.2\n",
       " . dist: 189.2\n",
       " . olrmin: 188.0\n",
       " . surfmaxPix_172Wm2: 0\n",
       " . surfmaxkm2_172Wm2: 32864.0\n",
       " . surfmaxkm2_132Wm2: 32592.0\n",
       " . surfmaxkm2_110Wm2: 32320.0\n",
       " . surfmaxkm2_90Wm2: 31520.0\n",
       " . surfcumkm2_172Wm2: 354480.0\n",
       " . surfcumkm2_132Wm2: 0\n",
       " . surfcumkm2_110Wm2: 0\n",
       " . surfcumkm2_90Wm2: 0\n",
       " . precip_total: 0\n",
       " . precip_max: 0\n",
       " . maxSurf00mmh_km2: 0\n",
       " . maxSurf02mmh_km2: 0\n",
       " . maxSurf05mmh_km2: 0\n",
       " . maxSurf10mmh_km2: 0\n",
       " . classif_JIRAK: 0.0\n",
       " . localtime_Init: 17014.6737\n",
       " . localtime_End: 17015.1774\n",
       " . clusters: <class 'load_TOOCAN_DYAMOND_modif_BF.MCS_Lifecycle'>\n",
       " >"
      ]
     },
     "execution_count": 35,
     "metadata": {},
     "output_type": "execute_result"
    }
   ],
   "source": [
    "# toocan is a list. to access an object:\n",
    "toocan[0]"
   ]
  },
  {
   "cell_type": "code",
   "execution_count": 34,
   "id": "ed5eaf77-5edf-4778-9916-cfa23b7a0f63",
   "metadata": {},
   "outputs": [
    {
     "data": {
      "text/plain": [
       "12.5"
      ]
     },
     "execution_count": 34,
     "metadata": {},
     "output_type": "execute_result"
    }
   ],
   "source": [
    "# to access an attribute:\n",
    "toocan[4].duration"
   ]
  },
  {
   "cell_type": "code",
   "execution_count": null,
   "id": "feec9461-bbbf-4209-bec6-d6ce8c8b6a2f",
   "metadata": {},
   "outputs": [],
   "source": []
  }
 ],
 "metadata": {
  "kernelspec": {
   "display_name": "Python 3",
   "language": "python",
   "name": "python3"
  },
  "language_info": {
   "codemirror_mode": {
    "name": "ipython",
    "version": 3
   },
   "file_extension": ".py",
   "mimetype": "text/x-python",
   "name": "python",
   "nbconvert_exporter": "python",
   "pygments_lexer": "ipython3",
   "version": "3.8.8"
  }
 },
 "nbformat": 4,
 "nbformat_minor": 5
}
