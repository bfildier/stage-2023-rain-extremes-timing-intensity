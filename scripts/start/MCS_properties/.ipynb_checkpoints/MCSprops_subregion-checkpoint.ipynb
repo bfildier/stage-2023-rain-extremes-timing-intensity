{
 "cells": [
  {
   "cell_type": "markdown",
   "id": "22350de2-16af-465b-bb59-d2aea0cb6ea2",
   "metadata": {},
   "source": [
    "<span style=\"color:pink\">## choose subregion</span>"
   ]
  },
  {
   "cell_type": "code",
   "execution_count": 39,
   "id": "40356a56-0223-438c-943e-8c544df0cb24",
   "metadata": {},
   "outputs": [],
   "source": [
    "lon_min_subregion = 130\n",
    "lon_max_subregion = 145\n",
    "lat_min_subregion = 10\n",
    "lat_max_subregion = 20"
   ]
  },
  {
   "cell_type": "markdown",
   "id": "531bcbfd-f75d-46ce-9f66-45d691f58b92",
   "metadata": {},
   "source": [
    "<span style=\"color:pink\">##</span>"
   ]
  },
  {
   "cell_type": "markdown",
   "id": "3e2523e0-9062-4746-a9ad-ff4431ec4026",
   "metadata": {},
   "source": [
    "# Imports"
   ]
  },
  {
   "cell_type": "code",
   "execution_count": 40,
   "id": "fb9b2e2a-d4f6-4baf-babb-d0a40fc14299",
   "metadata": {},
   "outputs": [],
   "source": [
    "%reload_ext autoreload\n",
    "%matplotlib inline"
   ]
  },
  {
   "cell_type": "code",
   "execution_count": 41,
   "id": "82e6a563-8bef-4aca-9014-6267f743f541",
   "metadata": {},
   "outputs": [],
   "source": [
    "%autoreload 2\n",
    "\n",
    "import sys,os,glob\n",
    "import psutil\n",
    "\n",
    "import matplotlib\n",
    "import matplotlib.pyplot as plt\n",
    "import numpy as np\n",
    "import xarray as xr\n",
    "import pandas as pd\n",
    "from pprint import pprint\n",
    "import datetime as dt\n",
    "\n",
    "\n",
    "from matplotlib.colors import LogNorm\n",
    "from matplotlib.gridspec import GridSpec\n",
    "import cartopy.crs as ccrs\n",
    "\n",
    "import datetime as dt\n",
    "import re\n",
    "import gc\n",
    "import matplotlib.animation as animation\n",
    "import warnings\n",
    "import pickle\n",
    "from scipy.interpolate import interp1d\n",
    "\n",
    "\n",
    "#-- Own settings\n",
    "\n",
    "sys.path.append('/home/gmaxemin/code/stage-2023-rain-extremes-timing-intensity/scripts/start')\n",
    "\n",
    "\n",
    "from my_functions import *\n",
    "from load_TOOCAN_DYAMOND_modif_BF import load_TOOCAN_DYAMOND"
   ]
  },
  {
   "cell_type": "markdown",
   "id": "cee1930f-a5e0-448b-9aca-93c5633a6206",
   "metadata": {},
   "source": [
    "# Paths"
   ]
  },
  {
   "cell_type": "code",
   "execution_count": 42,
   "id": "faeff351-59ec-4def-9b00-1eb1b9b0ec28",
   "metadata": {},
   "outputs": [],
   "source": [
    "# path = '/home/gmaxemin/windows/internship_g_maxemin/DYAMOND_REGIONS'\n",
    "toocan_path = \"/data/fiolleau/DYAMOND/TOOCAN/TOOCAN_v2.07/GLOBAL/2016/FileTracking\"\n",
    "# filename = 'TOOCAN-GLOBAL-20160801-20160831.dat.gz'\n",
    "toocan_filename = 'TOOCAN-GLOBAL-20160801-20160831.dat.gz'"
   ]
  },
  {
   "cell_type": "code",
   "execution_count": 43,
   "id": "677834c4-1181-4f0c-86be-82d6948c27a4",
   "metadata": {},
   "outputs": [
    {
     "name": "stdout",
     "output_type": "stream",
     "text": [
      "/data/bfildier/DYAMOND_REGIONS/130E_165E_0N_20N/SAM/2D\n"
     ]
    }
   ],
   "source": [
    "#-- Paths\n",
    "\n",
    "# DIR_DYAMOND (where DYAMOND data are)\n",
    "\n",
    "path_DYAMOND_REGIONS = '/data/bfildier/DYAMOND_REGIONS/'\n",
    "path_reg1_SAM = os.path.join(path_DYAMOND_REGIONS, \"130E_165E_0N_20N/SAM\")\n",
    "path_2D = os.path.join(path_reg1_SAM,'2D')\n",
    "\n",
    "DIR_DYAMOND = path_2D\n",
    "print(DIR_DYAMOND)\n",
    "\n",
    "# DIR_DATA (where segmentation relation table is)\n",
    "\n",
    "DIR_DATA = \"/home/gmaxemin/code/stage-2023-rain-extremes-timing-intensity/input/\""
   ]
  },
  {
   "cell_type": "code",
   "execution_count": 44,
   "id": "812a2cc3-2443-48f1-ae21-fa928c6531f3",
   "metadata": {},
   "outputs": [
    {
     "data": {
      "text/html": [
       "<div>\n",
       "<style scoped>\n",
       "    .dataframe tbody tr th:only-of-type {\n",
       "        vertical-align: middle;\n",
       "    }\n",
       "\n",
       "    .dataframe tbody tr th {\n",
       "        vertical-align: top;\n",
       "    }\n",
       "\n",
       "    .dataframe thead th {\n",
       "        text-align: right;\n",
       "    }\n",
       "</style>\n",
       "<table border=\"1\" class=\"dataframe\">\n",
       "  <thead>\n",
       "    <tr style=\"text-align: right;\">\n",
       "      <th></th>\n",
       "      <th>Unnamed: 0</th>\n",
       "      <th>Unnamed: 0.4</th>\n",
       "      <th>Unnamed: 0.3</th>\n",
       "      <th>Unnamed: 0.2</th>\n",
       "      <th>img_seg_path</th>\n",
       "      <th>str_code</th>\n",
       "      <th>Unnamed: 0.1</th>\n",
       "      <th>Unnamed: 0.1.1</th>\n",
       "      <th>year</th>\n",
       "      <th>month</th>\n",
       "      <th>day</th>\n",
       "      <th>hour</th>\n",
       "      <th>minute</th>\n",
       "      <th>path_dyamond</th>\n",
       "      <th>UTC</th>\n",
       "    </tr>\n",
       "  </thead>\n",
       "  <tbody>\n",
       "    <tr>\n",
       "      <th>0</th>\n",
       "      <td>476</td>\n",
       "      <td>476.0</td>\n",
       "      <td>476.0</td>\n",
       "      <td>476.0</td>\n",
       "      <td>data/fiolleau/DYAMOND/TOOCAN/TOOCAN_v2.07/GLOB...</td>\n",
       "      <td>2016-8-1-1-30</td>\n",
       "      <td>2.0</td>\n",
       "      <td>2.0</td>\n",
       "      <td>2016.0</td>\n",
       "      <td>8.0</td>\n",
       "      <td>1.0</td>\n",
       "      <td>1.0</td>\n",
       "      <td>30.0</td>\n",
       "      <td>DYAMOND_9216x4608x74_7.5s_4km_4608_0000000720</td>\n",
       "      <td>17014.03</td>\n",
       "    </tr>\n",
       "    <tr>\n",
       "      <th>1</th>\n",
       "      <td>443</td>\n",
       "      <td>443.0</td>\n",
       "      <td>443.0</td>\n",
       "      <td>443.0</td>\n",
       "      <td>data/fiolleau/DYAMOND/TOOCAN/TOOCAN_v2.07/GLOB...</td>\n",
       "      <td>2016-8-1-2-0</td>\n",
       "      <td>3.0</td>\n",
       "      <td>3.0</td>\n",
       "      <td>2016.0</td>\n",
       "      <td>8.0</td>\n",
       "      <td>1.0</td>\n",
       "      <td>2.0</td>\n",
       "      <td>0.0</td>\n",
       "      <td>DYAMOND_9216x4608x74_7.5s_4km_4608_0000000960</td>\n",
       "      <td>17014.04</td>\n",
       "    </tr>\n",
       "    <tr>\n",
       "      <th>2</th>\n",
       "      <td>468</td>\n",
       "      <td>468.0</td>\n",
       "      <td>468.0</td>\n",
       "      <td>468.0</td>\n",
       "      <td>data/fiolleau/DYAMOND/TOOCAN/TOOCAN_v2.07/GLOB...</td>\n",
       "      <td>2016-8-1-2-30</td>\n",
       "      <td>4.0</td>\n",
       "      <td>4.0</td>\n",
       "      <td>2016.0</td>\n",
       "      <td>8.0</td>\n",
       "      <td>1.0</td>\n",
       "      <td>2.0</td>\n",
       "      <td>30.0</td>\n",
       "      <td>DYAMOND_9216x4608x74_7.5s_4km_4608_0000001200</td>\n",
       "      <td>17014.05</td>\n",
       "    </tr>\n",
       "    <tr>\n",
       "      <th>3</th>\n",
       "      <td>432</td>\n",
       "      <td>432.0</td>\n",
       "      <td>432.0</td>\n",
       "      <td>432.0</td>\n",
       "      <td>data/fiolleau/DYAMOND/TOOCAN/TOOCAN_v2.07/GLOB...</td>\n",
       "      <td>2016-8-1-3-0</td>\n",
       "      <td>5.0</td>\n",
       "      <td>5.0</td>\n",
       "      <td>2016.0</td>\n",
       "      <td>8.0</td>\n",
       "      <td>1.0</td>\n",
       "      <td>3.0</td>\n",
       "      <td>0.0</td>\n",
       "      <td>DYAMOND_9216x4608x74_7.5s_4km_4608_0000001440</td>\n",
       "      <td>17014.06</td>\n",
       "    </tr>\n",
       "    <tr>\n",
       "      <th>4</th>\n",
       "      <td>437</td>\n",
       "      <td>437.0</td>\n",
       "      <td>437.0</td>\n",
       "      <td>437.0</td>\n",
       "      <td>data/fiolleau/DYAMOND/TOOCAN/TOOCAN_v2.07/GLOB...</td>\n",
       "      <td>2016-8-1-3-30</td>\n",
       "      <td>6.0</td>\n",
       "      <td>6.0</td>\n",
       "      <td>2016.0</td>\n",
       "      <td>8.0</td>\n",
       "      <td>1.0</td>\n",
       "      <td>3.0</td>\n",
       "      <td>30.0</td>\n",
       "      <td>DYAMOND_9216x4608x74_7.5s_4km_4608_0000001680</td>\n",
       "      <td>17014.07</td>\n",
       "    </tr>\n",
       "    <tr>\n",
       "      <th>...</th>\n",
       "      <td>...</td>\n",
       "      <td>...</td>\n",
       "      <td>...</td>\n",
       "      <td>...</td>\n",
       "      <td>...</td>\n",
       "      <td>...</td>\n",
       "      <td>...</td>\n",
       "      <td>...</td>\n",
       "      <td>...</td>\n",
       "      <td>...</td>\n",
       "      <td>...</td>\n",
       "      <td>...</td>\n",
       "      <td>...</td>\n",
       "      <td>...</td>\n",
       "      <td>...</td>\n",
       "    </tr>\n",
       "    <tr>\n",
       "      <th>1914</th>\n",
       "      <td>1295</td>\n",
       "      <td>1295.0</td>\n",
       "      <td>1295.0</td>\n",
       "      <td>1295.0</td>\n",
       "      <td>data/fiolleau/DYAMOND/TOOCAN/TOOCAN_v2.07/GLOB...</td>\n",
       "      <td>2016-9-9-22-30</td>\n",
       "      <td>1916.0</td>\n",
       "      <td>1916.0</td>\n",
       "      <td>2016.0</td>\n",
       "      <td>9.0</td>\n",
       "      <td>9.0</td>\n",
       "      <td>22.0</td>\n",
       "      <td>30.0</td>\n",
       "      <td>DYAMOND_9216x4608x74_7.5s_4km_4608_0000460080</td>\n",
       "      <td>17053.45</td>\n",
       "    </tr>\n",
       "    <tr>\n",
       "      <th>1915</th>\n",
       "      <td>1315</td>\n",
       "      <td>1315.0</td>\n",
       "      <td>1315.0</td>\n",
       "      <td>1315.0</td>\n",
       "      <td>data/fiolleau/DYAMOND/TOOCAN/TOOCAN_v2.07/GLOB...</td>\n",
       "      <td>2016-9-9-23-0</td>\n",
       "      <td>1917.0</td>\n",
       "      <td>1917.0</td>\n",
       "      <td>2016.0</td>\n",
       "      <td>9.0</td>\n",
       "      <td>9.0</td>\n",
       "      <td>23.0</td>\n",
       "      <td>0.0</td>\n",
       "      <td>DYAMOND_9216x4608x74_7.5s_4km_4608_0000460320</td>\n",
       "      <td>17053.46</td>\n",
       "    </tr>\n",
       "    <tr>\n",
       "      <th>1916</th>\n",
       "      <td>1313</td>\n",
       "      <td>1313.0</td>\n",
       "      <td>1313.0</td>\n",
       "      <td>1313.0</td>\n",
       "      <td>data/fiolleau/DYAMOND/TOOCAN/TOOCAN_v2.07/GLOB...</td>\n",
       "      <td>2016-9-9-23-30</td>\n",
       "      <td>1918.0</td>\n",
       "      <td>1918.0</td>\n",
       "      <td>2016.0</td>\n",
       "      <td>9.0</td>\n",
       "      <td>9.0</td>\n",
       "      <td>23.0</td>\n",
       "      <td>30.0</td>\n",
       "      <td>DYAMOND_9216x4608x74_7.5s_4km_4608_0000460560</td>\n",
       "      <td>17053.47</td>\n",
       "    </tr>\n",
       "    <tr>\n",
       "      <th>1917</th>\n",
       "      <td>1304</td>\n",
       "      <td>1304.0</td>\n",
       "      <td>1304.0</td>\n",
       "      <td>1304.0</td>\n",
       "      <td>data/fiolleau/DYAMOND/TOOCAN/TOOCAN_v2.07/GLOB...</td>\n",
       "      <td>2016-9-10-0-0</td>\n",
       "      <td>1919.0</td>\n",
       "      <td>1919.0</td>\n",
       "      <td>2016.0</td>\n",
       "      <td>9.0</td>\n",
       "      <td>10.0</td>\n",
       "      <td>0.0</td>\n",
       "      <td>0.0</td>\n",
       "      <td>DYAMOND_9216x4608x74_7.5s_4km_4608_0000460800</td>\n",
       "      <td>17053.48</td>\n",
       "    </tr>\n",
       "    <tr>\n",
       "      <th>1918</th>\n",
       "      <td>1919</td>\n",
       "      <td>NaN</td>\n",
       "      <td>NaN</td>\n",
       "      <td>NaN</td>\n",
       "      <td>NaN</td>\n",
       "      <td>NaN</td>\n",
       "      <td>NaN</td>\n",
       "      <td>NaN</td>\n",
       "      <td>NaN</td>\n",
       "      <td>NaN</td>\n",
       "      <td>NaN</td>\n",
       "      <td>NaN</td>\n",
       "      <td>NaN</td>\n",
       "      <td>NaN</td>\n",
       "      <td>17054.01</td>\n",
       "    </tr>\n",
       "  </tbody>\n",
       "</table>\n",
       "<p>1919 rows × 15 columns</p>\n",
       "</div>"
      ],
      "text/plain": [
       "      Unnamed: 0  Unnamed: 0.4  Unnamed: 0.3  Unnamed: 0.2  \\\n",
       "0            476         476.0         476.0         476.0   \n",
       "1            443         443.0         443.0         443.0   \n",
       "2            468         468.0         468.0         468.0   \n",
       "3            432         432.0         432.0         432.0   \n",
       "4            437         437.0         437.0         437.0   \n",
       "...          ...           ...           ...           ...   \n",
       "1914        1295        1295.0        1295.0        1295.0   \n",
       "1915        1315        1315.0        1315.0        1315.0   \n",
       "1916        1313        1313.0        1313.0        1313.0   \n",
       "1917        1304        1304.0        1304.0        1304.0   \n",
       "1918        1919           NaN           NaN           NaN   \n",
       "\n",
       "                                           img_seg_path        str_code  \\\n",
       "0     data/fiolleau/DYAMOND/TOOCAN/TOOCAN_v2.07/GLOB...   2016-8-1-1-30   \n",
       "1     data/fiolleau/DYAMOND/TOOCAN/TOOCAN_v2.07/GLOB...    2016-8-1-2-0   \n",
       "2     data/fiolleau/DYAMOND/TOOCAN/TOOCAN_v2.07/GLOB...   2016-8-1-2-30   \n",
       "3     data/fiolleau/DYAMOND/TOOCAN/TOOCAN_v2.07/GLOB...    2016-8-1-3-0   \n",
       "4     data/fiolleau/DYAMOND/TOOCAN/TOOCAN_v2.07/GLOB...   2016-8-1-3-30   \n",
       "...                                                 ...             ...   \n",
       "1914  data/fiolleau/DYAMOND/TOOCAN/TOOCAN_v2.07/GLOB...  2016-9-9-22-30   \n",
       "1915  data/fiolleau/DYAMOND/TOOCAN/TOOCAN_v2.07/GLOB...   2016-9-9-23-0   \n",
       "1916  data/fiolleau/DYAMOND/TOOCAN/TOOCAN_v2.07/GLOB...  2016-9-9-23-30   \n",
       "1917  data/fiolleau/DYAMOND/TOOCAN/TOOCAN_v2.07/GLOB...   2016-9-10-0-0   \n",
       "1918                                                NaN             NaN   \n",
       "\n",
       "      Unnamed: 0.1  Unnamed: 0.1.1    year  month   day  hour  minute  \\\n",
       "0              2.0             2.0  2016.0    8.0   1.0   1.0    30.0   \n",
       "1              3.0             3.0  2016.0    8.0   1.0   2.0     0.0   \n",
       "2              4.0             4.0  2016.0    8.0   1.0   2.0    30.0   \n",
       "3              5.0             5.0  2016.0    8.0   1.0   3.0     0.0   \n",
       "4              6.0             6.0  2016.0    8.0   1.0   3.0    30.0   \n",
       "...            ...             ...     ...    ...   ...   ...     ...   \n",
       "1914        1916.0          1916.0  2016.0    9.0   9.0  22.0    30.0   \n",
       "1915        1917.0          1917.0  2016.0    9.0   9.0  23.0     0.0   \n",
       "1916        1918.0          1918.0  2016.0    9.0   9.0  23.0    30.0   \n",
       "1917        1919.0          1919.0  2016.0    9.0  10.0   0.0     0.0   \n",
       "1918           NaN             NaN     NaN    NaN   NaN   NaN     NaN   \n",
       "\n",
       "                                       path_dyamond       UTC  \n",
       "0     DYAMOND_9216x4608x74_7.5s_4km_4608_0000000720  17014.03  \n",
       "1     DYAMOND_9216x4608x74_7.5s_4km_4608_0000000960  17014.04  \n",
       "2     DYAMOND_9216x4608x74_7.5s_4km_4608_0000001200  17014.05  \n",
       "3     DYAMOND_9216x4608x74_7.5s_4km_4608_0000001440  17014.06  \n",
       "4     DYAMOND_9216x4608x74_7.5s_4km_4608_0000001680  17014.07  \n",
       "...                                             ...       ...  \n",
       "1914  DYAMOND_9216x4608x74_7.5s_4km_4608_0000460080  17053.45  \n",
       "1915  DYAMOND_9216x4608x74_7.5s_4km_4608_0000460320  17053.46  \n",
       "1916  DYAMOND_9216x4608x74_7.5s_4km_4608_0000460560  17053.47  \n",
       "1917  DYAMOND_9216x4608x74_7.5s_4km_4608_0000460800  17053.48  \n",
       "1918                                            NaN  17054.01  \n",
       "\n",
       "[1919 rows x 15 columns]"
      ]
     },
     "execution_count": 44,
     "metadata": {},
     "output_type": "execute_result"
    }
   ],
   "source": [
    "# Load relation table DYAMOND-TOOCAN\n",
    "filename_table = 'relation_2_table_UTC_dyamond_segmentation.csv'\n",
    "# load\n",
    "df = pd.read_csv(os.path.join('/home/gmaxemin/code/stage-2023-rain-extremes-timing-intensity/scripts',filename_table))\n",
    "# sort\n",
    "df.sort_values(by='UTC',ignore_index=True,inplace=True)\n",
    "# show\n",
    "df"
   ]
  },
  {
   "cell_type": "markdown",
   "id": "e36240ef-309e-4f0d-a787-fbe68efab5f0",
   "metadata": {},
   "source": [
    "# Load Toocan Data"
   ]
  },
  {
   "cell_type": "code",
   "execution_count": 45,
   "id": "29878619-f5c7-46ae-b4be-03e6d18260ae",
   "metadata": {},
   "outputs": [],
   "source": [
    "toocan = load_TOOCAN_DYAMOND(os.path.join(toocan_path,toocan_filename))"
   ]
  },
  {
   "cell_type": "code",
   "execution_count": 46,
   "id": "31561853-64d0-4f49-8cb3-0b9931e753e7",
   "metadata": {},
   "outputs": [
    {
     "data": {
      "text/plain": [
       "< MCS_IntParameters object:\n",
       " . label: 1\n",
       " . qc_MCS: 11100\n",
       " . duration: 12.5\n",
       " . classif: 2\n",
       " . Tmax: 0.0\n",
       " . Utime_Init: 17014.18\n",
       " . lonInit: 115.04\n",
       " . latInit: 20.71\n",
       " . Utime_End: 17014.42\n",
       " . lonEnd: 116.37\n",
       " . latEnd: 21.88\n",
       " . lonmin: 114.93\n",
       " . latmin: 20.71\n",
       " . lonmax: 116.37\n",
       " . latmax: 21.89\n",
       " . vavg: 4.2\n",
       " . dist: 189.2\n",
       " . olrmin: 188.0\n",
       " . surfmaxPix_172Wm2: 0\n",
       " . surfmaxkm2_172Wm2: 32864.0\n",
       " . surfmaxkm2_132Wm2: 32592.0\n",
       " . surfmaxkm2_110Wm2: 32320.0\n",
       " . surfmaxkm2_90Wm2: 31520.0\n",
       " . surfcumkm2_172Wm2: 354480.0\n",
       " . surfcumkm2_132Wm2: 0\n",
       " . surfcumkm2_110Wm2: 0\n",
       " . surfcumkm2_90Wm2: 0\n",
       " . precip_total: 0\n",
       " . precip_max: 0\n",
       " . maxSurf00mmh_km2: 0\n",
       " . maxSurf02mmh_km2: 0\n",
       " . maxSurf05mmh_km2: 0\n",
       " . maxSurf10mmh_km2: 0\n",
       " . classif_JIRAK: 0.0\n",
       " . localtime_Init: 17014.6737\n",
       " . localtime_End: 17015.1774\n",
       " . clusters: <class 'load_TOOCAN_DYAMOND_modif_BF.MCS_Lifecycle'>\n",
       " >"
      ]
     },
     "execution_count": 46,
     "metadata": {},
     "output_type": "execute_result"
    }
   ],
   "source": [
    "# toocan is a list. to access an object:\n",
    "toocan[0]"
   ]
  },
  {
   "cell_type": "code",
   "execution_count": 47,
   "id": "ed5eaf77-5edf-4778-9916-cfa23b7a0f63",
   "metadata": {},
   "outputs": [
    {
     "data": {
      "text/plain": [
       "12.5"
      ]
     },
     "execution_count": 47,
     "metadata": {},
     "output_type": "execute_result"
    }
   ],
   "source": [
    "# to access an attribute:\n",
    "toocan[4].duration"
   ]
  },
  {
   "cell_type": "code",
   "execution_count": 48,
   "id": "03cf746d-792e-40bc-8d26-aece83bdb765",
   "metadata": {},
   "outputs": [],
   "source": [
    "#- redefining toocan for subregion\n",
    "\n",
    "filtered_toocan = []\n",
    "\n",
    "for obj in toocan:\n",
    "    # Check if the object is within the desired region\n",
    "    if (\n",
    "        obj.lonmin <= lon_max_subregion\n",
    "        and obj.lonmax >= lon_min_subregion\n",
    "        and obj.latmin <= lat_max_subregion\n",
    "        and obj.latmax >= lat_min_subregion\n",
    "    ):\n",
    "        # Check and modify lonmin\n",
    "        if obj.lonmin < lon_min_subregion:\n",
    "            obj.lonmin = lon_min_subregion\n",
    "        if obj.lonmin > lon_max_subregion:\n",
    "            obj.lonmin = lon_max_subregion\n",
    "\n",
    "        # Check and modify lonmax\n",
    "        if obj.lonmax < lon_min_subregion:\n",
    "            obj.lonmax = lon_min_subregion\n",
    "        if obj.lonmax > lon_max_subregion:\n",
    "            obj.lonmax = lon_max_subregion\n",
    "\n",
    "        # Check and modify latmin\n",
    "        if obj.latmin < lat_min_subregion:\n",
    "            obj.latmin = lat_min_subregion\n",
    "        if obj.latmin > lat_max_subregion:\n",
    "            obj.latmin = lat_max_subregion\n",
    "\n",
    "        # Check and modify latmax\n",
    "        if obj.latmax < lat_min_subregion:\n",
    "            obj.latmax = lat_min_subregion\n",
    "        if obj.latmax > lat_max_subregion:\n",
    "            obj.latmax = lat_max_subregion\n",
    "            \n",
    "        filtered_toocan.append(obj)\n",
    "\n",
    "toocan = filtered_toocan"
   ]
  },
  {
   "cell_type": "code",
   "execution_count": 50,
   "id": "1d4f71d4-465c-46a2-b9e4-40d00a0c6362",
   "metadata": {},
   "outputs": [
    {
     "data": {
      "text/plain": [
       "< MCS_IntParameters object:\n",
       " . label: 40\n",
       " . qc_MCS: 11101\n",
       " . duration: 30.0\n",
       " . classif: 2\n",
       " . Tmax: 0.0\n",
       " . Utime_Init: 17014.19\n",
       " . lonInit: 140.84\n",
       " . latInit: 15.61\n",
       " . Utime_End: 17015.3\n",
       " . lonEnd: 134.2\n",
       " . latEnd: 15.1\n",
       " . lonmin: 134.2\n",
       " . latmin: 15.0\n",
       " . lonmax: 140.85\n",
       " . latmax: 16.06\n",
       " . vavg: 6.61\n",
       " . dist: 713.37\n",
       " . olrmin: 191.0\n",
       " . surfmaxPix_172Wm2: 0\n",
       " . surfmaxkm2_172Wm2: 203984.0\n",
       " . surfmaxkm2_132Wm2: 181392.0\n",
       " . surfmaxkm2_110Wm2: 153488.0\n",
       " . surfmaxkm2_90Wm2: 87632.0\n",
       " . surfcumkm2_172Wm2: 4815504.0\n",
       " . surfcumkm2_132Wm2: 0\n",
       " . surfcumkm2_110Wm2: 0\n",
       " . surfcumkm2_90Wm2: 0\n",
       " . precip_total: 0\n",
       " . precip_max: 0\n",
       " . maxSurf00mmh_km2: 0\n",
       " . maxSurf02mmh_km2: 0\n",
       " . maxSurf05mmh_km2: 0\n",
       " . maxSurf10mmh_km2: 0\n",
       " . classif_JIRAK: 1.0\n",
       " . localtime_Init: 17014.7662\n",
       " . localtime_End: 17015.977\n",
       " . clusters: <class 'load_TOOCAN_DYAMOND_modif_BF.MCS_Lifecycle'>\n",
       " >"
      ]
     },
     "execution_count": 50,
     "metadata": {},
     "output_type": "execute_result"
    }
   ],
   "source": [
    "toocan[0]"
   ]
  },
  {
   "cell_type": "markdown",
   "id": "dff4d55e-5490-4f14-8c03-fa3cc05a59c7",
   "metadata": {},
   "source": [
    "# MCS attribute histogram"
   ]
  },
  {
   "cell_type": "markdown",
   "id": "dce95359-75b5-4adf-a964-f4319bd7f036",
   "metadata": {},
   "source": [
    "<span style=\"color:pink\">## choose attribute and number of bins</span>"
   ]
  },
  {
   "cell_type": "code",
   "execution_count": 51,
   "id": "e0c47cc5-1b1e-4b55-8879-9cd701dc4312",
   "metadata": {},
   "outputs": [],
   "source": [
    "attribute = \"duration\"\n",
    "nbins = 50"
   ]
  },
  {
   "cell_type": "markdown",
   "id": "11dc391d-287b-433d-b2e4-0b51cadc27b8",
   "metadata": {},
   "source": [
    "<span style=\"color:pink\">##</span>"
   ]
  },
  {
   "cell_type": "code",
   "execution_count": 52,
   "id": "ede26aac-256c-430c-bb54-b59282493637",
   "metadata": {},
   "outputs": [],
   "source": [
    "def attr_list(data, attr_name):\n",
    "    # Extract the attribute values from the data\n",
    "    attribute_values = [getattr(obj, attr_name) for obj in data]   \n",
    "    return attribute_values"
   ]
  },
  {
   "cell_type": "code",
   "execution_count": 53,
   "id": "bee37437-dfd7-4704-8d98-2a4b11603be1",
   "metadata": {},
   "outputs": [],
   "source": [
    "# print(attribute)\n",
    "attribute_list = attr_list(toocan, attribute)"
   ]
  },
  {
   "cell_type": "code",
   "execution_count": 59,
   "id": "cba55683-3e33-431d-a052-a693fd4f9518",
   "metadata": {},
   "outputs": [
    {
     "data": {
      "image/png": "[encoded data removed]",
      "text/plain": [
       "<Figure size 432x288 with 1 Axes>"
      ]
     },
     "metadata": {
      "needs_background": "light"
     },
     "output_type": "display_data"
    }
   ],
   "source": [
    "hist, bin_edges, _ = plt.hist(attribute_list, bins=nbins)\n",
    "plt.xlabel(attribute)\n",
    "plt.ylabel(\"Counts\")\n",
    "plt.title(f\"TOOCAN MCS {attribute} counts\\n{lon_min_subregion}:{lon_max_subregion}E,{lat_min_subregion}:{lat_max_subregion}N\")\n",
    "plt.show()\n",
    "# plt.savefig(f'histograms/TOOCAN_{attribute}_hist_test.png')"
   ]
  },
  {
   "cell_type": "markdown",
   "id": "029f018e-fd07-416a-9c69-8d3176907444",
   "metadata": {},
   "source": [
    "# Variable mean for each binned timestep\n",
    "* note: for plot of mean, the xlabel for each bar is of the upper bin edge"
   ]
  },
  {
   "cell_type": "code",
   "execution_count": 60,
   "id": "f1dd6fef-17da-4030-8c2a-c9157d1ee860",
   "metadata": {},
   "outputs": [
    {
     "data": {
      "image/png": "[encoded data removed]",
      "text/plain": [
       "<Figure size 432x288 with 1 Axes>"
      ]
     },
     "metadata": {
      "needs_background": "light"
     },
     "output_type": "display_data"
    }
   ],
   "source": [
    "#-- binning times\n",
    "localtime_Init_list = attr_list(toocan, \"localtime_Init\")\n",
    "localtime_Init_hist, localtime_Init_bin_edges, localtime_Init__ = plt.hist(localtime_Init_list, bins=nbins)\n",
    "plt.xlabel(\"localtime_Init\")\n",
    "plt.ylabel(\"Counts\")\n",
    "plt.title(f\"TOOCAN MCS localtime_Init counts\\n{lon_min_subregion}:{lon_max_subregion}E,{lat_min_subregion}:{lat_max_subregion}N\")\n",
    "plt.show()"
   ]
  },
  {
   "cell_type": "code",
   "execution_count": 56,
   "id": "0bfff2ca-59ce-4e60-b95b-03aca838bc1a",
   "metadata": {},
   "outputs": [],
   "source": [
    "# Extract the values of the attribute and localtime_Init from the objects\n",
    "attribute_values_list = [getattr(obj, attribute) for obj in toocan]\n",
    "localtime_init_values = [getattr(obj, 'localtime_Init') for obj in toocan]\n",
    "\n",
    "# Convert localtime_Init bin edges to a NumPy array\n",
    "localtime_init_bin_edges = np.array(localtime_Init_bin_edges)\n",
    "\n",
    "# Digitize the localtime_Init values to determine the bin indices for each object\n",
    "bin_indices = np.digitize(localtime_init_values, localtime_init_bin_edges)\n",
    "\n",
    "# Calculate the mean of the attribute for each time period bin\n",
    "mean_values = [np.mean(np.array(attribute_values_list)[bin_indices == i]) for i in range(1, len(localtime_init_bin_edges))]"
   ]
  },
  {
   "cell_type": "code",
   "execution_count": 57,
   "id": "1a609889-94df-4a1e-a9a5-d1aa4eba5457",
   "metadata": {},
   "outputs": [
    {
     "data": {
      "image/png": "[encoded data removed]",
      "text/plain": [
       "<Figure size 432x288 with 1 Axes>"
      ]
     },
     "metadata": {
      "needs_background": "light"
     },
     "output_type": "display_data"
    }
   ],
   "source": [
    "# Plot the mean values for each time period bin\n",
    "plt.bar(range(1, len(localtime_init_bin_edges)), mean_values)\n",
    "plt.xlabel('Time Period Bin')\n",
    "plt.ylabel('Mean ' + attribute)\n",
    "plt.title('Mean ' + attribute + ' over Time\\n{lon_min_subregion}:{lon_max_subregion}E,{lat_min_subregion}:{lat_max_subregion}N')\n",
    "plt.show()"
   ]
  },
  {
   "cell_type": "code",
   "execution_count": 58,
   "id": "1d7a282a-f146-4d29-a6c5-0ae13c8365b2",
   "metadata": {},
   "outputs": [
    {
     "data": {
      "image/png": "[encoded data removed]",
      "text/plain": [
       "<Figure size 432x288 with 1 Axes>"
      ]
     },
     "metadata": {
      "needs_background": "light"
     },
     "output_type": "display_data"
    }
   ],
   "source": [
    "# Plot the mean values for each time period bin\n",
    "plt.bar(localtime_init_bin_edges[1:], mean_values)\n",
    "plt.xlabel('localtime_Init')\n",
    "plt.ylabel('Mean ' + attribute)\n",
    "plt.title('Mean ' + attribute + ' over Time\\n{lon_min_subregion}:{lon_max_subregion}E,{lat_min_subregion}:{lat_max_subregion}N')\n",
    "\n",
    "# Set the x-axis tick labels\n",
    "plt.xticks(localtime_init_bin_edges[1:], rotation=45)\n",
    "\n",
    "plt.show()"
   ]
  },
  {
   "cell_type": "code",
   "execution_count": null,
   "id": "f717f8a4-9b1e-4d10-8002-bdbbe290f7ee",
   "metadata": {},
   "outputs": [],
   "source": []
  }
 ],
 "metadata": {
  "kernelspec": {
   "display_name": "Python 3",
   "language": "python",
   "name": "python3"
  },
  "language_info": {
   "codemirror_mode": {
    "name": "ipython",
    "version": 3
   },
   "file_extension": ".py",
   "mimetype": "text/x-python",
   "name": "python",
   "nbconvert_exporter": "python",
   "pygments_lexer": "ipython3",
   "version": "3.8.8"
  }
 },
 "nbformat": 4,
 "nbformat_minor": 5
}
