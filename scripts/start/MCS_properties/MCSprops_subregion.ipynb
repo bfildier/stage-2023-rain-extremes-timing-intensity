{
 "cells": [
  {
   "cell_type": "code",
   "execution_count": 81,
   "id": "01db9fdb-4c3d-4022-a741-16a3c1220035",
   "metadata": {},
   "outputs": [],
   "source": [
    "reload_toocan = False # part of code that takes long time"
   ]
  },
  {
   "cell_type": "markdown",
   "id": "22350de2-16af-465b-bb59-d2aea0cb6ea2",
   "metadata": {},
   "source": [
    "<span style=\"color:pink\">## choose subregion</span>"
   ]
  },
  {
   "cell_type": "code",
   "execution_count": 2,
   "id": "40356a56-0223-438c-943e-8c544df0cb24",
   "metadata": {},
   "outputs": [],
   "source": [
    "lon_min_subregion = 130\n",
    "lon_max_subregion = 165\n",
    "lat_min_subregion = 0\n",
    "lat_max_subregion = 20"
   ]
  },
  {
   "cell_type": "markdown",
   "id": "790c0ea0-91c9-4d7e-b67e-a642e92348b8",
   "metadata": {},
   "source": [
    "<span style=\"color:pink\">## choose attribute (listed in code below in toocan[0])</span>"
   ]
  },
  {
   "cell_type": "code",
   "execution_count": 3,
   "id": "1f4e5f6f-916b-482a-8551-9d54a04fdb64",
   "metadata": {},
   "outputs": [],
   "source": [
    "attribute = \"dist\""
   ]
  },
  {
   "cell_type": "markdown",
   "id": "6d247154-98c1-485f-ac3e-2d2610dfae07",
   "metadata": {},
   "source": [
    "<span style=\"color:pink\">## choose MCS index and attribute (when plotting a single MCS, which MCS do you want to look at? Which attribute?). attributes listed in code blow in under toocan[36].clusters</span>"
   ]
  },
  {
   "cell_type": "code",
   "execution_count": 4,
   "id": "64bc86ee-2cc7-4650-9b1d-63172e860b55",
   "metadata": {},
   "outputs": [],
   "source": [
    "MCS_idx = 0\n",
    "attribute_single_MCS = \"surfkm2_132Wm2\""
   ]
  },
  {
   "cell_type": "markdown",
   "id": "c7148622-e99a-45a4-8ed5-fadadf009866",
   "metadata": {},
   "source": [
    "<span style=\"color:pink\">## choose single timestep index for prec</span>"
   ]
  },
  {
   "cell_type": "code",
   "execution_count": 5,
   "id": "e101ba79-ae8b-4b1a-9ac2-df9542cd2a91",
   "metadata": {},
   "outputs": [],
   "source": [
    "prec_idx = 5"
   ]
  },
  {
   "cell_type": "markdown",
   "id": "bc62522b-eb49-4524-b3f9-0677a1df4c2c",
   "metadata": {},
   "source": [
    "<span style=\"color:pink\">## choose extreme percentile</span>"
   ]
  },
  {
   "cell_type": "code",
   "execution_count": 6,
   "id": "8571fa81-a140-44a5-88d0-990752847a13",
   "metadata": {},
   "outputs": [],
   "source": [
    "percentile = 99.999"
   ]
  },
  {
   "cell_type": "markdown",
   "id": "974d513a-3923-44e2-9709-026fb9e13eca",
   "metadata": {},
   "source": [
    "<span style=\"color:pink\">##</span>"
   ]
  },
  {
   "cell_type": "markdown",
   "id": "3e2523e0-9062-4746-a9ad-ff4431ec4026",
   "metadata": {},
   "source": [
    "# Imports"
   ]
  },
  {
   "cell_type": "code",
   "execution_count": 68,
   "id": "fb9b2e2a-d4f6-4baf-babb-d0a40fc14299",
   "metadata": {},
   "outputs": [],
   "source": [
    "%reload_ext autoreload\n",
    "%matplotlib inline"
   ]
  },
  {
   "cell_type": "code",
   "execution_count": 69,
   "id": "82e6a563-8bef-4aca-9014-6267f743f541",
   "metadata": {},
   "outputs": [],
   "source": [
    "%autoreload 2\n",
    "\n",
    "import sys,os,glob\n",
    "import psutil\n",
    "\n",
    "import matplotlib\n",
    "import matplotlib.pyplot as plt\n",
    "import numpy as np\n",
    "import xarray as xr\n",
    "import pandas as pd\n",
    "from pprint import pprint\n",
    "import datetime as dt\n",
    "\n",
    "\n",
    "from matplotlib.colors import LogNorm\n",
    "from matplotlib.gridspec import GridSpec\n",
    "import cartopy.crs as ccrs\n",
    "\n",
    "import datetime as dt\n",
    "import re\n",
    "import gc\n",
    "import matplotlib.animation as animation\n",
    "import warnings\n",
    "import pickle\n",
    "from scipy.interpolate import interp1d\n",
    "\n",
    "\n",
    "#-- Own settings\n",
    "\n",
    "sys.path.append('/home/gmaxemin/code/stage-2023-rain-extremes-timing-intensity/scripts/start')\n",
    "\n",
    "\n",
    "from my_functions import *\n",
    "from load_TOOCAN_DYAMOND_modif_BF import load_TOOCAN_DYAMOND"
   ]
  },
  {
   "cell_type": "markdown",
   "id": "cee1930f-a5e0-448b-9aca-93c5633a6206",
   "metadata": {},
   "source": [
    "# Paths"
   ]
  },
  {
   "cell_type": "code",
   "execution_count": 70,
   "id": "faeff351-59ec-4def-9b00-1eb1b9b0ec28",
   "metadata": {},
   "outputs": [],
   "source": [
    "# path = '/home/gmaxemin/windows/internship_g_maxemin/DYAMOND_REGIONS'\n",
    "toocan_path = \"/data/fiolleau/DYAMOND/TOOCAN/TOOCAN_v2.07/GLOBAL/2016/FileTracking\"\n",
    "# filename = 'TOOCAN-GLOBAL-20160801-20160831.dat.gz'\n",
    "toocan_filename = 'TOOCAN-GLOBAL-20160801-20160831.dat.gz'"
   ]
  },
  {
   "cell_type": "code",
   "execution_count": 71,
   "id": "677834c4-1181-4f0c-86be-82d6948c27a4",
   "metadata": {},
   "outputs": [
    {
     "name": "stdout",
     "output_type": "stream",
     "text": [
      "/data/bfildier/DYAMOND_REGIONS/130E_165E_0N_20N/SAM/2D\n"
     ]
    }
   ],
   "source": [
    "#-- Paths\n",
    "\n",
    "# DIR_DYAMOND (where DYAMOND data are)\n",
    "\n",
    "path_DYAMOND_REGIONS = '/data/bfildier/DYAMOND_REGIONS/'\n",
    "path_reg1_SAM = os.path.join(path_DYAMOND_REGIONS, \"130E_165E_0N_20N/SAM\")\n",
    "path_2D = os.path.join(path_reg1_SAM,'2D')\n",
    "\n",
    "DIR_DYAMOND = path_2D\n",
    "print(DIR_DYAMOND)\n",
    "\n",
    "# DIR_DATA (where segmentation relation table is)\n",
    "\n",
    "DIR_DATA = \"/home/gmaxemin/code/stage-2023-rain-extremes-timing-intensity/input/\""
   ]
  },
  {
   "cell_type": "code",
   "execution_count": 72,
   "id": "812a2cc3-2443-48f1-ae21-fa928c6531f3",
   "metadata": {},
   "outputs": [
    {
     "data": {
      "text/html": [
       "<div>\n",
       "<style scoped>\n",
       "    .dataframe tbody tr th:only-of-type {\n",
       "        vertical-align: middle;\n",
       "    }\n",
       "\n",
       "    .dataframe tbody tr th {\n",
       "        vertical-align: top;\n",
       "    }\n",
       "\n",
       "    .dataframe thead th {\n",
       "        text-align: right;\n",
       "    }\n",
       "</style>\n",
       "<table border=\"1\" class=\"dataframe\">\n",
       "  <thead>\n",
       "    <tr style=\"text-align: right;\">\n",
       "      <th></th>\n",
       "      <th>Unnamed: 0</th>\n",
       "      <th>Unnamed: 0.4</th>\n",
       "      <th>Unnamed: 0.3</th>\n",
       "      <th>Unnamed: 0.2</th>\n",
       "      <th>img_seg_path</th>\n",
       "      <th>str_code</th>\n",
       "      <th>Unnamed: 0.1</th>\n",
       "      <th>Unnamed: 0.1.1</th>\n",
       "      <th>year</th>\n",
       "      <th>month</th>\n",
       "      <th>day</th>\n",
       "      <th>hour</th>\n",
       "      <th>minute</th>\n",
       "      <th>path_dyamond</th>\n",
       "      <th>UTC</th>\n",
       "    </tr>\n",
       "  </thead>\n",
       "  <tbody>\n",
       "    <tr>\n",
       "      <th>0</th>\n",
       "      <td>476</td>\n",
       "      <td>476.0</td>\n",
       "      <td>476.0</td>\n",
       "      <td>476.0</td>\n",
       "      <td>data/fiolleau/DYAMOND/TOOCAN/TOOCAN_v2.07/GLOB...</td>\n",
       "      <td>2016-8-1-1-30</td>\n",
       "      <td>2.0</td>\n",
       "      <td>2.0</td>\n",
       "      <td>2016.0</td>\n",
       "      <td>8.0</td>\n",
       "      <td>1.0</td>\n",
       "      <td>1.0</td>\n",
       "      <td>30.0</td>\n",
       "      <td>DYAMOND_9216x4608x74_7.5s_4km_4608_0000000720</td>\n",
       "      <td>17014.03</td>\n",
       "    </tr>\n",
       "    <tr>\n",
       "      <th>1</th>\n",
       "      <td>443</td>\n",
       "      <td>443.0</td>\n",
       "      <td>443.0</td>\n",
       "      <td>443.0</td>\n",
       "      <td>data/fiolleau/DYAMOND/TOOCAN/TOOCAN_v2.07/GLOB...</td>\n",
       "      <td>2016-8-1-2-0</td>\n",
       "      <td>3.0</td>\n",
       "      <td>3.0</td>\n",
       "      <td>2016.0</td>\n",
       "      <td>8.0</td>\n",
       "      <td>1.0</td>\n",
       "      <td>2.0</td>\n",
       "      <td>0.0</td>\n",
       "      <td>DYAMOND_9216x4608x74_7.5s_4km_4608_0000000960</td>\n",
       "      <td>17014.04</td>\n",
       "    </tr>\n",
       "    <tr>\n",
       "      <th>2</th>\n",
       "      <td>468</td>\n",
       "      <td>468.0</td>\n",
       "      <td>468.0</td>\n",
       "      <td>468.0</td>\n",
       "      <td>data/fiolleau/DYAMOND/TOOCAN/TOOCAN_v2.07/GLOB...</td>\n",
       "      <td>2016-8-1-2-30</td>\n",
       "      <td>4.0</td>\n",
       "      <td>4.0</td>\n",
       "      <td>2016.0</td>\n",
       "      <td>8.0</td>\n",
       "      <td>1.0</td>\n",
       "      <td>2.0</td>\n",
       "      <td>30.0</td>\n",
       "      <td>DYAMOND_9216x4608x74_7.5s_4km_4608_0000001200</td>\n",
       "      <td>17014.05</td>\n",
       "    </tr>\n",
       "    <tr>\n",
       "      <th>3</th>\n",
       "      <td>432</td>\n",
       "      <td>432.0</td>\n",
       "      <td>432.0</td>\n",
       "      <td>432.0</td>\n",
       "      <td>data/fiolleau/DYAMOND/TOOCAN/TOOCAN_v2.07/GLOB...</td>\n",
       "      <td>2016-8-1-3-0</td>\n",
       "      <td>5.0</td>\n",
       "      <td>5.0</td>\n",
       "      <td>2016.0</td>\n",
       "      <td>8.0</td>\n",
       "      <td>1.0</td>\n",
       "      <td>3.0</td>\n",
       "      <td>0.0</td>\n",
       "      <td>DYAMOND_9216x4608x74_7.5s_4km_4608_0000001440</td>\n",
       "      <td>17014.06</td>\n",
       "    </tr>\n",
       "    <tr>\n",
       "      <th>4</th>\n",
       "      <td>437</td>\n",
       "      <td>437.0</td>\n",
       "      <td>437.0</td>\n",
       "      <td>437.0</td>\n",
       "      <td>data/fiolleau/DYAMOND/TOOCAN/TOOCAN_v2.07/GLOB...</td>\n",
       "      <td>2016-8-1-3-30</td>\n",
       "      <td>6.0</td>\n",
       "      <td>6.0</td>\n",
       "      <td>2016.0</td>\n",
       "      <td>8.0</td>\n",
       "      <td>1.0</td>\n",
       "      <td>3.0</td>\n",
       "      <td>30.0</td>\n",
       "      <td>DYAMOND_9216x4608x74_7.5s_4km_4608_0000001680</td>\n",
       "      <td>17014.07</td>\n",
       "    </tr>\n",
       "    <tr>\n",
       "      <th>...</th>\n",
       "      <td>...</td>\n",
       "      <td>...</td>\n",
       "      <td>...</td>\n",
       "      <td>...</td>\n",
       "      <td>...</td>\n",
       "      <td>...</td>\n",
       "      <td>...</td>\n",
       "      <td>...</td>\n",
       "      <td>...</td>\n",
       "      <td>...</td>\n",
       "      <td>...</td>\n",
       "      <td>...</td>\n",
       "      <td>...</td>\n",
       "      <td>...</td>\n",
       "      <td>...</td>\n",
       "    </tr>\n",
       "    <tr>\n",
       "      <th>1914</th>\n",
       "      <td>1295</td>\n",
       "      <td>1295.0</td>\n",
       "      <td>1295.0</td>\n",
       "      <td>1295.0</td>\n",
       "      <td>data/fiolleau/DYAMOND/TOOCAN/TOOCAN_v2.07/GLOB...</td>\n",
       "      <td>2016-9-9-22-30</td>\n",
       "      <td>1916.0</td>\n",
       "      <td>1916.0</td>\n",
       "      <td>2016.0</td>\n",
       "      <td>9.0</td>\n",
       "      <td>9.0</td>\n",
       "      <td>22.0</td>\n",
       "      <td>30.0</td>\n",
       "      <td>DYAMOND_9216x4608x74_7.5s_4km_4608_0000460080</td>\n",
       "      <td>17053.45</td>\n",
       "    </tr>\n",
       "    <tr>\n",
       "      <th>1915</th>\n",
       "      <td>1315</td>\n",
       "      <td>1315.0</td>\n",
       "      <td>1315.0</td>\n",
       "      <td>1315.0</td>\n",
       "      <td>data/fiolleau/DYAMOND/TOOCAN/TOOCAN_v2.07/GLOB...</td>\n",
       "      <td>2016-9-9-23-0</td>\n",
       "      <td>1917.0</td>\n",
       "      <td>1917.0</td>\n",
       "      <td>2016.0</td>\n",
       "      <td>9.0</td>\n",
       "      <td>9.0</td>\n",
       "      <td>23.0</td>\n",
       "      <td>0.0</td>\n",
       "      <td>DYAMOND_9216x4608x74_7.5s_4km_4608_0000460320</td>\n",
       "      <td>17053.46</td>\n",
       "    </tr>\n",
       "    <tr>\n",
       "      <th>1916</th>\n",
       "      <td>1313</td>\n",
       "      <td>1313.0</td>\n",
       "      <td>1313.0</td>\n",
       "      <td>1313.0</td>\n",
       "      <td>data/fiolleau/DYAMOND/TOOCAN/TOOCAN_v2.07/GLOB...</td>\n",
       "      <td>2016-9-9-23-30</td>\n",
       "      <td>1918.0</td>\n",
       "      <td>1918.0</td>\n",
       "      <td>2016.0</td>\n",
       "      <td>9.0</td>\n",
       "      <td>9.0</td>\n",
       "      <td>23.0</td>\n",
       "      <td>30.0</td>\n",
       "      <td>DYAMOND_9216x4608x74_7.5s_4km_4608_0000460560</td>\n",
       "      <td>17053.47</td>\n",
       "    </tr>\n",
       "    <tr>\n",
       "      <th>1917</th>\n",
       "      <td>1304</td>\n",
       "      <td>1304.0</td>\n",
       "      <td>1304.0</td>\n",
       "      <td>1304.0</td>\n",
       "      <td>data/fiolleau/DYAMOND/TOOCAN/TOOCAN_v2.07/GLOB...</td>\n",
       "      <td>2016-9-10-0-0</td>\n",
       "      <td>1919.0</td>\n",
       "      <td>1919.0</td>\n",
       "      <td>2016.0</td>\n",
       "      <td>9.0</td>\n",
       "      <td>10.0</td>\n",
       "      <td>0.0</td>\n",
       "      <td>0.0</td>\n",
       "      <td>DYAMOND_9216x4608x74_7.5s_4km_4608_0000460800</td>\n",
       "      <td>17053.48</td>\n",
       "    </tr>\n",
       "    <tr>\n",
       "      <th>1918</th>\n",
       "      <td>1919</td>\n",
       "      <td>NaN</td>\n",
       "      <td>NaN</td>\n",
       "      <td>NaN</td>\n",
       "      <td>NaN</td>\n",
       "      <td>NaN</td>\n",
       "      <td>NaN</td>\n",
       "      <td>NaN</td>\n",
       "      <td>NaN</td>\n",
       "      <td>NaN</td>\n",
       "      <td>NaN</td>\n",
       "      <td>NaN</td>\n",
       "      <td>NaN</td>\n",
       "      <td>NaN</td>\n",
       "      <td>17054.01</td>\n",
       "    </tr>\n",
       "  </tbody>\n",
       "</table>\n",
       "<p>1919 rows × 15 columns</p>\n",
       "</div>"
      ],
      "text/plain": [
       "      Unnamed: 0  Unnamed: 0.4  Unnamed: 0.3  Unnamed: 0.2  \\\n",
       "0            476         476.0         476.0         476.0   \n",
       "1            443         443.0         443.0         443.0   \n",
       "2            468         468.0         468.0         468.0   \n",
       "3            432         432.0         432.0         432.0   \n",
       "4            437         437.0         437.0         437.0   \n",
       "...          ...           ...           ...           ...   \n",
       "1914        1295        1295.0        1295.0        1295.0   \n",
       "1915        1315        1315.0        1315.0        1315.0   \n",
       "1916        1313        1313.0        1313.0        1313.0   \n",
       "1917        1304        1304.0        1304.0        1304.0   \n",
       "1918        1919           NaN           NaN           NaN   \n",
       "\n",
       "                                           img_seg_path        str_code  \\\n",
       "0     data/fiolleau/DYAMOND/TOOCAN/TOOCAN_v2.07/GLOB...   2016-8-1-1-30   \n",
       "1     data/fiolleau/DYAMOND/TOOCAN/TOOCAN_v2.07/GLOB...    2016-8-1-2-0   \n",
       "2     data/fiolleau/DYAMOND/TOOCAN/TOOCAN_v2.07/GLOB...   2016-8-1-2-30   \n",
       "3     data/fiolleau/DYAMOND/TOOCAN/TOOCAN_v2.07/GLOB...    2016-8-1-3-0   \n",
       "4     data/fiolleau/DYAMOND/TOOCAN/TOOCAN_v2.07/GLOB...   2016-8-1-3-30   \n",
       "...                                                 ...             ...   \n",
       "1914  data/fiolleau/DYAMOND/TOOCAN/TOOCAN_v2.07/GLOB...  2016-9-9-22-30   \n",
       "1915  data/fiolleau/DYAMOND/TOOCAN/TOOCAN_v2.07/GLOB...   2016-9-9-23-0   \n",
       "1916  data/fiolleau/DYAMOND/TOOCAN/TOOCAN_v2.07/GLOB...  2016-9-9-23-30   \n",
       "1917  data/fiolleau/DYAMOND/TOOCAN/TOOCAN_v2.07/GLOB...   2016-9-10-0-0   \n",
       "1918                                                NaN             NaN   \n",
       "\n",
       "      Unnamed: 0.1  Unnamed: 0.1.1    year  month   day  hour  minute  \\\n",
       "0              2.0             2.0  2016.0    8.0   1.0   1.0    30.0   \n",
       "1              3.0             3.0  2016.0    8.0   1.0   2.0     0.0   \n",
       "2              4.0             4.0  2016.0    8.0   1.0   2.0    30.0   \n",
       "3              5.0             5.0  2016.0    8.0   1.0   3.0     0.0   \n",
       "4              6.0             6.0  2016.0    8.0   1.0   3.0    30.0   \n",
       "...            ...             ...     ...    ...   ...   ...     ...   \n",
       "1914        1916.0          1916.0  2016.0    9.0   9.0  22.0    30.0   \n",
       "1915        1917.0          1917.0  2016.0    9.0   9.0  23.0     0.0   \n",
       "1916        1918.0          1918.0  2016.0    9.0   9.0  23.0    30.0   \n",
       "1917        1919.0          1919.0  2016.0    9.0  10.0   0.0     0.0   \n",
       "1918           NaN             NaN     NaN    NaN   NaN   NaN     NaN   \n",
       "\n",
       "                                       path_dyamond       UTC  \n",
       "0     DYAMOND_9216x4608x74_7.5s_4km_4608_0000000720  17014.03  \n",
       "1     DYAMOND_9216x4608x74_7.5s_4km_4608_0000000960  17014.04  \n",
       "2     DYAMOND_9216x4608x74_7.5s_4km_4608_0000001200  17014.05  \n",
       "3     DYAMOND_9216x4608x74_7.5s_4km_4608_0000001440  17014.06  \n",
       "4     DYAMOND_9216x4608x74_7.5s_4km_4608_0000001680  17014.07  \n",
       "...                                             ...       ...  \n",
       "1914  DYAMOND_9216x4608x74_7.5s_4km_4608_0000460080  17053.45  \n",
       "1915  DYAMOND_9216x4608x74_7.5s_4km_4608_0000460320  17053.46  \n",
       "1916  DYAMOND_9216x4608x74_7.5s_4km_4608_0000460560  17053.47  \n",
       "1917  DYAMOND_9216x4608x74_7.5s_4km_4608_0000460800  17053.48  \n",
       "1918                                            NaN  17054.01  \n",
       "\n",
       "[1919 rows x 15 columns]"
      ]
     },
     "execution_count": 72,
     "metadata": {},
     "output_type": "execute_result"
    }
   ],
   "source": [
    "# Load relation table DYAMOND-TOOCAN\n",
    "filename_table = 'relation_2_table_UTC_dyamond_segmentation.csv'\n",
    "# load\n",
    "df = pd.read_csv(os.path.join('/home/gmaxemin/code/stage-2023-rain-extremes-timing-intensity/scripts',filename_table))\n",
    "# sort\n",
    "df.sort_values(by='UTC',ignore_index=True,inplace=True)\n",
    "# show\n",
    "df"
   ]
  },
  {
   "cell_type": "markdown",
   "id": "e36240ef-309e-4f0d-a787-fbe68efab5f0",
   "metadata": {},
   "source": [
    "# Load Toocan Data"
   ]
  },
  {
   "cell_type": "code",
   "execution_count": 73,
   "id": "29878619-f5c7-46ae-b4be-03e6d18260ae",
   "metadata": {},
   "outputs": [],
   "source": [
    "if reload_toocan == True:\n",
    "    toocan = load_TOOCAN_DYAMOND(os.path.join(toocan_path,toocan_filename))"
   ]
  },
  {
   "cell_type": "code",
   "execution_count": 74,
   "id": "03cf746d-792e-40bc-8d26-aece83bdb765",
   "metadata": {},
   "outputs": [],
   "source": [
    "#- redefining toocan for subregion\n",
    "\n",
    "filtered_toocan = []\n",
    "\n",
    "for obj in toocan:\n",
    "    # Check if the object is within the desired region\n",
    "    if (\n",
    "        obj.lonmin <= lon_max_subregion\n",
    "        and obj.lonmax >= lon_min_subregion\n",
    "        and obj.latmin <= lat_max_subregion\n",
    "        and obj.latmax >= lat_min_subregion\n",
    "    ):\n",
    "        # Check and modify lonmin\n",
    "        if obj.lonmin < lon_min_subregion:\n",
    "            obj.lonmin = lon_min_subregion\n",
    "        if obj.lonmin > lon_max_subregion:\n",
    "            obj.lonmin = lon_max_subregion\n",
    "\n",
    "        # Check and modify lonmax\n",
    "        if obj.lonmax < lon_min_subregion:\n",
    "            obj.lonmax = lon_min_subregion\n",
    "        if obj.lonmax > lon_max_subregion:\n",
    "            obj.lonmax = lon_max_subregion\n",
    "\n",
    "        # Check and modify latmin\n",
    "        if obj.latmin < lat_min_subregion:\n",
    "            obj.latmin = lat_min_subregion\n",
    "        if obj.latmin > lat_max_subregion:\n",
    "            obj.latmin = lat_max_subregion\n",
    "\n",
    "        # Check and modify latmax\n",
    "        if obj.latmax < lat_min_subregion:\n",
    "            obj.latmax = lat_min_subregion\n",
    "        if obj.latmax > lat_max_subregion:\n",
    "            obj.latmax = lat_max_subregion\n",
    "            \n",
    "        filtered_toocan.append(obj)\n",
    "\n",
    "toocan = filtered_toocan"
   ]
  },
  {
   "cell_type": "markdown",
   "id": "6b02d911-9ad5-4640-a9f3-6d32e4992722",
   "metadata": {},
   "source": [
    "# Convert dates"
   ]
  },
  {
   "cell_type": "code",
   "execution_count": 75,
   "id": "e3ac9926-5802-40fc-a247-65d86c5ebfb1",
   "metadata": {},
   "outputs": [],
   "source": [
    "data_reference = dt.datetime(1970, 1, 1)"
   ]
  },
  {
   "cell_type": "code",
   "execution_count": 76,
   "id": "c1b881ea-8440-4fe3-a9a9-b2e3b031a9fb",
   "metadata": {},
   "outputs": [],
   "source": [
    "def convertSingleDate(unconverted_date):\n",
    "    unconverted_date = str(unconverted_date)\n",
    "    date_split = unconverted_date.split('.')\n",
    "    \n",
    "    if len(date_split[1]) == 1: # adding a zero in case of \"1704.1\", \"1704.2\", etc so that \"1\",\"2\" are interpreted as \"10\",\"20\"\n",
    "        date_split[1] = date_split[1] + '0'\n",
    "    \n",
    "    date_converted = data_reference + dt.timedelta(days=int(date_split[0])) + dt.timedelta(hours=( int(date_split[1]) / 2) )\n",
    "    return date_converted\n",
    "\n",
    "def convertDate(attribute, data): # Does not work with localtime_Init or localtime_End\n",
    "    dates_list = []\n",
    "    for obj in data:\n",
    "        date = str( getattr(obj, attribute) ) \n",
    "        date_split = date.split('.')\n",
    "        \n",
    "        if len(date_split[1]) == 1: # adding a zero in case of \"1704.1\", \"1704.2\", etc so that \"1\",\"2\" are interpreted as \"10\",\"20\"\n",
    "            date_split[1] = date_split[1] + '0'\n",
    "        \n",
    "        date_converted = data_reference + dt.timedelta(days=int(date_split[0])) + dt.timedelta(hours=( int(date_split[1]) / 2) )\n",
    "        dates_list.append(date_converted)    \n",
    "    return dates_list\n",
    "\n",
    "def convertDateCluster(attribute, data): # Does not work with Localtime\n",
    "    date_list_final = []\n",
    "    for obj in data:\n",
    "        date_list_0 = getattr(obj.clusters, attribute)\n",
    "        date_list_1 = []\n",
    "        for time in date_list_0:\n",
    "            date = str(time)\n",
    "            date_split = date.split('.')\n",
    "            \n",
    "            if len(date_split[1]) == 1: # adding a zero in case of \"1704.1\", \"1704.2\", etc so that \"1\",\"2\" are interpreted as \"10\",\"20\"\n",
    "                date_split[1] = date_split[1] + '0'\n",
    "            \n",
    "            date_converted = data_reference + dt.timedelta(days=int(date_split[0])) + dt.timedelta(hours=( int(date_split[1]) / 2) )\n",
    "            date_list_1.append(date_converted)\n",
    "        date_list_final.append(date_list_1)\n",
    "    return date_list_final\n",
    "\n",
    "def attr_list(data, attr_name):\n",
    "    # Extract the attribute values from the data\n",
    "    attribute_values = [getattr(obj, attr_name) for obj in data]\n",
    "    return attribute_values\n",
    "\n",
    "def binTimeData_by_mins(data, bins, n_min):\n",
    "    count_per_bin = [0] * len(bins)\n",
    "    # iterate over each value in data\n",
    "    for d in data:\n",
    "        # find the index of the first bin that the value falls into\n",
    "        bin_index = np.where((d >= bins) & (d < bins + pd.Timedelta(minutes=n_min)))[0]\n",
    "        if bin_index:\n",
    "            count_per_bin[bin_index[0]] += 1  # increment count\n",
    "    \n",
    "    return count_per_bin\n",
    "\n",
    "def binTimeData_by_step(data, bins, step):\n",
    "    count_per_bin = [0] * len(bins)\n",
    "    \n",
    "    # iterate over each value in data\n",
    "    for d in data:\n",
    "        # find the index of the first bin that the value falls into\n",
    "        bin_index = np.where((d >= bins) & (d < bins + step))[0]\n",
    "        if bin_index:\n",
    "            count_per_bin[bin_index[0]] += 1  # increment count\n",
    "    \n",
    "    return count_per_bin"
   ]
  },
  {
   "cell_type": "code",
   "execution_count": 106,
   "id": "edf8c285-20b2-4c83-85dd-27bcf0390260",
   "metadata": {},
   "outputs": [],
   "source": [
    "Utime_Init_list = convertDate(\"Utime_Init\", toocan)\n",
    "Utime_End_list = convertDate(\"Utime_End\", toocan)\n",
    "\n",
    "Utime_list = convertDateCluster(\"Utime\", toocan)"
   ]
  },
  {
   "cell_type": "markdown",
   "id": "dff4d55e-5490-4f14-8c03-fa3cc05a59c7",
   "metadata": {},
   "source": [
    "# MCS attribute histogram"
   ]
  },
  {
   "cell_type": "markdown",
   "id": "126c3ee9-4442-4602-b761-3c822e0804de",
   "metadata": {},
   "source": [
    "<span style=\"color:pink\">## choose number of bins</span>"
   ]
  },
  {
   "cell_type": "code",
   "execution_count": 107,
   "id": "e0c47cc5-1b1e-4b55-8879-9cd701dc4312",
   "metadata": {},
   "outputs": [],
   "source": [
    "nbins = 80"
   ]
  },
  {
   "cell_type": "markdown",
   "id": "11dc391d-287b-433d-b2e4-0b51cadc27b8",
   "metadata": {},
   "source": [
    "<span style=\"color:pink\">##</span>"
   ]
  },
  {
   "cell_type": "code",
   "execution_count": 108,
   "id": "bee37437-dfd7-4704-8d98-2a4b11603be1",
   "metadata": {},
   "outputs": [],
   "source": [
    "# print(attribute)\n",
    "attribute_list = attr_list(toocan, attribute)"
   ]
  },
  {
   "cell_type": "code",
   "execution_count": 109,
   "id": "cba55683-3e33-431d-a052-a693fd4f9518",
   "metadata": {},
   "outputs": [
    {
     "data": {
      "image/png": "[encoded data removed]",
      "text/plain": [
       "<Figure size 432x288 with 1 Axes>"
      ]
     },
     "metadata": {
      "needs_background": "light"
     },
     "output_type": "display_data"
    }
   ],
   "source": [
    "hist, bin_edges, _ = plt.hist(attribute_list, bins=nbins)\n",
    "plt.xlabel(attribute)\n",
    "plt.ylabel(\"Counts\")\n",
    "plt.xticks(rotation=45)\n",
    "plt.title(f\"TOOCAN MCS {attribute} counts\\n{lon_min_subregion}:{lon_max_subregion}E, {lat_min_subregion}:{lat_max_subregion}N\")\n",
    "plt.show()\n",
    "# plt.savefig(f'histograms/TOOCAN_{attribute}_hist_test.png')"
   ]
  },
  {
   "cell_type": "markdown",
   "id": "029f018e-fd07-416a-9c69-8d3176907444",
   "metadata": {},
   "source": [
    "# Variable mean for each binned timestep\n",
    "* note: for plot of mean, the xlabel for each bar is of the upper bin edge"
   ]
  },
  {
   "cell_type": "code",
   "execution_count": 142,
   "id": "f1dd6fef-17da-4030-8c2a-c9157d1ee860",
   "metadata": {},
   "outputs": [
    {
     "data": {
      "image/png": "[encoded data removed]",
      "text/plain": [
       "<Figure size 432x288 with 1 Axes>"
      ]
     },
     "metadata": {
      "needs_background": "light"
     },
     "output_type": "display_data"
    }
   ],
   "source": [
    "#-- binning times\n",
    "\n",
    "Utime_Init_hist, Utime_Init_bin_edges, Utime_Init__ = plt.hist(Utime_Init_list, bins=nbins)\n",
    "plt.xlabel(\"Utime_Init\")\n",
    "plt.ylabel(\"Counts\")\n",
    "plt.title(f\"TOOCAN MCS Utime_Init counts\\n{lon_min_subregion}:{lon_max_subregion}E, {lat_min_subregion}:{lat_max_subregion}N\")\n",
    "plt.show()"
   ]
  },
  {
   "cell_type": "markdown",
   "id": "f767eb02-460a-4f35-b056-04f889c351b3",
   "metadata": {},
   "source": [
    "# Variable over time"
   ]
  },
  {
   "cell_type": "code",
   "execution_count": 112,
   "id": "b8c8fa2d-5a55-429b-b92d-c5e6ad865a9a",
   "metadata": {},
   "outputs": [
    {
     "data": {
      "image/png": "[encoded data removed]",
      "text/plain": [
       "<Figure size 432x288 with 1 Axes>"
      ]
     },
     "metadata": {
      "needs_background": "light"
     },
     "output_type": "display_data"
    }
   ],
   "source": [
    "plt.scatter(Utime_Init_list, attribute_list, s=0.05)\n",
    "plt.xticks(rotation=45)\n",
    "plt.xlabel(\"Time\")\n",
    "plt.ylabel(f\"{attribute}\")\n",
    "plt.title(f\"TOOCAN MCS {attribute} over time\")\n",
    "plt.show()"
   ]
  },
  {
   "cell_type": "markdown",
   "id": "ad2e5119-aebb-42f5-9b6d-2a6eb85fa7d3",
   "metadata": {},
   "source": [
    "# (Line graphs) Variable mean for each timestep"
   ]
  },
  {
   "cell_type": "code",
   "execution_count": 95,
   "id": "075ce5bb-5b14-44f1-8cf6-6bf9de7b5c4f",
   "metadata": {},
   "outputs": [],
   "source": [
    "# Extract the values of the attribute from the objects\n",
    "attribute_values_list = attr_list(toocan, attribute)"
   ]
  },
  {
   "cell_type": "code",
   "execution_count": 96,
   "id": "974863d6-b62f-426e-a236-74aedde7fb59",
   "metadata": {},
   "outputs": [],
   "source": [
    "# Convert the lists to NumPy arrays for easier manipulation\n",
    "Utime_Init_list = np.array(Utime_Init_list)\n",
    "attribute_values_list = np.array(attribute_values_list)"
   ]
  },
  {
   "cell_type": "code",
   "execution_count": 143,
   "id": "094da5f2-b5b7-4384-a903-76b5f13651da",
   "metadata": {},
   "outputs": [
    {
     "data": {
      "image/png": "[encoded data removed]",
      "text/plain": [
       "<Figure size 432x288 with 1 Axes>"
      ]
     },
     "metadata": {
      "needs_background": "light"
     },
     "output_type": "display_data"
    }
   ],
   "source": [
    "# Plot the  values against the unique dates\n",
    "plt.plot(Utime_Init_list, attribute_values_list)\n",
    "\n",
    "plt.xticks(rotation=45)\n",
    "# Set labels and title\n",
    "plt.xlabel('Time')\n",
    "plt.ylabel(attribute)\n",
    "plt.title(attribute + ' over Time')\n",
    "\n",
    "# Display the plot\n",
    "plt.show()"
   ]
  },
  {
   "cell_type": "code",
   "execution_count": 114,
   "id": "a28a0d31-68c7-444c-8b81-e14a53986005",
   "metadata": {},
   "outputs": [
    {
     "data": {
      "image/png": "[encoded data removed]",
      "text/plain": [
       "<Figure size 432x288 with 1 Axes>"
      ]
     },
     "metadata": {
      "needs_background": "light"
     },
     "output_type": "display_data"
    },
    {
     "name": "stdout",
     "output_type": "stream",
     "text": [
      "285\n"
     ]
    }
   ],
   "source": [
    "# convert Utime_Init_list to timestamps in seconds\n",
    "timestamps = np.array([(date - dt.datetime(1970, 1, 1)).total_seconds() for date in Utime_Init_list])\n",
    "\n",
    "# interval in seconds\n",
    "interval_seconds = 1 * 60 * 60  # 1 hour\n",
    "\n",
    "# average attribute values for each time interval\n",
    "averaged_values = []\n",
    "start_time = timestamps[0]\n",
    "sum_values = 0\n",
    "count = 0\n",
    "\n",
    "end_interval_times = []\n",
    "\n",
    "for timestamp, value in zip(timestamps, attribute_values_list):\n",
    "    if timestamp - start_time <= interval_seconds:\n",
    "        sum_values += value\n",
    "        count += 1\n",
    "    else:\n",
    "        averaged_values.append(sum_values / count)\n",
    "        sum_values = value\n",
    "        count = 1\n",
    "        start_time = timestamp\n",
    "        end_interval_times.append(timestamp)\n",
    "\n",
    "# append the average of the last interval\n",
    "averaged_values.append(sum_values / count)\n",
    "end_interval_times.append(timestamp)\n",
    "\n",
    "\n",
    "# convert end_interval_times to datetime\n",
    "end_interval_times = [dt.datetime.fromtimestamp(timestamp) for timestamp in end_interval_times]\n",
    "plt.plot(end_interval_times, averaged_values)\n",
    "\n",
    "plt.xticks(rotation=45)\n",
    "plt.xlabel('Time')\n",
    "plt.ylabel('Average ' + attribute)\n",
    "plt.title('Average ' + attribute + ' over Time')\n",
    "plt.show()\n",
    "print(len(averaged_values))"
   ]
  },
  {
   "cell_type": "markdown",
   "id": "e4c88e81-2eab-442a-9106-6183e5da9a03",
   "metadata": {},
   "source": [
    "# One MCS attribute over time"
   ]
  },
  {
   "cell_type": "code",
   "execution_count": 127,
   "id": "034c67c9-c637-48e2-9370-4cef04425c87",
   "metadata": {},
   "outputs": [],
   "source": [
    "#- data spaced out in 30-minute intervals\n",
    "MCS_attr = getattr(toocan[MCS_idx].clusters, attribute_single_MCS)"
   ]
  },
  {
   "cell_type": "code",
   "execution_count": 129,
   "id": "1268b448-8b59-4d15-ae73-a7fdd3059fe5",
   "metadata": {},
   "outputs": [
    {
     "data": {
      "image/png": "[encoded data removed]",
      "text/plain": [
       "<Figure size 432x288 with 1 Axes>"
      ]
     },
     "metadata": {
      "needs_background": "light"
     },
     "output_type": "display_data"
    }
   ],
   "source": [
    "#-- Plot\n",
    "\n",
    "# Create a figure and axes\n",
    "fig, ax = plt.subplots()\n",
    "\n",
    "plt.plot(Utime_list[MCS_idx], MCS_attr)\n",
    "\n",
    "plt.xticks(rotation=45)\n",
    "ax.set_xlabel(f'{attribute_single_MCS}')\n",
    "plt.ylabel(attribute)\n",
    "plt.title(f\"MCS label {toocan[MCS_idx].label}\\n{attribute_single_MCS} over Time\")\n",
    "\n",
    "\n",
    "plt.show()"
   ]
  },
  {
   "cell_type": "markdown",
   "id": "3821c3cc-8049-4d5d-81a8-45420fd6d921",
   "metadata": {},
   "source": [
    "# Evolution of MCS linked to extreme precipitation\n",
    "1. Select MCS tied to extreme precip.\n",
    "2. Trace birth of MCS\n",
    "3. Plot time series of MCS variable"
   ]
  },
  {
   "cell_type": "markdown",
   "id": "4c54c7f9-632a-4aad-a9ba-55bad3edec3f",
   "metadata": {},
   "source": [
    "### single timestep"
   ]
  },
  {
   "cell_type": "code",
   "execution_count": 131,
   "id": "1c590c86-51aa-4e99-96e6-15f243a416c3",
   "metadata": {},
   "outputs": [],
   "source": [
    "prec = loadPrec(prec_idx,df)\n",
    "# Replace negative values with NaN\n",
    "prec = xr.where(prec < 0, np.nan, prec)"
   ]
  },
  {
   "cell_type": "code",
   "execution_count": 132,
   "id": "661249a7-822f-403a-9d58-c085a8ffb39a",
   "metadata": {},
   "outputs": [
    {
     "data": {
      "text/html": [
       "<div><svg style=\"position: absolute; width: 0; height: 0; overflow: hidden\">\n",
       "<defs>\n",
       "<symbol id=\"icon-database\" viewBox=\"0 0 32 32\">\n",
       "<path d=\"M16 0c-8.837 0-16 2.239-16 5v4c0 2.761 7.163 5 16 5s16-2.239 16-5v-4c0-2.761-7.163-5-16-5z\"></path>\n",
       "<path d=\"M16 17c-8.837 0-16-2.239-16-5v6c0 2.761 7.163 5 16 5s16-2.239 16-5v-6c0 2.761-7.163 5-16 5z\"></path>\n",
       "<path d=\"M16 26c-8.837 0-16-2.239-16-5v6c0 2.761 7.163 5 16 5s16-2.239 16-5v-6c0 2.761-7.163 5-16 5z\"></path>\n",
       "</symbol>\n",
       "<symbol id=\"icon-file-text2\" viewBox=\"0 0 32 32\">\n",
       "<path d=\"M28.681 7.159c-0.694-0.947-1.662-2.053-2.724-3.116s-2.169-2.030-3.116-2.724c-1.612-1.182-2.393-1.319-2.841-1.319h-15.5c-1.378 0-2.5 1.121-2.5 2.5v27c0 1.378 1.122 2.5 2.5 2.5h23c1.378 0 2.5-1.122 2.5-2.5v-19.5c0-0.448-0.137-1.23-1.319-2.841zM24.543 5.457c0.959 0.959 1.712 1.825 2.268 2.543h-4.811v-4.811c0.718 0.556 1.584 1.309 2.543 2.268zM28 29.5c0 0.271-0.229 0.5-0.5 0.5h-23c-0.271 0-0.5-0.229-0.5-0.5v-27c0-0.271 0.229-0.5 0.5-0.5 0 0 15.499-0 15.5 0v7c0 0.552 0.448 1 1 1h7v19.5z\"></path>\n",
       "<path d=\"M23 26h-14c-0.552 0-1-0.448-1-1s0.448-1 1-1h14c0.552 0 1 0.448 1 1s-0.448 1-1 1z\"></path>\n",
       "<path d=\"M23 22h-14c-0.552 0-1-0.448-1-1s0.448-1 1-1h14c0.552 0 1 0.448 1 1s-0.448 1-1 1z\"></path>\n",
       "<path d=\"M23 18h-14c-0.552 0-1-0.448-1-1s0.448-1 1-1h14c0.552 0 1 0.448 1 1s-0.448 1-1 1z\"></path>\n",
       "</symbol>\n",
       "</defs>\n",
       "</svg>\n",
       "<style>/* CSS stylesheet for displaying xarray objects in jupyterlab.\n",
       " *\n",
       " */\n",
       "\n",
       ":root {\n",
       "  --xr-font-color0: var(--jp-content-font-color0, rgba(0, 0, 0, 1));\n",
       "  --xr-font-color2: var(--jp-content-font-color2, rgba(0, 0, 0, 0.54));\n",
       "  --xr-font-color3: var(--jp-content-font-color3, rgba(0, 0, 0, 0.38));\n",
       "  --xr-border-color: var(--jp-border-color2, #e0e0e0);\n",
       "  --xr-disabled-color: var(--jp-layout-color3, #bdbdbd);\n",
       "  --xr-background-color: var(--jp-layout-color0, white);\n",
       "  --xr-background-color-row-even: var(--jp-layout-color1, white);\n",
       "  --xr-background-color-row-odd: var(--jp-layout-color2, #eeeeee);\n",
       "}\n",
       "\n",
       "html[theme=dark],\n",
       "body.vscode-dark {\n",
       "  --xr-font-color0: rgba(255, 255, 255, 1);\n",
       "  --xr-font-color2: rgba(255, 255, 255, 0.54);\n",
       "  --xr-font-color3: rgba(255, 255, 255, 0.38);\n",
       "  --xr-border-color: #1F1F1F;\n",
       "  --xr-disabled-color: #515151;\n",
       "  --xr-background-color: #111111;\n",
       "  --xr-background-color-row-even: #111111;\n",
       "  --xr-background-color-row-odd: #313131;\n",
       "}\n",
       "\n",
       ".xr-wrap {\n",
       "  display: block;\n",
       "  min-width: 300px;\n",
       "  max-width: 700px;\n",
       "}\n",
       "\n",
       ".xr-text-repr-fallback {\n",
       "  /* fallback to plain text repr when CSS is not injected (untrusted notebook) */\n",
       "  display: none;\n",
       "}\n",
       "\n",
       ".xr-header {\n",
       "  padding-top: 6px;\n",
       "  padding-bottom: 6px;\n",
       "  margin-bottom: 4px;\n",
       "  border-bottom: solid 1px var(--xr-border-color);\n",
       "}\n",
       "\n",
       ".xr-header > div,\n",
       ".xr-header > ul {\n",
       "  display: inline;\n",
       "  margin-top: 0;\n",
       "  margin-bottom: 0;\n",
       "}\n",
       "\n",
       ".xr-obj-type,\n",
       ".xr-array-name {\n",
       "  margin-left: 2px;\n",
       "  margin-right: 10px;\n",
       "}\n",
       "\n",
       ".xr-obj-type {\n",
       "  color: var(--xr-font-color2);\n",
       "}\n",
       "\n",
       ".xr-sections {\n",
       "  padding-left: 0 !important;\n",
       "  display: grid;\n",
       "  grid-template-columns: 150px auto auto 1fr 20px 20px;\n",
       "}\n",
       "\n",
       ".xr-section-item {\n",
       "  display: contents;\n",
       "}\n",
       "\n",
       ".xr-section-item input {\n",
       "  display: none;\n",
       "}\n",
       "\n",
       ".xr-section-item input + label {\n",
       "  color: var(--xr-disabled-color);\n",
       "}\n",
       "\n",
       ".xr-section-item input:enabled + label {\n",
       "  cursor: pointer;\n",
       "  color: var(--xr-font-color2);\n",
       "}\n",
       "\n",
       ".xr-section-item input:enabled + label:hover {\n",
       "  color: var(--xr-font-color0);\n",
       "}\n",
       "\n",
       ".xr-section-summary {\n",
       "  grid-column: 1;\n",
       "  color: var(--xr-font-color2);\n",
       "  font-weight: 500;\n",
       "}\n",
       "\n",
       ".xr-section-summary > span {\n",
       "  display: inline-block;\n",
       "  padding-left: 0.5em;\n",
       "}\n",
       "\n",
       ".xr-section-summary-in:disabled + label {\n",
       "  color: var(--xr-font-color2);\n",
       "}\n",
       "\n",
       ".xr-section-summary-in + label:before {\n",
       "  display: inline-block;\n",
       "  content: '►';\n",
       "  font-size: 11px;\n",
       "  width: 15px;\n",
       "  text-align: center;\n",
       "}\n",
       "\n",
       ".xr-section-summary-in:disabled + label:before {\n",
       "  color: var(--xr-disabled-color);\n",
       "}\n",
       "\n",
       ".xr-section-summary-in:checked + label:before {\n",
       "  content: '▼';\n",
       "}\n",
       "\n",
       ".xr-section-summary-in:checked + label > span {\n",
       "  display: none;\n",
       "}\n",
       "\n",
       ".xr-section-summary,\n",
       ".xr-section-inline-details {\n",
       "  padding-top: 4px;\n",
       "  padding-bottom: 4px;\n",
       "}\n",
       "\n",
       ".xr-section-inline-details {\n",
       "  grid-column: 2 / -1;\n",
       "}\n",
       "\n",
       ".xr-section-details {\n",
       "  display: none;\n",
       "  grid-column: 1 / -1;\n",
       "  margin-bottom: 5px;\n",
       "}\n",
       "\n",
       ".xr-section-summary-in:checked ~ .xr-section-details {\n",
       "  display: contents;\n",
       "}\n",
       "\n",
       ".xr-array-wrap {\n",
       "  grid-column: 1 / -1;\n",
       "  display: grid;\n",
       "  grid-template-columns: 20px auto;\n",
       "}\n",
       "\n",
       ".xr-array-wrap > label {\n",
       "  grid-column: 1;\n",
       "  vertical-align: top;\n",
       "}\n",
       "\n",
       ".xr-preview {\n",
       "  color: var(--xr-font-color3);\n",
       "}\n",
       "\n",
       ".xr-array-preview,\n",
       ".xr-array-data {\n",
       "  padding: 0 5px !important;\n",
       "  grid-column: 2;\n",
       "}\n",
       "\n",
       ".xr-array-data,\n",
       ".xr-array-in:checked ~ .xr-array-preview {\n",
       "  display: none;\n",
       "}\n",
       "\n",
       ".xr-array-in:checked ~ .xr-array-data,\n",
       ".xr-array-preview {\n",
       "  display: inline-block;\n",
       "}\n",
       "\n",
       ".xr-dim-list {\n",
       "  display: inline-block !important;\n",
       "  list-style: none;\n",
       "  padding: 0 !important;\n",
       "  margin: 0;\n",
       "}\n",
       "\n",
       ".xr-dim-list li {\n",
       "  display: inline-block;\n",
       "  padding: 0;\n",
       "  margin: 0;\n",
       "}\n",
       "\n",
       ".xr-dim-list:before {\n",
       "  content: '(';\n",
       "}\n",
       "\n",
       ".xr-dim-list:after {\n",
       "  content: ')';\n",
       "}\n",
       "\n",
       ".xr-dim-list li:not(:last-child):after {\n",
       "  content: ',';\n",
       "  padding-right: 5px;\n",
       "}\n",
       "\n",
       ".xr-has-index {\n",
       "  font-weight: bold;\n",
       "}\n",
       "\n",
       ".xr-var-list,\n",
       ".xr-var-item {\n",
       "  display: contents;\n",
       "}\n",
       "\n",
       ".xr-var-item > div,\n",
       ".xr-var-item label,\n",
       ".xr-var-item > .xr-var-name span {\n",
       "  background-color: var(--xr-background-color-row-even);\n",
       "  margin-bottom: 0;\n",
       "}\n",
       "\n",
       ".xr-var-item > .xr-var-name:hover span {\n",
       "  padding-right: 5px;\n",
       "}\n",
       "\n",
       ".xr-var-list > li:nth-child(odd) > div,\n",
       ".xr-var-list > li:nth-child(odd) > label,\n",
       ".xr-var-list > li:nth-child(odd) > .xr-var-name span {\n",
       "  background-color: var(--xr-background-color-row-odd);\n",
       "}\n",
       "\n",
       ".xr-var-name {\n",
       "  grid-column: 1;\n",
       "}\n",
       "\n",
       ".xr-var-dims {\n",
       "  grid-column: 2;\n",
       "}\n",
       "\n",
       ".xr-var-dtype {\n",
       "  grid-column: 3;\n",
       "  text-align: right;\n",
       "  color: var(--xr-font-color2);\n",
       "}\n",
       "\n",
       ".xr-var-preview {\n",
       "  grid-column: 4;\n",
       "}\n",
       "\n",
       ".xr-var-name,\n",
       ".xr-var-dims,\n",
       ".xr-var-dtype,\n",
       ".xr-preview,\n",
       ".xr-attrs dt {\n",
       "  white-space: nowrap;\n",
       "  overflow: hidden;\n",
       "  text-overflow: ellipsis;\n",
       "  padding-right: 10px;\n",
       "}\n",
       "\n",
       ".xr-var-name:hover,\n",
       ".xr-var-dims:hover,\n",
       ".xr-var-dtype:hover,\n",
       ".xr-attrs dt:hover {\n",
       "  overflow: visible;\n",
       "  width: auto;\n",
       "  z-index: 1;\n",
       "}\n",
       "\n",
       ".xr-var-attrs,\n",
       ".xr-var-data {\n",
       "  display: none;\n",
       "  background-color: var(--xr-background-color) !important;\n",
       "  padding-bottom: 5px !important;\n",
       "}\n",
       "\n",
       ".xr-var-attrs-in:checked ~ .xr-var-attrs,\n",
       ".xr-var-data-in:checked ~ .xr-var-data {\n",
       "  display: block;\n",
       "}\n",
       "\n",
       ".xr-var-data > table {\n",
       "  float: right;\n",
       "}\n",
       "\n",
       ".xr-var-name span,\n",
       ".xr-var-data,\n",
       ".xr-attrs {\n",
       "  padding-left: 25px !important;\n",
       "}\n",
       "\n",
       ".xr-attrs,\n",
       ".xr-var-attrs,\n",
       ".xr-var-data {\n",
       "  grid-column: 1 / -1;\n",
       "}\n",
       "\n",
       "dl.xr-attrs {\n",
       "  padding: 0;\n",
       "  margin: 0;\n",
       "  display: grid;\n",
       "  grid-template-columns: 125px auto;\n",
       "}\n",
       "\n",
       ".xr-attrs dt,\n",
       ".xr-attrs dd {\n",
       "  padding: 0;\n",
       "  margin: 0;\n",
       "  float: left;\n",
       "  padding-right: 10px;\n",
       "  width: auto;\n",
       "}\n",
       "\n",
       ".xr-attrs dt {\n",
       "  font-weight: normal;\n",
       "  grid-column: 1;\n",
       "}\n",
       "\n",
       ".xr-attrs dt:hover span {\n",
       "  display: inline-block;\n",
       "  background: var(--xr-background-color);\n",
       "  padding-right: 10px;\n",
       "}\n",
       "\n",
       ".xr-attrs dd {\n",
       "  grid-column: 2;\n",
       "  white-space: pre-wrap;\n",
       "  word-break: break-all;\n",
       "}\n",
       "\n",
       ".xr-icon-database,\n",
       ".xr-icon-file-text2 {\n",
       "  display: inline-block;\n",
       "  vertical-align: middle;\n",
       "  width: 1em;\n",
       "  height: 1.5em !important;\n",
       "  stroke-width: 0;\n",
       "  stroke: currentColor;\n",
       "  fill: currentColor;\n",
       "}\n",
       "</style><pre class='xr-text-repr-fallback'>&lt;xarray.DataArray &#x27;Precac&#x27; ()&gt;\n",
       "array(49.83415604)</pre><div class='xr-wrap' hidden><div class='xr-header'><div class='xr-obj-type'>xarray.DataArray</div><div class='xr-array-name'>'Precac'</div></div><ul class='xr-sections'><li class='xr-section-item'><div class='xr-array-wrap'><input id='section-26c9bd16-43d2-47ad-9a96-a5e4175832ca' class='xr-array-in' type='checkbox' checked><label for='section-26c9bd16-43d2-47ad-9a96-a5e4175832ca' title='Show/hide data repr'><svg class='icon xr-icon-database'><use xlink:href='#icon-database'></use></svg></label><div class='xr-array-preview xr-preview'><span>49.83</span></div><div class='xr-array-data'><pre>array(49.83415604)</pre></div></div></li><li class='xr-section-item'><input id='section-62777427-d983-44c7-a793-420b06322b0b' class='xr-section-summary-in' type='checkbox' disabled ><label for='section-62777427-d983-44c7-a793-420b06322b0b' class='xr-section-summary'  title='Expand/collapse section'>Coordinates: <span>(0)</span></label><div class='xr-section-inline-details'></div><div class='xr-section-details'><ul class='xr-var-list'></ul></div></li><li class='xr-section-item'><input id='section-903f3196-37c8-4bca-95d4-5ed69308478a' class='xr-section-summary-in' type='checkbox' disabled ><label for='section-903f3196-37c8-4bca-95d4-5ed69308478a' class='xr-section-summary'  title='Expand/collapse section'>Attributes: <span>(0)</span></label><div class='xr-section-inline-details'></div><div class='xr-section-details'><dl class='xr-attrs'></dl></div></li></ul></div></div>"
      ],
      "text/plain": [
       "<xarray.DataArray 'Precac' ()>\n",
       "array(49.83415604)"
      ]
     },
     "execution_count": 132,
     "metadata": {},
     "output_type": "execute_result"
    }
   ],
   "source": [
    "prec.max()"
   ]
  },
  {
   "cell_type": "code",
   "execution_count": 133,
   "id": "61786507-dbcb-43ea-9af0-07f2eecdcc53",
   "metadata": {},
   "outputs": [],
   "source": [
    "threshold = np.nanpercentile(prec, percentile)"
   ]
  },
  {
   "cell_type": "code",
   "execution_count": 134,
   "id": "5236cc72-dc09-4a72-898d-266593ae9751",
   "metadata": {},
   "outputs": [
    {
     "name": "stdout",
     "output_type": "stream",
     "text": [
      "Value: 42.51411056518555, Lon: 157.83201599121094, Lat: 14.080078125\n",
      "Value: 44.30144500732422, Lon: 157.83201599121094, Lat: 14.118706703186035\n",
      "Value: 46.47736358642578, Lon: 158.18357849121094, Lat: 14.15733528137207\n",
      "Value: 47.186607360839844, Lon: 158.22264099121094, Lat: 14.15733528137207\n",
      "Value: 49.83415603637695, Lon: 157.83201599121094, Lat: 14.23459243774414\n",
      "[(14.080078, 157.83202), (14.118707, 157.83202), (14.157335, 158.18358), (14.157335, 158.22264), (14.234592, 157.83202)]\n"
     ]
    }
   ],
   "source": [
    "extreme_values = xr.where(prec >= threshold, prec, np.nan)\n",
    "extreme_values_lon = extreme_values.lon.values\n",
    "extreme_values_lat = extreme_values.lat.values\n",
    "\n",
    "# convert to numpy array\n",
    "extreme_values_np = extreme_values.values\n",
    "\n",
    "# get non-NaN values and their coordinates\n",
    "non_nan_values = extreme_values_np[~np.isnan(extreme_values_np)]\n",
    "non_nan_indices = np.argwhere(~np.isnan(extreme_values_np))\n",
    "\n",
    "\n",
    "ex_val_list, ex_lon_list, ex_lat_list = [], [], []\n",
    "\n",
    "for index in non_nan_indices:\n",
    "    value = extreme_values_np[tuple(index)]\n",
    "    lon = extreme_values_lon[index[1]]\n",
    "    lat = extreme_values_lat[index[0]]\n",
    "    print(f\"Value: {value}, Lon: {lon}, Lat: {lat}\")\n",
    "    ex_val_list.append(value)\n",
    "    ex_lon_list.append(lon)\n",
    "    ex_lat_list.append(lat)\n",
    "combined_ex_list = list(zip(ex_lat_list, ex_lon_list))\n",
    "print(combined_ex_list)"
   ]
  },
  {
   "cell_type": "code",
   "execution_count": 135,
   "id": "f889f372-5532-4fd3-bd3e-ed5202a6b0f5",
   "metadata": {},
   "outputs": [
    {
     "name": "stderr",
     "output_type": "stream",
     "text": [
      "/net/nfs/tools/u20/Python/anaconda-2021.11/envs/meso-3.8/lib/python3.8/site-packages/xarray/conventions.py:512: SerializationWarning: variable 'MCS_label' has multiple fill values {-999.0, -998.0}, decoding all values to NaN.\n",
      "  new_vars[k] = decode_cf_variable(\n"
     ]
    }
   ],
   "source": [
    "# load MCS labels for this timestep\n",
    "root_toocan = df.iloc[prec_idx]['img_seg_path']\n",
    "corresponding_toocan = xr.open_dataarray(os.path.join(\"/\",root_toocan), engine='netcdf4').load()[0]\n",
    "combined_corr_toocan_coords = list(zip(corresponding_toocan.latitude, corresponding_toocan.longitude))"
   ]
  },
  {
   "cell_type": "code",
   "execution_count": 136,
   "id": "52860bf7-123a-4eaa-a4c8-404c1d6b5adf",
   "metadata": {},
   "outputs": [],
   "source": [
    "label_list, MCS_index_list = [], []\n",
    "for lat_0, lon_0 in combined_ex_list:\n",
    "    i_0 = (np.where(corresponding_toocan.latitude > lat_0))[0][0]\n",
    "    j_0 = (np.where(corresponding_toocan.longitude > lon_0))[0][0]\n",
    "    \n",
    "    label = corresponding_toocan[i_0, j_0]\n",
    "    label_list.append(label)\n",
    "    MCS_index_list.append(label - 1)"
   ]
  },
  {
   "cell_type": "code",
   "execution_count": 137,
   "id": "1591a9e6-973a-4012-bbdf-c80c576ee488",
   "metadata": {},
   "outputs": [
    {
     "name": "stdout",
     "output_type": "stream",
     "text": [
      "<xarray.DataArray 'MCS_label' ()>\n",
      "array(208.)\n",
      "Coordinates:\n",
      "    latitude   float32 14.12\n",
      "    longitude  float32 157.9\n",
      "    time       datetime64[ns] 2016-08-01T03:30:00\n"
     ]
    }
   ],
   "source": [
    "print(MCS_index_list[0])"
   ]
  },
  {
   "cell_type": "code",
   "execution_count": 138,
   "id": "2f2501ef-dc37-4a6a-a8fc-094ee23d5959",
   "metadata": {},
   "outputs": [
    {
     "data": {
      "image/png": "[encoded data removed]",
      "text/plain": [
       "<Figure size 432x288 with 1 Axes>"
      ]
     },
     "metadata": {
      "needs_background": "light"
     },
     "output_type": "display_data"
    }
   ],
   "source": [
    "fig, ax = plt.subplots()\n",
    "for MCS in range(len(MCS_index_list)):\n",
    "    MCS_ex = MCS_index_list[MCS]\n",
    "    MCS_ex_idx = int(MCS_ex.item())\n",
    "    MCS_attr_ex = getattr(toocan[MCS_ex_idx].clusters, attribute_single_MCS)\n",
    "\n",
    "\n",
    "    plt.plot(Utime_list[MCS_ex_idx], MCS_attr_ex, label=f\"precip {round(ex_val_list[MCS],2)}\")\n",
    "\n",
    "plt.xticks(rotation=45)\n",
    "ax.set_xlabel(\"Time\")\n",
    "plt.ylabel(f'{attribute_single_MCS}')\n",
    "plt.title(f\"Extreme MCS\\n{attribute_single_MCS} over Time\")\n",
    "plt.legend(fontsize='x-small')\n",
    "\n",
    "plt.show()"
   ]
  },
  {
   "cell_type": "markdown",
   "id": "bccec75b-e17a-4122-bd02-40ad77393567",
   "metadata": {},
   "source": [
    "### multiple timesteps\n",
    "* ignores the first timestep"
   ]
  },
  {
   "cell_type": "code",
   "execution_count": 139,
   "id": "1bbc7e67-411e-4090-ba34-26b011c8c74b",
   "metadata": {},
   "outputs": [],
   "source": [
    "fixed_threshold = 80\n",
    "TESTING = True\n",
    "\n",
    "if TESTING == True:\n",
    "    df_len = 50\n",
    "else:\n",
    "    df_len = len(df)"
   ]
  },
  {
   "cell_type": "code",
   "execution_count": 140,
   "id": "d6208fc6-01be-4152-8b81-791612672dc8",
   "metadata": {},
   "outputs": [
    {
     "name": "stdout",
     "output_type": "stream",
     "text": [
      "1\n"
     ]
    },
    {
     "name": "stderr",
     "output_type": "stream",
     "text": [
      "/net/nfs/tools/u20/Python/anaconda-2021.11/envs/meso-3.8/lib/python3.8/site-packages/xarray/conventions.py:512: SerializationWarning: variable 'MCS_label' has multiple fill values {-999.0, -998.0}, decoding all values to NaN.\n",
      "  new_vars[k] = decode_cf_variable(\n"
     ]
    },
    {
     "name": "stdout",
     "output_type": "stream",
     "text": [
      "2\n"
     ]
    },
    {
     "name": "stderr",
     "output_type": "stream",
     "text": [
      "/net/nfs/tools/u20/Python/anaconda-2021.11/envs/meso-3.8/lib/python3.8/site-packages/xarray/conventions.py:512: SerializationWarning: variable 'MCS_label' has multiple fill values {-999.0, -998.0}, decoding all values to NaN.\n",
      "  new_vars[k] = decode_cf_variable(\n"
     ]
    },
    {
     "name": "stdout",
     "output_type": "stream",
     "text": [
      "3\n"
     ]
    },
    {
     "name": "stderr",
     "output_type": "stream",
     "text": [
      "/net/nfs/tools/u20/Python/anaconda-2021.11/envs/meso-3.8/lib/python3.8/site-packages/xarray/conventions.py:512: SerializationWarning: variable 'MCS_label' has multiple fill values {-999.0, -998.0}, decoding all values to NaN.\n",
      "  new_vars[k] = decode_cf_variable(\n"
     ]
    },
    {
     "name": "stdout",
     "output_type": "stream",
     "text": [
      "4\n"
     ]
    },
    {
     "name": "stderr",
     "output_type": "stream",
     "text": [
      "/net/nfs/tools/u20/Python/anaconda-2021.11/envs/meso-3.8/lib/python3.8/site-packages/xarray/conventions.py:512: SerializationWarning: variable 'MCS_label' has multiple fill values {-999.0, -998.0}, decoding all values to NaN.\n",
      "  new_vars[k] = decode_cf_variable(\n"
     ]
    },
    {
     "name": "stdout",
     "output_type": "stream",
     "text": [
      "5\n"
     ]
    },
    {
     "name": "stderr",
     "output_type": "stream",
     "text": [
      "/net/nfs/tools/u20/Python/anaconda-2021.11/envs/meso-3.8/lib/python3.8/site-packages/xarray/conventions.py:512: SerializationWarning: variable 'MCS_label' has multiple fill values {-999.0, -998.0}, decoding all values to NaN.\n",
      "  new_vars[k] = decode_cf_variable(\n"
     ]
    },
    {
     "name": "stdout",
     "output_type": "stream",
     "text": [
      "6\n"
     ]
    },
    {
     "name": "stderr",
     "output_type": "stream",
     "text": [
      "/net/nfs/tools/u20/Python/anaconda-2021.11/envs/meso-3.8/lib/python3.8/site-packages/xarray/conventions.py:512: SerializationWarning: variable 'MCS_label' has multiple fill values {-999.0, -998.0}, decoding all values to NaN.\n",
      "  new_vars[k] = decode_cf_variable(\n"
     ]
    },
    {
     "name": "stdout",
     "output_type": "stream",
     "text": [
      "7\n"
     ]
    },
    {
     "name": "stderr",
     "output_type": "stream",
     "text": [
      "/net/nfs/tools/u20/Python/anaconda-2021.11/envs/meso-3.8/lib/python3.8/site-packages/xarray/conventions.py:512: SerializationWarning: variable 'MCS_label' has multiple fill values {-999.0, -998.0}, decoding all values to NaN.\n",
      "  new_vars[k] = decode_cf_variable(\n"
     ]
    },
    {
     "name": "stdout",
     "output_type": "stream",
     "text": [
      "8\n"
     ]
    },
    {
     "name": "stderr",
     "output_type": "stream",
     "text": [
      "/net/nfs/tools/u20/Python/anaconda-2021.11/envs/meso-3.8/lib/python3.8/site-packages/xarray/conventions.py:512: SerializationWarning: variable 'MCS_label' has multiple fill values {-999.0, -998.0}, decoding all values to NaN.\n",
      "  new_vars[k] = decode_cf_variable(\n"
     ]
    },
    {
     "name": "stdout",
     "output_type": "stream",
     "text": [
      "9\n"
     ]
    },
    {
     "name": "stderr",
     "output_type": "stream",
     "text": [
      "/net/nfs/tools/u20/Python/anaconda-2021.11/envs/meso-3.8/lib/python3.8/site-packages/xarray/conventions.py:512: SerializationWarning: variable 'MCS_label' has multiple fill values {-999.0, -998.0}, decoding all values to NaN.\n",
      "  new_vars[k] = decode_cf_variable(\n"
     ]
    },
    {
     "name": "stdout",
     "output_type": "stream",
     "text": [
      "10\n"
     ]
    },
    {
     "name": "stderr",
     "output_type": "stream",
     "text": [
      "/net/nfs/tools/u20/Python/anaconda-2021.11/envs/meso-3.8/lib/python3.8/site-packages/xarray/conventions.py:512: SerializationWarning: variable 'MCS_label' has multiple fill values {-999.0, -998.0}, decoding all values to NaN.\n",
      "  new_vars[k] = decode_cf_variable(\n"
     ]
    },
    {
     "name": "stdout",
     "output_type": "stream",
     "text": [
      "11\n"
     ]
    },
    {
     "name": "stderr",
     "output_type": "stream",
     "text": [
      "/net/nfs/tools/u20/Python/anaconda-2021.11/envs/meso-3.8/lib/python3.8/site-packages/xarray/conventions.py:512: SerializationWarning: variable 'MCS_label' has multiple fill values {-999.0, -998.0}, decoding all values to NaN.\n",
      "  new_vars[k] = decode_cf_variable(\n"
     ]
    },
    {
     "name": "stdout",
     "output_type": "stream",
     "text": [
      "12\n"
     ]
    },
    {
     "name": "stderr",
     "output_type": "stream",
     "text": [
      "/net/nfs/tools/u20/Python/anaconda-2021.11/envs/meso-3.8/lib/python3.8/site-packages/xarray/conventions.py:512: SerializationWarning: variable 'MCS_label' has multiple fill values {-999.0, -998.0}, decoding all values to NaN.\n",
      "  new_vars[k] = decode_cf_variable(\n"
     ]
    },
    {
     "name": "stdout",
     "output_type": "stream",
     "text": [
      "13\n"
     ]
    },
    {
     "name": "stderr",
     "output_type": "stream",
     "text": [
      "/net/nfs/tools/u20/Python/anaconda-2021.11/envs/meso-3.8/lib/python3.8/site-packages/xarray/conventions.py:512: SerializationWarning: variable 'MCS_label' has multiple fill values {-999.0, -998.0}, decoding all values to NaN.\n",
      "  new_vars[k] = decode_cf_variable(\n"
     ]
    },
    {
     "name": "stdout",
     "output_type": "stream",
     "text": [
      "14\n"
     ]
    },
    {
     "name": "stderr",
     "output_type": "stream",
     "text": [
      "/net/nfs/tools/u20/Python/anaconda-2021.11/envs/meso-3.8/lib/python3.8/site-packages/xarray/conventions.py:512: SerializationWarning: variable 'MCS_label' has multiple fill values {-999.0, -998.0}, decoding all values to NaN.\n",
      "  new_vars[k] = decode_cf_variable(\n"
     ]
    },
    {
     "name": "stdout",
     "output_type": "stream",
     "text": [
      "15\n"
     ]
    },
    {
     "name": "stderr",
     "output_type": "stream",
     "text": [
      "/net/nfs/tools/u20/Python/anaconda-2021.11/envs/meso-3.8/lib/python3.8/site-packages/xarray/conventions.py:512: SerializationWarning: variable 'MCS_label' has multiple fill values {-999.0, -998.0}, decoding all values to NaN.\n",
      "  new_vars[k] = decode_cf_variable(\n"
     ]
    },
    {
     "name": "stdout",
     "output_type": "stream",
     "text": [
      "16\n"
     ]
    },
    {
     "name": "stderr",
     "output_type": "stream",
     "text": [
      "/net/nfs/tools/u20/Python/anaconda-2021.11/envs/meso-3.8/lib/python3.8/site-packages/xarray/conventions.py:512: SerializationWarning: variable 'MCS_label' has multiple fill values {-999.0, -998.0}, decoding all values to NaN.\n",
      "  new_vars[k] = decode_cf_variable(\n"
     ]
    },
    {
     "name": "stdout",
     "output_type": "stream",
     "text": [
      "17\n"
     ]
    },
    {
     "name": "stderr",
     "output_type": "stream",
     "text": [
      "/net/nfs/tools/u20/Python/anaconda-2021.11/envs/meso-3.8/lib/python3.8/site-packages/xarray/conventions.py:512: SerializationWarning: variable 'MCS_label' has multiple fill values {-999.0, -998.0}, decoding all values to NaN.\n",
      "  new_vars[k] = decode_cf_variable(\n"
     ]
    },
    {
     "name": "stdout",
     "output_type": "stream",
     "text": [
      "18\n"
     ]
    },
    {
     "name": "stderr",
     "output_type": "stream",
     "text": [
      "/net/nfs/tools/u20/Python/anaconda-2021.11/envs/meso-3.8/lib/python3.8/site-packages/xarray/conventions.py:512: SerializationWarning: variable 'MCS_label' has multiple fill values {-999.0, -998.0}, decoding all values to NaN.\n",
      "  new_vars[k] = decode_cf_variable(\n"
     ]
    },
    {
     "name": "stdout",
     "output_type": "stream",
     "text": [
      "19\n"
     ]
    },
    {
     "name": "stderr",
     "output_type": "stream",
     "text": [
      "/net/nfs/tools/u20/Python/anaconda-2021.11/envs/meso-3.8/lib/python3.8/site-packages/xarray/conventions.py:512: SerializationWarning: variable 'MCS_label' has multiple fill values {-999.0, -998.0}, decoding all values to NaN.\n",
      "  new_vars[k] = decode_cf_variable(\n"
     ]
    },
    {
     "name": "stdout",
     "output_type": "stream",
     "text": [
      "20\n"
     ]
    },
    {
     "name": "stderr",
     "output_type": "stream",
     "text": [
      "/net/nfs/tools/u20/Python/anaconda-2021.11/envs/meso-3.8/lib/python3.8/site-packages/xarray/conventions.py:512: SerializationWarning: variable 'MCS_label' has multiple fill values {-999.0, -998.0}, decoding all values to NaN.\n",
      "  new_vars[k] = decode_cf_variable(\n"
     ]
    },
    {
     "name": "stdout",
     "output_type": "stream",
     "text": [
      "21\n"
     ]
    },
    {
     "name": "stderr",
     "output_type": "stream",
     "text": [
      "/net/nfs/tools/u20/Python/anaconda-2021.11/envs/meso-3.8/lib/python3.8/site-packages/xarray/conventions.py:512: SerializationWarning: variable 'MCS_label' has multiple fill values {-999.0, -998.0}, decoding all values to NaN.\n",
      "  new_vars[k] = decode_cf_variable(\n"
     ]
    },
    {
     "name": "stdout",
     "output_type": "stream",
     "text": [
      "22\n"
     ]
    },
    {
     "name": "stderr",
     "output_type": "stream",
     "text": [
      "/net/nfs/tools/u20/Python/anaconda-2021.11/envs/meso-3.8/lib/python3.8/site-packages/xarray/conventions.py:512: SerializationWarning: variable 'MCS_label' has multiple fill values {-999.0, -998.0}, decoding all values to NaN.\n",
      "  new_vars[k] = decode_cf_variable(\n"
     ]
    },
    {
     "name": "stdout",
     "output_type": "stream",
     "text": [
      "23\n"
     ]
    },
    {
     "name": "stderr",
     "output_type": "stream",
     "text": [
      "/net/nfs/tools/u20/Python/anaconda-2021.11/envs/meso-3.8/lib/python3.8/site-packages/xarray/conventions.py:512: SerializationWarning: variable 'MCS_label' has multiple fill values {-999.0, -998.0}, decoding all values to NaN.\n",
      "  new_vars[k] = decode_cf_variable(\n"
     ]
    },
    {
     "name": "stdout",
     "output_type": "stream",
     "text": [
      "24\n"
     ]
    },
    {
     "name": "stderr",
     "output_type": "stream",
     "text": [
      "/net/nfs/tools/u20/Python/anaconda-2021.11/envs/meso-3.8/lib/python3.8/site-packages/xarray/conventions.py:512: SerializationWarning: variable 'MCS_label' has multiple fill values {-999.0, -998.0}, decoding all values to NaN.\n",
      "  new_vars[k] = decode_cf_variable(\n"
     ]
    },
    {
     "name": "stdout",
     "output_type": "stream",
     "text": [
      "25\n"
     ]
    },
    {
     "name": "stderr",
     "output_type": "stream",
     "text": [
      "/net/nfs/tools/u20/Python/anaconda-2021.11/envs/meso-3.8/lib/python3.8/site-packages/xarray/conventions.py:512: SerializationWarning: variable 'MCS_label' has multiple fill values {-999.0, -998.0}, decoding all values to NaN.\n",
      "  new_vars[k] = decode_cf_variable(\n"
     ]
    },
    {
     "name": "stdout",
     "output_type": "stream",
     "text": [
      "26\n"
     ]
    },
    {
     "name": "stderr",
     "output_type": "stream",
     "text": [
      "/net/nfs/tools/u20/Python/anaconda-2021.11/envs/meso-3.8/lib/python3.8/site-packages/xarray/conventions.py:512: SerializationWarning: variable 'MCS_label' has multiple fill values {-999.0, -998.0}, decoding all values to NaN.\n",
      "  new_vars[k] = decode_cf_variable(\n"
     ]
    },
    {
     "name": "stdout",
     "output_type": "stream",
     "text": [
      "27\n"
     ]
    },
    {
     "name": "stderr",
     "output_type": "stream",
     "text": [
      "/net/nfs/tools/u20/Python/anaconda-2021.11/envs/meso-3.8/lib/python3.8/site-packages/xarray/conventions.py:512: SerializationWarning: variable 'MCS_label' has multiple fill values {-999.0, -998.0}, decoding all values to NaN.\n",
      "  new_vars[k] = decode_cf_variable(\n"
     ]
    },
    {
     "name": "stdout",
     "output_type": "stream",
     "text": [
      "28\n"
     ]
    },
    {
     "name": "stderr",
     "output_type": "stream",
     "text": [
      "/net/nfs/tools/u20/Python/anaconda-2021.11/envs/meso-3.8/lib/python3.8/site-packages/xarray/conventions.py:512: SerializationWarning: variable 'MCS_label' has multiple fill values {-999.0, -998.0}, decoding all values to NaN.\n",
      "  new_vars[k] = decode_cf_variable(\n"
     ]
    },
    {
     "name": "stdout",
     "output_type": "stream",
     "text": [
      "29\n"
     ]
    },
    {
     "name": "stderr",
     "output_type": "stream",
     "text": [
      "/net/nfs/tools/u20/Python/anaconda-2021.11/envs/meso-3.8/lib/python3.8/site-packages/xarray/conventions.py:512: SerializationWarning: variable 'MCS_label' has multiple fill values {-999.0, -998.0}, decoding all values to NaN.\n",
      "  new_vars[k] = decode_cf_variable(\n"
     ]
    },
    {
     "name": "stdout",
     "output_type": "stream",
     "text": [
      "30\n"
     ]
    },
    {
     "name": "stderr",
     "output_type": "stream",
     "text": [
      "/net/nfs/tools/u20/Python/anaconda-2021.11/envs/meso-3.8/lib/python3.8/site-packages/xarray/conventions.py:512: SerializationWarning: variable 'MCS_label' has multiple fill values {-999.0, -998.0}, decoding all values to NaN.\n",
      "  new_vars[k] = decode_cf_variable(\n"
     ]
    },
    {
     "name": "stdout",
     "output_type": "stream",
     "text": [
      "31\n"
     ]
    },
    {
     "name": "stderr",
     "output_type": "stream",
     "text": [
      "/net/nfs/tools/u20/Python/anaconda-2021.11/envs/meso-3.8/lib/python3.8/site-packages/xarray/conventions.py:512: SerializationWarning: variable 'MCS_label' has multiple fill values {-999.0, -998.0}, decoding all values to NaN.\n",
      "  new_vars[k] = decode_cf_variable(\n"
     ]
    },
    {
     "name": "stdout",
     "output_type": "stream",
     "text": [
      "32\n"
     ]
    },
    {
     "name": "stderr",
     "output_type": "stream",
     "text": [
      "/net/nfs/tools/u20/Python/anaconda-2021.11/envs/meso-3.8/lib/python3.8/site-packages/xarray/conventions.py:512: SerializationWarning: variable 'MCS_label' has multiple fill values {-999.0, -998.0}, decoding all values to NaN.\n",
      "  new_vars[k] = decode_cf_variable(\n"
     ]
    },
    {
     "name": "stdout",
     "output_type": "stream",
     "text": [
      "33\n"
     ]
    },
    {
     "name": "stderr",
     "output_type": "stream",
     "text": [
      "/net/nfs/tools/u20/Python/anaconda-2021.11/envs/meso-3.8/lib/python3.8/site-packages/xarray/conventions.py:512: SerializationWarning: variable 'MCS_label' has multiple fill values {-999.0, -998.0}, decoding all values to NaN.\n",
      "  new_vars[k] = decode_cf_variable(\n"
     ]
    },
    {
     "name": "stdout",
     "output_type": "stream",
     "text": [
      "34\n"
     ]
    },
    {
     "name": "stderr",
     "output_type": "stream",
     "text": [
      "/net/nfs/tools/u20/Python/anaconda-2021.11/envs/meso-3.8/lib/python3.8/site-packages/xarray/conventions.py:512: SerializationWarning: variable 'MCS_label' has multiple fill values {-999.0, -998.0}, decoding all values to NaN.\n",
      "  new_vars[k] = decode_cf_variable(\n"
     ]
    },
    {
     "name": "stdout",
     "output_type": "stream",
     "text": [
      "35\n"
     ]
    },
    {
     "name": "stderr",
     "output_type": "stream",
     "text": [
      "/net/nfs/tools/u20/Python/anaconda-2021.11/envs/meso-3.8/lib/python3.8/site-packages/xarray/conventions.py:512: SerializationWarning: variable 'MCS_label' has multiple fill values {-999.0, -998.0}, decoding all values to NaN.\n",
      "  new_vars[k] = decode_cf_variable(\n"
     ]
    },
    {
     "name": "stdout",
     "output_type": "stream",
     "text": [
      "36\n"
     ]
    },
    {
     "name": "stderr",
     "output_type": "stream",
     "text": [
      "/net/nfs/tools/u20/Python/anaconda-2021.11/envs/meso-3.8/lib/python3.8/site-packages/xarray/conventions.py:512: SerializationWarning: variable 'MCS_label' has multiple fill values {-999.0, -998.0}, decoding all values to NaN.\n",
      "  new_vars[k] = decode_cf_variable(\n"
     ]
    },
    {
     "name": "stdout",
     "output_type": "stream",
     "text": [
      "37\n"
     ]
    },
    {
     "name": "stderr",
     "output_type": "stream",
     "text": [
      "/net/nfs/tools/u20/Python/anaconda-2021.11/envs/meso-3.8/lib/python3.8/site-packages/xarray/conventions.py:512: SerializationWarning: variable 'MCS_label' has multiple fill values {-999.0, -998.0}, decoding all values to NaN.\n",
      "  new_vars[k] = decode_cf_variable(\n"
     ]
    },
    {
     "name": "stdout",
     "output_type": "stream",
     "text": [
      "38\n"
     ]
    },
    {
     "name": "stderr",
     "output_type": "stream",
     "text": [
      "/net/nfs/tools/u20/Python/anaconda-2021.11/envs/meso-3.8/lib/python3.8/site-packages/xarray/conventions.py:512: SerializationWarning: variable 'MCS_label' has multiple fill values {-999.0, -998.0}, decoding all values to NaN.\n",
      "  new_vars[k] = decode_cf_variable(\n"
     ]
    },
    {
     "name": "stdout",
     "output_type": "stream",
     "text": [
      "39\n"
     ]
    },
    {
     "name": "stderr",
     "output_type": "stream",
     "text": [
      "/net/nfs/tools/u20/Python/anaconda-2021.11/envs/meso-3.8/lib/python3.8/site-packages/xarray/conventions.py:512: SerializationWarning: variable 'MCS_label' has multiple fill values {-999.0, -998.0}, decoding all values to NaN.\n",
      "  new_vars[k] = decode_cf_variable(\n"
     ]
    },
    {
     "name": "stdout",
     "output_type": "stream",
     "text": [
      "40\n"
     ]
    },
    {
     "name": "stderr",
     "output_type": "stream",
     "text": [
      "/net/nfs/tools/u20/Python/anaconda-2021.11/envs/meso-3.8/lib/python3.8/site-packages/xarray/conventions.py:512: SerializationWarning: variable 'MCS_label' has multiple fill values {-999.0, -998.0}, decoding all values to NaN.\n",
      "  new_vars[k] = decode_cf_variable(\n"
     ]
    },
    {
     "name": "stdout",
     "output_type": "stream",
     "text": [
      "41\n"
     ]
    },
    {
     "name": "stderr",
     "output_type": "stream",
     "text": [
      "/net/nfs/tools/u20/Python/anaconda-2021.11/envs/meso-3.8/lib/python3.8/site-packages/xarray/conventions.py:512: SerializationWarning: variable 'MCS_label' has multiple fill values {-999.0, -998.0}, decoding all values to NaN.\n",
      "  new_vars[k] = decode_cf_variable(\n"
     ]
    },
    {
     "name": "stdout",
     "output_type": "stream",
     "text": [
      "42\n"
     ]
    },
    {
     "name": "stderr",
     "output_type": "stream",
     "text": [
      "/net/nfs/tools/u20/Python/anaconda-2021.11/envs/meso-3.8/lib/python3.8/site-packages/xarray/conventions.py:512: SerializationWarning: variable 'MCS_label' has multiple fill values {-999.0, -998.0}, decoding all values to NaN.\n",
      "  new_vars[k] = decode_cf_variable(\n"
     ]
    },
    {
     "name": "stdout",
     "output_type": "stream",
     "text": [
      "43\n"
     ]
    },
    {
     "name": "stderr",
     "output_type": "stream",
     "text": [
      "/net/nfs/tools/u20/Python/anaconda-2021.11/envs/meso-3.8/lib/python3.8/site-packages/xarray/conventions.py:512: SerializationWarning: variable 'MCS_label' has multiple fill values {-999.0, -998.0}, decoding all values to NaN.\n",
      "  new_vars[k] = decode_cf_variable(\n"
     ]
    },
    {
     "name": "stdout",
     "output_type": "stream",
     "text": [
      "44\n"
     ]
    },
    {
     "name": "stderr",
     "output_type": "stream",
     "text": [
      "/net/nfs/tools/u20/Python/anaconda-2021.11/envs/meso-3.8/lib/python3.8/site-packages/xarray/conventions.py:512: SerializationWarning: variable 'MCS_label' has multiple fill values {-999.0, -998.0}, decoding all values to NaN.\n",
      "  new_vars[k] = decode_cf_variable(\n"
     ]
    },
    {
     "name": "stdout",
     "output_type": "stream",
     "text": [
      "45\n"
     ]
    },
    {
     "name": "stderr",
     "output_type": "stream",
     "text": [
      "/net/nfs/tools/u20/Python/anaconda-2021.11/envs/meso-3.8/lib/python3.8/site-packages/xarray/conventions.py:512: SerializationWarning: variable 'MCS_label' has multiple fill values {-999.0, -998.0}, decoding all values to NaN.\n",
      "  new_vars[k] = decode_cf_variable(\n"
     ]
    },
    {
     "name": "stdout",
     "output_type": "stream",
     "text": [
      "46\n"
     ]
    },
    {
     "name": "stderr",
     "output_type": "stream",
     "text": [
      "/net/nfs/tools/u20/Python/anaconda-2021.11/envs/meso-3.8/lib/python3.8/site-packages/xarray/conventions.py:512: SerializationWarning: variable 'MCS_label' has multiple fill values {-999.0, -998.0}, decoding all values to NaN.\n",
      "  new_vars[k] = decode_cf_variable(\n"
     ]
    },
    {
     "name": "stdout",
     "output_type": "stream",
     "text": [
      "47\n"
     ]
    },
    {
     "name": "stderr",
     "output_type": "stream",
     "text": [
      "/net/nfs/tools/u20/Python/anaconda-2021.11/envs/meso-3.8/lib/python3.8/site-packages/xarray/conventions.py:512: SerializationWarning: variable 'MCS_label' has multiple fill values {-999.0, -998.0}, decoding all values to NaN.\n",
      "  new_vars[k] = decode_cf_variable(\n"
     ]
    },
    {
     "name": "stdout",
     "output_type": "stream",
     "text": [
      "48\n"
     ]
    },
    {
     "name": "stderr",
     "output_type": "stream",
     "text": [
      "/net/nfs/tools/u20/Python/anaconda-2021.11/envs/meso-3.8/lib/python3.8/site-packages/xarray/conventions.py:512: SerializationWarning: variable 'MCS_label' has multiple fill values {-999.0, -998.0}, decoding all values to NaN.\n",
      "  new_vars[k] = decode_cf_variable(\n"
     ]
    },
    {
     "name": "stdout",
     "output_type": "stream",
     "text": [
      "49\n"
     ]
    },
    {
     "name": "stderr",
     "output_type": "stream",
     "text": [
      "/net/nfs/tools/u20/Python/anaconda-2021.11/envs/meso-3.8/lib/python3.8/site-packages/xarray/conventions.py:512: SerializationWarning: variable 'MCS_label' has multiple fill values {-999.0, -998.0}, decoding all values to NaN.\n",
      "  new_vars[k] = decode_cf_variable(\n"
     ]
    }
   ],
   "source": [
    "multiple_MCS_index_list = []\n",
    "multiple_ex_val_list = []\n",
    "\n",
    "for df_i in range(df_len):\n",
    "    if not df_i == 0:\n",
    "        print(df_i)\n",
    "        prec_i = loadPrec(df_i,df)\n",
    "        # Replace negative values with NaN\n",
    "        prec_i = xr.where(prec_i < 0, np.nan, prec_i)\n",
    "        \n",
    "        extreme_values_i = xr.where(prec_i >= fixed_threshold, prec_i, np.nan)\n",
    "        extreme_values_lon_i = extreme_values_i.lon.values\n",
    "        extreme_values_lat_i = extreme_values_i.lat.values\n",
    "\n",
    "        # convert to numpy array\n",
    "        extreme_values_np_i = extreme_values_i.values\n",
    "\n",
    "        # get non-NaN values and their coordinates\n",
    "        non_nan_values_i = extreme_values_np_i[~np.isnan(extreme_values_np_i)]\n",
    "        non_nan_indices_i = np.argwhere(~np.isnan(extreme_values_np_i))\n",
    "\n",
    "\n",
    "        ex_val_list_i, ex_lon_list_i, ex_lat_list_i = [], [], []\n",
    "\n",
    "        for index_i in non_nan_indices_i:\n",
    "            value_i = extreme_values_np_i[tuple(index_i)]\n",
    "            lon_i = extreme_values_lon_i[index_i[1]]\n",
    "            lat_i = extreme_values_lat_i[index_i[0]]\n",
    "#             print(f\"Value: {value_i}, Lon: {lon_i}, Lat: {lat_i}\")\n",
    "            ex_val_list_i.append(value_i)\n",
    "            ex_lon_list_i.append(lon_i)\n",
    "            ex_lat_list_i.append(lat_i)\n",
    "        multiple_ex_val_list.append(ex_val_list_i)\n",
    "        combined_ex_list_i = list(zip(ex_lat_list_i, ex_lon_list_i))\n",
    "        \n",
    "        \n",
    "        \n",
    "        # load MCS labels for this timestep\n",
    "        root_toocan_i = df.iloc[df_i]['img_seg_path']\n",
    "        corresponding_toocan_i = xr.open_dataarray(os.path.join(\"/\",root_toocan_i), engine='netcdf4').load()[0]\n",
    "        combined_corr_toocan_coords_i = list(zip(corresponding_toocan_i.latitude, corresponding_toocan_i.longitude))\n",
    "        \n",
    "        \n",
    "        # Get corresponding MCS label\n",
    "        label_list_i, MCS_index_list_i = [], []\n",
    "        for lat_0_i, lon_0_i in combined_ex_list_i:\n",
    "            i_0_i = (np.where(corresponding_toocan_i.latitude > lat_0_i))[0][0]\n",
    "            j_0_i = (np.where(corresponding_toocan_i.longitude > lon_0_i))[0][0]\n",
    "\n",
    "            label_i = corresponding_toocan_i[i_0_i, j_0_i]\n",
    "            label_list_i.append(label_i)\n",
    "            MCS_index_list_i.append(label_i - 1)\n",
    "        multiple_MCS_index_list.append(MCS_index_list_i)"
   ]
  },
  {
   "cell_type": "code",
   "execution_count": 141,
   "id": "12060fbb-3fd0-44df-8adf-a29b21d45682",
   "metadata": {},
   "outputs": [
    {
     "data": {
      "image/png": "[encoded data removed]",
      "text/plain": [
       "<Figure size 432x288 with 1 Axes>"
      ]
     },
     "metadata": {
      "needs_background": "light"
     },
     "output_type": "display_data"
    }
   ],
   "source": [
    "from decimal import Decimal, ROUND_HALF_UP\n",
    "fig, ax = plt.subplots()\n",
    "plotted_indices = set()  # Set to store already plotted MCS_ex_idx values\n",
    "\n",
    "\n",
    "for idx, mcs_idx_list in enumerate(multiple_MCS_index_list):\n",
    "    if mcs_idx_list: # if list is not empty\n",
    "        \n",
    "        for MCS in range(len(mcs_idx_list)):\n",
    "            MCS_ex = mcs_idx_list[MCS]\n",
    "            if not math.isnan(MCS_ex.item()):\n",
    "                MCS_ex_idx = int(MCS_ex.item())\n",
    "                MCS_attr_ex = getattr(toocan[MCS_ex_idx].clusters, attribute_single_MCS)\n",
    "\n",
    "                num = Decimal(f\"{multiple_ex_val_list[idx][MCS]}\")\n",
    "                rounded_num = num.quantize(Decimal('0.01'), rounding=ROUND_HALF_UP)\n",
    "                plt.plot(Utime_list[MCS_ex_idx], MCS_attr_ex, label=f\"prec {rounded_num}, label {toocan[MCS_ex_idx].label}\") # , label=f\"precip {round(ex_val_list_i[MCS],2)}\"\n",
    "                plotted_indices.add(MCS_ex_idx)  # Add MCS_ex_idx to plotted indices\n",
    "                    \n",
    "plt.xticks(rotation=45)\n",
    "ax.set_xlabel(\"Time\")\n",
    "plt.ylabel(f'{attribute_single_MCS}')\n",
    "plt.title(f\"Extreme MCS\\n{attribute_single_MCS} over Time\")\n",
    "plt.legend(fontsize='x-small')\n",
    "\n",
    "plt.show()"
   ]
  },
  {
   "cell_type": "code",
   "execution_count": null,
   "id": "0e7d14c7-41a1-44e9-a07b-c4a9e6409cbe",
   "metadata": {},
   "outputs": [],
   "source": []
  },
  {
   "cell_type": "code",
   "execution_count": null,
   "id": "f6fea1d7-1b13-45bf-9a15-d5d97301a395",
   "metadata": {},
   "outputs": [],
   "source": []
  },
  {
   "cell_type": "code",
   "execution_count": null,
   "id": "90a6da53-6534-4fbd-9bb6-8c9f9f44bd75",
   "metadata": {},
   "outputs": [],
   "source": []
  },
  {
   "cell_type": "code",
   "execution_count": null,
   "id": "3b015c9a-1d03-41fc-9c59-b6a4db242315",
   "metadata": {},
   "outputs": [],
   "source": []
  },
  {
   "cell_type": "code",
   "execution_count": null,
   "id": "850cf880-e9d6-496c-b63f-6c3abce9a546",
   "metadata": {},
   "outputs": [],
   "source": []
  },
  {
   "cell_type": "code",
   "execution_count": null,
   "id": "df37f5a8-b9e1-48eb-9d04-216e5b638ad4",
   "metadata": {},
   "outputs": [],
   "source": []
  },
  {
   "cell_type": "code",
   "execution_count": null,
   "id": "d8e5702a-2b6f-461f-b7a1-9229a6b8fb15",
   "metadata": {},
   "outputs": [],
   "source": []
  }
 ],
 "metadata": {
  "kernelspec": {
   "display_name": "Python 3",
   "language": "python",
   "name": "python3"
  },
  "language_info": {
   "codemirror_mode": {
    "name": "ipython",
    "version": 3
   },
   "file_extension": ".py",
   "mimetype": "text/x-python",
   "name": "python",
   "nbconvert_exporter": "python",
   "pygments_lexer": "ipython3",
   "version": "3.8.8"
  }
 },
 "nbformat": 4,
 "nbformat_minor": 5
}
