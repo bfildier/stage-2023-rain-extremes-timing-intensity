{
 "cells": [
  {
   "cell_type": "code",
   "execution_count": 17,
   "id": "9eed5684-9661-486a-9673-da02cd169f92",
   "metadata": {},
   "outputs": [],
   "source": [
    "import sys\n",
    "sys.path.append('/home/gmaxemin/code/stage-2023-rain-extremes-timing-intensity/scripts/start')\n",
    "from my_functions import *\n",
    "del anim_singletime_var"
   ]
  },
  {
   "cell_type": "code",
   "execution_count": 34,
   "id": "f3ce3b7e-f1ff-41eb-a79f-b6ec14ddb368",
   "metadata": {},
   "outputs": [],
   "source": [
    "def loadPref_nc_file(i_t, df):\n",
    "    prec = loadPrec(i_t, df)\n",
    "\n",
    "    # Get the timestamp from the file name\n",
    "    file_name = df.loc[i_t, 'path_dyamond']\n",
    "    timestamp = file_name[35:45]\n",
    "\n",
    "    # Specify the output file path and name\n",
    "    output_file = f\"DYAMOND_9216x4608x74_7.5s_4km_4608_{timestamp}.Prec_calculated.2D.nc\"\n",
    "\n",
    "    # Create a new NetCDF dataset\n",
    "    dataset = netCDF4.Dataset(output_file, mode=\"w\", format=\"NETCDF4\")\n",
    "\n",
    "    # Define dimensions\n",
    "    lat_dim = dataset.createDimension(\"lat\", size=prec.shape[0])\n",
    "    lon_dim = dataset.createDimension(\"lon\", size=prec.shape[1])\n",
    "\n",
    "    # Create variables\n",
    "    lat_var = dataset.createVariable(\"lat\", \"f4\", dimensions=(\"lat\",))\n",
    "    lon_var = dataset.createVariable(\"lon\", \"f4\", dimensions=(\"lon\",))\n",
    "    prec_var = dataset.createVariable(\"prec\", \"f4\", dimensions=(\"lat\", \"lon\"))\n",
    "\n",
    "    # Assign values to variables\n",
    "    lat_var[:] = prec.lat.values\n",
    "    lon_var[:] = prec.lon.values\n",
    "    prec_var[:] = prec.values\n",
    "\n",
    "    # Set variable attributes\n",
    "    lat_var.units = \"degrees_north\"\n",
    "    lon_var.units = \"degrees_east\"\n",
    "    prec_var.units = \"mm\"\n",
    "\n",
    "    # Close the dataset\n",
    "    dataset.close()\n",
    "\n",
    "    return output_file"
   ]
  },
  {
   "cell_type": "code",
   "execution_count": 37,
   "id": "6da2909d-0713-4880-b1ab-8dba1b5df012",
   "metadata": {},
   "outputs": [
    {
     "ename": "IndexError",
     "evalue": "tuple index out of range",
     "output_type": "error",
     "traceback": [
      "\u001b[0;31m---------------------------------------------------------------------------\u001b[0m",
      "\u001b[0;31mIndexError\u001b[0m                                Traceback (most recent call last)",
      "Cell \u001b[0;32mIn[42], line 4\u001b[0m\n\u001b[1;32m      2\u001b[0m df \u001b[38;5;241m=\u001b[39m loadRelTable()\n\u001b[1;32m      3\u001b[0m i_t \u001b[38;5;241m=\u001b[39m \u001b[38;5;241m5\u001b[39m\n\u001b[0;32m----> 4\u001b[0m prec_file \u001b[38;5;241m=\u001b[39m \u001b[43mloadPref_nc_file\u001b[49m\u001b[43m(\u001b[49m\u001b[43mi_t\u001b[49m\u001b[43m,\u001b[49m\u001b[43mdf\u001b[49m\u001b[43m)\u001b[49m\n",
      "Cell \u001b[0;32mIn[41], line 21\u001b[0m, in \u001b[0;36mloadPref_nc_file\u001b[0;34m(i_t, df)\u001b[0m\n\u001b[1;32m     19\u001b[0m time_dim \u001b[38;5;241m=\u001b[39m dataset\u001b[38;5;241m.\u001b[39mcreateDimension(\u001b[38;5;124m\"\u001b[39m\u001b[38;5;124mtime\u001b[39m\u001b[38;5;124m\"\u001b[39m, size\u001b[38;5;241m=\u001b[39mprec\u001b[38;5;241m.\u001b[39mshape[\u001b[38;5;241m0\u001b[39m])\n\u001b[1;32m     20\u001b[0m lat_dim \u001b[38;5;241m=\u001b[39m dataset\u001b[38;5;241m.\u001b[39mcreateDimension(\u001b[38;5;124m\"\u001b[39m\u001b[38;5;124mlat\u001b[39m\u001b[38;5;124m\"\u001b[39m, size\u001b[38;5;241m=\u001b[39mprec\u001b[38;5;241m.\u001b[39mshape[\u001b[38;5;241m1\u001b[39m])\n\u001b[0;32m---> 21\u001b[0m lon_dim \u001b[38;5;241m=\u001b[39m dataset\u001b[38;5;241m.\u001b[39mcreateDimension(\u001b[38;5;124m\"\u001b[39m\u001b[38;5;124mlon\u001b[39m\u001b[38;5;124m\"\u001b[39m, size\u001b[38;5;241m=\u001b[39m\u001b[43mprec\u001b[49m\u001b[38;5;241;43m.\u001b[39;49m\u001b[43mshape\u001b[49m\u001b[43m[\u001b[49m\u001b[38;5;241;43m2\u001b[39;49m\u001b[43m]\u001b[49m)\n\u001b[1;32m     23\u001b[0m \u001b[38;5;66;03m# Create variables\u001b[39;00m\n\u001b[1;32m     24\u001b[0m prec_var \u001b[38;5;241m=\u001b[39m dataset\u001b[38;5;241m.\u001b[39mcreateVariable(\u001b[38;5;124m\"\u001b[39m\u001b[38;5;124mprec\u001b[39m\u001b[38;5;124m\"\u001b[39m, \u001b[38;5;124m\"\u001b[39m\u001b[38;5;124mf4\u001b[39m\u001b[38;5;124m\"\u001b[39m, dimensions\u001b[38;5;241m=\u001b[39m(\u001b[38;5;124m\"\u001b[39m\u001b[38;5;124mtime\u001b[39m\u001b[38;5;124m\"\u001b[39m, \u001b[38;5;124m\"\u001b[39m\u001b[38;5;124mlat\u001b[39m\u001b[38;5;124m\"\u001b[39m, \u001b[38;5;124m\"\u001b[39m\u001b[38;5;124mlon\u001b[39m\u001b[38;5;124m\"\u001b[39m))\n",
      "\u001b[0;31mIndexError\u001b[0m: tuple index out of range"
     ]
    }
   ],
   "source": [
    "# test\n",
    "df = loadRelTable()\n",
    "i_t = 5\n",
    "prec_file = loadPref_nc_file(i_t,df)"
   ]
  },
  {
   "cell_type": "code",
   "execution_count": 40,
   "id": "8c730d6d-9d39-4c2c-b673-03df8c5a9a56",
   "metadata": {},
   "outputs": [
    {
     "name": "stdout",
     "output_type": "stream",
     "text": [
      "{'lat': <class 'netCDF4._netCDF4.Variable'>\n",
      "float32 lat(lat)\n",
      "    units: degrees_north\n",
      "unlimited dimensions: \n",
      "current shape = (518,)\n",
      "filling on, default _FillValue of 9.969209968386869e+36 used, 'lon': <class 'netCDF4._netCDF4.Variable'>\n",
      "float32 lon(lon)\n",
      "    units: degrees_east\n",
      "unlimited dimensions: \n",
      "current shape = (896,)\n",
      "filling on, default _FillValue of 9.969209968386869e+36 used, 'prec': <class 'netCDF4._netCDF4.Variable'>\n",
      "float32 prec(lat, lon)\n",
      "    units: mm\n",
      "unlimited dimensions: \n",
      "current shape = (518, 896)\n",
      "filling on, default _FillValue of 9.969209968386869e+36 used}\n",
      "-------------------------------------\n",
      "{'lat': <class 'netCDF4._netCDF4.Dimension'>: name = 'lat', size = 518, 'lon': <class 'netCDF4._netCDF4.Dimension'>: name = 'lon', size = 896}\n",
      "-------------------------------------\n"
     ]
    }
   ],
   "source": [
    "# Open the netCDF file using netCDF4.Dataset\n",
    "dataset = netCDF4.Dataset(prec_file)\n",
    "\n",
    "# Access variables and attributes from the dataset\n",
    "lat = dataset.variables[\"lat\"][:]\n",
    "lon = dataset.variables[\"lon\"][:]\n",
    "prec = dataset.variables[\"prec\"][:]\n",
    "units = dataset.variables[\"prec\"].units\n",
    "\n",
    "print(dataset.variables)\n",
    "print(\"-------------------------------------\")\n",
    "\n",
    "# Print dimensions\n",
    "print(dataset.dimensions)\n",
    "print(\"-------------------------------------\")\n",
    "# Close the dataset\n",
    "dataset.close()"
   ]
  },
  {
   "cell_type": "markdown",
   "id": "50b11ebc-5dc7-4568-aad3-f6f81947a6ca",
   "metadata": {},
   "source": [
    "# This one is good for any variable that is not Precac"
   ]
  },
  {
   "cell_type": "code",
   "execution_count": 5,
   "id": "23ed79cf-95a4-46f8-b5c7-0d6406a11a0d",
   "metadata": {},
   "outputs": [],
   "source": [
    "def anim_singletime_var(variable: str, timestamps: list = None, desired_duration: int = 20, video_path: str = 'output_video.mp4'):\n",
    "    name_dict = {\"OM500\":\"Pressure velocity at 500 mb\", \"T2mm\":\"2-m temperature\", \"OM850\":\"Pressure velocity at 850 mb\", \"Precac\":\"Surface Accum Precip.\", \"PW\":\"Precipitable Water\", \"CWP\":\"Cloud Water Path\", \"U10m\":\"10-m zonal wind\", \"RH500\":\"Relative Humidity 500mb\", \"PSFC\":\"P at the surface\",\"V10m\":\"10-m meridional wind\",\"SHF\":\"Sensible Heat Flux\", \"LHF\":\"Latent Heat Flux\"}\n",
    "    unit_dict = {\"OM500\":\"Pa/s\",\"T2mm\":\"K\", \"OM850\":\"Pa/s\",\"Precac\":\"mm\", \"PW\":\"kg/m²\", \"CWP\":\"kg/m²\", \"U10m\":\"m/s\", \"RH500\":\"\", \"PSFC\":\"mbar\", \"V10m\":\"m/s\",\"SHF\":\"W/m²\", \"LHF\":\"W/m²\"}\n",
    "        \n",
    "    # Search for files containing the desired characters\n",
    "    matching_files = glob.glob(path_2D + '/*{}*'.format(variable))\n",
    "    sorted_files = sorted(matching_files)\n",
    "\n",
    "    # Use all available timestamps if none are provided\n",
    "    if timestamps is None:\n",
    "        timestamps = get_timestamps(sorted_files, 119, 129)\n",
    "\n",
    "    # Get the overall minimum and maximum values of variable_data\n",
    "    min_value = float('inf')\n",
    "    max_value = float('-inf')\n",
    "\n",
    "    # Calculate the overall minimum and maximum values\n",
    "    for timestamp in timestamps:\n",
    "        i_t = find_file_with_string(sorted_files, timestamp, 119, 129)\n",
    "        file = sorted_files[i_t]\n",
    "        dataset = netCDF4.Dataset(file)\n",
    "\n",
    "        variable_data = dataset.variables[variable][:]\n",
    "        min_value = min(min_value, variable_data.min())\n",
    "        max_value = max(max_value, variable_data.max())\n",
    "\n",
    "    # Create a list to store the frames for the video\n",
    "    frames = []\n",
    "\n",
    "    # Generate plots for each timestamp with a progress bar\n",
    "    with tqdm(total=len(timestamps), desc='Generating Frames') as pbar:\n",
    "        for timestamp in timestamps:\n",
    "            i_t = find_file_with_string(sorted_files, timestamp, 119, 129)\n",
    "            file = sorted_files[i_t]\n",
    "            dataset = netCDF4.Dataset(file)\n",
    "\n",
    "            # Getting data\n",
    "            variable_data = dataset.variables[variable][:]\n",
    "            # Get the lon and lat values\n",
    "            lon = dataset.variables['lon'][:]\n",
    "            lat = dataset.variables['lat'][:]\n",
    "\n",
    "            # Plot the variable\n",
    "            fig, ax = plt.subplots()\n",
    "            \n",
    "            img = ax.imshow(variable_data[0, :, :], origin='lower', extent=[lon.min(), lon.max(), lat.min(), lat.max()])\n",
    "\n",
    "            plt.xlabel('Longitude (° East)')\n",
    "            plt.ylabel('Latitude (° North)')\n",
    "            title = f\"DYAMOND SAM {name_dict.get(variable)}\\nTime Stamp: {timestamp}\"\n",
    "            plt.title(title)\n",
    "            # ax.grid(True, linestyle='--', linewidth=0.5, color='white', alpha=0.5)\n",
    "            if variable == \"RH500\":\n",
    "                cbar = plt.colorbar(img)  # Use the variable im here to create the colorbar\n",
    "            else:\n",
    "                cbar = plt.colorbar(img, label=unit_dict.get(variable))  # Use the variable im here to create the colorbar\n",
    "            \n",
    "            \n",
    "\n",
    "            # Set consistent colorbar limits\n",
    "            img.set_clim(min_value, max_value)\n",
    "\n",
    "            # Convert the plot to an image frame\n",
    "            fig.canvas.draw()\n",
    "            frame = np.array(fig.canvas.renderer._renderer)\n",
    "            frames.append(frame)\n",
    "\n",
    "            plt.close(fig)\n",
    "\n",
    "            # Update the progress bar\n",
    "            pbar.set_postfix({'Timestamp': timestamp})\n",
    "            pbar.update(1)\n",
    "\n",
    "    # Calculate the desired fps based on the desired duration\n",
    "    num_frames = len(frames)\n",
    "    fps = math.ceil(num_frames / desired_duration)\n",
    "\n",
    "    # Save the frames as a video with the desired fps\n",
    "    imageio.mimsave(video_path, frames, fps=fps)\n",
    "\n",
    "    print(f'Video saved to: {video_path}')\n"
   ]
  },
  {
   "cell_type": "code",
   "execution_count": null,
   "id": "1d9b8ef9-853f-49b4-902c-5ac717d67146",
   "metadata": {},
   "outputs": [
    {
     "name": "stderr",
     "output_type": "stream",
     "text": [
      "Generating Frames: 100%|███████████████████████████████████████████████████████████████████| 117/117 [00:53<00:00,  2.17it/s, Timestamp=0000460800]\n"
     ]
    },
    {
     "name": "stdout",
     "output_type": "stream",
     "text": [
      "Video saved to: OM500_test1.mp4\n"
     ]
    }
   ],
   "source": [
    "anim_singletime_var(variable=\"OM500\", video_path=\"OM500_test1.mp4\")"
   ]
  },
  {
   "cell_type": "markdown",
   "id": "0730030c-5320-47d9-9bc4-43d384090ef2",
   "metadata": {},
   "source": [
    "# Trying to edit the above for Precac"
   ]
  },
  {
   "cell_type": "markdown",
   "id": "68fe1017-0f07-475a-834d-e6cece6b2673",
   "metadata": {},
   "source": [
    "## test 1"
   ]
  },
  {
   "cell_type": "code",
   "execution_count": 55,
   "id": "02343fc7-b55f-4f6f-87e2-29d8ad76ee1f",
   "metadata": {},
   "outputs": [],
   "source": [
    "def anim_singletime_var_Precac(variable: str, timestamps: list = None, desired_duration: int = 20, video_path: str = 'output_video.mp4'):\n",
    "    name_dict = {\"OM500\":\"Pressure velocity at 500 mb\", \"T2mm\":\"2-m temperature\", \"OM850\":\"Pressure velocity at 850 mb\", \"Precac\":\"Surface Accum Precip.\", \"PW\":\"Precipitable Water\", \"CWP\":\"Cloud Water Path\", \"U10m\":\"10-m zonal wind\", \"RH500\":\"Relative Humidity 500mb\", \"PSFC\":\"P at the surface\",\"V10m\":\"10-m meridional wind\",\"SHF\":\"Sensible Heat Flux\", \"LHF\":\"Latent Heat Flux\"}\n",
    "    unit_dict = {\"OM500\":\"Pa/s\",\"T2mm\":\"K\", \"OM850\":\"Pa/s\",\"Precac\":\"mm\", \"PW\":\"kg/m²\", \"CWP\":\"kg/m²\", \"U10m\":\"m/s\", \"RH500\":\"\", \"PSFC\":\"mbar\", \"V10m\":\"m/s\",\"SHF\":\"W/m²\", \"LHF\":\"W/m²\"}\n",
    "\n",
    "    ### edit\n",
    "    min_value = float('inf')\n",
    "    max_value = float('-inf')\n",
    "    \n",
    "    if variable == \"Precac\":\n",
    "        df = loadRelTable() # load relation table\n",
    "        # Use all available timestamps if none are provided\n",
    "        if timestamps is None:\n",
    "            sorted_files = df['path_dyamond'].tolist()\n",
    "            timestamps = get_timestamps(sorted_files, 35, 45) # 35 to 45 are the timestamp string characters\n",
    "            \n",
    "        for timestamp in timestamps:\n",
    "            seg_index = timestamp_to_seg_index(timestamp)\n",
    "            if seg_index == 0:\n",
    "                seg_index = 1\n",
    "                print(\"i_t:\", seg_index)\n",
    "            prec = loadPrec(seg_index, df)\n",
    "            prec_filename = loadPrecacFilename(seg_index, df)\n",
    "            \n",
    "            # Replace negative values with NaN\n",
    "            prec = xr.where(prec < 0, np.nan, prec)\n",
    "            variable_data = prec.values\n",
    "            lon = prec.lon.values\n",
    "            lat = prec.lat.values\n",
    "            min_value = min(min_value, variable_data.min())\n",
    "            max_value = max(max_value, variable_data.max())\n",
    "\n",
    "    else:\n",
    "        # Search for files containing the desired characters\n",
    "        matching_files = glob.glob(path_2D + '/*{}*'.format(variable))\n",
    "        sorted_files = sorted(matching_files)\n",
    "\n",
    "        # Use all available timestamps if none are provided\n",
    "        if timestamps is None:\n",
    "            timestamps = get_timestamps(sorted_files, 119, 129)\n",
    "\n",
    "        # Get the overall minimum and maximum values of variable_data\n",
    "\n",
    "\n",
    "        # Calculate the overall minimum and maximum values\n",
    "        for timestamp in timestamps:\n",
    "            i_t = find_file_with_string(sorted_files, timestamp, 119, 129)\n",
    "            file = sorted_files[i_t]\n",
    "            dataset = netCDF4.Dataset(file)\n",
    "\n",
    "            variable_data = dataset.variables[variable][:]\n",
    "            min_value = min(min_value, variable_data.min())\n",
    "            max_value = max(max_value, variable_data.max())\n",
    "    ### edit\n",
    "\n",
    "    # Create a list to store the frames for the video\n",
    "    frames = []\n",
    "\n",
    "    # Generate plots for each timestamp with a progress bar\n",
    "    with tqdm(total=len(timestamps), desc='Generating Frames') as pbar:\n",
    "        for timestamp in timestamps:\n",
    "            if variable == \"Precac\":\n",
    "                df = loadRelTable() # load relation table\n",
    "                # Use all available timestamps if none are provided\n",
    "                if timestamps is None:\n",
    "                    sorted_files = df['path_dyamond'].tolist()\n",
    "                    timestamps = get_timestamps(sorted_files, 35, 45) # 35 to 45 are the timestamp string characters\n",
    "\n",
    "                for timestamp in timestamps:\n",
    "                    seg_index = timestamp_to_seg_index(timestamp)\n",
    "                    if seg_index == 0:\n",
    "                        seg_index = 1\n",
    "                        print(\"i_t:\", seg_index)\n",
    "                    prec = loadPrec(seg_index, df)\n",
    "                    prec_filename = loadPrecacFilename(seg_index, df)\n",
    "\n",
    "                    # Replace negative values with NaN\n",
    "                    prec = xr.where(prec < 0, np.nan, prec)\n",
    "                    variable_data = prec.values\n",
    "                    lon = prec.lon.values\n",
    "                    lat = prec.lat.values\n",
    "            else:\n",
    "                i_t = find_file_with_string(sorted_files, timestamp, 119, 129)\n",
    "                file = sorted_files[i_t]\n",
    "                dataset = netCDF4.Dataset(file)\n",
    "\n",
    "                # Getting data\n",
    "                variable_data = dataset.variables[variable][:]\n",
    "                # Get the lon and lat values\n",
    "                lon = dataset.variables['lon'][:]\n",
    "                lat = dataset.variables['lat'][:]\n",
    "\n",
    "            # Plot the variable\n",
    "            print(variable_data.shape)\n",
    "            fig, ax = plt.subplots()\n",
    "            \n",
    "            if variable == \"Precac\":\n",
    "                img = ax.imshow(variable_data, origin='lower', extent=[lon.min(), lon.max(), lat.min(), lat.max()])\n",
    "            else:\n",
    "                img = ax.imshow(variable_data[0, :, :], origin='lower', extent=[lon.min(), lon.max(), lat.min(), lat.max()])\n",
    "            plt.xlabel('Longitude (° East)')\n",
    "            plt.ylabel('Latitude (° North)')\n",
    "            title = f\"DYAMOND SAM {name_dict.get(variable)}\\nTime Stamp: {timestamp}\"\n",
    "            plt.title(title)\n",
    "            # ax.grid(True, linestyle='--', linewidth=0.5, color='white', alpha=0.5)\n",
    "            if variable == \"RH500\":\n",
    "                cbar = plt.colorbar(img)  # Use the variable im here to create the colorbar\n",
    "            else:\n",
    "                cbar = plt.colorbar(img, label=unit_dict.get(variable))  # Use the variable im here to create the colorbar\n",
    "            \n",
    "            \n",
    "\n",
    "            # Set consistent colorbar limits\n",
    "            img.set_clim(min_value, max_value)\n",
    "\n",
    "            # Convert the plot to an image frame\n",
    "            fig.canvas.draw()\n",
    "            frame = np.array(fig.canvas.renderer._renderer)\n",
    "            frames.append(frame)\n",
    "\n",
    "            plt.close(fig)\n",
    "\n",
    "            # Update the progress bar\n",
    "            pbar.set_postfix({'Timestamp': timestamp})\n",
    "            pbar.update(1)\n",
    "\n",
    "    # Calculate the desired fps based on the desired duration\n",
    "    num_frames = len(frames)\n",
    "    fps = math.ceil(num_frames / desired_duration)\n",
    "\n",
    "    # Save the frames as a video with the desired fps\n",
    "    imageio.mimsave(video_path, frames, fps=fps)\n",
    "\n",
    "    print(f'Video saved to: {video_path}')\n"
   ]
  },
  {
   "cell_type": "code",
   "execution_count": 56,
   "id": "cec6f221-e904-4ccb-9cd0-08c3989dea19",
   "metadata": {},
   "outputs": [
    {
     "name": "stderr",
     "output_type": "stream",
     "text": [
      "Generating Frames:  33%|███████████████████████▋                                               | 1/3 [00:01<00:03,  1.53s/it, Timestamp=0000001680]"
     ]
    },
    {
     "name": "stdout",
     "output_type": "stream",
     "text": [
      "(518, 896)\n"
     ]
    },
    {
     "name": "stderr",
     "output_type": "stream",
     "text": [
      "Generating Frames:  67%|███████████████████████████████████████████████▎                       | 2/3 [00:03<00:01,  1.52s/it, Timestamp=0000001680]"
     ]
    },
    {
     "name": "stdout",
     "output_type": "stream",
     "text": [
      "(518, 896)\n"
     ]
    },
    {
     "name": "stderr",
     "output_type": "stream",
     "text": [
      "Generating Frames: 100%|███████████████████████████████████████████████████████████████████████| 3/3 [00:04<00:00,  1.52s/it, Timestamp=0000001680]"
     ]
    },
    {
     "name": "stdout",
     "output_type": "stream",
     "text": [
      "(518, 896)\n"
     ]
    },
    {
     "name": "stderr",
     "output_type": "stream",
     "text": [
      "Generating Frames: 100%|███████████████████████████████████████████████████████████████████████| 3/3 [00:04<00:00,  1.52s/it, Timestamp=0000001680]"
     ]
    },
    {
     "name": "stdout",
     "output_type": "stream",
     "text": [
      "Video saved to: prec_test1.mp4\n"
     ]
    },
    {
     "name": "stderr",
     "output_type": "stream",
     "text": [
      "\n"
     ]
    }
   ],
   "source": [
    "anim_singletime_var_Precac(variable=\"Precac\", timestamps=[\"0000001200\", \"0000001440\", \"0000001680\"], video_path=\"prec_test1.mp4\")"
   ]
  },
  {
   "cell_type": "markdown",
   "id": "1fa3329d-536b-4873-ab8c-00666cf2d232",
   "metadata": {},
   "source": [
    "## test 2\n",
    "* this one works when I feed it a list of three timestamps that are in the middle\n",
    "* this one is not log scale"
   ]
  },
  {
   "cell_type": "code",
   "execution_count": 107,
   "id": "5abfea12-a718-4285-ada7-7ba70f74dcb8",
   "metadata": {},
   "outputs": [],
   "source": [
    "def anim_singletime_var_Precac(variable: str, timestamps: list = None, desired_duration: int = 20, video_path: str = 'output_video.mp4'):\n",
    "    name_dict = {\"OM500\": \"Pressure velocity at 500 mb\", \"T2mm\": \"2-m temperature\", \"OM850\": \"Pressure velocity at 850 mb\", \"Precac\": \"Surface Accum Precip.\", \"PW\": \"Precipitable Water\", \"CWP\": \"Cloud Water Path\", \"U10m\": \"10-m zonal wind\", \"RH500\": \"Relative Humidity 500mb\", \"PSFC\": \"P at the surface\", \"V10m\": \"10-m meridional wind\", \"SHF\": \"Sensible Heat Flux\", \"LHF\": \"Latent Heat Flux\"}\n",
    "    unit_dict = {\"OM500\": \"Pa/s\", \"T2mm\": \"K\", \"OM850\": \"Pa/s\", \"Precac\": \"mm\", \"PW\": \"kg/m²\", \"CWP\": \"kg/m²\", \"U10m\": \"m/s\", \"RH500\": \"\", \"PSFC\": \"mbar\", \"V10m\": \"m/s\", \"SHF\": \"W/m²\", \"LHF\": \"W/m²\"}\n",
    "\n",
    "    min_value = float('inf')\n",
    "    max_value = float('-inf')\n",
    "\n",
    "    if variable == \"Precac\":\n",
    "        df = loadRelTable() # load relation table\n",
    "\n",
    "        if timestamps is None:\n",
    "            sorted_files = df['path_dyamond'].tolist()\n",
    "            timestamps = get_timestamps(sorted_files, 35, 45)\n",
    "\n",
    "        for timestamp in timestamps:\n",
    "            seg_index = timestamp_to_seg_index(timestamp)\n",
    "            if seg_index == 0:\n",
    "                seg_index = 1\n",
    "                print(\"i_t:\", seg_index)\n",
    "            prec = loadPrec(seg_index, df)\n",
    "            prec_filename = loadPrecacFilename(seg_index, df)\n",
    "\n",
    "            # Replace negative values with NaN\n",
    "            prec = xr.where(prec < 0, np.nan, prec)\n",
    "            variable_data = prec.values\n",
    "            lon = prec.lon.values\n",
    "            lat = prec.lat.values\n",
    "            min_value = min(min_value, variable_data.min())\n",
    "            max_value = max(max_value, variable_data.max())\n",
    "\n",
    "    else:\n",
    "        matching_files = glob.glob(path_2D + '/*{}*'.format(variable))\n",
    "        sorted_files = sorted(matching_files)\n",
    "\n",
    "        if timestamps is None:\n",
    "            timestamps = get_timestamps(sorted_files, 119, 129)\n",
    "\n",
    "        for timestamp in timestamps:\n",
    "            i_t = find_file_with_string(sorted_files, timestamp, 119, 129)\n",
    "            file = sorted_files[i_t]\n",
    "            dataset = netCDF4.Dataset(file)\n",
    "\n",
    "            variable_data = dataset.variables[variable][:]\n",
    "            min_value = min(min_value, variable_data.min())\n",
    "            max_value = max(max_value, variable_data.max())\n",
    "\n",
    "    frames = []\n",
    "\n",
    "    with tqdm(total=len(timestamps), desc='Generating Frames') as pbar:\n",
    "        for timestamp in timestamps:\n",
    "            if variable == \"Precac\":\n",
    "                df = loadRelTable() # load relation table\n",
    "\n",
    "                if timestamps is None:\n",
    "                    sorted_files = df['path_dyamond'].tolist()\n",
    "                    timestamps = get_timestamps(sorted_files, 35, 45)\n",
    "\n",
    "                seg_index = timestamp_to_seg_index(timestamp)\n",
    "                if seg_index == 0:\n",
    "                    seg_index = 1\n",
    "                    print(\"i_t:\", seg_index)\n",
    "                prec = loadPrec(seg_index, df)\n",
    "                prec_filename = loadPrecacFilename(seg_index, df)\n",
    "\n",
    "                # Replace negative values with NaN\n",
    "                prec = xr.where(prec < 0, np.nan, prec)\n",
    "                variable_data = prec.values\n",
    "                lon = prec.lon.values\n",
    "                lat = prec.lat.values\n",
    "            else:\n",
    "                i_t = find_file_with_string(sorted_files, timestamp, 119, 129)\n",
    "                file = sorted_files[i_t]\n",
    "                dataset = netCDF4.Dataset(file)\n",
    "\n",
    "                # Getting data\n",
    "                variable_data = dataset.variables[variable][:]\n",
    "                # Get the lon and lat values\n",
    "                lon = dataset.variables['lon'][:]\n",
    "                lat = dataset.variables['lat'][:]\n",
    "\n",
    "            fig, ax = plt.subplots()\n",
    "\n",
    "            if variable == \"Precac\":\n",
    "                img = ax.imshow(variable_data, origin='lower', extent=[lon.min(), lon.max(), lat.min(), lat.max()])\n",
    "            else:\n",
    "                img = ax.imshow(variable_data[0, :, :], origin='lower', extent=[lon.min(), lon.max(), lat.min(), lat.max()])\n",
    "            plt.xlabel('Longitude (° East)')\n",
    "            plt.ylabel('Latitude (° North)')\n",
    "            title = f\"DYAMOND SAM {name_dict.get(variable)}\\nTime Stamp: {timestamp}\"\n",
    "            plt.title(title)\n",
    "            \n",
    "            if variable == \"RH500\":\n",
    "                cbar = plt.colorbar(img)\n",
    "            else:\n",
    "                cbar = plt.colorbar(img, label=unit_dict.get(variable))\n",
    "\n",
    "            img.set_clim(min_value, max_value)\n",
    "\n",
    "            fig.canvas.draw()\n",
    "            frame = np.array(fig.canvas.renderer._renderer)\n",
    "            frames.append(frame)\n",
    "\n",
    "            plt.close(fig)\n",
    "\n",
    "            pbar.set_postfix({'Timestamp': timestamp})\n",
    "            pbar.update(1)\n",
    "\n",
    "    num_frames = len(frames)\n",
    "    fps = math.ceil(num_frames / desired_duration)\n",
    "\n",
    "    imageio.mimsave(video_path, frames, fps=fps)\n",
    "\n",
    "    print(f'Video saved to: {video_path}')\n"
   ]
  },
  {
   "cell_type": "code",
   "execution_count": 108,
   "id": "b236934f-18cd-4be7-b3d3-7dce4121e520",
   "metadata": {},
   "outputs": [
    {
     "name": "stderr",
     "output_type": "stream",
     "text": [
      "Generating Frames: 100%|███████████████████████████████████████████████████████████████████████| 3/3 [00:02<00:00,  1.47it/s, Timestamp=0000001680]"
     ]
    },
    {
     "name": "stdout",
     "output_type": "stream",
     "text": [
      "Video saved to: prec_test2.mp4\n"
     ]
    },
    {
     "name": "stderr",
     "output_type": "stream",
     "text": [
      "\n"
     ]
    }
   ],
   "source": [
    "anim_singletime_var_Precac(variable=\"Precac\", timestamps=[\"0000001200\", \"0000001440\", \"0000001680\"], video_path=\"prec_test2.mp4\")"
   ]
  },
  {
   "cell_type": "markdown",
   "id": "4f564f4f-0066-4c44-93a4-caf8db3a74fb",
   "metadata": {},
   "source": [
    "## test 3"
   ]
  },
  {
   "cell_type": "code",
   "execution_count": 115,
   "id": "b0cfcbbb-88d4-4d8f-94e9-4e981aa75298",
   "metadata": {},
   "outputs": [],
   "source": [
    "import math\n",
    "import matplotlib.pyplot as plt\n",
    "import numpy as np\n",
    "import imageio\n",
    "from matplotlib.colors import LogNorm\n",
    "from tqdm import tqdm\n",
    "\n",
    "def anim_singletime_var_Precac(variable: str, timestamps: list = None, desired_duration: int = 20, video_path: str = 'output_video.mp4'):\n",
    "    name_dict = {\"OM500\": \"Pressure velocity at 500 mb\", \"T2mm\": \"2-m temperature\", \"OM850\": \"Pressure velocity at 850 mb\", \"Precac\": \"Surface Accum Precip.\", \"PW\": \"Precipitable Water\", \"CWP\": \"Cloud Water Path\", \"U10m\": \"10-m zonal wind\", \"RH500\": \"Relative Humidity 500mb\", \"PSFC\": \"P at the surface\", \"V10m\": \"10-m meridional wind\", \"SHF\": \"Sensible Heat Flux\", \"LHF\": \"Latent Heat Flux\"}\n",
    "    unit_dict = {\"OM500\": \"Pa/s\", \"T2mm\": \"K\", \"OM850\": \"Pa/s\", \"Precac\": \"mm\", \"PW\": \"kg/m²\", \"CWP\": \"kg/m²\", \"U10m\": \"m/s\", \"RH500\": \"\", \"PSFC\": \"mbar\", \"V10m\": \"m/s\", \"SHF\": \"W/m²\", \"LHF\": \"W/m²\"}\n",
    "\n",
    "    frames = []\n",
    "    min_value = float('inf')\n",
    "    max_value = float('-inf')\n",
    "\n",
    "    with tqdm(total=len(timestamps), desc='Generating Frames') as pbar:\n",
    "        for timestamp in timestamps:\n",
    "            if variable == \"Precac\":\n",
    "                seg_index = timestamp_to_seg_index(timestamp)\n",
    "                print(\"i_t:\", seg_index)\n",
    "                df = loadRelTable()\n",
    "                if seg_index == 0:\n",
    "                    seg_index = 1\n",
    "                prec = loadPrec(seg_index, df)\n",
    "                prec_filename = loadPrecacFilename(seg_index, df)\n",
    "\n",
    "                # Replace negative values with NaN\n",
    "                prec = xr.where(prec < 0, np.nan, prec)\n",
    "\n",
    "                variable_data = prec.values\n",
    "                lon = prec.lon.values\n",
    "                lat = prec.lat.values\n",
    "                fig, ax = plt.subplots()\n",
    "\n",
    "                # Apply logarithmic scaling for positive values\n",
    "                positive_data = np.where(variable_data > 0, np.log(variable_data), 0)\n",
    "                # Plot the variable data\n",
    "                im = ax.imshow(positive_data, origin='lower', extent=[lon.min(), lon.max(), lat.min(), lat.max()], norm=LogNorm(vmin=0.0001))\n",
    "\n",
    "                # Compute vmin and vmax based on non-NaN values\n",
    "                valid_values = positive_data[~np.isnan(positive_data)]\n",
    "                vmin = np.min(valid_values)\n",
    "                vmax = np.max(valid_values)\n",
    "\n",
    "            else:\n",
    "                # Rest of the code...\n",
    "                matching_files = glob.glob(path_2D + '/*{}*'.format(variable))\n",
    "                sorted_files = sorted(matching_files)\n",
    "                i_t = find_file_with_string(sorted_files, timestamp, 119, 129)  # finds index in list of files (119:129 are character indices for time stamp)\n",
    "\n",
    "                file = sorted_files[i_t]\n",
    "                dataset = netCDF4.Dataset(file)\n",
    "\n",
    "                # Getting data\n",
    "                variable_data = dataset.variables[variable][:]\n",
    "                # Get the lon and lat values\n",
    "                lon = dataset.variables['lon'][:]\n",
    "                lat = dataset.variables['lat'][:]\n",
    "                # Plot the variable data and assign it to a variable\n",
    "                fig, ax = plt.subplots()\n",
    "                im = ax.imshow(variable_data[0, :, :], origin='lower', extent=[lon.min(), lon.max(), lat.min(), lat.max()])\n",
    "\n",
    "                # Compute vmin and vmax based on the entire data range\n",
    "                vmin = np.min(variable_data)\n",
    "                vmax = np.max(variable_data)\n",
    "\n",
    "            plt.xlabel('Longitude (° East)')\n",
    "            plt.ylabel('Latitude (° North)')\n",
    "            title = f\"DYAMOND SAM {name_dict.get(variable)}\\nTime Stamp: {timestamp}\"\n",
    "            plt.title(title)\n",
    "\n",
    "            if variable == \"RH500\":\n",
    "                cbar = plt.colorbar(im)  # Use the variable im here to create the colorbar\n",
    "            else:\n",
    "                cbar = plt.colorbar(im, label=unit_dict.get(variable))  # Use the variable im here to create the colorbar\n",
    "\n",
    "            # Set the vmin and vmax for the colorbar\n",
    "            cbar.set_clim(vmin, vmax)\n",
    "\n",
    "            fig.canvas.draw()\n",
    "            frame = np.array(fig.canvas.renderer._renderer)\n",
    "            frames.append(frame)\n",
    "\n",
    "            plt.close(fig)\n",
    "\n",
    "            pbar.set_postfix({'Timestamp': timestamp})\n",
    "            pbar.update(1)\n",
    "\n",
    "    num_frames = len(frames)\n",
    "    fps = math.ceil(num_frames / desired_duration)\n",
    "\n",
    "    imageio.mimsave(video_path, frames, fps=fps)\n",
    "\n",
    "    print(f'Video saved to: {video_path}')\n"
   ]
  },
  {
   "cell_type": "code",
   "execution_count": 116,
   "id": "143e3a3b-cc39-4562-b57d-518f2bff575b",
   "metadata": {},
   "outputs": [
    {
     "name": "stderr",
     "output_type": "stream",
     "text": [
      "Generating Frames:   0%|                                                                                                     | 0/3 [00:00<?, ?it/s]"
     ]
    },
    {
     "name": "stdout",
     "output_type": "stream",
     "text": [
      "i_t: 2\n"
     ]
    },
    {
     "name": "stderr",
     "output_type": "stream",
     "text": [
      "/tmp/ipykernel_2141888/816225681.py:36: RuntimeWarning: divide by zero encountered in log\n",
      "  positive_data = np.where(variable_data > 0, np.log(variable_data), 0)\n",
      "Generating Frames:   0%|                                                                                                     | 0/3 [00:00<?, ?it/s]\n"
     ]
    },
    {
     "ename": "AttributeError",
     "evalue": "'Colorbar' object has no attribute 'set_clim'",
     "output_type": "error",
     "traceback": [
      "\u001b[0;31m---------------------------------------------------------------------------\u001b[0m",
      "\u001b[0;31mAttributeError\u001b[0m                            Traceback (most recent call last)",
      "Cell \u001b[0;32mIn[116], line 1\u001b[0m\n\u001b[0;32m----> 1\u001b[0m \u001b[43manim_singletime_var_Precac\u001b[49m\u001b[43m(\u001b[49m\u001b[43mvariable\u001b[49m\u001b[38;5;241;43m=\u001b[39;49m\u001b[38;5;124;43m\"\u001b[39;49m\u001b[38;5;124;43mPrecac\u001b[39;49m\u001b[38;5;124;43m\"\u001b[39;49m\u001b[43m,\u001b[49m\u001b[43m \u001b[49m\u001b[43mtimestamps\u001b[49m\u001b[38;5;241;43m=\u001b[39;49m\u001b[43m[\u001b[49m\u001b[38;5;124;43m\"\u001b[39;49m\u001b[38;5;124;43m0000001200\u001b[39;49m\u001b[38;5;124;43m\"\u001b[39;49m\u001b[43m,\u001b[49m\u001b[43m \u001b[49m\u001b[38;5;124;43m\"\u001b[39;49m\u001b[38;5;124;43m0000001440\u001b[39;49m\u001b[38;5;124;43m\"\u001b[39;49m\u001b[43m,\u001b[49m\u001b[43m \u001b[49m\u001b[38;5;124;43m\"\u001b[39;49m\u001b[38;5;124;43m0000001680\u001b[39;49m\u001b[38;5;124;43m\"\u001b[39;49m\u001b[43m]\u001b[49m\u001b[43m,\u001b[49m\u001b[43m \u001b[49m\u001b[43mvideo_path\u001b[49m\u001b[38;5;241;43m=\u001b[39;49m\u001b[38;5;124;43m\"\u001b[39;49m\u001b[38;5;124;43mprec_test3.mp4\u001b[39;49m\u001b[38;5;124;43m\"\u001b[39;49m\u001b[43m)\u001b[49m\n",
      "Cell \u001b[0;32mIn[115], line 78\u001b[0m, in \u001b[0;36manim_singletime_var_Precac\u001b[0;34m(variable, timestamps, desired_duration, video_path)\u001b[0m\n\u001b[1;32m     75\u001b[0m     cbar \u001b[38;5;241m=\u001b[39m plt\u001b[38;5;241m.\u001b[39mcolorbar(im, label\u001b[38;5;241m=\u001b[39munit_dict\u001b[38;5;241m.\u001b[39mget(variable))  \u001b[38;5;66;03m# Use the variable im here to create the colorbar\u001b[39;00m\n\u001b[1;32m     77\u001b[0m \u001b[38;5;66;03m# Set the vmin and vmax for the colorbar\u001b[39;00m\n\u001b[0;32m---> 78\u001b[0m \u001b[43mcbar\u001b[49m\u001b[38;5;241;43m.\u001b[39;49m\u001b[43mset_clim\u001b[49m(vmin, vmax)\n\u001b[1;32m     80\u001b[0m fig\u001b[38;5;241m.\u001b[39mcanvas\u001b[38;5;241m.\u001b[39mdraw()\n\u001b[1;32m     81\u001b[0m frame \u001b[38;5;241m=\u001b[39m np\u001b[38;5;241m.\u001b[39marray(fig\u001b[38;5;241m.\u001b[39mcanvas\u001b[38;5;241m.\u001b[39mrenderer\u001b[38;5;241m.\u001b[39m_renderer)\n",
      "\u001b[0;31mAttributeError\u001b[0m: 'Colorbar' object has no attribute 'set_clim'"
     ]
    },
    {
     "data": {
      "image/png": "[encoded data removed]",
      "text/plain": [
       "<Figure size 640x480 with 2 Axes>"
      ]
     },
     "metadata": {},
     "output_type": "display_data"
    }
   ],
   "source": [
    "anim_singletime_var_Precac(variable=\"Precac\", timestamps=[\"0000001200\", \"0000001440\", \"0000001680\"], video_path=\"prec_test3.mp4\")"
   ]
  },
  {
   "cell_type": "code",
   "execution_count": 119,
   "id": "e051080a-139e-49c6-aefc-80b7c41dfe6b",
   "metadata": {},
   "outputs": [],
   "source": [
    "# 5"
   ]
  },
  {
   "cell_type": "code",
   "execution_count": 120,
   "id": "9650657a-61f3-40e8-8314-9b110b4358d1",
   "metadata": {},
   "outputs": [],
   "source": [
    "import math\n",
    "import matplotlib.pyplot as plt\n",
    "import numpy as np\n",
    "import imageio\n",
    "from matplotlib.colors import LogNorm\n",
    "from tqdm import tqdm\n",
    "\n",
    "def anim_singletime_var_Precac(variable: str, timestamps: list = None, desired_duration: int = 20, video_path: str = 'output_video.mp4'):\n",
    "    name_dict = {\"OM500\": \"Pressure velocity at 500 mb\", \"T2mm\": \"2-m temperature\", \"OM850\": \"Pressure velocity at 850 mb\", \"Precac\": \"Surface Accum Precip.\", \"PW\": \"Precipitable Water\", \"CWP\": \"Cloud Water Path\", \"U10m\": \"10-m zonal wind\", \"RH500\": \"Relative Humidity 500mb\", \"PSFC\": \"P at the surface\", \"V10m\": \"10-m meridional wind\", \"SHF\": \"Sensible Heat Flux\", \"LHF\": \"Latent Heat Flux\"}\n",
    "    unit_dict = {\"OM500\": \"Pa/s\", \"T2mm\": \"K\", \"OM850\": \"Pa/s\", \"Precac\": \"mm\", \"PW\": \"kg/m²\", \"CWP\": \"kg/m²\", \"U10m\": \"m/s\", \"RH500\": \"\", \"PSFC\": \"mbar\", \"V10m\": \"m/s\", \"SHF\": \"W/m²\", \"LHF\": \"W/m²\"}\n",
    "\n",
    "    frames = []\n",
    "    min_value = float('inf')\n",
    "    max_value = float('-inf')\n",
    "\n",
    "    with tqdm(total=len(timestamps), desc='Generating Frames') as pbar:\n",
    "        for timestamp in timestamps:\n",
    "            if variable == \"Precac\":\n",
    "                seg_index = timestamp_to_seg_index(timestamp)\n",
    "                print(\"i_t:\", seg_index)\n",
    "                df = loadRelTable()\n",
    "                if seg_index == 0:\n",
    "                    seg_index = 1\n",
    "                prec = loadPrec(seg_index, df)\n",
    "                prec_filename = loadPrecacFilename(seg_index, df)\n",
    "\n",
    "                # Replace negative values with NaN\n",
    "                prec = xr.where(prec < 0, np.nan, prec)\n",
    "\n",
    "                variable_data = prec.values\n",
    "                lon = prec.lon.values\n",
    "                lat = prec.lat.values\n",
    "                fig, ax = plt.subplots()\n",
    "\n",
    "                # Apply logarithmic scaling for positive values\n",
    "                positive_data = np.where(variable_data > 0, np.log(variable_data), 0)\n",
    "                # Plot the variable data\n",
    "                im = ax.imshow(positive_data, origin='lower', extent=[lon.min(), lon.max(), lat.min(), lat.max()], norm=LogNorm(vmin=0.0001))\n",
    "\n",
    "                # Compute vmin and vmax based on non-NaN values\n",
    "                valid_values = positive_data[~np.isnan(positive_data)]\n",
    "                vmin = np.min(valid_values)\n",
    "                vmax = np.max(valid_values)\n",
    "\n",
    "            else:\n",
    "                # Rest of the code...\n",
    "                matching_files = glob.glob(path_2D + '/*{}*'.format(variable))\n",
    "                sorted_files = sorted(matching_files)\n",
    "                i_t = find_file_with_string(sorted_files, timestamp, 119, 129)  # finds index in list of files (119:129 are character indices for time stamp)\n",
    "\n",
    "                file = sorted_files[i_t]\n",
    "                dataset = netCDF4.Dataset(file)\n",
    "\n",
    "                # Getting data\n",
    "                variable_data = dataset.variables[variable][:]\n",
    "                # Get the lon and lat values\n",
    "                lon = dataset.variables['lon'][:]\n",
    "                lat = dataset.variables['lat'][:]\n",
    "                # Plot the variable data and assign it to a variable\n",
    "                fig, ax = plt.subplots()\n",
    "                im = ax.imshow(variable_data[0, :, :], origin='lower', extent=[lon.min(), lon.max(), lat.min(), lat.max()])\n",
    "\n",
    "                # Compute vmin and vmax based on the entire data range\n",
    "                vmin = np.min(variable_data)\n",
    "                vmax = np.max(variable_data)\n",
    "\n",
    "            plt.xlabel('Longitude (° East)')\n",
    "            plt.ylabel('Latitude (° North)')\n",
    "            title = f\"DYAMOND SAM {name_dict.get(variable)}\\nTime Stamp: {timestamp}\"\n",
    "            plt.title(title)\n",
    "\n",
    "            if variable == \"RH500\":\n",
    "                cbar = plt.colorbar(im)  # Use the variable im here to create the colorbar\n",
    "            else:\n",
    "                cbar = plt.colorbar(im, label=unit_dict.get(variable))  # Use the variable im here to create the colorbar\n",
    "\n",
    "            # Set the vmin and vmax for the colorbar\n",
    "            im.set_clim(vmin, vmax)\n",
    "\n",
    "            fig.canvas.draw()\n",
    "            frame = np.array(fig.canvas.renderer._renderer)\n",
    "            frames.append(frame)\n",
    "\n",
    "            plt.close(fig)\n",
    "\n",
    "            pbar.set_postfix({'Timestamp': timestamp})\n",
    "            pbar.update(1)\n",
    "\n",
    "    num_frames = len(frames)\n",
    "    fps = math.ceil(num_frames / desired_duration)\n",
    "\n",
    "    imageio.mimsave(video_path, frames, fps=fps)\n",
    "\n",
    "    print(f'Video saved to: {video_path}')\n"
   ]
  },
  {
   "cell_type": "code",
   "execution_count": 121,
   "id": "8bf33cbf-a2e6-4269-bd95-434fdeb11810",
   "metadata": {},
   "outputs": [
    {
     "name": "stderr",
     "output_type": "stream",
     "text": [
      "Generating Frames:   0%|                                                                                                     | 0/3 [00:00<?, ?it/s]"
     ]
    },
    {
     "name": "stdout",
     "output_type": "stream",
     "text": [
      "i_t: 2\n"
     ]
    },
    {
     "name": "stderr",
     "output_type": "stream",
     "text": [
      "/tmp/ipykernel_2141888/3838003034.py:36: RuntimeWarning: divide by zero encountered in log\n",
      "  positive_data = np.where(variable_data > 0, np.log(variable_data), 0)\n",
      "Generating Frames:   0%|                                                                                                     | 0/3 [00:00<?, ?it/s]\n"
     ]
    },
    {
     "ename": "ValueError",
     "evalue": "Invalid vmin or vmax",
     "output_type": "error",
     "traceback": [
      "\u001b[0;31m---------------------------------------------------------------------------\u001b[0m",
      "\u001b[0;31mValueError\u001b[0m                                Traceback (most recent call last)",
      "Cell \u001b[0;32mIn[121], line 1\u001b[0m\n\u001b[0;32m----> 1\u001b[0m \u001b[43manim_singletime_var_Precac\u001b[49m\u001b[43m(\u001b[49m\u001b[43mvariable\u001b[49m\u001b[38;5;241;43m=\u001b[39;49m\u001b[38;5;124;43m\"\u001b[39;49m\u001b[38;5;124;43mPrecac\u001b[39;49m\u001b[38;5;124;43m\"\u001b[39;49m\u001b[43m,\u001b[49m\u001b[43m \u001b[49m\u001b[43mtimestamps\u001b[49m\u001b[38;5;241;43m=\u001b[39;49m\u001b[43m[\u001b[49m\u001b[38;5;124;43m\"\u001b[39;49m\u001b[38;5;124;43m0000001200\u001b[39;49m\u001b[38;5;124;43m\"\u001b[39;49m\u001b[43m,\u001b[49m\u001b[43m \u001b[49m\u001b[38;5;124;43m\"\u001b[39;49m\u001b[38;5;124;43m0000001440\u001b[39;49m\u001b[38;5;124;43m\"\u001b[39;49m\u001b[43m,\u001b[49m\u001b[43m \u001b[49m\u001b[38;5;124;43m\"\u001b[39;49m\u001b[38;5;124;43m0000001680\u001b[39;49m\u001b[38;5;124;43m\"\u001b[39;49m\u001b[43m]\u001b[49m\u001b[43m,\u001b[49m\u001b[43m \u001b[49m\u001b[43mvideo_path\u001b[49m\u001b[38;5;241;43m=\u001b[39;49m\u001b[38;5;124;43m\"\u001b[39;49m\u001b[38;5;124;43mprec_test3.mp4\u001b[39;49m\u001b[38;5;124;43m\"\u001b[39;49m\u001b[43m)\u001b[49m\n",
      "Cell \u001b[0;32mIn[120], line 78\u001b[0m, in \u001b[0;36manim_singletime_var_Precac\u001b[0;34m(variable, timestamps, desired_duration, video_path)\u001b[0m\n\u001b[1;32m     75\u001b[0m     cbar \u001b[38;5;241m=\u001b[39m plt\u001b[38;5;241m.\u001b[39mcolorbar(im, label\u001b[38;5;241m=\u001b[39munit_dict\u001b[38;5;241m.\u001b[39mget(variable))  \u001b[38;5;66;03m# Use the variable im here to create the colorbar\u001b[39;00m\n\u001b[1;32m     77\u001b[0m \u001b[38;5;66;03m# Set the vmin and vmax for the colorbar\u001b[39;00m\n\u001b[0;32m---> 78\u001b[0m \u001b[43mim\u001b[49m\u001b[38;5;241;43m.\u001b[39;49m\u001b[43mset_clim\u001b[49m\u001b[43m(\u001b[49m\u001b[43mvmin\u001b[49m\u001b[43m,\u001b[49m\u001b[43m \u001b[49m\u001b[43mvmax\u001b[49m\u001b[43m)\u001b[49m\n\u001b[1;32m     80\u001b[0m fig\u001b[38;5;241m.\u001b[39mcanvas\u001b[38;5;241m.\u001b[39mdraw()\n\u001b[1;32m     81\u001b[0m frame \u001b[38;5;241m=\u001b[39m np\u001b[38;5;241m.\u001b[39marray(fig\u001b[38;5;241m.\u001b[39mcanvas\u001b[38;5;241m.\u001b[39mrenderer\u001b[38;5;241m.\u001b[39m_renderer)\n",
      "File \u001b[0;32m~/anaconda3/lib/python3.10/site-packages/matplotlib/cm.py:561\u001b[0m, in \u001b[0;36mScalarMappable.set_clim\u001b[0;34m(self, vmin, vmax)\u001b[0m\n\u001b[1;32m    559\u001b[0m         \u001b[38;5;28;01mpass\u001b[39;00m\n\u001b[1;32m    560\u001b[0m \u001b[38;5;28;01mif\u001b[39;00m vmin \u001b[38;5;129;01mis\u001b[39;00m \u001b[38;5;129;01mnot\u001b[39;00m \u001b[38;5;28;01mNone\u001b[39;00m:\n\u001b[0;32m--> 561\u001b[0m     \u001b[38;5;28mself\u001b[39m\u001b[38;5;241m.\u001b[39mnorm\u001b[38;5;241m.\u001b[39mvmin \u001b[38;5;241m=\u001b[39m colors\u001b[38;5;241m.\u001b[39m_sanitize_extrema(vmin)\n\u001b[1;32m    562\u001b[0m \u001b[38;5;28;01mif\u001b[39;00m vmax \u001b[38;5;129;01mis\u001b[39;00m \u001b[38;5;129;01mnot\u001b[39;00m \u001b[38;5;28;01mNone\u001b[39;00m:\n\u001b[1;32m    563\u001b[0m     \u001b[38;5;28mself\u001b[39m\u001b[38;5;241m.\u001b[39mnorm\u001b[38;5;241m.\u001b[39mvmax \u001b[38;5;241m=\u001b[39m colors\u001b[38;5;241m.\u001b[39m_sanitize_extrema(vmax)\n",
      "File \u001b[0;32m~/anaconda3/lib/python3.10/site-packages/matplotlib/colors.py:1250\u001b[0m, in \u001b[0;36mNormalize.vmin\u001b[0;34m(self, value)\u001b[0m\n\u001b[1;32m   1248\u001b[0m \u001b[38;5;28;01mif\u001b[39;00m value \u001b[38;5;241m!=\u001b[39m \u001b[38;5;28mself\u001b[39m\u001b[38;5;241m.\u001b[39m_vmin:\n\u001b[1;32m   1249\u001b[0m     \u001b[38;5;28mself\u001b[39m\u001b[38;5;241m.\u001b[39m_vmin \u001b[38;5;241m=\u001b[39m value\n\u001b[0;32m-> 1250\u001b[0m     \u001b[38;5;28;43mself\u001b[39;49m\u001b[38;5;241;43m.\u001b[39;49m\u001b[43m_changed\u001b[49m\u001b[43m(\u001b[49m\u001b[43m)\u001b[49m\n",
      "File \u001b[0;32m~/anaconda3/lib/python3.10/site-packages/matplotlib/colors.py:1278\u001b[0m, in \u001b[0;36mNormalize._changed\u001b[0;34m(self)\u001b[0m\n\u001b[1;32m   1273\u001b[0m \u001b[38;5;28;01mdef\u001b[39;00m \u001b[38;5;21m_changed\u001b[39m(\u001b[38;5;28mself\u001b[39m):\n\u001b[1;32m   1274\u001b[0m     \u001b[38;5;124;03m\"\"\"\u001b[39;00m\n\u001b[1;32m   1275\u001b[0m \u001b[38;5;124;03m    Call this whenever the norm is changed to notify all the\u001b[39;00m\n\u001b[1;32m   1276\u001b[0m \u001b[38;5;124;03m    callback listeners to the 'changed' signal.\u001b[39;00m\n\u001b[1;32m   1277\u001b[0m \u001b[38;5;124;03m    \"\"\"\u001b[39;00m\n\u001b[0;32m-> 1278\u001b[0m     \u001b[38;5;28;43mself\u001b[39;49m\u001b[38;5;241;43m.\u001b[39;49m\u001b[43mcallbacks\u001b[49m\u001b[38;5;241;43m.\u001b[39;49m\u001b[43mprocess\u001b[49m\u001b[43m(\u001b[49m\u001b[38;5;124;43m'\u001b[39;49m\u001b[38;5;124;43mchanged\u001b[39;49m\u001b[38;5;124;43m'\u001b[39;49m\u001b[43m)\u001b[49m\n",
      "File \u001b[0;32m~/anaconda3/lib/python3.10/site-packages/matplotlib/cbook/__init__.py:309\u001b[0m, in \u001b[0;36mCallbackRegistry.process\u001b[0;34m(self, s, *args, **kwargs)\u001b[0m\n\u001b[1;32m    307\u001b[0m \u001b[38;5;28;01mexcept\u001b[39;00m \u001b[38;5;167;01mException\u001b[39;00m \u001b[38;5;28;01mas\u001b[39;00m exc:\n\u001b[1;32m    308\u001b[0m     \u001b[38;5;28;01mif\u001b[39;00m \u001b[38;5;28mself\u001b[39m\u001b[38;5;241m.\u001b[39mexception_handler \u001b[38;5;129;01mis\u001b[39;00m \u001b[38;5;129;01mnot\u001b[39;00m \u001b[38;5;28;01mNone\u001b[39;00m:\n\u001b[0;32m--> 309\u001b[0m         \u001b[38;5;28;43mself\u001b[39;49m\u001b[38;5;241;43m.\u001b[39;49m\u001b[43mexception_handler\u001b[49m\u001b[43m(\u001b[49m\u001b[43mexc\u001b[49m\u001b[43m)\u001b[49m\n\u001b[1;32m    310\u001b[0m     \u001b[38;5;28;01melse\u001b[39;00m:\n\u001b[1;32m    311\u001b[0m         \u001b[38;5;28;01mraise\u001b[39;00m\n",
      "File \u001b[0;32m~/anaconda3/lib/python3.10/site-packages/matplotlib/cbook/__init__.py:96\u001b[0m, in \u001b[0;36m_exception_printer\u001b[0;34m(exc)\u001b[0m\n\u001b[1;32m     94\u001b[0m \u001b[38;5;28;01mdef\u001b[39;00m \u001b[38;5;21m_exception_printer\u001b[39m(exc):\n\u001b[1;32m     95\u001b[0m     \u001b[38;5;28;01mif\u001b[39;00m _get_running_interactive_framework() \u001b[38;5;129;01min\u001b[39;00m [\u001b[38;5;124m\"\u001b[39m\u001b[38;5;124mheadless\u001b[39m\u001b[38;5;124m\"\u001b[39m, \u001b[38;5;28;01mNone\u001b[39;00m]:\n\u001b[0;32m---> 96\u001b[0m         \u001b[38;5;28;01mraise\u001b[39;00m exc\n\u001b[1;32m     97\u001b[0m     \u001b[38;5;28;01melse\u001b[39;00m:\n\u001b[1;32m     98\u001b[0m         traceback\u001b[38;5;241m.\u001b[39mprint_exc()\n",
      "File \u001b[0;32m~/anaconda3/lib/python3.10/site-packages/matplotlib/cbook/__init__.py:304\u001b[0m, in \u001b[0;36mCallbackRegistry.process\u001b[0;34m(self, s, *args, **kwargs)\u001b[0m\n\u001b[1;32m    302\u001b[0m \u001b[38;5;28;01mif\u001b[39;00m func \u001b[38;5;129;01mis\u001b[39;00m \u001b[38;5;129;01mnot\u001b[39;00m \u001b[38;5;28;01mNone\u001b[39;00m:\n\u001b[1;32m    303\u001b[0m     \u001b[38;5;28;01mtry\u001b[39;00m:\n\u001b[0;32m--> 304\u001b[0m         \u001b[43mfunc\u001b[49m\u001b[43m(\u001b[49m\u001b[38;5;241;43m*\u001b[39;49m\u001b[43margs\u001b[49m\u001b[43m,\u001b[49m\u001b[43m \u001b[49m\u001b[38;5;241;43m*\u001b[39;49m\u001b[38;5;241;43m*\u001b[39;49m\u001b[43mkwargs\u001b[49m\u001b[43m)\u001b[49m\n\u001b[1;32m    305\u001b[0m     \u001b[38;5;66;03m# this does not capture KeyboardInterrupt, SystemExit,\u001b[39;00m\n\u001b[1;32m    306\u001b[0m     \u001b[38;5;66;03m# and GeneratorExit\u001b[39;00m\n\u001b[1;32m    307\u001b[0m     \u001b[38;5;28;01mexcept\u001b[39;00m \u001b[38;5;167;01mException\u001b[39;00m \u001b[38;5;28;01mas\u001b[39;00m exc:\n",
      "File \u001b[0;32m~/anaconda3/lib/python3.10/site-packages/matplotlib/image.py:326\u001b[0m, in \u001b[0;36m_ImageBase.changed\u001b[0;34m(self)\u001b[0m\n\u001b[1;32m    322\u001b[0m \u001b[38;5;124;03m\"\"\"\u001b[39;00m\n\u001b[1;32m    323\u001b[0m \u001b[38;5;124;03mCall this whenever the mappable is changed so observers can update.\u001b[39;00m\n\u001b[1;32m    324\u001b[0m \u001b[38;5;124;03m\"\"\"\u001b[39;00m\n\u001b[1;32m    325\u001b[0m \u001b[38;5;28mself\u001b[39m\u001b[38;5;241m.\u001b[39m_imcache \u001b[38;5;241m=\u001b[39m \u001b[38;5;28;01mNone\u001b[39;00m\n\u001b[0;32m--> 326\u001b[0m \u001b[43mcm\u001b[49m\u001b[38;5;241;43m.\u001b[39;49m\u001b[43mScalarMappable\u001b[49m\u001b[38;5;241;43m.\u001b[39;49m\u001b[43mchanged\u001b[49m\u001b[43m(\u001b[49m\u001b[38;5;28;43mself\u001b[39;49m\u001b[43m)\u001b[49m\n",
      "File \u001b[0;32m~/anaconda3/lib/python3.10/site-packages/matplotlib/cm.py:665\u001b[0m, in \u001b[0;36mScalarMappable.changed\u001b[0;34m(self)\u001b[0m\n\u001b[1;32m    660\u001b[0m \u001b[38;5;28;01mdef\u001b[39;00m \u001b[38;5;21mchanged\u001b[39m(\u001b[38;5;28mself\u001b[39m):\n\u001b[1;32m    661\u001b[0m     \u001b[38;5;124;03m\"\"\"\u001b[39;00m\n\u001b[1;32m    662\u001b[0m \u001b[38;5;124;03m    Call this whenever the mappable is changed to notify all the\u001b[39;00m\n\u001b[1;32m    663\u001b[0m \u001b[38;5;124;03m    callbackSM listeners to the 'changed' signal.\u001b[39;00m\n\u001b[1;32m    664\u001b[0m \u001b[38;5;124;03m    \"\"\"\u001b[39;00m\n\u001b[0;32m--> 665\u001b[0m     \u001b[38;5;28;43mself\u001b[39;49m\u001b[38;5;241;43m.\u001b[39;49m\u001b[43mcallbacks\u001b[49m\u001b[38;5;241;43m.\u001b[39;49m\u001b[43mprocess\u001b[49m\u001b[43m(\u001b[49m\u001b[38;5;124;43m'\u001b[39;49m\u001b[38;5;124;43mchanged\u001b[39;49m\u001b[38;5;124;43m'\u001b[39;49m\u001b[43m,\u001b[49m\u001b[43m \u001b[49m\u001b[38;5;28;43mself\u001b[39;49m\u001b[43m)\u001b[49m\n\u001b[1;32m    666\u001b[0m     \u001b[38;5;28mself\u001b[39m\u001b[38;5;241m.\u001b[39mstale \u001b[38;5;241m=\u001b[39m \u001b[38;5;28;01mTrue\u001b[39;00m\n",
      "File \u001b[0;32m~/anaconda3/lib/python3.10/site-packages/matplotlib/cbook/__init__.py:309\u001b[0m, in \u001b[0;36mCallbackRegistry.process\u001b[0;34m(self, s, *args, **kwargs)\u001b[0m\n\u001b[1;32m    307\u001b[0m \u001b[38;5;28;01mexcept\u001b[39;00m \u001b[38;5;167;01mException\u001b[39;00m \u001b[38;5;28;01mas\u001b[39;00m exc:\n\u001b[1;32m    308\u001b[0m     \u001b[38;5;28;01mif\u001b[39;00m \u001b[38;5;28mself\u001b[39m\u001b[38;5;241m.\u001b[39mexception_handler \u001b[38;5;129;01mis\u001b[39;00m \u001b[38;5;129;01mnot\u001b[39;00m \u001b[38;5;28;01mNone\u001b[39;00m:\n\u001b[0;32m--> 309\u001b[0m         \u001b[38;5;28;43mself\u001b[39;49m\u001b[38;5;241;43m.\u001b[39;49m\u001b[43mexception_handler\u001b[49m\u001b[43m(\u001b[49m\u001b[43mexc\u001b[49m\u001b[43m)\u001b[49m\n\u001b[1;32m    310\u001b[0m     \u001b[38;5;28;01melse\u001b[39;00m:\n\u001b[1;32m    311\u001b[0m         \u001b[38;5;28;01mraise\u001b[39;00m\n",
      "File \u001b[0;32m~/anaconda3/lib/python3.10/site-packages/matplotlib/cbook/__init__.py:96\u001b[0m, in \u001b[0;36m_exception_printer\u001b[0;34m(exc)\u001b[0m\n\u001b[1;32m     94\u001b[0m \u001b[38;5;28;01mdef\u001b[39;00m \u001b[38;5;21m_exception_printer\u001b[39m(exc):\n\u001b[1;32m     95\u001b[0m     \u001b[38;5;28;01mif\u001b[39;00m _get_running_interactive_framework() \u001b[38;5;129;01min\u001b[39;00m [\u001b[38;5;124m\"\u001b[39m\u001b[38;5;124mheadless\u001b[39m\u001b[38;5;124m\"\u001b[39m, \u001b[38;5;28;01mNone\u001b[39;00m]:\n\u001b[0;32m---> 96\u001b[0m         \u001b[38;5;28;01mraise\u001b[39;00m exc\n\u001b[1;32m     97\u001b[0m     \u001b[38;5;28;01melse\u001b[39;00m:\n\u001b[1;32m     98\u001b[0m         traceback\u001b[38;5;241m.\u001b[39mprint_exc()\n",
      "File \u001b[0;32m~/anaconda3/lib/python3.10/site-packages/matplotlib/cbook/__init__.py:304\u001b[0m, in \u001b[0;36mCallbackRegistry.process\u001b[0;34m(self, s, *args, **kwargs)\u001b[0m\n\u001b[1;32m    302\u001b[0m \u001b[38;5;28;01mif\u001b[39;00m func \u001b[38;5;129;01mis\u001b[39;00m \u001b[38;5;129;01mnot\u001b[39;00m \u001b[38;5;28;01mNone\u001b[39;00m:\n\u001b[1;32m    303\u001b[0m     \u001b[38;5;28;01mtry\u001b[39;00m:\n\u001b[0;32m--> 304\u001b[0m         \u001b[43mfunc\u001b[49m\u001b[43m(\u001b[49m\u001b[38;5;241;43m*\u001b[39;49m\u001b[43margs\u001b[49m\u001b[43m,\u001b[49m\u001b[43m \u001b[49m\u001b[38;5;241;43m*\u001b[39;49m\u001b[38;5;241;43m*\u001b[39;49m\u001b[43mkwargs\u001b[49m\u001b[43m)\u001b[49m\n\u001b[1;32m    305\u001b[0m     \u001b[38;5;66;03m# this does not capture KeyboardInterrupt, SystemExit,\u001b[39;00m\n\u001b[1;32m    306\u001b[0m     \u001b[38;5;66;03m# and GeneratorExit\u001b[39;00m\n\u001b[1;32m    307\u001b[0m     \u001b[38;5;28;01mexcept\u001b[39;00m \u001b[38;5;167;01mException\u001b[39;00m \u001b[38;5;28;01mas\u001b[39;00m exc:\n",
      "File \u001b[0;32m~/anaconda3/lib/python3.10/site-packages/matplotlib/colorbar.py:514\u001b[0m, in \u001b[0;36mColorbar.update_normal\u001b[0;34m(self, mappable)\u001b[0m\n\u001b[1;32m    511\u001b[0m     \u001b[38;5;28mself\u001b[39m\u001b[38;5;241m.\u001b[39mnorm \u001b[38;5;241m=\u001b[39m mappable\u001b[38;5;241m.\u001b[39mnorm\n\u001b[1;32m    512\u001b[0m     \u001b[38;5;28mself\u001b[39m\u001b[38;5;241m.\u001b[39m_reset_locator_formatter_scale()\n\u001b[0;32m--> 514\u001b[0m \u001b[38;5;28;43mself\u001b[39;49m\u001b[38;5;241;43m.\u001b[39;49m\u001b[43m_draw_all\u001b[49m\u001b[43m(\u001b[49m\u001b[43m)\u001b[49m\n\u001b[1;32m    515\u001b[0m \u001b[38;5;28;01mif\u001b[39;00m \u001b[38;5;28misinstance\u001b[39m(\u001b[38;5;28mself\u001b[39m\u001b[38;5;241m.\u001b[39mmappable, contour\u001b[38;5;241m.\u001b[39mContourSet):\n\u001b[1;32m    516\u001b[0m     CS \u001b[38;5;241m=\u001b[39m \u001b[38;5;28mself\u001b[39m\u001b[38;5;241m.\u001b[39mmappable\n",
      "File \u001b[0;32m~/anaconda3/lib/python3.10/site-packages/matplotlib/colorbar.py:549\u001b[0m, in \u001b[0;36mColorbar._draw_all\u001b[0;34m(self)\u001b[0m\n\u001b[1;32m    543\u001b[0m \u001b[38;5;28mself\u001b[39m\u001b[38;5;241m.\u001b[39m_short_axis()\u001b[38;5;241m.\u001b[39mset_ticks([], minor\u001b[38;5;241m=\u001b[39m\u001b[38;5;28;01mTrue\u001b[39;00m)\n\u001b[1;32m    545\u001b[0m \u001b[38;5;66;03m# Set self._boundaries and self._values, including extensions.\u001b[39;00m\n\u001b[1;32m    546\u001b[0m \u001b[38;5;66;03m# self._boundaries are the edges of each square of color, and\u001b[39;00m\n\u001b[1;32m    547\u001b[0m \u001b[38;5;66;03m# self._values are the value to map into the norm to get the\u001b[39;00m\n\u001b[1;32m    548\u001b[0m \u001b[38;5;66;03m# color:\u001b[39;00m\n\u001b[0;32m--> 549\u001b[0m \u001b[38;5;28;43mself\u001b[39;49m\u001b[38;5;241;43m.\u001b[39;49m\u001b[43m_process_values\u001b[49m\u001b[43m(\u001b[49m\u001b[43m)\u001b[49m\n\u001b[1;32m    550\u001b[0m \u001b[38;5;66;03m# Set self.vmin and self.vmax to first and last boundary, excluding\u001b[39;00m\n\u001b[1;32m    551\u001b[0m \u001b[38;5;66;03m# extensions:\u001b[39;00m\n\u001b[1;32m    552\u001b[0m \u001b[38;5;28mself\u001b[39m\u001b[38;5;241m.\u001b[39mvmin, \u001b[38;5;28mself\u001b[39m\u001b[38;5;241m.\u001b[39mvmax \u001b[38;5;241m=\u001b[39m \u001b[38;5;28mself\u001b[39m\u001b[38;5;241m.\u001b[39m_boundaries[\u001b[38;5;28mself\u001b[39m\u001b[38;5;241m.\u001b[39m_inside][[\u001b[38;5;241m0\u001b[39m, \u001b[38;5;241m-\u001b[39m\u001b[38;5;241m1\u001b[39m]]\n",
      "File \u001b[0;32m~/anaconda3/lib/python3.10/site-packages/matplotlib/colorbar.py:1111\u001b[0m, in \u001b[0;36mColorbar._process_values\u001b[0;34m(self)\u001b[0m\n\u001b[1;32m   1107\u001b[0m \u001b[38;5;28mself\u001b[39m\u001b[38;5;241m.\u001b[39mnorm\u001b[38;5;241m.\u001b[39mvmin, \u001b[38;5;28mself\u001b[39m\u001b[38;5;241m.\u001b[39mnorm\u001b[38;5;241m.\u001b[39mvmax \u001b[38;5;241m=\u001b[39m mtransforms\u001b[38;5;241m.\u001b[39mnonsingular(\n\u001b[1;32m   1108\u001b[0m     \u001b[38;5;28mself\u001b[39m\u001b[38;5;241m.\u001b[39mnorm\u001b[38;5;241m.\u001b[39mvmin, \u001b[38;5;28mself\u001b[39m\u001b[38;5;241m.\u001b[39mnorm\u001b[38;5;241m.\u001b[39mvmax, expander\u001b[38;5;241m=\u001b[39m\u001b[38;5;241m0.1\u001b[39m)\n\u001b[1;32m   1109\u001b[0m \u001b[38;5;28;01mif\u001b[39;00m (\u001b[38;5;129;01mnot\u001b[39;00m \u001b[38;5;28misinstance\u001b[39m(\u001b[38;5;28mself\u001b[39m\u001b[38;5;241m.\u001b[39mnorm, colors\u001b[38;5;241m.\u001b[39mBoundaryNorm) \u001b[38;5;129;01mand\u001b[39;00m\n\u001b[1;32m   1110\u001b[0m         (\u001b[38;5;28mself\u001b[39m\u001b[38;5;241m.\u001b[39mboundaries \u001b[38;5;129;01mis\u001b[39;00m \u001b[38;5;28;01mNone\u001b[39;00m)):\n\u001b[0;32m-> 1111\u001b[0m     b \u001b[38;5;241m=\u001b[39m \u001b[38;5;28;43mself\u001b[39;49m\u001b[38;5;241;43m.\u001b[39;49m\u001b[43mnorm\u001b[49m\u001b[38;5;241;43m.\u001b[39;49m\u001b[43minverse\u001b[49m\u001b[43m(\u001b[49m\u001b[43mb\u001b[49m\u001b[43m)\u001b[49m\n\u001b[1;32m   1113\u001b[0m \u001b[38;5;28mself\u001b[39m\u001b[38;5;241m.\u001b[39m_boundaries \u001b[38;5;241m=\u001b[39m np\u001b[38;5;241m.\u001b[39masarray(b, dtype\u001b[38;5;241m=\u001b[39m\u001b[38;5;28mfloat\u001b[39m)\n\u001b[1;32m   1114\u001b[0m \u001b[38;5;28mself\u001b[39m\u001b[38;5;241m.\u001b[39m_values \u001b[38;5;241m=\u001b[39m \u001b[38;5;241m0.5\u001b[39m \u001b[38;5;241m*\u001b[39m (\u001b[38;5;28mself\u001b[39m\u001b[38;5;241m.\u001b[39m_boundaries[:\u001b[38;5;241m-\u001b[39m\u001b[38;5;241m1\u001b[39m] \u001b[38;5;241m+\u001b[39m \u001b[38;5;28mself\u001b[39m\u001b[38;5;241m.\u001b[39m_boundaries[\u001b[38;5;241m1\u001b[39m:])\n",
      "File \u001b[0;32m~/anaconda3/lib/python3.10/site-packages/matplotlib/colors.py:1720\u001b[0m, in \u001b[0;36m_make_norm_from_scale.<locals>.Norm.inverse\u001b[0;34m(self, value)\u001b[0m\n\u001b[1;32m   1718\u001b[0m t_vmin, t_vmax \u001b[38;5;241m=\u001b[39m \u001b[38;5;28mself\u001b[39m\u001b[38;5;241m.\u001b[39m_trf\u001b[38;5;241m.\u001b[39mtransform([\u001b[38;5;28mself\u001b[39m\u001b[38;5;241m.\u001b[39mvmin, \u001b[38;5;28mself\u001b[39m\u001b[38;5;241m.\u001b[39mvmax])\n\u001b[1;32m   1719\u001b[0m \u001b[38;5;28;01mif\u001b[39;00m \u001b[38;5;129;01mnot\u001b[39;00m np\u001b[38;5;241m.\u001b[39misfinite([t_vmin, t_vmax])\u001b[38;5;241m.\u001b[39mall():\n\u001b[0;32m-> 1720\u001b[0m     \u001b[38;5;28;01mraise\u001b[39;00m \u001b[38;5;167;01mValueError\u001b[39;00m(\u001b[38;5;124m\"\u001b[39m\u001b[38;5;124mInvalid vmin or vmax\u001b[39m\u001b[38;5;124m\"\u001b[39m)\n\u001b[1;32m   1721\u001b[0m value, is_scalar \u001b[38;5;241m=\u001b[39m \u001b[38;5;28mself\u001b[39m\u001b[38;5;241m.\u001b[39mprocess_value(value)\n\u001b[1;32m   1722\u001b[0m rescaled \u001b[38;5;241m=\u001b[39m value \u001b[38;5;241m*\u001b[39m (t_vmax \u001b[38;5;241m-\u001b[39m t_vmin)\n",
      "\u001b[0;31mValueError\u001b[0m: Invalid vmin or vmax"
     ]
    },
    {
     "name": "stdout",
     "output_type": "stream",
     "text": [
      "Error in callback <function _draw_all_if_interactive at 0x7f95fe778790> (for post_execute):\n"
     ]
    },
    {
     "ename": "ValueError",
     "evalue": "Invalid vmin or vmax",
     "output_type": "error",
     "traceback": [
      "\u001b[0;31m---------------------------------------------------------------------------\u001b[0m",
      "\u001b[0;31mValueError\u001b[0m                                Traceback (most recent call last)",
      "File \u001b[0;32m~/anaconda3/lib/python3.10/site-packages/matplotlib/pyplot.py:120\u001b[0m, in \u001b[0;36m_draw_all_if_interactive\u001b[0;34m()\u001b[0m\n\u001b[1;32m    118\u001b[0m \u001b[38;5;28;01mdef\u001b[39;00m \u001b[38;5;21m_draw_all_if_interactive\u001b[39m():\n\u001b[1;32m    119\u001b[0m     \u001b[38;5;28;01mif\u001b[39;00m matplotlib\u001b[38;5;241m.\u001b[39mis_interactive():\n\u001b[0;32m--> 120\u001b[0m         \u001b[43mdraw_all\u001b[49m\u001b[43m(\u001b[49m\u001b[43m)\u001b[49m\n",
      "File \u001b[0;32m~/anaconda3/lib/python3.10/site-packages/matplotlib/_pylab_helpers.py:132\u001b[0m, in \u001b[0;36mGcf.draw_all\u001b[0;34m(cls, force)\u001b[0m\n\u001b[1;32m    130\u001b[0m \u001b[38;5;28;01mfor\u001b[39;00m manager \u001b[38;5;129;01min\u001b[39;00m \u001b[38;5;28mcls\u001b[39m\u001b[38;5;241m.\u001b[39mget_all_fig_managers():\n\u001b[1;32m    131\u001b[0m     \u001b[38;5;28;01mif\u001b[39;00m force \u001b[38;5;129;01mor\u001b[39;00m manager\u001b[38;5;241m.\u001b[39mcanvas\u001b[38;5;241m.\u001b[39mfigure\u001b[38;5;241m.\u001b[39mstale:\n\u001b[0;32m--> 132\u001b[0m         \u001b[43mmanager\u001b[49m\u001b[38;5;241;43m.\u001b[39;49m\u001b[43mcanvas\u001b[49m\u001b[38;5;241;43m.\u001b[39;49m\u001b[43mdraw_idle\u001b[49m\u001b[43m(\u001b[49m\u001b[43m)\u001b[49m\n",
      "File \u001b[0;32m~/anaconda3/lib/python3.10/site-packages/matplotlib/backend_bases.py:2078\u001b[0m, in \u001b[0;36mFigureCanvasBase.draw_idle\u001b[0;34m(self, *args, **kwargs)\u001b[0m\n\u001b[1;32m   2076\u001b[0m \u001b[38;5;28;01mif\u001b[39;00m \u001b[38;5;129;01mnot\u001b[39;00m \u001b[38;5;28mself\u001b[39m\u001b[38;5;241m.\u001b[39m_is_idle_drawing:\n\u001b[1;32m   2077\u001b[0m     \u001b[38;5;28;01mwith\u001b[39;00m \u001b[38;5;28mself\u001b[39m\u001b[38;5;241m.\u001b[39m_idle_draw_cntx():\n\u001b[0;32m-> 2078\u001b[0m         \u001b[38;5;28;43mself\u001b[39;49m\u001b[38;5;241;43m.\u001b[39;49m\u001b[43mdraw\u001b[49m\u001b[43m(\u001b[49m\u001b[38;5;241;43m*\u001b[39;49m\u001b[43margs\u001b[49m\u001b[43m,\u001b[49m\u001b[43m \u001b[49m\u001b[38;5;241;43m*\u001b[39;49m\u001b[38;5;241;43m*\u001b[39;49m\u001b[43mkwargs\u001b[49m\u001b[43m)\u001b[49m\n",
      "File \u001b[0;32m~/anaconda3/lib/python3.10/site-packages/matplotlib/backends/backend_agg.py:400\u001b[0m, in \u001b[0;36mFigureCanvasAgg.draw\u001b[0;34m(self)\u001b[0m\n\u001b[1;32m    396\u001b[0m \u001b[38;5;66;03m# Acquire a lock on the shared font cache.\u001b[39;00m\n\u001b[1;32m    397\u001b[0m \u001b[38;5;28;01mwith\u001b[39;00m RendererAgg\u001b[38;5;241m.\u001b[39mlock, \\\n\u001b[1;32m    398\u001b[0m      (\u001b[38;5;28mself\u001b[39m\u001b[38;5;241m.\u001b[39mtoolbar\u001b[38;5;241m.\u001b[39m_wait_cursor_for_draw_cm() \u001b[38;5;28;01mif\u001b[39;00m \u001b[38;5;28mself\u001b[39m\u001b[38;5;241m.\u001b[39mtoolbar\n\u001b[1;32m    399\u001b[0m       \u001b[38;5;28;01melse\u001b[39;00m nullcontext()):\n\u001b[0;32m--> 400\u001b[0m     \u001b[38;5;28;43mself\u001b[39;49m\u001b[38;5;241;43m.\u001b[39;49m\u001b[43mfigure\u001b[49m\u001b[38;5;241;43m.\u001b[39;49m\u001b[43mdraw\u001b[49m\u001b[43m(\u001b[49m\u001b[38;5;28;43mself\u001b[39;49m\u001b[38;5;241;43m.\u001b[39;49m\u001b[43mrenderer\u001b[49m\u001b[43m)\u001b[49m\n\u001b[1;32m    401\u001b[0m     \u001b[38;5;66;03m# A GUI class may be need to update a window using this draw, so\u001b[39;00m\n\u001b[1;32m    402\u001b[0m     \u001b[38;5;66;03m# don't forget to call the superclass.\u001b[39;00m\n\u001b[1;32m    403\u001b[0m     \u001b[38;5;28msuper\u001b[39m()\u001b[38;5;241m.\u001b[39mdraw()\n",
      "File \u001b[0;32m~/anaconda3/lib/python3.10/site-packages/matplotlib/artist.py:95\u001b[0m, in \u001b[0;36m_finalize_rasterization.<locals>.draw_wrapper\u001b[0;34m(artist, renderer, *args, **kwargs)\u001b[0m\n\u001b[1;32m     93\u001b[0m \u001b[38;5;129m@wraps\u001b[39m(draw)\n\u001b[1;32m     94\u001b[0m \u001b[38;5;28;01mdef\u001b[39;00m \u001b[38;5;21mdraw_wrapper\u001b[39m(artist, renderer, \u001b[38;5;241m*\u001b[39margs, \u001b[38;5;241m*\u001b[39m\u001b[38;5;241m*\u001b[39mkwargs):\n\u001b[0;32m---> 95\u001b[0m     result \u001b[38;5;241m=\u001b[39m \u001b[43mdraw\u001b[49m\u001b[43m(\u001b[49m\u001b[43martist\u001b[49m\u001b[43m,\u001b[49m\u001b[43m \u001b[49m\u001b[43mrenderer\u001b[49m\u001b[43m,\u001b[49m\u001b[43m \u001b[49m\u001b[38;5;241;43m*\u001b[39;49m\u001b[43margs\u001b[49m\u001b[43m,\u001b[49m\u001b[43m \u001b[49m\u001b[38;5;241;43m*\u001b[39;49m\u001b[38;5;241;43m*\u001b[39;49m\u001b[43mkwargs\u001b[49m\u001b[43m)\u001b[49m\n\u001b[1;32m     96\u001b[0m     \u001b[38;5;28;01mif\u001b[39;00m renderer\u001b[38;5;241m.\u001b[39m_rasterizing:\n\u001b[1;32m     97\u001b[0m         renderer\u001b[38;5;241m.\u001b[39mstop_rasterizing()\n",
      "File \u001b[0;32m~/anaconda3/lib/python3.10/site-packages/matplotlib/artist.py:72\u001b[0m, in \u001b[0;36mallow_rasterization.<locals>.draw_wrapper\u001b[0;34m(artist, renderer)\u001b[0m\n\u001b[1;32m     69\u001b[0m     \u001b[38;5;28;01mif\u001b[39;00m artist\u001b[38;5;241m.\u001b[39mget_agg_filter() \u001b[38;5;129;01mis\u001b[39;00m \u001b[38;5;129;01mnot\u001b[39;00m \u001b[38;5;28;01mNone\u001b[39;00m:\n\u001b[1;32m     70\u001b[0m         renderer\u001b[38;5;241m.\u001b[39mstart_filter()\n\u001b[0;32m---> 72\u001b[0m     \u001b[38;5;28;01mreturn\u001b[39;00m \u001b[43mdraw\u001b[49m\u001b[43m(\u001b[49m\u001b[43martist\u001b[49m\u001b[43m,\u001b[49m\u001b[43m \u001b[49m\u001b[43mrenderer\u001b[49m\u001b[43m)\u001b[49m\n\u001b[1;32m     73\u001b[0m \u001b[38;5;28;01mfinally\u001b[39;00m:\n\u001b[1;32m     74\u001b[0m     \u001b[38;5;28;01mif\u001b[39;00m artist\u001b[38;5;241m.\u001b[39mget_agg_filter() \u001b[38;5;129;01mis\u001b[39;00m \u001b[38;5;129;01mnot\u001b[39;00m \u001b[38;5;28;01mNone\u001b[39;00m:\n",
      "File \u001b[0;32m~/anaconda3/lib/python3.10/site-packages/matplotlib/figure.py:3125\u001b[0m, in \u001b[0;36mFigure.draw\u001b[0;34m(self, renderer)\u001b[0m\n\u001b[1;32m   3122\u001b[0m         \u001b[38;5;66;03m# ValueError can occur when resizing a window.\u001b[39;00m\n\u001b[1;32m   3124\u001b[0m \u001b[38;5;28mself\u001b[39m\u001b[38;5;241m.\u001b[39mpatch\u001b[38;5;241m.\u001b[39mdraw(renderer)\n\u001b[0;32m-> 3125\u001b[0m \u001b[43mmimage\u001b[49m\u001b[38;5;241;43m.\u001b[39;49m\u001b[43m_draw_list_compositing_images\u001b[49m\u001b[43m(\u001b[49m\n\u001b[1;32m   3126\u001b[0m \u001b[43m    \u001b[49m\u001b[43mrenderer\u001b[49m\u001b[43m,\u001b[49m\u001b[43m \u001b[49m\u001b[38;5;28;43mself\u001b[39;49m\u001b[43m,\u001b[49m\u001b[43m \u001b[49m\u001b[43martists\u001b[49m\u001b[43m,\u001b[49m\u001b[43m \u001b[49m\u001b[38;5;28;43mself\u001b[39;49m\u001b[38;5;241;43m.\u001b[39;49m\u001b[43msuppressComposite\u001b[49m\u001b[43m)\u001b[49m\n\u001b[1;32m   3128\u001b[0m \u001b[38;5;28;01mfor\u001b[39;00m sfig \u001b[38;5;129;01min\u001b[39;00m \u001b[38;5;28mself\u001b[39m\u001b[38;5;241m.\u001b[39msubfigs:\n\u001b[1;32m   3129\u001b[0m     sfig\u001b[38;5;241m.\u001b[39mdraw(renderer)\n",
      "File \u001b[0;32m~/anaconda3/lib/python3.10/site-packages/matplotlib/image.py:131\u001b[0m, in \u001b[0;36m_draw_list_compositing_images\u001b[0;34m(renderer, parent, artists, suppress_composite)\u001b[0m\n\u001b[1;32m    129\u001b[0m \u001b[38;5;28;01mif\u001b[39;00m not_composite \u001b[38;5;129;01mor\u001b[39;00m \u001b[38;5;129;01mnot\u001b[39;00m has_images:\n\u001b[1;32m    130\u001b[0m     \u001b[38;5;28;01mfor\u001b[39;00m a \u001b[38;5;129;01min\u001b[39;00m artists:\n\u001b[0;32m--> 131\u001b[0m         \u001b[43ma\u001b[49m\u001b[38;5;241;43m.\u001b[39;49m\u001b[43mdraw\u001b[49m\u001b[43m(\u001b[49m\u001b[43mrenderer\u001b[49m\u001b[43m)\u001b[49m\n\u001b[1;32m    132\u001b[0m \u001b[38;5;28;01melse\u001b[39;00m:\n\u001b[1;32m    133\u001b[0m     \u001b[38;5;66;03m# Composite any adjacent images together\u001b[39;00m\n\u001b[1;32m    134\u001b[0m     image_group \u001b[38;5;241m=\u001b[39m []\n",
      "File \u001b[0;32m~/anaconda3/lib/python3.10/site-packages/matplotlib/artist.py:72\u001b[0m, in \u001b[0;36mallow_rasterization.<locals>.draw_wrapper\u001b[0;34m(artist, renderer)\u001b[0m\n\u001b[1;32m     69\u001b[0m     \u001b[38;5;28;01mif\u001b[39;00m artist\u001b[38;5;241m.\u001b[39mget_agg_filter() \u001b[38;5;129;01mis\u001b[39;00m \u001b[38;5;129;01mnot\u001b[39;00m \u001b[38;5;28;01mNone\u001b[39;00m:\n\u001b[1;32m     70\u001b[0m         renderer\u001b[38;5;241m.\u001b[39mstart_filter()\n\u001b[0;32m---> 72\u001b[0m     \u001b[38;5;28;01mreturn\u001b[39;00m \u001b[43mdraw\u001b[49m\u001b[43m(\u001b[49m\u001b[43martist\u001b[49m\u001b[43m,\u001b[49m\u001b[43m \u001b[49m\u001b[43mrenderer\u001b[49m\u001b[43m)\u001b[49m\n\u001b[1;32m     73\u001b[0m \u001b[38;5;28;01mfinally\u001b[39;00m:\n\u001b[1;32m     74\u001b[0m     \u001b[38;5;28;01mif\u001b[39;00m artist\u001b[38;5;241m.\u001b[39mget_agg_filter() \u001b[38;5;129;01mis\u001b[39;00m \u001b[38;5;129;01mnot\u001b[39;00m \u001b[38;5;28;01mNone\u001b[39;00m:\n",
      "File \u001b[0;32m~/anaconda3/lib/python3.10/site-packages/matplotlib/axes/_base.py:3066\u001b[0m, in \u001b[0;36m_AxesBase.draw\u001b[0;34m(self, renderer)\u001b[0m\n\u001b[1;32m   3063\u001b[0m \u001b[38;5;28;01mif\u001b[39;00m artists_rasterized:\n\u001b[1;32m   3064\u001b[0m     _draw_rasterized(\u001b[38;5;28mself\u001b[39m\u001b[38;5;241m.\u001b[39mfigure, artists_rasterized, renderer)\n\u001b[0;32m-> 3066\u001b[0m \u001b[43mmimage\u001b[49m\u001b[38;5;241;43m.\u001b[39;49m\u001b[43m_draw_list_compositing_images\u001b[49m\u001b[43m(\u001b[49m\n\u001b[1;32m   3067\u001b[0m \u001b[43m    \u001b[49m\u001b[43mrenderer\u001b[49m\u001b[43m,\u001b[49m\u001b[43m \u001b[49m\u001b[38;5;28;43mself\u001b[39;49m\u001b[43m,\u001b[49m\u001b[43m \u001b[49m\u001b[43martists\u001b[49m\u001b[43m,\u001b[49m\u001b[43m \u001b[49m\u001b[38;5;28;43mself\u001b[39;49m\u001b[38;5;241;43m.\u001b[39;49m\u001b[43mfigure\u001b[49m\u001b[38;5;241;43m.\u001b[39;49m\u001b[43msuppressComposite\u001b[49m\u001b[43m)\u001b[49m\n\u001b[1;32m   3069\u001b[0m renderer\u001b[38;5;241m.\u001b[39mclose_group(\u001b[38;5;124m'\u001b[39m\u001b[38;5;124maxes\u001b[39m\u001b[38;5;124m'\u001b[39m)\n\u001b[1;32m   3070\u001b[0m \u001b[38;5;28mself\u001b[39m\u001b[38;5;241m.\u001b[39mstale \u001b[38;5;241m=\u001b[39m \u001b[38;5;28;01mFalse\u001b[39;00m\n",
      "File \u001b[0;32m~/anaconda3/lib/python3.10/site-packages/matplotlib/image.py:131\u001b[0m, in \u001b[0;36m_draw_list_compositing_images\u001b[0;34m(renderer, parent, artists, suppress_composite)\u001b[0m\n\u001b[1;32m    129\u001b[0m \u001b[38;5;28;01mif\u001b[39;00m not_composite \u001b[38;5;129;01mor\u001b[39;00m \u001b[38;5;129;01mnot\u001b[39;00m has_images:\n\u001b[1;32m    130\u001b[0m     \u001b[38;5;28;01mfor\u001b[39;00m a \u001b[38;5;129;01min\u001b[39;00m artists:\n\u001b[0;32m--> 131\u001b[0m         \u001b[43ma\u001b[49m\u001b[38;5;241;43m.\u001b[39;49m\u001b[43mdraw\u001b[49m\u001b[43m(\u001b[49m\u001b[43mrenderer\u001b[49m\u001b[43m)\u001b[49m\n\u001b[1;32m    132\u001b[0m \u001b[38;5;28;01melse\u001b[39;00m:\n\u001b[1;32m    133\u001b[0m     \u001b[38;5;66;03m# Composite any adjacent images together\u001b[39;00m\n\u001b[1;32m    134\u001b[0m     image_group \u001b[38;5;241m=\u001b[39m []\n",
      "File \u001b[0;32m~/anaconda3/lib/python3.10/site-packages/matplotlib/artist.py:72\u001b[0m, in \u001b[0;36mallow_rasterization.<locals>.draw_wrapper\u001b[0;34m(artist, renderer)\u001b[0m\n\u001b[1;32m     69\u001b[0m     \u001b[38;5;28;01mif\u001b[39;00m artist\u001b[38;5;241m.\u001b[39mget_agg_filter() \u001b[38;5;129;01mis\u001b[39;00m \u001b[38;5;129;01mnot\u001b[39;00m \u001b[38;5;28;01mNone\u001b[39;00m:\n\u001b[1;32m     70\u001b[0m         renderer\u001b[38;5;241m.\u001b[39mstart_filter()\n\u001b[0;32m---> 72\u001b[0m     \u001b[38;5;28;01mreturn\u001b[39;00m \u001b[43mdraw\u001b[49m\u001b[43m(\u001b[49m\u001b[43martist\u001b[49m\u001b[43m,\u001b[49m\u001b[43m \u001b[49m\u001b[43mrenderer\u001b[49m\u001b[43m)\u001b[49m\n\u001b[1;32m     73\u001b[0m \u001b[38;5;28;01mfinally\u001b[39;00m:\n\u001b[1;32m     74\u001b[0m     \u001b[38;5;28;01mif\u001b[39;00m artist\u001b[38;5;241m.\u001b[39mget_agg_filter() \u001b[38;5;129;01mis\u001b[39;00m \u001b[38;5;129;01mnot\u001b[39;00m \u001b[38;5;28;01mNone\u001b[39;00m:\n",
      "File \u001b[0;32m~/anaconda3/lib/python3.10/site-packages/matplotlib/collections.py:2074\u001b[0m, in \u001b[0;36mQuadMesh.draw\u001b[0;34m(self, renderer)\u001b[0m\n\u001b[1;32m   2071\u001b[0m     ys \u001b[38;5;241m=\u001b[39m \u001b[38;5;28mself\u001b[39m\u001b[38;5;241m.\u001b[39mconvert_yunits(offsets[:, \u001b[38;5;241m1\u001b[39m])\n\u001b[1;32m   2072\u001b[0m     offsets \u001b[38;5;241m=\u001b[39m np\u001b[38;5;241m.\u001b[39mcolumn_stack([xs, ys])\n\u001b[0;32m-> 2074\u001b[0m \u001b[38;5;28;43mself\u001b[39;49m\u001b[38;5;241;43m.\u001b[39;49m\u001b[43mupdate_scalarmappable\u001b[49m\u001b[43m(\u001b[49m\u001b[43m)\u001b[49m\n\u001b[1;32m   2076\u001b[0m \u001b[38;5;28;01mif\u001b[39;00m \u001b[38;5;129;01mnot\u001b[39;00m transform\u001b[38;5;241m.\u001b[39mis_affine:\n\u001b[1;32m   2077\u001b[0m     coordinates \u001b[38;5;241m=\u001b[39m \u001b[38;5;28mself\u001b[39m\u001b[38;5;241m.\u001b[39m_coordinates\u001b[38;5;241m.\u001b[39mreshape((\u001b[38;5;241m-\u001b[39m\u001b[38;5;241m1\u001b[39m, \u001b[38;5;241m2\u001b[39m))\n",
      "File \u001b[0;32m~/anaconda3/lib/python3.10/site-packages/matplotlib/collections.py:887\u001b[0m, in \u001b[0;36mCollection.update_scalarmappable\u001b[0;34m(self)\u001b[0m\n\u001b[1;32m    885\u001b[0m         \u001b[38;5;66;03m# pcolormesh, scatter, maybe others flatten their _A\u001b[39;00m\n\u001b[1;32m    886\u001b[0m         \u001b[38;5;28mself\u001b[39m\u001b[38;5;241m.\u001b[39m_alpha \u001b[38;5;241m=\u001b[39m \u001b[38;5;28mself\u001b[39m\u001b[38;5;241m.\u001b[39m_alpha\u001b[38;5;241m.\u001b[39mreshape(\u001b[38;5;28mself\u001b[39m\u001b[38;5;241m.\u001b[39m_A\u001b[38;5;241m.\u001b[39mshape)\n\u001b[0;32m--> 887\u001b[0m     \u001b[38;5;28mself\u001b[39m\u001b[38;5;241m.\u001b[39m_mapped_colors \u001b[38;5;241m=\u001b[39m \u001b[38;5;28;43mself\u001b[39;49m\u001b[38;5;241;43m.\u001b[39;49m\u001b[43mto_rgba\u001b[49m\u001b[43m(\u001b[49m\u001b[38;5;28;43mself\u001b[39;49m\u001b[38;5;241;43m.\u001b[39;49m\u001b[43m_A\u001b[49m\u001b[43m,\u001b[49m\u001b[43m \u001b[49m\u001b[38;5;28;43mself\u001b[39;49m\u001b[38;5;241;43m.\u001b[39;49m\u001b[43m_alpha\u001b[49m\u001b[43m)\u001b[49m\n\u001b[1;32m    889\u001b[0m \u001b[38;5;28;01mif\u001b[39;00m \u001b[38;5;28mself\u001b[39m\u001b[38;5;241m.\u001b[39m_face_is_mapped:\n\u001b[1;32m    890\u001b[0m     \u001b[38;5;28mself\u001b[39m\u001b[38;5;241m.\u001b[39m_facecolors \u001b[38;5;241m=\u001b[39m \u001b[38;5;28mself\u001b[39m\u001b[38;5;241m.\u001b[39m_mapped_colors\n",
      "File \u001b[0;32m~/anaconda3/lib/python3.10/site-packages/matplotlib/cm.py:493\u001b[0m, in \u001b[0;36mScalarMappable.to_rgba\u001b[0;34m(self, x, alpha, bytes, norm)\u001b[0m\n\u001b[1;32m    491\u001b[0m x \u001b[38;5;241m=\u001b[39m ma\u001b[38;5;241m.\u001b[39masarray(x)\n\u001b[1;32m    492\u001b[0m \u001b[38;5;28;01mif\u001b[39;00m norm:\n\u001b[0;32m--> 493\u001b[0m     x \u001b[38;5;241m=\u001b[39m \u001b[38;5;28;43mself\u001b[39;49m\u001b[38;5;241;43m.\u001b[39;49m\u001b[43mnorm\u001b[49m\u001b[43m(\u001b[49m\u001b[43mx\u001b[49m\u001b[43m)\u001b[49m\n\u001b[1;32m    494\u001b[0m rgba \u001b[38;5;241m=\u001b[39m \u001b[38;5;28mself\u001b[39m\u001b[38;5;241m.\u001b[39mcmap(x, alpha\u001b[38;5;241m=\u001b[39malpha, \u001b[38;5;28mbytes\u001b[39m\u001b[38;5;241m=\u001b[39m\u001b[38;5;28mbytes\u001b[39m)\n\u001b[1;32m    495\u001b[0m \u001b[38;5;28;01mreturn\u001b[39;00m rgba\n",
      "File \u001b[0;32m~/anaconda3/lib/python3.10/site-packages/matplotlib/colors.py:1707\u001b[0m, in \u001b[0;36m_make_norm_from_scale.<locals>.Norm.__call__\u001b[0;34m(self, value, clip)\u001b[0m\n\u001b[1;32m   1705\u001b[0m t_vmin, t_vmax \u001b[38;5;241m=\u001b[39m \u001b[38;5;28mself\u001b[39m\u001b[38;5;241m.\u001b[39m_trf\u001b[38;5;241m.\u001b[39mtransform([\u001b[38;5;28mself\u001b[39m\u001b[38;5;241m.\u001b[39mvmin, \u001b[38;5;28mself\u001b[39m\u001b[38;5;241m.\u001b[39mvmax])\n\u001b[1;32m   1706\u001b[0m \u001b[38;5;28;01mif\u001b[39;00m \u001b[38;5;129;01mnot\u001b[39;00m np\u001b[38;5;241m.\u001b[39misfinite([t_vmin, t_vmax])\u001b[38;5;241m.\u001b[39mall():\n\u001b[0;32m-> 1707\u001b[0m     \u001b[38;5;28;01mraise\u001b[39;00m \u001b[38;5;167;01mValueError\u001b[39;00m(\u001b[38;5;124m\"\u001b[39m\u001b[38;5;124mInvalid vmin or vmax\u001b[39m\u001b[38;5;124m\"\u001b[39m)\n\u001b[1;32m   1708\u001b[0m t_value \u001b[38;5;241m-\u001b[39m\u001b[38;5;241m=\u001b[39m t_vmin\n\u001b[1;32m   1709\u001b[0m t_value \u001b[38;5;241m/\u001b[39m\u001b[38;5;241m=\u001b[39m (t_vmax \u001b[38;5;241m-\u001b[39m t_vmin)\n",
      "\u001b[0;31mValueError\u001b[0m: Invalid vmin or vmax"
     ]
    },
    {
     "ename": "ValueError",
     "evalue": "Invalid vmin or vmax",
     "output_type": "error",
     "traceback": [
      "\u001b[0;31m---------------------------------------------------------------------------\u001b[0m",
      "\u001b[0;31mValueError\u001b[0m                                Traceback (most recent call last)",
      "File \u001b[0;32m~/anaconda3/lib/python3.10/site-packages/IPython/core/formatters.py:338\u001b[0m, in \u001b[0;36mBaseFormatter.__call__\u001b[0;34m(self, obj)\u001b[0m\n\u001b[1;32m    336\u001b[0m     \u001b[38;5;28;01mpass\u001b[39;00m\n\u001b[1;32m    337\u001b[0m \u001b[38;5;28;01melse\u001b[39;00m:\n\u001b[0;32m--> 338\u001b[0m     \u001b[38;5;28;01mreturn\u001b[39;00m \u001b[43mprinter\u001b[49m\u001b[43m(\u001b[49m\u001b[43mobj\u001b[49m\u001b[43m)\u001b[49m\n\u001b[1;32m    339\u001b[0m \u001b[38;5;66;03m# Finally look for special method names\u001b[39;00m\n\u001b[1;32m    340\u001b[0m method \u001b[38;5;241m=\u001b[39m get_real_method(obj, \u001b[38;5;28mself\u001b[39m\u001b[38;5;241m.\u001b[39mprint_method)\n",
      "File \u001b[0;32m~/anaconda3/lib/python3.10/site-packages/IPython/core/pylabtools.py:152\u001b[0m, in \u001b[0;36mprint_figure\u001b[0;34m(fig, fmt, bbox_inches, base64, **kwargs)\u001b[0m\n\u001b[1;32m    149\u001b[0m     \u001b[38;5;28;01mfrom\u001b[39;00m \u001b[38;5;21;01mmatplotlib\u001b[39;00m\u001b[38;5;21;01m.\u001b[39;00m\u001b[38;5;21;01mbackend_bases\u001b[39;00m \u001b[38;5;28;01mimport\u001b[39;00m FigureCanvasBase\n\u001b[1;32m    150\u001b[0m     FigureCanvasBase(fig)\n\u001b[0;32m--> 152\u001b[0m \u001b[43mfig\u001b[49m\u001b[38;5;241;43m.\u001b[39;49m\u001b[43mcanvas\u001b[49m\u001b[38;5;241;43m.\u001b[39;49m\u001b[43mprint_figure\u001b[49m\u001b[43m(\u001b[49m\u001b[43mbytes_io\u001b[49m\u001b[43m,\u001b[49m\u001b[43m \u001b[49m\u001b[38;5;241;43m*\u001b[39;49m\u001b[38;5;241;43m*\u001b[39;49m\u001b[43mkw\u001b[49m\u001b[43m)\u001b[49m\n\u001b[1;32m    153\u001b[0m data \u001b[38;5;241m=\u001b[39m bytes_io\u001b[38;5;241m.\u001b[39mgetvalue()\n\u001b[1;32m    154\u001b[0m \u001b[38;5;28;01mif\u001b[39;00m fmt \u001b[38;5;241m==\u001b[39m \u001b[38;5;124m'\u001b[39m\u001b[38;5;124msvg\u001b[39m\u001b[38;5;124m'\u001b[39m:\n",
      "File \u001b[0;32m~/anaconda3/lib/python3.10/site-packages/matplotlib/backend_bases.py:2338\u001b[0m, in \u001b[0;36mFigureCanvasBase.print_figure\u001b[0;34m(self, filename, dpi, facecolor, edgecolor, orientation, format, bbox_inches, pad_inches, bbox_extra_artists, backend, **kwargs)\u001b[0m\n\u001b[1;32m   2332\u001b[0m     renderer \u001b[38;5;241m=\u001b[39m _get_renderer(\n\u001b[1;32m   2333\u001b[0m         \u001b[38;5;28mself\u001b[39m\u001b[38;5;241m.\u001b[39mfigure,\n\u001b[1;32m   2334\u001b[0m         functools\u001b[38;5;241m.\u001b[39mpartial(\n\u001b[1;32m   2335\u001b[0m             print_method, orientation\u001b[38;5;241m=\u001b[39morientation)\n\u001b[1;32m   2336\u001b[0m     )\n\u001b[1;32m   2337\u001b[0m     \u001b[38;5;28;01mwith\u001b[39;00m \u001b[38;5;28mgetattr\u001b[39m(renderer, \u001b[38;5;124m\"\u001b[39m\u001b[38;5;124m_draw_disabled\u001b[39m\u001b[38;5;124m\"\u001b[39m, nullcontext)():\n\u001b[0;32m-> 2338\u001b[0m         \u001b[38;5;28;43mself\u001b[39;49m\u001b[38;5;241;43m.\u001b[39;49m\u001b[43mfigure\u001b[49m\u001b[38;5;241;43m.\u001b[39;49m\u001b[43mdraw\u001b[49m\u001b[43m(\u001b[49m\u001b[43mrenderer\u001b[49m\u001b[43m)\u001b[49m\n\u001b[1;32m   2340\u001b[0m \u001b[38;5;28;01mif\u001b[39;00m bbox_inches:\n\u001b[1;32m   2341\u001b[0m     \u001b[38;5;28;01mif\u001b[39;00m bbox_inches \u001b[38;5;241m==\u001b[39m \u001b[38;5;124m\"\u001b[39m\u001b[38;5;124mtight\u001b[39m\u001b[38;5;124m\"\u001b[39m:\n",
      "File \u001b[0;32m~/anaconda3/lib/python3.10/site-packages/matplotlib/artist.py:95\u001b[0m, in \u001b[0;36m_finalize_rasterization.<locals>.draw_wrapper\u001b[0;34m(artist, renderer, *args, **kwargs)\u001b[0m\n\u001b[1;32m     93\u001b[0m \u001b[38;5;129m@wraps\u001b[39m(draw)\n\u001b[1;32m     94\u001b[0m \u001b[38;5;28;01mdef\u001b[39;00m \u001b[38;5;21mdraw_wrapper\u001b[39m(artist, renderer, \u001b[38;5;241m*\u001b[39margs, \u001b[38;5;241m*\u001b[39m\u001b[38;5;241m*\u001b[39mkwargs):\n\u001b[0;32m---> 95\u001b[0m     result \u001b[38;5;241m=\u001b[39m \u001b[43mdraw\u001b[49m\u001b[43m(\u001b[49m\u001b[43martist\u001b[49m\u001b[43m,\u001b[49m\u001b[43m \u001b[49m\u001b[43mrenderer\u001b[49m\u001b[43m,\u001b[49m\u001b[43m \u001b[49m\u001b[38;5;241;43m*\u001b[39;49m\u001b[43margs\u001b[49m\u001b[43m,\u001b[49m\u001b[43m \u001b[49m\u001b[38;5;241;43m*\u001b[39;49m\u001b[38;5;241;43m*\u001b[39;49m\u001b[43mkwargs\u001b[49m\u001b[43m)\u001b[49m\n\u001b[1;32m     96\u001b[0m     \u001b[38;5;28;01mif\u001b[39;00m renderer\u001b[38;5;241m.\u001b[39m_rasterizing:\n\u001b[1;32m     97\u001b[0m         renderer\u001b[38;5;241m.\u001b[39mstop_rasterizing()\n",
      "File \u001b[0;32m~/anaconda3/lib/python3.10/site-packages/matplotlib/artist.py:72\u001b[0m, in \u001b[0;36mallow_rasterization.<locals>.draw_wrapper\u001b[0;34m(artist, renderer)\u001b[0m\n\u001b[1;32m     69\u001b[0m     \u001b[38;5;28;01mif\u001b[39;00m artist\u001b[38;5;241m.\u001b[39mget_agg_filter() \u001b[38;5;129;01mis\u001b[39;00m \u001b[38;5;129;01mnot\u001b[39;00m \u001b[38;5;28;01mNone\u001b[39;00m:\n\u001b[1;32m     70\u001b[0m         renderer\u001b[38;5;241m.\u001b[39mstart_filter()\n\u001b[0;32m---> 72\u001b[0m     \u001b[38;5;28;01mreturn\u001b[39;00m \u001b[43mdraw\u001b[49m\u001b[43m(\u001b[49m\u001b[43martist\u001b[49m\u001b[43m,\u001b[49m\u001b[43m \u001b[49m\u001b[43mrenderer\u001b[49m\u001b[43m)\u001b[49m\n\u001b[1;32m     73\u001b[0m \u001b[38;5;28;01mfinally\u001b[39;00m:\n\u001b[1;32m     74\u001b[0m     \u001b[38;5;28;01mif\u001b[39;00m artist\u001b[38;5;241m.\u001b[39mget_agg_filter() \u001b[38;5;129;01mis\u001b[39;00m \u001b[38;5;129;01mnot\u001b[39;00m \u001b[38;5;28;01mNone\u001b[39;00m:\n",
      "File \u001b[0;32m~/anaconda3/lib/python3.10/site-packages/matplotlib/figure.py:3125\u001b[0m, in \u001b[0;36mFigure.draw\u001b[0;34m(self, renderer)\u001b[0m\n\u001b[1;32m   3122\u001b[0m         \u001b[38;5;66;03m# ValueError can occur when resizing a window.\u001b[39;00m\n\u001b[1;32m   3124\u001b[0m \u001b[38;5;28mself\u001b[39m\u001b[38;5;241m.\u001b[39mpatch\u001b[38;5;241m.\u001b[39mdraw(renderer)\n\u001b[0;32m-> 3125\u001b[0m \u001b[43mmimage\u001b[49m\u001b[38;5;241;43m.\u001b[39;49m\u001b[43m_draw_list_compositing_images\u001b[49m\u001b[43m(\u001b[49m\n\u001b[1;32m   3126\u001b[0m \u001b[43m    \u001b[49m\u001b[43mrenderer\u001b[49m\u001b[43m,\u001b[49m\u001b[43m \u001b[49m\u001b[38;5;28;43mself\u001b[39;49m\u001b[43m,\u001b[49m\u001b[43m \u001b[49m\u001b[43martists\u001b[49m\u001b[43m,\u001b[49m\u001b[43m \u001b[49m\u001b[38;5;28;43mself\u001b[39;49m\u001b[38;5;241;43m.\u001b[39;49m\u001b[43msuppressComposite\u001b[49m\u001b[43m)\u001b[49m\n\u001b[1;32m   3128\u001b[0m \u001b[38;5;28;01mfor\u001b[39;00m sfig \u001b[38;5;129;01min\u001b[39;00m \u001b[38;5;28mself\u001b[39m\u001b[38;5;241m.\u001b[39msubfigs:\n\u001b[1;32m   3129\u001b[0m     sfig\u001b[38;5;241m.\u001b[39mdraw(renderer)\n",
      "File \u001b[0;32m~/anaconda3/lib/python3.10/site-packages/matplotlib/image.py:131\u001b[0m, in \u001b[0;36m_draw_list_compositing_images\u001b[0;34m(renderer, parent, artists, suppress_composite)\u001b[0m\n\u001b[1;32m    129\u001b[0m \u001b[38;5;28;01mif\u001b[39;00m not_composite \u001b[38;5;129;01mor\u001b[39;00m \u001b[38;5;129;01mnot\u001b[39;00m has_images:\n\u001b[1;32m    130\u001b[0m     \u001b[38;5;28;01mfor\u001b[39;00m a \u001b[38;5;129;01min\u001b[39;00m artists:\n\u001b[0;32m--> 131\u001b[0m         \u001b[43ma\u001b[49m\u001b[38;5;241;43m.\u001b[39;49m\u001b[43mdraw\u001b[49m\u001b[43m(\u001b[49m\u001b[43mrenderer\u001b[49m\u001b[43m)\u001b[49m\n\u001b[1;32m    132\u001b[0m \u001b[38;5;28;01melse\u001b[39;00m:\n\u001b[1;32m    133\u001b[0m     \u001b[38;5;66;03m# Composite any adjacent images together\u001b[39;00m\n\u001b[1;32m    134\u001b[0m     image_group \u001b[38;5;241m=\u001b[39m []\n",
      "File \u001b[0;32m~/anaconda3/lib/python3.10/site-packages/matplotlib/artist.py:72\u001b[0m, in \u001b[0;36mallow_rasterization.<locals>.draw_wrapper\u001b[0;34m(artist, renderer)\u001b[0m\n\u001b[1;32m     69\u001b[0m     \u001b[38;5;28;01mif\u001b[39;00m artist\u001b[38;5;241m.\u001b[39mget_agg_filter() \u001b[38;5;129;01mis\u001b[39;00m \u001b[38;5;129;01mnot\u001b[39;00m \u001b[38;5;28;01mNone\u001b[39;00m:\n\u001b[1;32m     70\u001b[0m         renderer\u001b[38;5;241m.\u001b[39mstart_filter()\n\u001b[0;32m---> 72\u001b[0m     \u001b[38;5;28;01mreturn\u001b[39;00m \u001b[43mdraw\u001b[49m\u001b[43m(\u001b[49m\u001b[43martist\u001b[49m\u001b[43m,\u001b[49m\u001b[43m \u001b[49m\u001b[43mrenderer\u001b[49m\u001b[43m)\u001b[49m\n\u001b[1;32m     73\u001b[0m \u001b[38;5;28;01mfinally\u001b[39;00m:\n\u001b[1;32m     74\u001b[0m     \u001b[38;5;28;01mif\u001b[39;00m artist\u001b[38;5;241m.\u001b[39mget_agg_filter() \u001b[38;5;129;01mis\u001b[39;00m \u001b[38;5;129;01mnot\u001b[39;00m \u001b[38;5;28;01mNone\u001b[39;00m:\n",
      "File \u001b[0;32m~/anaconda3/lib/python3.10/site-packages/matplotlib/axes/_base.py:3066\u001b[0m, in \u001b[0;36m_AxesBase.draw\u001b[0;34m(self, renderer)\u001b[0m\n\u001b[1;32m   3063\u001b[0m \u001b[38;5;28;01mif\u001b[39;00m artists_rasterized:\n\u001b[1;32m   3064\u001b[0m     _draw_rasterized(\u001b[38;5;28mself\u001b[39m\u001b[38;5;241m.\u001b[39mfigure, artists_rasterized, renderer)\n\u001b[0;32m-> 3066\u001b[0m \u001b[43mmimage\u001b[49m\u001b[38;5;241;43m.\u001b[39;49m\u001b[43m_draw_list_compositing_images\u001b[49m\u001b[43m(\u001b[49m\n\u001b[1;32m   3067\u001b[0m \u001b[43m    \u001b[49m\u001b[43mrenderer\u001b[49m\u001b[43m,\u001b[49m\u001b[43m \u001b[49m\u001b[38;5;28;43mself\u001b[39;49m\u001b[43m,\u001b[49m\u001b[43m \u001b[49m\u001b[43martists\u001b[49m\u001b[43m,\u001b[49m\u001b[43m \u001b[49m\u001b[38;5;28;43mself\u001b[39;49m\u001b[38;5;241;43m.\u001b[39;49m\u001b[43mfigure\u001b[49m\u001b[38;5;241;43m.\u001b[39;49m\u001b[43msuppressComposite\u001b[49m\u001b[43m)\u001b[49m\n\u001b[1;32m   3069\u001b[0m renderer\u001b[38;5;241m.\u001b[39mclose_group(\u001b[38;5;124m'\u001b[39m\u001b[38;5;124maxes\u001b[39m\u001b[38;5;124m'\u001b[39m)\n\u001b[1;32m   3070\u001b[0m \u001b[38;5;28mself\u001b[39m\u001b[38;5;241m.\u001b[39mstale \u001b[38;5;241m=\u001b[39m \u001b[38;5;28;01mFalse\u001b[39;00m\n",
      "File \u001b[0;32m~/anaconda3/lib/python3.10/site-packages/matplotlib/image.py:131\u001b[0m, in \u001b[0;36m_draw_list_compositing_images\u001b[0;34m(renderer, parent, artists, suppress_composite)\u001b[0m\n\u001b[1;32m    129\u001b[0m \u001b[38;5;28;01mif\u001b[39;00m not_composite \u001b[38;5;129;01mor\u001b[39;00m \u001b[38;5;129;01mnot\u001b[39;00m has_images:\n\u001b[1;32m    130\u001b[0m     \u001b[38;5;28;01mfor\u001b[39;00m a \u001b[38;5;129;01min\u001b[39;00m artists:\n\u001b[0;32m--> 131\u001b[0m         \u001b[43ma\u001b[49m\u001b[38;5;241;43m.\u001b[39;49m\u001b[43mdraw\u001b[49m\u001b[43m(\u001b[49m\u001b[43mrenderer\u001b[49m\u001b[43m)\u001b[49m\n\u001b[1;32m    132\u001b[0m \u001b[38;5;28;01melse\u001b[39;00m:\n\u001b[1;32m    133\u001b[0m     \u001b[38;5;66;03m# Composite any adjacent images together\u001b[39;00m\n\u001b[1;32m    134\u001b[0m     image_group \u001b[38;5;241m=\u001b[39m []\n",
      "File \u001b[0;32m~/anaconda3/lib/python3.10/site-packages/matplotlib/artist.py:72\u001b[0m, in \u001b[0;36mallow_rasterization.<locals>.draw_wrapper\u001b[0;34m(artist, renderer)\u001b[0m\n\u001b[1;32m     69\u001b[0m     \u001b[38;5;28;01mif\u001b[39;00m artist\u001b[38;5;241m.\u001b[39mget_agg_filter() \u001b[38;5;129;01mis\u001b[39;00m \u001b[38;5;129;01mnot\u001b[39;00m \u001b[38;5;28;01mNone\u001b[39;00m:\n\u001b[1;32m     70\u001b[0m         renderer\u001b[38;5;241m.\u001b[39mstart_filter()\n\u001b[0;32m---> 72\u001b[0m     \u001b[38;5;28;01mreturn\u001b[39;00m \u001b[43mdraw\u001b[49m\u001b[43m(\u001b[49m\u001b[43martist\u001b[49m\u001b[43m,\u001b[49m\u001b[43m \u001b[49m\u001b[43mrenderer\u001b[49m\u001b[43m)\u001b[49m\n\u001b[1;32m     73\u001b[0m \u001b[38;5;28;01mfinally\u001b[39;00m:\n\u001b[1;32m     74\u001b[0m     \u001b[38;5;28;01mif\u001b[39;00m artist\u001b[38;5;241m.\u001b[39mget_agg_filter() \u001b[38;5;129;01mis\u001b[39;00m \u001b[38;5;129;01mnot\u001b[39;00m \u001b[38;5;28;01mNone\u001b[39;00m:\n",
      "File \u001b[0;32m~/anaconda3/lib/python3.10/site-packages/matplotlib/collections.py:2074\u001b[0m, in \u001b[0;36mQuadMesh.draw\u001b[0;34m(self, renderer)\u001b[0m\n\u001b[1;32m   2071\u001b[0m     ys \u001b[38;5;241m=\u001b[39m \u001b[38;5;28mself\u001b[39m\u001b[38;5;241m.\u001b[39mconvert_yunits(offsets[:, \u001b[38;5;241m1\u001b[39m])\n\u001b[1;32m   2072\u001b[0m     offsets \u001b[38;5;241m=\u001b[39m np\u001b[38;5;241m.\u001b[39mcolumn_stack([xs, ys])\n\u001b[0;32m-> 2074\u001b[0m \u001b[38;5;28;43mself\u001b[39;49m\u001b[38;5;241;43m.\u001b[39;49m\u001b[43mupdate_scalarmappable\u001b[49m\u001b[43m(\u001b[49m\u001b[43m)\u001b[49m\n\u001b[1;32m   2076\u001b[0m \u001b[38;5;28;01mif\u001b[39;00m \u001b[38;5;129;01mnot\u001b[39;00m transform\u001b[38;5;241m.\u001b[39mis_affine:\n\u001b[1;32m   2077\u001b[0m     coordinates \u001b[38;5;241m=\u001b[39m \u001b[38;5;28mself\u001b[39m\u001b[38;5;241m.\u001b[39m_coordinates\u001b[38;5;241m.\u001b[39mreshape((\u001b[38;5;241m-\u001b[39m\u001b[38;5;241m1\u001b[39m, \u001b[38;5;241m2\u001b[39m))\n",
      "File \u001b[0;32m~/anaconda3/lib/python3.10/site-packages/matplotlib/collections.py:887\u001b[0m, in \u001b[0;36mCollection.update_scalarmappable\u001b[0;34m(self)\u001b[0m\n\u001b[1;32m    885\u001b[0m         \u001b[38;5;66;03m# pcolormesh, scatter, maybe others flatten their _A\u001b[39;00m\n\u001b[1;32m    886\u001b[0m         \u001b[38;5;28mself\u001b[39m\u001b[38;5;241m.\u001b[39m_alpha \u001b[38;5;241m=\u001b[39m \u001b[38;5;28mself\u001b[39m\u001b[38;5;241m.\u001b[39m_alpha\u001b[38;5;241m.\u001b[39mreshape(\u001b[38;5;28mself\u001b[39m\u001b[38;5;241m.\u001b[39m_A\u001b[38;5;241m.\u001b[39mshape)\n\u001b[0;32m--> 887\u001b[0m     \u001b[38;5;28mself\u001b[39m\u001b[38;5;241m.\u001b[39m_mapped_colors \u001b[38;5;241m=\u001b[39m \u001b[38;5;28;43mself\u001b[39;49m\u001b[38;5;241;43m.\u001b[39;49m\u001b[43mto_rgba\u001b[49m\u001b[43m(\u001b[49m\u001b[38;5;28;43mself\u001b[39;49m\u001b[38;5;241;43m.\u001b[39;49m\u001b[43m_A\u001b[49m\u001b[43m,\u001b[49m\u001b[43m \u001b[49m\u001b[38;5;28;43mself\u001b[39;49m\u001b[38;5;241;43m.\u001b[39;49m\u001b[43m_alpha\u001b[49m\u001b[43m)\u001b[49m\n\u001b[1;32m    889\u001b[0m \u001b[38;5;28;01mif\u001b[39;00m \u001b[38;5;28mself\u001b[39m\u001b[38;5;241m.\u001b[39m_face_is_mapped:\n\u001b[1;32m    890\u001b[0m     \u001b[38;5;28mself\u001b[39m\u001b[38;5;241m.\u001b[39m_facecolors \u001b[38;5;241m=\u001b[39m \u001b[38;5;28mself\u001b[39m\u001b[38;5;241m.\u001b[39m_mapped_colors\n",
      "File \u001b[0;32m~/anaconda3/lib/python3.10/site-packages/matplotlib/cm.py:493\u001b[0m, in \u001b[0;36mScalarMappable.to_rgba\u001b[0;34m(self, x, alpha, bytes, norm)\u001b[0m\n\u001b[1;32m    491\u001b[0m x \u001b[38;5;241m=\u001b[39m ma\u001b[38;5;241m.\u001b[39masarray(x)\n\u001b[1;32m    492\u001b[0m \u001b[38;5;28;01mif\u001b[39;00m norm:\n\u001b[0;32m--> 493\u001b[0m     x \u001b[38;5;241m=\u001b[39m \u001b[38;5;28;43mself\u001b[39;49m\u001b[38;5;241;43m.\u001b[39;49m\u001b[43mnorm\u001b[49m\u001b[43m(\u001b[49m\u001b[43mx\u001b[49m\u001b[43m)\u001b[49m\n\u001b[1;32m    494\u001b[0m rgba \u001b[38;5;241m=\u001b[39m \u001b[38;5;28mself\u001b[39m\u001b[38;5;241m.\u001b[39mcmap(x, alpha\u001b[38;5;241m=\u001b[39malpha, \u001b[38;5;28mbytes\u001b[39m\u001b[38;5;241m=\u001b[39m\u001b[38;5;28mbytes\u001b[39m)\n\u001b[1;32m    495\u001b[0m \u001b[38;5;28;01mreturn\u001b[39;00m rgba\n",
      "File \u001b[0;32m~/anaconda3/lib/python3.10/site-packages/matplotlib/colors.py:1707\u001b[0m, in \u001b[0;36m_make_norm_from_scale.<locals>.Norm.__call__\u001b[0;34m(self, value, clip)\u001b[0m\n\u001b[1;32m   1705\u001b[0m t_vmin, t_vmax \u001b[38;5;241m=\u001b[39m \u001b[38;5;28mself\u001b[39m\u001b[38;5;241m.\u001b[39m_trf\u001b[38;5;241m.\u001b[39mtransform([\u001b[38;5;28mself\u001b[39m\u001b[38;5;241m.\u001b[39mvmin, \u001b[38;5;28mself\u001b[39m\u001b[38;5;241m.\u001b[39mvmax])\n\u001b[1;32m   1706\u001b[0m \u001b[38;5;28;01mif\u001b[39;00m \u001b[38;5;129;01mnot\u001b[39;00m np\u001b[38;5;241m.\u001b[39misfinite([t_vmin, t_vmax])\u001b[38;5;241m.\u001b[39mall():\n\u001b[0;32m-> 1707\u001b[0m     \u001b[38;5;28;01mraise\u001b[39;00m \u001b[38;5;167;01mValueError\u001b[39;00m(\u001b[38;5;124m\"\u001b[39m\u001b[38;5;124mInvalid vmin or vmax\u001b[39m\u001b[38;5;124m\"\u001b[39m)\n\u001b[1;32m   1708\u001b[0m t_value \u001b[38;5;241m-\u001b[39m\u001b[38;5;241m=\u001b[39m t_vmin\n\u001b[1;32m   1709\u001b[0m t_value \u001b[38;5;241m/\u001b[39m\u001b[38;5;241m=\u001b[39m (t_vmax \u001b[38;5;241m-\u001b[39m t_vmin)\n",
      "\u001b[0;31mValueError\u001b[0m: Invalid vmin or vmax"
     ]
    },
    {
     "data": {
      "text/plain": [
       "<Figure size 640x480 with 2 Axes>"
      ]
     },
     "metadata": {},
     "output_type": "display_data"
    }
   ],
   "source": [
    "anim_singletime_var_Precac(variable=\"Precac\", timestamps=[\"0000001200\", \"0000001440\", \"0000001680\"], video_path=\"prec_test3.mp4\")"
   ]
  },
  {
   "cell_type": "code",
   "execution_count": 104,
   "id": "527f7346-852e-4650-9c5c-3e44bb2c0fa6",
   "metadata": {},
   "outputs": [],
   "source": [
    "# 5"
   ]
  },
  {
   "cell_type": "code",
   "execution_count": 127,
   "id": "43fe61d3-517b-46ba-8ef1-7fb6556a7b78",
   "metadata": {},
   "outputs": [],
   "source": [
    "import math\n",
    "import matplotlib.pyplot as plt\n",
    "import numpy as np\n",
    "import imageio\n",
    "from matplotlib.colors import LogNorm\n",
    "from tqdm import tqdm\n",
    "\n",
    "def anim_singletime_var_Precac(variable: str, timestamps: list = None, desired_duration: int = 20, video_path: str = 'output_video.mp4'):\n",
    "    name_dict = {\"OM500\": \"Pressure velocity at 500 mb\", \"T2mm\": \"2-m temperature\", \"OM850\": \"Pressure velocity at 850 mb\", \"Precac\": \"Surface Accum Precip.\", \"PW\": \"Precipitable Water\", \"CWP\": \"Cloud Water Path\", \"U10m\": \"10-m zonal wind\", \"RH500\": \"Relative Humidity 500mb\", \"PSFC\": \"P at the surface\", \"V10m\": \"10-m meridional wind\", \"SHF\": \"Sensible Heat Flux\", \"LHF\": \"Latent Heat Flux\"}\n",
    "    unit_dict = {\"OM500\": \"Pa/s\", \"T2mm\": \"K\", \"OM850\": \"Pa/s\", \"Precac\": \"mm\", \"PW\": \"kg/m²\", \"CWP\": \"kg/m²\", \"U10m\": \"m/s\", \"RH500\": \"\", \"PSFC\": \"mbar\", \"V10m\": \"m/s\", \"SHF\": \"W/m²\", \"LHF\": \"W/m²\"}\n",
    "\n",
    "    frames = []\n",
    "    min_value = float('inf')\n",
    "    max_value = float('-inf')\n",
    "    \n",
    "    ###\n",
    "    if variable == \"Precac\":\n",
    "        df = loadRelTable() # load relation table\n",
    "\n",
    "        if timestamps is None:\n",
    "            sorted_files = df['path_dyamond'].tolist()\n",
    "            timestamps = get_timestamps(sorted_files, 35, 45)\n",
    "\n",
    "        for timestamp in timestamps:\n",
    "            seg_index = timestamp_to_seg_index(timestamp)\n",
    "            if seg_index == 0:\n",
    "                seg_index = 1\n",
    "                print(\"i_t:\", seg_index)\n",
    "            prec = loadPrec(seg_index, df)\n",
    "            prec_filename = loadPrecacFilename(seg_index, df)\n",
    "\n",
    "            # Replace negative values with NaN\n",
    "            prec = xr.where(prec < 0, np.nan, prec)\n",
    "            variable_data = prec.values\n",
    "            lon = prec.lon.values\n",
    "            lat = prec.lat.values\n",
    "            min_value = min(min_value, variable_data.min())\n",
    "            max_value = max(max_value, variable_data.max())\n",
    "\n",
    "    else:\n",
    "        matching_files = glob.glob(path_2D + '/*{}*'.format(variable))\n",
    "        sorted_files = sorted(matching_files)\n",
    "\n",
    "        if timestamps is None:\n",
    "            timestamps = get_timestamps(sorted_files, 119, 129)\n",
    "\n",
    "        for timestamp in timestamps:\n",
    "            i_t = find_file_with_string(sorted_files, timestamp, 119, 129)\n",
    "            file = sorted_files[i_t]\n",
    "            dataset = netCDF4.Dataset(file)\n",
    "\n",
    "            variable_data = dataset.variables[variable][:]\n",
    "            min_value = min(min_value, variable_data.min())\n",
    "            max_value = max(max_value, variable_data.max())\n",
    "    ###\n",
    "    \n",
    "    with tqdm(total=len(timestamps), desc='Generating Frames') as pbar:\n",
    "        for timestamp in timestamps:\n",
    "            if variable == \"Precac\":\n",
    "                seg_index = timestamp_to_seg_index(timestamp)\n",
    "                print(\"i_t:\", seg_index)\n",
    "                df = loadRelTable()\n",
    "                if seg_index == 0:\n",
    "                    seg_index = 1\n",
    "                prec = loadPrec(seg_index, df)\n",
    "                prec_filename = loadPrecacFilename(seg_index, df)\n",
    "\n",
    "                # Replace negative values with NaN\n",
    "                prec = xr.where(prec < 0, np.nan, prec)\n",
    "\n",
    "                variable_data = prec.values\n",
    "                lon = prec.lon.values\n",
    "                lat = prec.lat.values\n",
    "                fig, ax = plt.subplots()\n",
    "\n",
    "                # Apply logarithmic scaling for positive values\n",
    "                positive_data = np.where(variable_data > 0, np.log(variable_data), 0)\n",
    "                # Plot the variable data\n",
    "                im = ax.imshow(positive_data, origin='lower', extent=[lon.min(), lon.max(), lat.min(), lat.max()], norm=LogNorm(vmin=0.0001))\n",
    "\n",
    "                # Compute vmin and vmax based on non-NaN values\n",
    "                valid_values = positive_data[~np.isnan(positive_data)]\n",
    "                vmin = np.min(valid_values)\n",
    "                vmax = np.max(valid_values)\n",
    "\n",
    "            else:\n",
    "                # Rest of the code...\n",
    "                matching_files = glob.glob(path_2D + '/*{}*'.format(variable))\n",
    "                sorted_files = sorted(matching_files)\n",
    "                i_t = find_file_with_string(sorted_files, timestamp, 119, 129)  # finds index in list of files (119:129 are character indices for time stamp)\n",
    "\n",
    "                file = sorted_files[i_t]\n",
    "                dataset = netCDF4.Dataset(file)\n",
    "\n",
    "                # Getting data\n",
    "                variable_data = dataset.variables[variable][:]\n",
    "                # Get the lon and lat values\n",
    "                lon = dataset.variables['lon'][:]\n",
    "                lat = dataset.variables['lat'][:]\n",
    "                # Plot the variable data and assign it to a variable\n",
    "                fig, ax = plt.subplots()\n",
    "                im = ax.imshow(variable_data[0, :, :], origin='lower', extent=[lon.min(), lon.max(), lat.min(), lat.max()])\n",
    "\n",
    "                # Compute vmin and vmax based on the entire data range\n",
    "                vmin = np.min(variable_data)\n",
    "                vmax = np.max(variable_data)\n",
    "\n",
    "            plt.xlabel('Longitude (° East)')\n",
    "            plt.ylabel('Latitude (° North)')\n",
    "            title = f\"DYAMOND SAM {name_dict.get(variable)}\\nTime Stamp: {timestamp}\"\n",
    "            plt.title(title)\n",
    "\n",
    "            if variable == \"RH500\":\n",
    "                cbar = plt.colorbar(im)  # Use the variable im here to create the colorbar\n",
    "            else:\n",
    "                cbar = plt.colorbar(im, label=unit_dict.get(variable))  # Use the variable im here to create the colorbar\n",
    "\n",
    "            # Set the vmin and vmax for the colorbar\n",
    "            # cbar.set_clim(vmin, vmax)\n",
    "\n",
    "            fig.canvas.draw()\n",
    "            frame = np.array(fig.canvas.renderer._renderer)\n",
    "            frames.append(frame)\n",
    "\n",
    "            plt.close(fig)\n",
    "\n",
    "            pbar.set_postfix({'Timestamp': timestamp})\n",
    "            pbar.update(1)\n",
    "\n",
    "    num_frames = len(frames)\n",
    "    fps = math.ceil(num_frames / desired_duration)\n",
    "\n",
    "    imageio.mimsave(video_path, frames, fps=fps)\n",
    "\n",
    "    print(f'Video saved to: {video_path}')\n"
   ]
  },
  {
   "cell_type": "code",
   "execution_count": 128,
   "id": "8cb91ec7-14f1-48c0-ab98-6135776cea5b",
   "metadata": {},
   "outputs": [
    {
     "name": "stderr",
     "output_type": "stream",
     "text": [
      "Generating Frames:   0%|                                                                                                     | 0/3 [00:00<?, ?it/s]"
     ]
    },
    {
     "name": "stdout",
     "output_type": "stream",
     "text": [
      "i_t: 2\n"
     ]
    },
    {
     "name": "stderr",
     "output_type": "stream",
     "text": [
      "/tmp/ipykernel_2141888/941367976.py:77: RuntimeWarning: divide by zero encountered in log\n",
      "  positive_data = np.where(variable_data > 0, np.log(variable_data), 0)\n",
      "Generating Frames:  33%|███████████████████████▋                                               | 1/3 [00:00<00:01,  1.60it/s, Timestamp=0000001200]"
     ]
    },
    {
     "name": "stdout",
     "output_type": "stream",
     "text": [
      "i_t: 3\n"
     ]
    },
    {
     "name": "stderr",
     "output_type": "stream",
     "text": [
      "/tmp/ipykernel_2141888/941367976.py:77: RuntimeWarning: divide by zero encountered in log\n",
      "  positive_data = np.where(variable_data > 0, np.log(variable_data), 0)\n",
      "Generating Frames:  67%|███████████████████████████████████████████████▎                       | 2/3 [00:01<00:00,  1.59it/s, Timestamp=0000001440]"
     ]
    },
    {
     "name": "stdout",
     "output_type": "stream",
     "text": [
      "i_t: 4\n"
     ]
    },
    {
     "name": "stderr",
     "output_type": "stream",
     "text": [
      "/tmp/ipykernel_2141888/941367976.py:77: RuntimeWarning: divide by zero encountered in log\n",
      "  positive_data = np.where(variable_data > 0, np.log(variable_data), 0)\n",
      "Generating Frames: 100%|███████████████████████████████████████████████████████████████████████| 3/3 [00:01<00:00,  1.55it/s, Timestamp=0000001680]"
     ]
    },
    {
     "name": "stdout",
     "output_type": "stream",
     "text": [
      "Video saved to: prec_test3.mp4\n"
     ]
    },
    {
     "name": "stderr",
     "output_type": "stream",
     "text": [
      "\n"
     ]
    }
   ],
   "source": [
    "anim_singletime_var_Precac(variable=\"Precac\", timestamps=[\"0000001200\", \"0000001440\", \"0000001680\"], video_path=\"prec_test3.mp4\")"
   ]
  },
  {
   "cell_type": "code",
   "execution_count": 124,
   "id": "beaf2f6d-bc17-4671-a300-ed3422d1c6b1",
   "metadata": {},
   "outputs": [],
   "source": [
    "#6?"
   ]
  },
  {
   "cell_type": "code",
   "execution_count": 125,
   "id": "266bdc59-3f53-4a98-b9c7-cf4b1eb1f809",
   "metadata": {},
   "outputs": [],
   "source": [
    "import math\n",
    "import matplotlib.pyplot as plt\n",
    "import numpy as np\n",
    "import imageio\n",
    "from matplotlib.colors import LogNorm\n",
    "from tqdm import tqdm\n",
    "\n",
    "def anim_singletime_var_Precac(variable: str, timestamps: list = None, desired_duration: int = 20, video_path: str = 'output_video.mp4'):\n",
    "    name_dict = {\"OM500\": \"Pressure velocity at 500 mb\", \"T2mm\": \"2-m temperature\", \"OM850\": \"Pressure velocity at 850 mb\", \"Precac\": \"Surface Accum Precip.\", \"PW\": \"Precipitable Water\", \"CWP\": \"Cloud Water Path\", \"U10m\": \"10-m zonal wind\", \"RH500\": \"Relative Humidity 500mb\", \"PSFC\": \"P at the surface\", \"V10m\": \"10-m meridional wind\", \"SHF\": \"Sensible Heat Flux\", \"LHF\": \"Latent Heat Flux\"}\n",
    "    unit_dict = {\"OM500\": \"Pa/s\", \"T2mm\": \"K\", \"OM850\": \"Pa/s\", \"Precac\": \"mm\", \"PW\": \"kg/m²\", \"CWP\": \"kg/m²\", \"U10m\": \"m/s\", \"RH500\": \"\", \"PSFC\": \"mbar\", \"V10m\": \"m/s\", \"SHF\": \"W/m²\", \"LHF\": \"W/m²\"}\n",
    "\n",
    "    frames = []\n",
    "    min_value = float('inf')\n",
    "    max_value = float('-inf')\n",
    "    \n",
    "    if variable == \"Precac\":\n",
    "        df = loadRelTable() # load relation table\n",
    "\n",
    "        if timestamps is None:\n",
    "            sorted_files = df['path_dyamond'].tolist()\n",
    "            timestamps = get_timestamps(sorted_files, 35, 45)\n",
    "\n",
    "        for timestamp in timestamps:\n",
    "            seg_index = timestamp_to_seg_index(timestamp)\n",
    "            if seg_index == 0:\n",
    "                seg_index = 1\n",
    "                print(\"i_t:\", seg_index)\n",
    "            prec = loadPrec(seg_index, df)\n",
    "            prec_filename = loadPrecacFilename(seg_index, df)\n",
    "\n",
    "            # Replace negative values with NaN\n",
    "            prec = xr.where(prec < 0, np.nan, prec)\n",
    "            variable_data = prec.values\n",
    "            lon = prec.lon.values\n",
    "            lat = prec.lat.values\n",
    "            min_value = min(min_value, variable_data.min())\n",
    "            max_value = max(max_value, variable_data.max())\n",
    "\n",
    "    else:\n",
    "        matching_files = glob.glob(path_2D + '/*{}*'.format(variable))\n",
    "        sorted_files = sorted(matching_files)\n",
    "\n",
    "        if timestamps is None:\n",
    "            timestamps = get_timestamps(sorted_files, 119, 129)\n",
    "\n",
    "        for timestamp in timestamps:\n",
    "            i_t = find_file_with_string(sorted_files, timestamp, 119, 129)\n",
    "            file = sorted_files[i_t]\n",
    "            dataset = netCDF4.Dataset(file)\n",
    "\n",
    "            variable_data = dataset.variables[variable][:]\n",
    "            min_value = min(min_value, variable_data.min())\n",
    "            max_value = max(max_value, variable_data.max())\n",
    "\n",
    "    with tqdm(total=len(timestamps), desc='Generating Frames') as pbar:\n",
    "        for timestamp in timestamps:\n",
    "            if variable == \"Precac\":\n",
    "                seg_index = timestamp_to_seg_index(timestamp)\n",
    "                print(\"i_t:\", seg_index)\n",
    "                df = loadRelTable()\n",
    "                if seg_index == 0:\n",
    "                    seg_index = 1\n",
    "                prec = loadPrec(seg_index, df)\n",
    "                prec_filename = loadPrecacFilename(seg_index, df)\n",
    "\n",
    "                # Replace negative values with NaN\n",
    "                prec = xr.where(prec < 0, np.nan, prec)\n",
    "\n",
    "                variable_data = prec.values\n",
    "                lon = prec.lon.values\n",
    "                lat = prec.lat.values\n",
    "                fig, ax = plt.subplots()\n",
    "\n",
    "                # Apply logarithmic scaling for positive values\n",
    "                positive_data = np.where(variable_data > 0, np.log(variable_data), 0)\n",
    "                # Plot the variable data\n",
    "                im = ax.imshow(positive_data, origin='lower', extent=[lon.min(), lon.max(), lat.min(), lat.max()], norm=LogNorm(vmin=0.0001))\n",
    "\n",
    "                # Compute vmin and vmax based on non-NaN values\n",
    "                valid_values = positive_data[~np.isnan(positive_data)]\n",
    "                vmin = np.min(valid_values)\n",
    "                vmax = np.max(valid_values)\n",
    "\n",
    "            else:\n",
    "                # Rest of the code...\n",
    "                matching_files = glob.glob(path_2D + '/*{}*'.format(variable))\n",
    "                sorted_files = sorted(matching_files)\n",
    "                i_t = find_file_with_string(sorted_files, timestamp, 119, 129)  # finds index in list of files (119:129 are character indices for time stamp)\n",
    "\n",
    "                file = sorted_files[i_t]\n",
    "                dataset = netCDF4.Dataset(file)\n",
    "\n",
    "                # Getting data\n",
    "                variable_data = dataset.variables[variable][:]\n",
    "                # Get the lon and lat values\n",
    "                lon = dataset.variables['lon'][:]\n",
    "                lat = dataset.variables['lat'][:]\n",
    "                # Plot the variable data and assign it to a variable\n",
    "                fig, ax = plt.subplots()\n",
    "                im = ax.imshow(variable_data[0, :, :], origin='lower', extent=[lon.min(), lon.max(), lat.min(), lat.max()])\n",
    "\n",
    "                # Compute vmin and vmax based on the entire data range\n",
    "                vmin = np.min(variable_data)\n",
    "                vmax = np.max(variable_data)\n",
    "\n",
    "            plt.xlabel('Longitude (° East)')\n",
    "            plt.ylabel('Latitude (° North)')\n",
    "            title = f\"DYAMOND SAM {name_dict.get(variable)}\\nTime Stamp: {timestamp}\"\n",
    "            plt.title(title)\n",
    "\n",
    "            if variable == \"RH500\":\n",
    "                cbar = plt.colorbar(im)  # Use the variable im here to create the colorbar\n",
    "            else:\n",
    "                cbar = plt.colorbar(im, label=unit_dict.get(variable))  # Use the variable im here to create the colorbar\n",
    "\n",
    "            # Set the vmin and vmax for the colorbar\n",
    "            im.set_clim(vmin, vmax)\n",
    "\n",
    "            fig.canvas.draw()\n",
    "            frame = np.array(fig.canvas.renderer._renderer)\n",
    "            frames.append(frame)\n",
    "\n",
    "            plt.close(fig)\n",
    "\n",
    "            pbar.set_postfix({'Timestamp': timestamp})\n",
    "            pbar.update(1)\n",
    "\n",
    "    num_frames = len(frames)\n",
    "    fps = math.ceil(num_frames / desired_duration)\n",
    "\n",
    "    imageio.mimsave(video_path, frames, fps=fps)\n",
    "\n",
    "    print(f'Video saved to: {video_path}')\n"
   ]
  },
  {
   "cell_type": "code",
   "execution_count": 126,
   "id": "da14ea25-7111-48ae-8cc8-b682c16ade17",
   "metadata": {},
   "outputs": [
    {
     "name": "stderr",
     "output_type": "stream",
     "text": [
      "Generating Frames:   0%|                                                                                                     | 0/3 [00:00<?, ?it/s]"
     ]
    },
    {
     "name": "stdout",
     "output_type": "stream",
     "text": [
      "i_t: 2\n"
     ]
    },
    {
     "name": "stderr",
     "output_type": "stream",
     "text": [
      "/tmp/ipykernel_2141888/1782816151.py:75: RuntimeWarning: divide by zero encountered in log\n",
      "  positive_data = np.where(variable_data > 0, np.log(variable_data), 0)\n",
      "Generating Frames:   0%|                                                                                                     | 0/3 [00:00<?, ?it/s]\n"
     ]
    },
    {
     "ename": "ValueError",
     "evalue": "Invalid vmin or vmax",
     "output_type": "error",
     "traceback": [
      "\u001b[0;31m---------------------------------------------------------------------------\u001b[0m",
      "\u001b[0;31mValueError\u001b[0m                                Traceback (most recent call last)",
      "Cell \u001b[0;32mIn[126], line 1\u001b[0m\n\u001b[0;32m----> 1\u001b[0m \u001b[43manim_singletime_var_Precac\u001b[49m\u001b[43m(\u001b[49m\u001b[43mvariable\u001b[49m\u001b[38;5;241;43m=\u001b[39;49m\u001b[38;5;124;43m\"\u001b[39;49m\u001b[38;5;124;43mPrecac\u001b[39;49m\u001b[38;5;124;43m\"\u001b[39;49m\u001b[43m,\u001b[49m\u001b[43m \u001b[49m\u001b[43mtimestamps\u001b[49m\u001b[38;5;241;43m=\u001b[39;49m\u001b[43m[\u001b[49m\u001b[38;5;124;43m\"\u001b[39;49m\u001b[38;5;124;43m0000001200\u001b[39;49m\u001b[38;5;124;43m\"\u001b[39;49m\u001b[43m,\u001b[49m\u001b[43m \u001b[49m\u001b[38;5;124;43m\"\u001b[39;49m\u001b[38;5;124;43m0000001440\u001b[39;49m\u001b[38;5;124;43m\"\u001b[39;49m\u001b[43m,\u001b[49m\u001b[43m \u001b[49m\u001b[38;5;124;43m\"\u001b[39;49m\u001b[38;5;124;43m0000001680\u001b[39;49m\u001b[38;5;124;43m\"\u001b[39;49m\u001b[43m]\u001b[49m\u001b[43m,\u001b[49m\u001b[43m \u001b[49m\u001b[43mvideo_path\u001b[49m\u001b[38;5;241;43m=\u001b[39;49m\u001b[38;5;124;43m\"\u001b[39;49m\u001b[38;5;124;43mprec_test3.mp4\u001b[39;49m\u001b[38;5;124;43m\"\u001b[39;49m\u001b[43m)\u001b[49m\n",
      "Cell \u001b[0;32mIn[125], line 117\u001b[0m, in \u001b[0;36manim_singletime_var_Precac\u001b[0;34m(variable, timestamps, desired_duration, video_path)\u001b[0m\n\u001b[1;32m    114\u001b[0m     cbar \u001b[38;5;241m=\u001b[39m plt\u001b[38;5;241m.\u001b[39mcolorbar(im, label\u001b[38;5;241m=\u001b[39munit_dict\u001b[38;5;241m.\u001b[39mget(variable))  \u001b[38;5;66;03m# Use the variable im here to create the colorbar\u001b[39;00m\n\u001b[1;32m    116\u001b[0m \u001b[38;5;66;03m# Set the vmin and vmax for the colorbar\u001b[39;00m\n\u001b[0;32m--> 117\u001b[0m \u001b[43mim\u001b[49m\u001b[38;5;241;43m.\u001b[39;49m\u001b[43mset_clim\u001b[49m\u001b[43m(\u001b[49m\u001b[43mvmin\u001b[49m\u001b[43m,\u001b[49m\u001b[43m \u001b[49m\u001b[43mvmax\u001b[49m\u001b[43m)\u001b[49m\n\u001b[1;32m    119\u001b[0m fig\u001b[38;5;241m.\u001b[39mcanvas\u001b[38;5;241m.\u001b[39mdraw()\n\u001b[1;32m    120\u001b[0m frame \u001b[38;5;241m=\u001b[39m np\u001b[38;5;241m.\u001b[39marray(fig\u001b[38;5;241m.\u001b[39mcanvas\u001b[38;5;241m.\u001b[39mrenderer\u001b[38;5;241m.\u001b[39m_renderer)\n",
      "File \u001b[0;32m~/anaconda3/lib/python3.10/site-packages/matplotlib/cm.py:561\u001b[0m, in \u001b[0;36mScalarMappable.set_clim\u001b[0;34m(self, vmin, vmax)\u001b[0m\n\u001b[1;32m    559\u001b[0m         \u001b[38;5;28;01mpass\u001b[39;00m\n\u001b[1;32m    560\u001b[0m \u001b[38;5;28;01mif\u001b[39;00m vmin \u001b[38;5;129;01mis\u001b[39;00m \u001b[38;5;129;01mnot\u001b[39;00m \u001b[38;5;28;01mNone\u001b[39;00m:\n\u001b[0;32m--> 561\u001b[0m     \u001b[38;5;28mself\u001b[39m\u001b[38;5;241m.\u001b[39mnorm\u001b[38;5;241m.\u001b[39mvmin \u001b[38;5;241m=\u001b[39m colors\u001b[38;5;241m.\u001b[39m_sanitize_extrema(vmin)\n\u001b[1;32m    562\u001b[0m \u001b[38;5;28;01mif\u001b[39;00m vmax \u001b[38;5;129;01mis\u001b[39;00m \u001b[38;5;129;01mnot\u001b[39;00m \u001b[38;5;28;01mNone\u001b[39;00m:\n\u001b[1;32m    563\u001b[0m     \u001b[38;5;28mself\u001b[39m\u001b[38;5;241m.\u001b[39mnorm\u001b[38;5;241m.\u001b[39mvmax \u001b[38;5;241m=\u001b[39m colors\u001b[38;5;241m.\u001b[39m_sanitize_extrema(vmax)\n",
      "File \u001b[0;32m~/anaconda3/lib/python3.10/site-packages/matplotlib/colors.py:1250\u001b[0m, in \u001b[0;36mNormalize.vmin\u001b[0;34m(self, value)\u001b[0m\n\u001b[1;32m   1248\u001b[0m \u001b[38;5;28;01mif\u001b[39;00m value \u001b[38;5;241m!=\u001b[39m \u001b[38;5;28mself\u001b[39m\u001b[38;5;241m.\u001b[39m_vmin:\n\u001b[1;32m   1249\u001b[0m     \u001b[38;5;28mself\u001b[39m\u001b[38;5;241m.\u001b[39m_vmin \u001b[38;5;241m=\u001b[39m value\n\u001b[0;32m-> 1250\u001b[0m     \u001b[38;5;28;43mself\u001b[39;49m\u001b[38;5;241;43m.\u001b[39;49m\u001b[43m_changed\u001b[49m\u001b[43m(\u001b[49m\u001b[43m)\u001b[49m\n",
      "File \u001b[0;32m~/anaconda3/lib/python3.10/site-packages/matplotlib/colors.py:1278\u001b[0m, in \u001b[0;36mNormalize._changed\u001b[0;34m(self)\u001b[0m\n\u001b[1;32m   1273\u001b[0m \u001b[38;5;28;01mdef\u001b[39;00m \u001b[38;5;21m_changed\u001b[39m(\u001b[38;5;28mself\u001b[39m):\n\u001b[1;32m   1274\u001b[0m     \u001b[38;5;124;03m\"\"\"\u001b[39;00m\n\u001b[1;32m   1275\u001b[0m \u001b[38;5;124;03m    Call this whenever the norm is changed to notify all the\u001b[39;00m\n\u001b[1;32m   1276\u001b[0m \u001b[38;5;124;03m    callback listeners to the 'changed' signal.\u001b[39;00m\n\u001b[1;32m   1277\u001b[0m \u001b[38;5;124;03m    \"\"\"\u001b[39;00m\n\u001b[0;32m-> 1278\u001b[0m     \u001b[38;5;28;43mself\u001b[39;49m\u001b[38;5;241;43m.\u001b[39;49m\u001b[43mcallbacks\u001b[49m\u001b[38;5;241;43m.\u001b[39;49m\u001b[43mprocess\u001b[49m\u001b[43m(\u001b[49m\u001b[38;5;124;43m'\u001b[39;49m\u001b[38;5;124;43mchanged\u001b[39;49m\u001b[38;5;124;43m'\u001b[39;49m\u001b[43m)\u001b[49m\n",
      "File \u001b[0;32m~/anaconda3/lib/python3.10/site-packages/matplotlib/cbook/__init__.py:309\u001b[0m, in \u001b[0;36mCallbackRegistry.process\u001b[0;34m(self, s, *args, **kwargs)\u001b[0m\n\u001b[1;32m    307\u001b[0m \u001b[38;5;28;01mexcept\u001b[39;00m \u001b[38;5;167;01mException\u001b[39;00m \u001b[38;5;28;01mas\u001b[39;00m exc:\n\u001b[1;32m    308\u001b[0m     \u001b[38;5;28;01mif\u001b[39;00m \u001b[38;5;28mself\u001b[39m\u001b[38;5;241m.\u001b[39mexception_handler \u001b[38;5;129;01mis\u001b[39;00m \u001b[38;5;129;01mnot\u001b[39;00m \u001b[38;5;28;01mNone\u001b[39;00m:\n\u001b[0;32m--> 309\u001b[0m         \u001b[38;5;28;43mself\u001b[39;49m\u001b[38;5;241;43m.\u001b[39;49m\u001b[43mexception_handler\u001b[49m\u001b[43m(\u001b[49m\u001b[43mexc\u001b[49m\u001b[43m)\u001b[49m\n\u001b[1;32m    310\u001b[0m     \u001b[38;5;28;01melse\u001b[39;00m:\n\u001b[1;32m    311\u001b[0m         \u001b[38;5;28;01mraise\u001b[39;00m\n",
      "File \u001b[0;32m~/anaconda3/lib/python3.10/site-packages/matplotlib/cbook/__init__.py:96\u001b[0m, in \u001b[0;36m_exception_printer\u001b[0;34m(exc)\u001b[0m\n\u001b[1;32m     94\u001b[0m \u001b[38;5;28;01mdef\u001b[39;00m \u001b[38;5;21m_exception_printer\u001b[39m(exc):\n\u001b[1;32m     95\u001b[0m     \u001b[38;5;28;01mif\u001b[39;00m _get_running_interactive_framework() \u001b[38;5;129;01min\u001b[39;00m [\u001b[38;5;124m\"\u001b[39m\u001b[38;5;124mheadless\u001b[39m\u001b[38;5;124m\"\u001b[39m, \u001b[38;5;28;01mNone\u001b[39;00m]:\n\u001b[0;32m---> 96\u001b[0m         \u001b[38;5;28;01mraise\u001b[39;00m exc\n\u001b[1;32m     97\u001b[0m     \u001b[38;5;28;01melse\u001b[39;00m:\n\u001b[1;32m     98\u001b[0m         traceback\u001b[38;5;241m.\u001b[39mprint_exc()\n",
      "File \u001b[0;32m~/anaconda3/lib/python3.10/site-packages/matplotlib/cbook/__init__.py:304\u001b[0m, in \u001b[0;36mCallbackRegistry.process\u001b[0;34m(self, s, *args, **kwargs)\u001b[0m\n\u001b[1;32m    302\u001b[0m \u001b[38;5;28;01mif\u001b[39;00m func \u001b[38;5;129;01mis\u001b[39;00m \u001b[38;5;129;01mnot\u001b[39;00m \u001b[38;5;28;01mNone\u001b[39;00m:\n\u001b[1;32m    303\u001b[0m     \u001b[38;5;28;01mtry\u001b[39;00m:\n\u001b[0;32m--> 304\u001b[0m         \u001b[43mfunc\u001b[49m\u001b[43m(\u001b[49m\u001b[38;5;241;43m*\u001b[39;49m\u001b[43margs\u001b[49m\u001b[43m,\u001b[49m\u001b[43m \u001b[49m\u001b[38;5;241;43m*\u001b[39;49m\u001b[38;5;241;43m*\u001b[39;49m\u001b[43mkwargs\u001b[49m\u001b[43m)\u001b[49m\n\u001b[1;32m    305\u001b[0m     \u001b[38;5;66;03m# this does not capture KeyboardInterrupt, SystemExit,\u001b[39;00m\n\u001b[1;32m    306\u001b[0m     \u001b[38;5;66;03m# and GeneratorExit\u001b[39;00m\n\u001b[1;32m    307\u001b[0m     \u001b[38;5;28;01mexcept\u001b[39;00m \u001b[38;5;167;01mException\u001b[39;00m \u001b[38;5;28;01mas\u001b[39;00m exc:\n",
      "File \u001b[0;32m~/anaconda3/lib/python3.10/site-packages/matplotlib/image.py:326\u001b[0m, in \u001b[0;36m_ImageBase.changed\u001b[0;34m(self)\u001b[0m\n\u001b[1;32m    322\u001b[0m \u001b[38;5;124;03m\"\"\"\u001b[39;00m\n\u001b[1;32m    323\u001b[0m \u001b[38;5;124;03mCall this whenever the mappable is changed so observers can update.\u001b[39;00m\n\u001b[1;32m    324\u001b[0m \u001b[38;5;124;03m\"\"\"\u001b[39;00m\n\u001b[1;32m    325\u001b[0m \u001b[38;5;28mself\u001b[39m\u001b[38;5;241m.\u001b[39m_imcache \u001b[38;5;241m=\u001b[39m \u001b[38;5;28;01mNone\u001b[39;00m\n\u001b[0;32m--> 326\u001b[0m \u001b[43mcm\u001b[49m\u001b[38;5;241;43m.\u001b[39;49m\u001b[43mScalarMappable\u001b[49m\u001b[38;5;241;43m.\u001b[39;49m\u001b[43mchanged\u001b[49m\u001b[43m(\u001b[49m\u001b[38;5;28;43mself\u001b[39;49m\u001b[43m)\u001b[49m\n",
      "File \u001b[0;32m~/anaconda3/lib/python3.10/site-packages/matplotlib/cm.py:665\u001b[0m, in \u001b[0;36mScalarMappable.changed\u001b[0;34m(self)\u001b[0m\n\u001b[1;32m    660\u001b[0m \u001b[38;5;28;01mdef\u001b[39;00m \u001b[38;5;21mchanged\u001b[39m(\u001b[38;5;28mself\u001b[39m):\n\u001b[1;32m    661\u001b[0m     \u001b[38;5;124;03m\"\"\"\u001b[39;00m\n\u001b[1;32m    662\u001b[0m \u001b[38;5;124;03m    Call this whenever the mappable is changed to notify all the\u001b[39;00m\n\u001b[1;32m    663\u001b[0m \u001b[38;5;124;03m    callbackSM listeners to the 'changed' signal.\u001b[39;00m\n\u001b[1;32m    664\u001b[0m \u001b[38;5;124;03m    \"\"\"\u001b[39;00m\n\u001b[0;32m--> 665\u001b[0m     \u001b[38;5;28;43mself\u001b[39;49m\u001b[38;5;241;43m.\u001b[39;49m\u001b[43mcallbacks\u001b[49m\u001b[38;5;241;43m.\u001b[39;49m\u001b[43mprocess\u001b[49m\u001b[43m(\u001b[49m\u001b[38;5;124;43m'\u001b[39;49m\u001b[38;5;124;43mchanged\u001b[39;49m\u001b[38;5;124;43m'\u001b[39;49m\u001b[43m,\u001b[49m\u001b[43m \u001b[49m\u001b[38;5;28;43mself\u001b[39;49m\u001b[43m)\u001b[49m\n\u001b[1;32m    666\u001b[0m     \u001b[38;5;28mself\u001b[39m\u001b[38;5;241m.\u001b[39mstale \u001b[38;5;241m=\u001b[39m \u001b[38;5;28;01mTrue\u001b[39;00m\n",
      "File \u001b[0;32m~/anaconda3/lib/python3.10/site-packages/matplotlib/cbook/__init__.py:309\u001b[0m, in \u001b[0;36mCallbackRegistry.process\u001b[0;34m(self, s, *args, **kwargs)\u001b[0m\n\u001b[1;32m    307\u001b[0m \u001b[38;5;28;01mexcept\u001b[39;00m \u001b[38;5;167;01mException\u001b[39;00m \u001b[38;5;28;01mas\u001b[39;00m exc:\n\u001b[1;32m    308\u001b[0m     \u001b[38;5;28;01mif\u001b[39;00m \u001b[38;5;28mself\u001b[39m\u001b[38;5;241m.\u001b[39mexception_handler \u001b[38;5;129;01mis\u001b[39;00m \u001b[38;5;129;01mnot\u001b[39;00m \u001b[38;5;28;01mNone\u001b[39;00m:\n\u001b[0;32m--> 309\u001b[0m         \u001b[38;5;28;43mself\u001b[39;49m\u001b[38;5;241;43m.\u001b[39;49m\u001b[43mexception_handler\u001b[49m\u001b[43m(\u001b[49m\u001b[43mexc\u001b[49m\u001b[43m)\u001b[49m\n\u001b[1;32m    310\u001b[0m     \u001b[38;5;28;01melse\u001b[39;00m:\n\u001b[1;32m    311\u001b[0m         \u001b[38;5;28;01mraise\u001b[39;00m\n",
      "File \u001b[0;32m~/anaconda3/lib/python3.10/site-packages/matplotlib/cbook/__init__.py:96\u001b[0m, in \u001b[0;36m_exception_printer\u001b[0;34m(exc)\u001b[0m\n\u001b[1;32m     94\u001b[0m \u001b[38;5;28;01mdef\u001b[39;00m \u001b[38;5;21m_exception_printer\u001b[39m(exc):\n\u001b[1;32m     95\u001b[0m     \u001b[38;5;28;01mif\u001b[39;00m _get_running_interactive_framework() \u001b[38;5;129;01min\u001b[39;00m [\u001b[38;5;124m\"\u001b[39m\u001b[38;5;124mheadless\u001b[39m\u001b[38;5;124m\"\u001b[39m, \u001b[38;5;28;01mNone\u001b[39;00m]:\n\u001b[0;32m---> 96\u001b[0m         \u001b[38;5;28;01mraise\u001b[39;00m exc\n\u001b[1;32m     97\u001b[0m     \u001b[38;5;28;01melse\u001b[39;00m:\n\u001b[1;32m     98\u001b[0m         traceback\u001b[38;5;241m.\u001b[39mprint_exc()\n",
      "File \u001b[0;32m~/anaconda3/lib/python3.10/site-packages/matplotlib/cbook/__init__.py:304\u001b[0m, in \u001b[0;36mCallbackRegistry.process\u001b[0;34m(self, s, *args, **kwargs)\u001b[0m\n\u001b[1;32m    302\u001b[0m \u001b[38;5;28;01mif\u001b[39;00m func \u001b[38;5;129;01mis\u001b[39;00m \u001b[38;5;129;01mnot\u001b[39;00m \u001b[38;5;28;01mNone\u001b[39;00m:\n\u001b[1;32m    303\u001b[0m     \u001b[38;5;28;01mtry\u001b[39;00m:\n\u001b[0;32m--> 304\u001b[0m         \u001b[43mfunc\u001b[49m\u001b[43m(\u001b[49m\u001b[38;5;241;43m*\u001b[39;49m\u001b[43margs\u001b[49m\u001b[43m,\u001b[49m\u001b[43m \u001b[49m\u001b[38;5;241;43m*\u001b[39;49m\u001b[38;5;241;43m*\u001b[39;49m\u001b[43mkwargs\u001b[49m\u001b[43m)\u001b[49m\n\u001b[1;32m    305\u001b[0m     \u001b[38;5;66;03m# this does not capture KeyboardInterrupt, SystemExit,\u001b[39;00m\n\u001b[1;32m    306\u001b[0m     \u001b[38;5;66;03m# and GeneratorExit\u001b[39;00m\n\u001b[1;32m    307\u001b[0m     \u001b[38;5;28;01mexcept\u001b[39;00m \u001b[38;5;167;01mException\u001b[39;00m \u001b[38;5;28;01mas\u001b[39;00m exc:\n",
      "File \u001b[0;32m~/anaconda3/lib/python3.10/site-packages/matplotlib/colorbar.py:514\u001b[0m, in \u001b[0;36mColorbar.update_normal\u001b[0;34m(self, mappable)\u001b[0m\n\u001b[1;32m    511\u001b[0m     \u001b[38;5;28mself\u001b[39m\u001b[38;5;241m.\u001b[39mnorm \u001b[38;5;241m=\u001b[39m mappable\u001b[38;5;241m.\u001b[39mnorm\n\u001b[1;32m    512\u001b[0m     \u001b[38;5;28mself\u001b[39m\u001b[38;5;241m.\u001b[39m_reset_locator_formatter_scale()\n\u001b[0;32m--> 514\u001b[0m \u001b[38;5;28;43mself\u001b[39;49m\u001b[38;5;241;43m.\u001b[39;49m\u001b[43m_draw_all\u001b[49m\u001b[43m(\u001b[49m\u001b[43m)\u001b[49m\n\u001b[1;32m    515\u001b[0m \u001b[38;5;28;01mif\u001b[39;00m \u001b[38;5;28misinstance\u001b[39m(\u001b[38;5;28mself\u001b[39m\u001b[38;5;241m.\u001b[39mmappable, contour\u001b[38;5;241m.\u001b[39mContourSet):\n\u001b[1;32m    516\u001b[0m     CS \u001b[38;5;241m=\u001b[39m \u001b[38;5;28mself\u001b[39m\u001b[38;5;241m.\u001b[39mmappable\n",
      "File \u001b[0;32m~/anaconda3/lib/python3.10/site-packages/matplotlib/colorbar.py:549\u001b[0m, in \u001b[0;36mColorbar._draw_all\u001b[0;34m(self)\u001b[0m\n\u001b[1;32m    543\u001b[0m \u001b[38;5;28mself\u001b[39m\u001b[38;5;241m.\u001b[39m_short_axis()\u001b[38;5;241m.\u001b[39mset_ticks([], minor\u001b[38;5;241m=\u001b[39m\u001b[38;5;28;01mTrue\u001b[39;00m)\n\u001b[1;32m    545\u001b[0m \u001b[38;5;66;03m# Set self._boundaries and self._values, including extensions.\u001b[39;00m\n\u001b[1;32m    546\u001b[0m \u001b[38;5;66;03m# self._boundaries are the edges of each square of color, and\u001b[39;00m\n\u001b[1;32m    547\u001b[0m \u001b[38;5;66;03m# self._values are the value to map into the norm to get the\u001b[39;00m\n\u001b[1;32m    548\u001b[0m \u001b[38;5;66;03m# color:\u001b[39;00m\n\u001b[0;32m--> 549\u001b[0m \u001b[38;5;28;43mself\u001b[39;49m\u001b[38;5;241;43m.\u001b[39;49m\u001b[43m_process_values\u001b[49m\u001b[43m(\u001b[49m\u001b[43m)\u001b[49m\n\u001b[1;32m    550\u001b[0m \u001b[38;5;66;03m# Set self.vmin and self.vmax to first and last boundary, excluding\u001b[39;00m\n\u001b[1;32m    551\u001b[0m \u001b[38;5;66;03m# extensions:\u001b[39;00m\n\u001b[1;32m    552\u001b[0m \u001b[38;5;28mself\u001b[39m\u001b[38;5;241m.\u001b[39mvmin, \u001b[38;5;28mself\u001b[39m\u001b[38;5;241m.\u001b[39mvmax \u001b[38;5;241m=\u001b[39m \u001b[38;5;28mself\u001b[39m\u001b[38;5;241m.\u001b[39m_boundaries[\u001b[38;5;28mself\u001b[39m\u001b[38;5;241m.\u001b[39m_inside][[\u001b[38;5;241m0\u001b[39m, \u001b[38;5;241m-\u001b[39m\u001b[38;5;241m1\u001b[39m]]\n",
      "File \u001b[0;32m~/anaconda3/lib/python3.10/site-packages/matplotlib/colorbar.py:1111\u001b[0m, in \u001b[0;36mColorbar._process_values\u001b[0;34m(self)\u001b[0m\n\u001b[1;32m   1107\u001b[0m \u001b[38;5;28mself\u001b[39m\u001b[38;5;241m.\u001b[39mnorm\u001b[38;5;241m.\u001b[39mvmin, \u001b[38;5;28mself\u001b[39m\u001b[38;5;241m.\u001b[39mnorm\u001b[38;5;241m.\u001b[39mvmax \u001b[38;5;241m=\u001b[39m mtransforms\u001b[38;5;241m.\u001b[39mnonsingular(\n\u001b[1;32m   1108\u001b[0m     \u001b[38;5;28mself\u001b[39m\u001b[38;5;241m.\u001b[39mnorm\u001b[38;5;241m.\u001b[39mvmin, \u001b[38;5;28mself\u001b[39m\u001b[38;5;241m.\u001b[39mnorm\u001b[38;5;241m.\u001b[39mvmax, expander\u001b[38;5;241m=\u001b[39m\u001b[38;5;241m0.1\u001b[39m)\n\u001b[1;32m   1109\u001b[0m \u001b[38;5;28;01mif\u001b[39;00m (\u001b[38;5;129;01mnot\u001b[39;00m \u001b[38;5;28misinstance\u001b[39m(\u001b[38;5;28mself\u001b[39m\u001b[38;5;241m.\u001b[39mnorm, colors\u001b[38;5;241m.\u001b[39mBoundaryNorm) \u001b[38;5;129;01mand\u001b[39;00m\n\u001b[1;32m   1110\u001b[0m         (\u001b[38;5;28mself\u001b[39m\u001b[38;5;241m.\u001b[39mboundaries \u001b[38;5;129;01mis\u001b[39;00m \u001b[38;5;28;01mNone\u001b[39;00m)):\n\u001b[0;32m-> 1111\u001b[0m     b \u001b[38;5;241m=\u001b[39m \u001b[38;5;28;43mself\u001b[39;49m\u001b[38;5;241;43m.\u001b[39;49m\u001b[43mnorm\u001b[49m\u001b[38;5;241;43m.\u001b[39;49m\u001b[43minverse\u001b[49m\u001b[43m(\u001b[49m\u001b[43mb\u001b[49m\u001b[43m)\u001b[49m\n\u001b[1;32m   1113\u001b[0m \u001b[38;5;28mself\u001b[39m\u001b[38;5;241m.\u001b[39m_boundaries \u001b[38;5;241m=\u001b[39m np\u001b[38;5;241m.\u001b[39masarray(b, dtype\u001b[38;5;241m=\u001b[39m\u001b[38;5;28mfloat\u001b[39m)\n\u001b[1;32m   1114\u001b[0m \u001b[38;5;28mself\u001b[39m\u001b[38;5;241m.\u001b[39m_values \u001b[38;5;241m=\u001b[39m \u001b[38;5;241m0.5\u001b[39m \u001b[38;5;241m*\u001b[39m (\u001b[38;5;28mself\u001b[39m\u001b[38;5;241m.\u001b[39m_boundaries[:\u001b[38;5;241m-\u001b[39m\u001b[38;5;241m1\u001b[39m] \u001b[38;5;241m+\u001b[39m \u001b[38;5;28mself\u001b[39m\u001b[38;5;241m.\u001b[39m_boundaries[\u001b[38;5;241m1\u001b[39m:])\n",
      "File \u001b[0;32m~/anaconda3/lib/python3.10/site-packages/matplotlib/colors.py:1720\u001b[0m, in \u001b[0;36m_make_norm_from_scale.<locals>.Norm.inverse\u001b[0;34m(self, value)\u001b[0m\n\u001b[1;32m   1718\u001b[0m t_vmin, t_vmax \u001b[38;5;241m=\u001b[39m \u001b[38;5;28mself\u001b[39m\u001b[38;5;241m.\u001b[39m_trf\u001b[38;5;241m.\u001b[39mtransform([\u001b[38;5;28mself\u001b[39m\u001b[38;5;241m.\u001b[39mvmin, \u001b[38;5;28mself\u001b[39m\u001b[38;5;241m.\u001b[39mvmax])\n\u001b[1;32m   1719\u001b[0m \u001b[38;5;28;01mif\u001b[39;00m \u001b[38;5;129;01mnot\u001b[39;00m np\u001b[38;5;241m.\u001b[39misfinite([t_vmin, t_vmax])\u001b[38;5;241m.\u001b[39mall():\n\u001b[0;32m-> 1720\u001b[0m     \u001b[38;5;28;01mraise\u001b[39;00m \u001b[38;5;167;01mValueError\u001b[39;00m(\u001b[38;5;124m\"\u001b[39m\u001b[38;5;124mInvalid vmin or vmax\u001b[39m\u001b[38;5;124m\"\u001b[39m)\n\u001b[1;32m   1721\u001b[0m value, is_scalar \u001b[38;5;241m=\u001b[39m \u001b[38;5;28mself\u001b[39m\u001b[38;5;241m.\u001b[39mprocess_value(value)\n\u001b[1;32m   1722\u001b[0m rescaled \u001b[38;5;241m=\u001b[39m value \u001b[38;5;241m*\u001b[39m (t_vmax \u001b[38;5;241m-\u001b[39m t_vmin)\n",
      "\u001b[0;31mValueError\u001b[0m: Invalid vmin or vmax"
     ]
    },
    {
     "name": "stdout",
     "output_type": "stream",
     "text": [
      "Error in callback <function _draw_all_if_interactive at 0x7f95fe778790> (for post_execute):\n"
     ]
    },
    {
     "ename": "ValueError",
     "evalue": "Invalid vmin or vmax",
     "output_type": "error",
     "traceback": [
      "\u001b[0;31m---------------------------------------------------------------------------\u001b[0m",
      "\u001b[0;31mValueError\u001b[0m                                Traceback (most recent call last)",
      "File \u001b[0;32m~/anaconda3/lib/python3.10/site-packages/matplotlib/pyplot.py:120\u001b[0m, in \u001b[0;36m_draw_all_if_interactive\u001b[0;34m()\u001b[0m\n\u001b[1;32m    118\u001b[0m \u001b[38;5;28;01mdef\u001b[39;00m \u001b[38;5;21m_draw_all_if_interactive\u001b[39m():\n\u001b[1;32m    119\u001b[0m     \u001b[38;5;28;01mif\u001b[39;00m matplotlib\u001b[38;5;241m.\u001b[39mis_interactive():\n\u001b[0;32m--> 120\u001b[0m         \u001b[43mdraw_all\u001b[49m\u001b[43m(\u001b[49m\u001b[43m)\u001b[49m\n",
      "File \u001b[0;32m~/anaconda3/lib/python3.10/site-packages/matplotlib/_pylab_helpers.py:132\u001b[0m, in \u001b[0;36mGcf.draw_all\u001b[0;34m(cls, force)\u001b[0m\n\u001b[1;32m    130\u001b[0m \u001b[38;5;28;01mfor\u001b[39;00m manager \u001b[38;5;129;01min\u001b[39;00m \u001b[38;5;28mcls\u001b[39m\u001b[38;5;241m.\u001b[39mget_all_fig_managers():\n\u001b[1;32m    131\u001b[0m     \u001b[38;5;28;01mif\u001b[39;00m force \u001b[38;5;129;01mor\u001b[39;00m manager\u001b[38;5;241m.\u001b[39mcanvas\u001b[38;5;241m.\u001b[39mfigure\u001b[38;5;241m.\u001b[39mstale:\n\u001b[0;32m--> 132\u001b[0m         \u001b[43mmanager\u001b[49m\u001b[38;5;241;43m.\u001b[39;49m\u001b[43mcanvas\u001b[49m\u001b[38;5;241;43m.\u001b[39;49m\u001b[43mdraw_idle\u001b[49m\u001b[43m(\u001b[49m\u001b[43m)\u001b[49m\n",
      "File \u001b[0;32m~/anaconda3/lib/python3.10/site-packages/matplotlib/backend_bases.py:2078\u001b[0m, in \u001b[0;36mFigureCanvasBase.draw_idle\u001b[0;34m(self, *args, **kwargs)\u001b[0m\n\u001b[1;32m   2076\u001b[0m \u001b[38;5;28;01mif\u001b[39;00m \u001b[38;5;129;01mnot\u001b[39;00m \u001b[38;5;28mself\u001b[39m\u001b[38;5;241m.\u001b[39m_is_idle_drawing:\n\u001b[1;32m   2077\u001b[0m     \u001b[38;5;28;01mwith\u001b[39;00m \u001b[38;5;28mself\u001b[39m\u001b[38;5;241m.\u001b[39m_idle_draw_cntx():\n\u001b[0;32m-> 2078\u001b[0m         \u001b[38;5;28;43mself\u001b[39;49m\u001b[38;5;241;43m.\u001b[39;49m\u001b[43mdraw\u001b[49m\u001b[43m(\u001b[49m\u001b[38;5;241;43m*\u001b[39;49m\u001b[43margs\u001b[49m\u001b[43m,\u001b[49m\u001b[43m \u001b[49m\u001b[38;5;241;43m*\u001b[39;49m\u001b[38;5;241;43m*\u001b[39;49m\u001b[43mkwargs\u001b[49m\u001b[43m)\u001b[49m\n",
      "File \u001b[0;32m~/anaconda3/lib/python3.10/site-packages/matplotlib/backends/backend_agg.py:400\u001b[0m, in \u001b[0;36mFigureCanvasAgg.draw\u001b[0;34m(self)\u001b[0m\n\u001b[1;32m    396\u001b[0m \u001b[38;5;66;03m# Acquire a lock on the shared font cache.\u001b[39;00m\n\u001b[1;32m    397\u001b[0m \u001b[38;5;28;01mwith\u001b[39;00m RendererAgg\u001b[38;5;241m.\u001b[39mlock, \\\n\u001b[1;32m    398\u001b[0m      (\u001b[38;5;28mself\u001b[39m\u001b[38;5;241m.\u001b[39mtoolbar\u001b[38;5;241m.\u001b[39m_wait_cursor_for_draw_cm() \u001b[38;5;28;01mif\u001b[39;00m \u001b[38;5;28mself\u001b[39m\u001b[38;5;241m.\u001b[39mtoolbar\n\u001b[1;32m    399\u001b[0m       \u001b[38;5;28;01melse\u001b[39;00m nullcontext()):\n\u001b[0;32m--> 400\u001b[0m     \u001b[38;5;28;43mself\u001b[39;49m\u001b[38;5;241;43m.\u001b[39;49m\u001b[43mfigure\u001b[49m\u001b[38;5;241;43m.\u001b[39;49m\u001b[43mdraw\u001b[49m\u001b[43m(\u001b[49m\u001b[38;5;28;43mself\u001b[39;49m\u001b[38;5;241;43m.\u001b[39;49m\u001b[43mrenderer\u001b[49m\u001b[43m)\u001b[49m\n\u001b[1;32m    401\u001b[0m     \u001b[38;5;66;03m# A GUI class may be need to update a window using this draw, so\u001b[39;00m\n\u001b[1;32m    402\u001b[0m     \u001b[38;5;66;03m# don't forget to call the superclass.\u001b[39;00m\n\u001b[1;32m    403\u001b[0m     \u001b[38;5;28msuper\u001b[39m()\u001b[38;5;241m.\u001b[39mdraw()\n",
      "File \u001b[0;32m~/anaconda3/lib/python3.10/site-packages/matplotlib/artist.py:95\u001b[0m, in \u001b[0;36m_finalize_rasterization.<locals>.draw_wrapper\u001b[0;34m(artist, renderer, *args, **kwargs)\u001b[0m\n\u001b[1;32m     93\u001b[0m \u001b[38;5;129m@wraps\u001b[39m(draw)\n\u001b[1;32m     94\u001b[0m \u001b[38;5;28;01mdef\u001b[39;00m \u001b[38;5;21mdraw_wrapper\u001b[39m(artist, renderer, \u001b[38;5;241m*\u001b[39margs, \u001b[38;5;241m*\u001b[39m\u001b[38;5;241m*\u001b[39mkwargs):\n\u001b[0;32m---> 95\u001b[0m     result \u001b[38;5;241m=\u001b[39m \u001b[43mdraw\u001b[49m\u001b[43m(\u001b[49m\u001b[43martist\u001b[49m\u001b[43m,\u001b[49m\u001b[43m \u001b[49m\u001b[43mrenderer\u001b[49m\u001b[43m,\u001b[49m\u001b[43m \u001b[49m\u001b[38;5;241;43m*\u001b[39;49m\u001b[43margs\u001b[49m\u001b[43m,\u001b[49m\u001b[43m \u001b[49m\u001b[38;5;241;43m*\u001b[39;49m\u001b[38;5;241;43m*\u001b[39;49m\u001b[43mkwargs\u001b[49m\u001b[43m)\u001b[49m\n\u001b[1;32m     96\u001b[0m     \u001b[38;5;28;01mif\u001b[39;00m renderer\u001b[38;5;241m.\u001b[39m_rasterizing:\n\u001b[1;32m     97\u001b[0m         renderer\u001b[38;5;241m.\u001b[39mstop_rasterizing()\n",
      "File \u001b[0;32m~/anaconda3/lib/python3.10/site-packages/matplotlib/artist.py:72\u001b[0m, in \u001b[0;36mallow_rasterization.<locals>.draw_wrapper\u001b[0;34m(artist, renderer)\u001b[0m\n\u001b[1;32m     69\u001b[0m     \u001b[38;5;28;01mif\u001b[39;00m artist\u001b[38;5;241m.\u001b[39mget_agg_filter() \u001b[38;5;129;01mis\u001b[39;00m \u001b[38;5;129;01mnot\u001b[39;00m \u001b[38;5;28;01mNone\u001b[39;00m:\n\u001b[1;32m     70\u001b[0m         renderer\u001b[38;5;241m.\u001b[39mstart_filter()\n\u001b[0;32m---> 72\u001b[0m     \u001b[38;5;28;01mreturn\u001b[39;00m \u001b[43mdraw\u001b[49m\u001b[43m(\u001b[49m\u001b[43martist\u001b[49m\u001b[43m,\u001b[49m\u001b[43m \u001b[49m\u001b[43mrenderer\u001b[49m\u001b[43m)\u001b[49m\n\u001b[1;32m     73\u001b[0m \u001b[38;5;28;01mfinally\u001b[39;00m:\n\u001b[1;32m     74\u001b[0m     \u001b[38;5;28;01mif\u001b[39;00m artist\u001b[38;5;241m.\u001b[39mget_agg_filter() \u001b[38;5;129;01mis\u001b[39;00m \u001b[38;5;129;01mnot\u001b[39;00m \u001b[38;5;28;01mNone\u001b[39;00m:\n",
      "File \u001b[0;32m~/anaconda3/lib/python3.10/site-packages/matplotlib/figure.py:3125\u001b[0m, in \u001b[0;36mFigure.draw\u001b[0;34m(self, renderer)\u001b[0m\n\u001b[1;32m   3122\u001b[0m         \u001b[38;5;66;03m# ValueError can occur when resizing a window.\u001b[39;00m\n\u001b[1;32m   3124\u001b[0m \u001b[38;5;28mself\u001b[39m\u001b[38;5;241m.\u001b[39mpatch\u001b[38;5;241m.\u001b[39mdraw(renderer)\n\u001b[0;32m-> 3125\u001b[0m \u001b[43mmimage\u001b[49m\u001b[38;5;241;43m.\u001b[39;49m\u001b[43m_draw_list_compositing_images\u001b[49m\u001b[43m(\u001b[49m\n\u001b[1;32m   3126\u001b[0m \u001b[43m    \u001b[49m\u001b[43mrenderer\u001b[49m\u001b[43m,\u001b[49m\u001b[43m \u001b[49m\u001b[38;5;28;43mself\u001b[39;49m\u001b[43m,\u001b[49m\u001b[43m \u001b[49m\u001b[43martists\u001b[49m\u001b[43m,\u001b[49m\u001b[43m \u001b[49m\u001b[38;5;28;43mself\u001b[39;49m\u001b[38;5;241;43m.\u001b[39;49m\u001b[43msuppressComposite\u001b[49m\u001b[43m)\u001b[49m\n\u001b[1;32m   3128\u001b[0m \u001b[38;5;28;01mfor\u001b[39;00m sfig \u001b[38;5;129;01min\u001b[39;00m \u001b[38;5;28mself\u001b[39m\u001b[38;5;241m.\u001b[39msubfigs:\n\u001b[1;32m   3129\u001b[0m     sfig\u001b[38;5;241m.\u001b[39mdraw(renderer)\n",
      "File \u001b[0;32m~/anaconda3/lib/python3.10/site-packages/matplotlib/image.py:131\u001b[0m, in \u001b[0;36m_draw_list_compositing_images\u001b[0;34m(renderer, parent, artists, suppress_composite)\u001b[0m\n\u001b[1;32m    129\u001b[0m \u001b[38;5;28;01mif\u001b[39;00m not_composite \u001b[38;5;129;01mor\u001b[39;00m \u001b[38;5;129;01mnot\u001b[39;00m has_images:\n\u001b[1;32m    130\u001b[0m     \u001b[38;5;28;01mfor\u001b[39;00m a \u001b[38;5;129;01min\u001b[39;00m artists:\n\u001b[0;32m--> 131\u001b[0m         \u001b[43ma\u001b[49m\u001b[38;5;241;43m.\u001b[39;49m\u001b[43mdraw\u001b[49m\u001b[43m(\u001b[49m\u001b[43mrenderer\u001b[49m\u001b[43m)\u001b[49m\n\u001b[1;32m    132\u001b[0m \u001b[38;5;28;01melse\u001b[39;00m:\n\u001b[1;32m    133\u001b[0m     \u001b[38;5;66;03m# Composite any adjacent images together\u001b[39;00m\n\u001b[1;32m    134\u001b[0m     image_group \u001b[38;5;241m=\u001b[39m []\n",
      "File \u001b[0;32m~/anaconda3/lib/python3.10/site-packages/matplotlib/artist.py:72\u001b[0m, in \u001b[0;36mallow_rasterization.<locals>.draw_wrapper\u001b[0;34m(artist, renderer)\u001b[0m\n\u001b[1;32m     69\u001b[0m     \u001b[38;5;28;01mif\u001b[39;00m artist\u001b[38;5;241m.\u001b[39mget_agg_filter() \u001b[38;5;129;01mis\u001b[39;00m \u001b[38;5;129;01mnot\u001b[39;00m \u001b[38;5;28;01mNone\u001b[39;00m:\n\u001b[1;32m     70\u001b[0m         renderer\u001b[38;5;241m.\u001b[39mstart_filter()\n\u001b[0;32m---> 72\u001b[0m     \u001b[38;5;28;01mreturn\u001b[39;00m \u001b[43mdraw\u001b[49m\u001b[43m(\u001b[49m\u001b[43martist\u001b[49m\u001b[43m,\u001b[49m\u001b[43m \u001b[49m\u001b[43mrenderer\u001b[49m\u001b[43m)\u001b[49m\n\u001b[1;32m     73\u001b[0m \u001b[38;5;28;01mfinally\u001b[39;00m:\n\u001b[1;32m     74\u001b[0m     \u001b[38;5;28;01mif\u001b[39;00m artist\u001b[38;5;241m.\u001b[39mget_agg_filter() \u001b[38;5;129;01mis\u001b[39;00m \u001b[38;5;129;01mnot\u001b[39;00m \u001b[38;5;28;01mNone\u001b[39;00m:\n",
      "File \u001b[0;32m~/anaconda3/lib/python3.10/site-packages/matplotlib/axes/_base.py:3066\u001b[0m, in \u001b[0;36m_AxesBase.draw\u001b[0;34m(self, renderer)\u001b[0m\n\u001b[1;32m   3063\u001b[0m \u001b[38;5;28;01mif\u001b[39;00m artists_rasterized:\n\u001b[1;32m   3064\u001b[0m     _draw_rasterized(\u001b[38;5;28mself\u001b[39m\u001b[38;5;241m.\u001b[39mfigure, artists_rasterized, renderer)\n\u001b[0;32m-> 3066\u001b[0m \u001b[43mmimage\u001b[49m\u001b[38;5;241;43m.\u001b[39;49m\u001b[43m_draw_list_compositing_images\u001b[49m\u001b[43m(\u001b[49m\n\u001b[1;32m   3067\u001b[0m \u001b[43m    \u001b[49m\u001b[43mrenderer\u001b[49m\u001b[43m,\u001b[49m\u001b[43m \u001b[49m\u001b[38;5;28;43mself\u001b[39;49m\u001b[43m,\u001b[49m\u001b[43m \u001b[49m\u001b[43martists\u001b[49m\u001b[43m,\u001b[49m\u001b[43m \u001b[49m\u001b[38;5;28;43mself\u001b[39;49m\u001b[38;5;241;43m.\u001b[39;49m\u001b[43mfigure\u001b[49m\u001b[38;5;241;43m.\u001b[39;49m\u001b[43msuppressComposite\u001b[49m\u001b[43m)\u001b[49m\n\u001b[1;32m   3069\u001b[0m renderer\u001b[38;5;241m.\u001b[39mclose_group(\u001b[38;5;124m'\u001b[39m\u001b[38;5;124maxes\u001b[39m\u001b[38;5;124m'\u001b[39m)\n\u001b[1;32m   3070\u001b[0m \u001b[38;5;28mself\u001b[39m\u001b[38;5;241m.\u001b[39mstale \u001b[38;5;241m=\u001b[39m \u001b[38;5;28;01mFalse\u001b[39;00m\n",
      "File \u001b[0;32m~/anaconda3/lib/python3.10/site-packages/matplotlib/image.py:131\u001b[0m, in \u001b[0;36m_draw_list_compositing_images\u001b[0;34m(renderer, parent, artists, suppress_composite)\u001b[0m\n\u001b[1;32m    129\u001b[0m \u001b[38;5;28;01mif\u001b[39;00m not_composite \u001b[38;5;129;01mor\u001b[39;00m \u001b[38;5;129;01mnot\u001b[39;00m has_images:\n\u001b[1;32m    130\u001b[0m     \u001b[38;5;28;01mfor\u001b[39;00m a \u001b[38;5;129;01min\u001b[39;00m artists:\n\u001b[0;32m--> 131\u001b[0m         \u001b[43ma\u001b[49m\u001b[38;5;241;43m.\u001b[39;49m\u001b[43mdraw\u001b[49m\u001b[43m(\u001b[49m\u001b[43mrenderer\u001b[49m\u001b[43m)\u001b[49m\n\u001b[1;32m    132\u001b[0m \u001b[38;5;28;01melse\u001b[39;00m:\n\u001b[1;32m    133\u001b[0m     \u001b[38;5;66;03m# Composite any adjacent images together\u001b[39;00m\n\u001b[1;32m    134\u001b[0m     image_group \u001b[38;5;241m=\u001b[39m []\n",
      "File \u001b[0;32m~/anaconda3/lib/python3.10/site-packages/matplotlib/artist.py:72\u001b[0m, in \u001b[0;36mallow_rasterization.<locals>.draw_wrapper\u001b[0;34m(artist, renderer)\u001b[0m\n\u001b[1;32m     69\u001b[0m     \u001b[38;5;28;01mif\u001b[39;00m artist\u001b[38;5;241m.\u001b[39mget_agg_filter() \u001b[38;5;129;01mis\u001b[39;00m \u001b[38;5;129;01mnot\u001b[39;00m \u001b[38;5;28;01mNone\u001b[39;00m:\n\u001b[1;32m     70\u001b[0m         renderer\u001b[38;5;241m.\u001b[39mstart_filter()\n\u001b[0;32m---> 72\u001b[0m     \u001b[38;5;28;01mreturn\u001b[39;00m \u001b[43mdraw\u001b[49m\u001b[43m(\u001b[49m\u001b[43martist\u001b[49m\u001b[43m,\u001b[49m\u001b[43m \u001b[49m\u001b[43mrenderer\u001b[49m\u001b[43m)\u001b[49m\n\u001b[1;32m     73\u001b[0m \u001b[38;5;28;01mfinally\u001b[39;00m:\n\u001b[1;32m     74\u001b[0m     \u001b[38;5;28;01mif\u001b[39;00m artist\u001b[38;5;241m.\u001b[39mget_agg_filter() \u001b[38;5;129;01mis\u001b[39;00m \u001b[38;5;129;01mnot\u001b[39;00m \u001b[38;5;28;01mNone\u001b[39;00m:\n",
      "File \u001b[0;32m~/anaconda3/lib/python3.10/site-packages/matplotlib/collections.py:2074\u001b[0m, in \u001b[0;36mQuadMesh.draw\u001b[0;34m(self, renderer)\u001b[0m\n\u001b[1;32m   2071\u001b[0m     ys \u001b[38;5;241m=\u001b[39m \u001b[38;5;28mself\u001b[39m\u001b[38;5;241m.\u001b[39mconvert_yunits(offsets[:, \u001b[38;5;241m1\u001b[39m])\n\u001b[1;32m   2072\u001b[0m     offsets \u001b[38;5;241m=\u001b[39m np\u001b[38;5;241m.\u001b[39mcolumn_stack([xs, ys])\n\u001b[0;32m-> 2074\u001b[0m \u001b[38;5;28;43mself\u001b[39;49m\u001b[38;5;241;43m.\u001b[39;49m\u001b[43mupdate_scalarmappable\u001b[49m\u001b[43m(\u001b[49m\u001b[43m)\u001b[49m\n\u001b[1;32m   2076\u001b[0m \u001b[38;5;28;01mif\u001b[39;00m \u001b[38;5;129;01mnot\u001b[39;00m transform\u001b[38;5;241m.\u001b[39mis_affine:\n\u001b[1;32m   2077\u001b[0m     coordinates \u001b[38;5;241m=\u001b[39m \u001b[38;5;28mself\u001b[39m\u001b[38;5;241m.\u001b[39m_coordinates\u001b[38;5;241m.\u001b[39mreshape((\u001b[38;5;241m-\u001b[39m\u001b[38;5;241m1\u001b[39m, \u001b[38;5;241m2\u001b[39m))\n",
      "File \u001b[0;32m~/anaconda3/lib/python3.10/site-packages/matplotlib/collections.py:887\u001b[0m, in \u001b[0;36mCollection.update_scalarmappable\u001b[0;34m(self)\u001b[0m\n\u001b[1;32m    885\u001b[0m         \u001b[38;5;66;03m# pcolormesh, scatter, maybe others flatten their _A\u001b[39;00m\n\u001b[1;32m    886\u001b[0m         \u001b[38;5;28mself\u001b[39m\u001b[38;5;241m.\u001b[39m_alpha \u001b[38;5;241m=\u001b[39m \u001b[38;5;28mself\u001b[39m\u001b[38;5;241m.\u001b[39m_alpha\u001b[38;5;241m.\u001b[39mreshape(\u001b[38;5;28mself\u001b[39m\u001b[38;5;241m.\u001b[39m_A\u001b[38;5;241m.\u001b[39mshape)\n\u001b[0;32m--> 887\u001b[0m     \u001b[38;5;28mself\u001b[39m\u001b[38;5;241m.\u001b[39m_mapped_colors \u001b[38;5;241m=\u001b[39m \u001b[38;5;28;43mself\u001b[39;49m\u001b[38;5;241;43m.\u001b[39;49m\u001b[43mto_rgba\u001b[49m\u001b[43m(\u001b[49m\u001b[38;5;28;43mself\u001b[39;49m\u001b[38;5;241;43m.\u001b[39;49m\u001b[43m_A\u001b[49m\u001b[43m,\u001b[49m\u001b[43m \u001b[49m\u001b[38;5;28;43mself\u001b[39;49m\u001b[38;5;241;43m.\u001b[39;49m\u001b[43m_alpha\u001b[49m\u001b[43m)\u001b[49m\n\u001b[1;32m    889\u001b[0m \u001b[38;5;28;01mif\u001b[39;00m \u001b[38;5;28mself\u001b[39m\u001b[38;5;241m.\u001b[39m_face_is_mapped:\n\u001b[1;32m    890\u001b[0m     \u001b[38;5;28mself\u001b[39m\u001b[38;5;241m.\u001b[39m_facecolors \u001b[38;5;241m=\u001b[39m \u001b[38;5;28mself\u001b[39m\u001b[38;5;241m.\u001b[39m_mapped_colors\n",
      "File \u001b[0;32m~/anaconda3/lib/python3.10/site-packages/matplotlib/cm.py:493\u001b[0m, in \u001b[0;36mScalarMappable.to_rgba\u001b[0;34m(self, x, alpha, bytes, norm)\u001b[0m\n\u001b[1;32m    491\u001b[0m x \u001b[38;5;241m=\u001b[39m ma\u001b[38;5;241m.\u001b[39masarray(x)\n\u001b[1;32m    492\u001b[0m \u001b[38;5;28;01mif\u001b[39;00m norm:\n\u001b[0;32m--> 493\u001b[0m     x \u001b[38;5;241m=\u001b[39m \u001b[38;5;28;43mself\u001b[39;49m\u001b[38;5;241;43m.\u001b[39;49m\u001b[43mnorm\u001b[49m\u001b[43m(\u001b[49m\u001b[43mx\u001b[49m\u001b[43m)\u001b[49m\n\u001b[1;32m    494\u001b[0m rgba \u001b[38;5;241m=\u001b[39m \u001b[38;5;28mself\u001b[39m\u001b[38;5;241m.\u001b[39mcmap(x, alpha\u001b[38;5;241m=\u001b[39malpha, \u001b[38;5;28mbytes\u001b[39m\u001b[38;5;241m=\u001b[39m\u001b[38;5;28mbytes\u001b[39m)\n\u001b[1;32m    495\u001b[0m \u001b[38;5;28;01mreturn\u001b[39;00m rgba\n",
      "File \u001b[0;32m~/anaconda3/lib/python3.10/site-packages/matplotlib/colors.py:1707\u001b[0m, in \u001b[0;36m_make_norm_from_scale.<locals>.Norm.__call__\u001b[0;34m(self, value, clip)\u001b[0m\n\u001b[1;32m   1705\u001b[0m t_vmin, t_vmax \u001b[38;5;241m=\u001b[39m \u001b[38;5;28mself\u001b[39m\u001b[38;5;241m.\u001b[39m_trf\u001b[38;5;241m.\u001b[39mtransform([\u001b[38;5;28mself\u001b[39m\u001b[38;5;241m.\u001b[39mvmin, \u001b[38;5;28mself\u001b[39m\u001b[38;5;241m.\u001b[39mvmax])\n\u001b[1;32m   1706\u001b[0m \u001b[38;5;28;01mif\u001b[39;00m \u001b[38;5;129;01mnot\u001b[39;00m np\u001b[38;5;241m.\u001b[39misfinite([t_vmin, t_vmax])\u001b[38;5;241m.\u001b[39mall():\n\u001b[0;32m-> 1707\u001b[0m     \u001b[38;5;28;01mraise\u001b[39;00m \u001b[38;5;167;01mValueError\u001b[39;00m(\u001b[38;5;124m\"\u001b[39m\u001b[38;5;124mInvalid vmin or vmax\u001b[39m\u001b[38;5;124m\"\u001b[39m)\n\u001b[1;32m   1708\u001b[0m t_value \u001b[38;5;241m-\u001b[39m\u001b[38;5;241m=\u001b[39m t_vmin\n\u001b[1;32m   1709\u001b[0m t_value \u001b[38;5;241m/\u001b[39m\u001b[38;5;241m=\u001b[39m (t_vmax \u001b[38;5;241m-\u001b[39m t_vmin)\n",
      "\u001b[0;31mValueError\u001b[0m: Invalid vmin or vmax"
     ]
    },
    {
     "ename": "ValueError",
     "evalue": "Invalid vmin or vmax",
     "output_type": "error",
     "traceback": [
      "\u001b[0;31m---------------------------------------------------------------------------\u001b[0m",
      "\u001b[0;31mValueError\u001b[0m                                Traceback (most recent call last)",
      "File \u001b[0;32m~/anaconda3/lib/python3.10/site-packages/IPython/core/formatters.py:338\u001b[0m, in \u001b[0;36mBaseFormatter.__call__\u001b[0;34m(self, obj)\u001b[0m\n\u001b[1;32m    336\u001b[0m     \u001b[38;5;28;01mpass\u001b[39;00m\n\u001b[1;32m    337\u001b[0m \u001b[38;5;28;01melse\u001b[39;00m:\n\u001b[0;32m--> 338\u001b[0m     \u001b[38;5;28;01mreturn\u001b[39;00m \u001b[43mprinter\u001b[49m\u001b[43m(\u001b[49m\u001b[43mobj\u001b[49m\u001b[43m)\u001b[49m\n\u001b[1;32m    339\u001b[0m \u001b[38;5;66;03m# Finally look for special method names\u001b[39;00m\n\u001b[1;32m    340\u001b[0m method \u001b[38;5;241m=\u001b[39m get_real_method(obj, \u001b[38;5;28mself\u001b[39m\u001b[38;5;241m.\u001b[39mprint_method)\n",
      "File \u001b[0;32m~/anaconda3/lib/python3.10/site-packages/IPython/core/pylabtools.py:152\u001b[0m, in \u001b[0;36mprint_figure\u001b[0;34m(fig, fmt, bbox_inches, base64, **kwargs)\u001b[0m\n\u001b[1;32m    149\u001b[0m     \u001b[38;5;28;01mfrom\u001b[39;00m \u001b[38;5;21;01mmatplotlib\u001b[39;00m\u001b[38;5;21;01m.\u001b[39;00m\u001b[38;5;21;01mbackend_bases\u001b[39;00m \u001b[38;5;28;01mimport\u001b[39;00m FigureCanvasBase\n\u001b[1;32m    150\u001b[0m     FigureCanvasBase(fig)\n\u001b[0;32m--> 152\u001b[0m \u001b[43mfig\u001b[49m\u001b[38;5;241;43m.\u001b[39;49m\u001b[43mcanvas\u001b[49m\u001b[38;5;241;43m.\u001b[39;49m\u001b[43mprint_figure\u001b[49m\u001b[43m(\u001b[49m\u001b[43mbytes_io\u001b[49m\u001b[43m,\u001b[49m\u001b[43m \u001b[49m\u001b[38;5;241;43m*\u001b[39;49m\u001b[38;5;241;43m*\u001b[39;49m\u001b[43mkw\u001b[49m\u001b[43m)\u001b[49m\n\u001b[1;32m    153\u001b[0m data \u001b[38;5;241m=\u001b[39m bytes_io\u001b[38;5;241m.\u001b[39mgetvalue()\n\u001b[1;32m    154\u001b[0m \u001b[38;5;28;01mif\u001b[39;00m fmt \u001b[38;5;241m==\u001b[39m \u001b[38;5;124m'\u001b[39m\u001b[38;5;124msvg\u001b[39m\u001b[38;5;124m'\u001b[39m:\n",
      "File \u001b[0;32m~/anaconda3/lib/python3.10/site-packages/matplotlib/backend_bases.py:2338\u001b[0m, in \u001b[0;36mFigureCanvasBase.print_figure\u001b[0;34m(self, filename, dpi, facecolor, edgecolor, orientation, format, bbox_inches, pad_inches, bbox_extra_artists, backend, **kwargs)\u001b[0m\n\u001b[1;32m   2332\u001b[0m     renderer \u001b[38;5;241m=\u001b[39m _get_renderer(\n\u001b[1;32m   2333\u001b[0m         \u001b[38;5;28mself\u001b[39m\u001b[38;5;241m.\u001b[39mfigure,\n\u001b[1;32m   2334\u001b[0m         functools\u001b[38;5;241m.\u001b[39mpartial(\n\u001b[1;32m   2335\u001b[0m             print_method, orientation\u001b[38;5;241m=\u001b[39morientation)\n\u001b[1;32m   2336\u001b[0m     )\n\u001b[1;32m   2337\u001b[0m     \u001b[38;5;28;01mwith\u001b[39;00m \u001b[38;5;28mgetattr\u001b[39m(renderer, \u001b[38;5;124m\"\u001b[39m\u001b[38;5;124m_draw_disabled\u001b[39m\u001b[38;5;124m\"\u001b[39m, nullcontext)():\n\u001b[0;32m-> 2338\u001b[0m         \u001b[38;5;28;43mself\u001b[39;49m\u001b[38;5;241;43m.\u001b[39;49m\u001b[43mfigure\u001b[49m\u001b[38;5;241;43m.\u001b[39;49m\u001b[43mdraw\u001b[49m\u001b[43m(\u001b[49m\u001b[43mrenderer\u001b[49m\u001b[43m)\u001b[49m\n\u001b[1;32m   2340\u001b[0m \u001b[38;5;28;01mif\u001b[39;00m bbox_inches:\n\u001b[1;32m   2341\u001b[0m     \u001b[38;5;28;01mif\u001b[39;00m bbox_inches \u001b[38;5;241m==\u001b[39m \u001b[38;5;124m\"\u001b[39m\u001b[38;5;124mtight\u001b[39m\u001b[38;5;124m\"\u001b[39m:\n",
      "File \u001b[0;32m~/anaconda3/lib/python3.10/site-packages/matplotlib/artist.py:95\u001b[0m, in \u001b[0;36m_finalize_rasterization.<locals>.draw_wrapper\u001b[0;34m(artist, renderer, *args, **kwargs)\u001b[0m\n\u001b[1;32m     93\u001b[0m \u001b[38;5;129m@wraps\u001b[39m(draw)\n\u001b[1;32m     94\u001b[0m \u001b[38;5;28;01mdef\u001b[39;00m \u001b[38;5;21mdraw_wrapper\u001b[39m(artist, renderer, \u001b[38;5;241m*\u001b[39margs, \u001b[38;5;241m*\u001b[39m\u001b[38;5;241m*\u001b[39mkwargs):\n\u001b[0;32m---> 95\u001b[0m     result \u001b[38;5;241m=\u001b[39m \u001b[43mdraw\u001b[49m\u001b[43m(\u001b[49m\u001b[43martist\u001b[49m\u001b[43m,\u001b[49m\u001b[43m \u001b[49m\u001b[43mrenderer\u001b[49m\u001b[43m,\u001b[49m\u001b[43m \u001b[49m\u001b[38;5;241;43m*\u001b[39;49m\u001b[43margs\u001b[49m\u001b[43m,\u001b[49m\u001b[43m \u001b[49m\u001b[38;5;241;43m*\u001b[39;49m\u001b[38;5;241;43m*\u001b[39;49m\u001b[43mkwargs\u001b[49m\u001b[43m)\u001b[49m\n\u001b[1;32m     96\u001b[0m     \u001b[38;5;28;01mif\u001b[39;00m renderer\u001b[38;5;241m.\u001b[39m_rasterizing:\n\u001b[1;32m     97\u001b[0m         renderer\u001b[38;5;241m.\u001b[39mstop_rasterizing()\n",
      "File \u001b[0;32m~/anaconda3/lib/python3.10/site-packages/matplotlib/artist.py:72\u001b[0m, in \u001b[0;36mallow_rasterization.<locals>.draw_wrapper\u001b[0;34m(artist, renderer)\u001b[0m\n\u001b[1;32m     69\u001b[0m     \u001b[38;5;28;01mif\u001b[39;00m artist\u001b[38;5;241m.\u001b[39mget_agg_filter() \u001b[38;5;129;01mis\u001b[39;00m \u001b[38;5;129;01mnot\u001b[39;00m \u001b[38;5;28;01mNone\u001b[39;00m:\n\u001b[1;32m     70\u001b[0m         renderer\u001b[38;5;241m.\u001b[39mstart_filter()\n\u001b[0;32m---> 72\u001b[0m     \u001b[38;5;28;01mreturn\u001b[39;00m \u001b[43mdraw\u001b[49m\u001b[43m(\u001b[49m\u001b[43martist\u001b[49m\u001b[43m,\u001b[49m\u001b[43m \u001b[49m\u001b[43mrenderer\u001b[49m\u001b[43m)\u001b[49m\n\u001b[1;32m     73\u001b[0m \u001b[38;5;28;01mfinally\u001b[39;00m:\n\u001b[1;32m     74\u001b[0m     \u001b[38;5;28;01mif\u001b[39;00m artist\u001b[38;5;241m.\u001b[39mget_agg_filter() \u001b[38;5;129;01mis\u001b[39;00m \u001b[38;5;129;01mnot\u001b[39;00m \u001b[38;5;28;01mNone\u001b[39;00m:\n",
      "File \u001b[0;32m~/anaconda3/lib/python3.10/site-packages/matplotlib/figure.py:3125\u001b[0m, in \u001b[0;36mFigure.draw\u001b[0;34m(self, renderer)\u001b[0m\n\u001b[1;32m   3122\u001b[0m         \u001b[38;5;66;03m# ValueError can occur when resizing a window.\u001b[39;00m\n\u001b[1;32m   3124\u001b[0m \u001b[38;5;28mself\u001b[39m\u001b[38;5;241m.\u001b[39mpatch\u001b[38;5;241m.\u001b[39mdraw(renderer)\n\u001b[0;32m-> 3125\u001b[0m \u001b[43mmimage\u001b[49m\u001b[38;5;241;43m.\u001b[39;49m\u001b[43m_draw_list_compositing_images\u001b[49m\u001b[43m(\u001b[49m\n\u001b[1;32m   3126\u001b[0m \u001b[43m    \u001b[49m\u001b[43mrenderer\u001b[49m\u001b[43m,\u001b[49m\u001b[43m \u001b[49m\u001b[38;5;28;43mself\u001b[39;49m\u001b[43m,\u001b[49m\u001b[43m \u001b[49m\u001b[43martists\u001b[49m\u001b[43m,\u001b[49m\u001b[43m \u001b[49m\u001b[38;5;28;43mself\u001b[39;49m\u001b[38;5;241;43m.\u001b[39;49m\u001b[43msuppressComposite\u001b[49m\u001b[43m)\u001b[49m\n\u001b[1;32m   3128\u001b[0m \u001b[38;5;28;01mfor\u001b[39;00m sfig \u001b[38;5;129;01min\u001b[39;00m \u001b[38;5;28mself\u001b[39m\u001b[38;5;241m.\u001b[39msubfigs:\n\u001b[1;32m   3129\u001b[0m     sfig\u001b[38;5;241m.\u001b[39mdraw(renderer)\n",
      "File \u001b[0;32m~/anaconda3/lib/python3.10/site-packages/matplotlib/image.py:131\u001b[0m, in \u001b[0;36m_draw_list_compositing_images\u001b[0;34m(renderer, parent, artists, suppress_composite)\u001b[0m\n\u001b[1;32m    129\u001b[0m \u001b[38;5;28;01mif\u001b[39;00m not_composite \u001b[38;5;129;01mor\u001b[39;00m \u001b[38;5;129;01mnot\u001b[39;00m has_images:\n\u001b[1;32m    130\u001b[0m     \u001b[38;5;28;01mfor\u001b[39;00m a \u001b[38;5;129;01min\u001b[39;00m artists:\n\u001b[0;32m--> 131\u001b[0m         \u001b[43ma\u001b[49m\u001b[38;5;241;43m.\u001b[39;49m\u001b[43mdraw\u001b[49m\u001b[43m(\u001b[49m\u001b[43mrenderer\u001b[49m\u001b[43m)\u001b[49m\n\u001b[1;32m    132\u001b[0m \u001b[38;5;28;01melse\u001b[39;00m:\n\u001b[1;32m    133\u001b[0m     \u001b[38;5;66;03m# Composite any adjacent images together\u001b[39;00m\n\u001b[1;32m    134\u001b[0m     image_group \u001b[38;5;241m=\u001b[39m []\n",
      "File \u001b[0;32m~/anaconda3/lib/python3.10/site-packages/matplotlib/artist.py:72\u001b[0m, in \u001b[0;36mallow_rasterization.<locals>.draw_wrapper\u001b[0;34m(artist, renderer)\u001b[0m\n\u001b[1;32m     69\u001b[0m     \u001b[38;5;28;01mif\u001b[39;00m artist\u001b[38;5;241m.\u001b[39mget_agg_filter() \u001b[38;5;129;01mis\u001b[39;00m \u001b[38;5;129;01mnot\u001b[39;00m \u001b[38;5;28;01mNone\u001b[39;00m:\n\u001b[1;32m     70\u001b[0m         renderer\u001b[38;5;241m.\u001b[39mstart_filter()\n\u001b[0;32m---> 72\u001b[0m     \u001b[38;5;28;01mreturn\u001b[39;00m \u001b[43mdraw\u001b[49m\u001b[43m(\u001b[49m\u001b[43martist\u001b[49m\u001b[43m,\u001b[49m\u001b[43m \u001b[49m\u001b[43mrenderer\u001b[49m\u001b[43m)\u001b[49m\n\u001b[1;32m     73\u001b[0m \u001b[38;5;28;01mfinally\u001b[39;00m:\n\u001b[1;32m     74\u001b[0m     \u001b[38;5;28;01mif\u001b[39;00m artist\u001b[38;5;241m.\u001b[39mget_agg_filter() \u001b[38;5;129;01mis\u001b[39;00m \u001b[38;5;129;01mnot\u001b[39;00m \u001b[38;5;28;01mNone\u001b[39;00m:\n",
      "File \u001b[0;32m~/anaconda3/lib/python3.10/site-packages/matplotlib/axes/_base.py:3066\u001b[0m, in \u001b[0;36m_AxesBase.draw\u001b[0;34m(self, renderer)\u001b[0m\n\u001b[1;32m   3063\u001b[0m \u001b[38;5;28;01mif\u001b[39;00m artists_rasterized:\n\u001b[1;32m   3064\u001b[0m     _draw_rasterized(\u001b[38;5;28mself\u001b[39m\u001b[38;5;241m.\u001b[39mfigure, artists_rasterized, renderer)\n\u001b[0;32m-> 3066\u001b[0m \u001b[43mmimage\u001b[49m\u001b[38;5;241;43m.\u001b[39;49m\u001b[43m_draw_list_compositing_images\u001b[49m\u001b[43m(\u001b[49m\n\u001b[1;32m   3067\u001b[0m \u001b[43m    \u001b[49m\u001b[43mrenderer\u001b[49m\u001b[43m,\u001b[49m\u001b[43m \u001b[49m\u001b[38;5;28;43mself\u001b[39;49m\u001b[43m,\u001b[49m\u001b[43m \u001b[49m\u001b[43martists\u001b[49m\u001b[43m,\u001b[49m\u001b[43m \u001b[49m\u001b[38;5;28;43mself\u001b[39;49m\u001b[38;5;241;43m.\u001b[39;49m\u001b[43mfigure\u001b[49m\u001b[38;5;241;43m.\u001b[39;49m\u001b[43msuppressComposite\u001b[49m\u001b[43m)\u001b[49m\n\u001b[1;32m   3069\u001b[0m renderer\u001b[38;5;241m.\u001b[39mclose_group(\u001b[38;5;124m'\u001b[39m\u001b[38;5;124maxes\u001b[39m\u001b[38;5;124m'\u001b[39m)\n\u001b[1;32m   3070\u001b[0m \u001b[38;5;28mself\u001b[39m\u001b[38;5;241m.\u001b[39mstale \u001b[38;5;241m=\u001b[39m \u001b[38;5;28;01mFalse\u001b[39;00m\n",
      "File \u001b[0;32m~/anaconda3/lib/python3.10/site-packages/matplotlib/image.py:131\u001b[0m, in \u001b[0;36m_draw_list_compositing_images\u001b[0;34m(renderer, parent, artists, suppress_composite)\u001b[0m\n\u001b[1;32m    129\u001b[0m \u001b[38;5;28;01mif\u001b[39;00m not_composite \u001b[38;5;129;01mor\u001b[39;00m \u001b[38;5;129;01mnot\u001b[39;00m has_images:\n\u001b[1;32m    130\u001b[0m     \u001b[38;5;28;01mfor\u001b[39;00m a \u001b[38;5;129;01min\u001b[39;00m artists:\n\u001b[0;32m--> 131\u001b[0m         \u001b[43ma\u001b[49m\u001b[38;5;241;43m.\u001b[39;49m\u001b[43mdraw\u001b[49m\u001b[43m(\u001b[49m\u001b[43mrenderer\u001b[49m\u001b[43m)\u001b[49m\n\u001b[1;32m    132\u001b[0m \u001b[38;5;28;01melse\u001b[39;00m:\n\u001b[1;32m    133\u001b[0m     \u001b[38;5;66;03m# Composite any adjacent images together\u001b[39;00m\n\u001b[1;32m    134\u001b[0m     image_group \u001b[38;5;241m=\u001b[39m []\n",
      "File \u001b[0;32m~/anaconda3/lib/python3.10/site-packages/matplotlib/artist.py:72\u001b[0m, in \u001b[0;36mallow_rasterization.<locals>.draw_wrapper\u001b[0;34m(artist, renderer)\u001b[0m\n\u001b[1;32m     69\u001b[0m     \u001b[38;5;28;01mif\u001b[39;00m artist\u001b[38;5;241m.\u001b[39mget_agg_filter() \u001b[38;5;129;01mis\u001b[39;00m \u001b[38;5;129;01mnot\u001b[39;00m \u001b[38;5;28;01mNone\u001b[39;00m:\n\u001b[1;32m     70\u001b[0m         renderer\u001b[38;5;241m.\u001b[39mstart_filter()\n\u001b[0;32m---> 72\u001b[0m     \u001b[38;5;28;01mreturn\u001b[39;00m \u001b[43mdraw\u001b[49m\u001b[43m(\u001b[49m\u001b[43martist\u001b[49m\u001b[43m,\u001b[49m\u001b[43m \u001b[49m\u001b[43mrenderer\u001b[49m\u001b[43m)\u001b[49m\n\u001b[1;32m     73\u001b[0m \u001b[38;5;28;01mfinally\u001b[39;00m:\n\u001b[1;32m     74\u001b[0m     \u001b[38;5;28;01mif\u001b[39;00m artist\u001b[38;5;241m.\u001b[39mget_agg_filter() \u001b[38;5;129;01mis\u001b[39;00m \u001b[38;5;129;01mnot\u001b[39;00m \u001b[38;5;28;01mNone\u001b[39;00m:\n",
      "File \u001b[0;32m~/anaconda3/lib/python3.10/site-packages/matplotlib/collections.py:2074\u001b[0m, in \u001b[0;36mQuadMesh.draw\u001b[0;34m(self, renderer)\u001b[0m\n\u001b[1;32m   2071\u001b[0m     ys \u001b[38;5;241m=\u001b[39m \u001b[38;5;28mself\u001b[39m\u001b[38;5;241m.\u001b[39mconvert_yunits(offsets[:, \u001b[38;5;241m1\u001b[39m])\n\u001b[1;32m   2072\u001b[0m     offsets \u001b[38;5;241m=\u001b[39m np\u001b[38;5;241m.\u001b[39mcolumn_stack([xs, ys])\n\u001b[0;32m-> 2074\u001b[0m \u001b[38;5;28;43mself\u001b[39;49m\u001b[38;5;241;43m.\u001b[39;49m\u001b[43mupdate_scalarmappable\u001b[49m\u001b[43m(\u001b[49m\u001b[43m)\u001b[49m\n\u001b[1;32m   2076\u001b[0m \u001b[38;5;28;01mif\u001b[39;00m \u001b[38;5;129;01mnot\u001b[39;00m transform\u001b[38;5;241m.\u001b[39mis_affine:\n\u001b[1;32m   2077\u001b[0m     coordinates \u001b[38;5;241m=\u001b[39m \u001b[38;5;28mself\u001b[39m\u001b[38;5;241m.\u001b[39m_coordinates\u001b[38;5;241m.\u001b[39mreshape((\u001b[38;5;241m-\u001b[39m\u001b[38;5;241m1\u001b[39m, \u001b[38;5;241m2\u001b[39m))\n",
      "File \u001b[0;32m~/anaconda3/lib/python3.10/site-packages/matplotlib/collections.py:887\u001b[0m, in \u001b[0;36mCollection.update_scalarmappable\u001b[0;34m(self)\u001b[0m\n\u001b[1;32m    885\u001b[0m         \u001b[38;5;66;03m# pcolormesh, scatter, maybe others flatten their _A\u001b[39;00m\n\u001b[1;32m    886\u001b[0m         \u001b[38;5;28mself\u001b[39m\u001b[38;5;241m.\u001b[39m_alpha \u001b[38;5;241m=\u001b[39m \u001b[38;5;28mself\u001b[39m\u001b[38;5;241m.\u001b[39m_alpha\u001b[38;5;241m.\u001b[39mreshape(\u001b[38;5;28mself\u001b[39m\u001b[38;5;241m.\u001b[39m_A\u001b[38;5;241m.\u001b[39mshape)\n\u001b[0;32m--> 887\u001b[0m     \u001b[38;5;28mself\u001b[39m\u001b[38;5;241m.\u001b[39m_mapped_colors \u001b[38;5;241m=\u001b[39m \u001b[38;5;28;43mself\u001b[39;49m\u001b[38;5;241;43m.\u001b[39;49m\u001b[43mto_rgba\u001b[49m\u001b[43m(\u001b[49m\u001b[38;5;28;43mself\u001b[39;49m\u001b[38;5;241;43m.\u001b[39;49m\u001b[43m_A\u001b[49m\u001b[43m,\u001b[49m\u001b[43m \u001b[49m\u001b[38;5;28;43mself\u001b[39;49m\u001b[38;5;241;43m.\u001b[39;49m\u001b[43m_alpha\u001b[49m\u001b[43m)\u001b[49m\n\u001b[1;32m    889\u001b[0m \u001b[38;5;28;01mif\u001b[39;00m \u001b[38;5;28mself\u001b[39m\u001b[38;5;241m.\u001b[39m_face_is_mapped:\n\u001b[1;32m    890\u001b[0m     \u001b[38;5;28mself\u001b[39m\u001b[38;5;241m.\u001b[39m_facecolors \u001b[38;5;241m=\u001b[39m \u001b[38;5;28mself\u001b[39m\u001b[38;5;241m.\u001b[39m_mapped_colors\n",
      "File \u001b[0;32m~/anaconda3/lib/python3.10/site-packages/matplotlib/cm.py:493\u001b[0m, in \u001b[0;36mScalarMappable.to_rgba\u001b[0;34m(self, x, alpha, bytes, norm)\u001b[0m\n\u001b[1;32m    491\u001b[0m x \u001b[38;5;241m=\u001b[39m ma\u001b[38;5;241m.\u001b[39masarray(x)\n\u001b[1;32m    492\u001b[0m \u001b[38;5;28;01mif\u001b[39;00m norm:\n\u001b[0;32m--> 493\u001b[0m     x \u001b[38;5;241m=\u001b[39m \u001b[38;5;28;43mself\u001b[39;49m\u001b[38;5;241;43m.\u001b[39;49m\u001b[43mnorm\u001b[49m\u001b[43m(\u001b[49m\u001b[43mx\u001b[49m\u001b[43m)\u001b[49m\n\u001b[1;32m    494\u001b[0m rgba \u001b[38;5;241m=\u001b[39m \u001b[38;5;28mself\u001b[39m\u001b[38;5;241m.\u001b[39mcmap(x, alpha\u001b[38;5;241m=\u001b[39malpha, \u001b[38;5;28mbytes\u001b[39m\u001b[38;5;241m=\u001b[39m\u001b[38;5;28mbytes\u001b[39m)\n\u001b[1;32m    495\u001b[0m \u001b[38;5;28;01mreturn\u001b[39;00m rgba\n",
      "File \u001b[0;32m~/anaconda3/lib/python3.10/site-packages/matplotlib/colors.py:1707\u001b[0m, in \u001b[0;36m_make_norm_from_scale.<locals>.Norm.__call__\u001b[0;34m(self, value, clip)\u001b[0m\n\u001b[1;32m   1705\u001b[0m t_vmin, t_vmax \u001b[38;5;241m=\u001b[39m \u001b[38;5;28mself\u001b[39m\u001b[38;5;241m.\u001b[39m_trf\u001b[38;5;241m.\u001b[39mtransform([\u001b[38;5;28mself\u001b[39m\u001b[38;5;241m.\u001b[39mvmin, \u001b[38;5;28mself\u001b[39m\u001b[38;5;241m.\u001b[39mvmax])\n\u001b[1;32m   1706\u001b[0m \u001b[38;5;28;01mif\u001b[39;00m \u001b[38;5;129;01mnot\u001b[39;00m np\u001b[38;5;241m.\u001b[39misfinite([t_vmin, t_vmax])\u001b[38;5;241m.\u001b[39mall():\n\u001b[0;32m-> 1707\u001b[0m     \u001b[38;5;28;01mraise\u001b[39;00m \u001b[38;5;167;01mValueError\u001b[39;00m(\u001b[38;5;124m\"\u001b[39m\u001b[38;5;124mInvalid vmin or vmax\u001b[39m\u001b[38;5;124m\"\u001b[39m)\n\u001b[1;32m   1708\u001b[0m t_value \u001b[38;5;241m-\u001b[39m\u001b[38;5;241m=\u001b[39m t_vmin\n\u001b[1;32m   1709\u001b[0m t_value \u001b[38;5;241m/\u001b[39m\u001b[38;5;241m=\u001b[39m (t_vmax \u001b[38;5;241m-\u001b[39m t_vmin)\n",
      "\u001b[0;31mValueError\u001b[0m: Invalid vmin or vmax"
     ]
    },
    {
     "data": {
      "text/plain": [
       "<Figure size 640x480 with 2 Axes>"
      ]
     },
     "metadata": {},
     "output_type": "display_data"
    }
   ],
   "source": [
    "anim_singletime_var_Precac(variable=\"Precac\", timestamps=[\"0000001200\", \"0000001440\", \"0000001680\"], video_path=\"prec_test3.mp4\")"
   ]
  },
  {
   "cell_type": "code",
   "execution_count": 136,
   "id": "d48303eb-a4b4-4b9e-a93f-50b7784ea952",
   "metadata": {},
   "outputs": [],
   "source": [
    "## NEWWWWW ATTEMPT"
   ]
  },
  {
   "cell_type": "code",
   "execution_count": 141,
   "id": "4a5f7033-e3f6-4041-bded-d53b471fd8f4",
   "metadata": {},
   "outputs": [
    {
     "name": "stdout",
     "output_type": "stream",
     "text": [
      "2\n"
     ]
    },
    {
     "name": "stderr",
     "output_type": "stream",
     "text": [
      "/home/gmaxemin/code/stage-2023-rain-extremes-timing-intensity/scripts/start/my_functions.py:62: RuntimeWarning: divide by zero encountered in log\n",
      "  # Apply logarithmic scaling for positive values\n"
     ]
    },
    {
     "ename": "NameError",
     "evalue": "name 'LogNorm' is not defined",
     "output_type": "error",
     "traceback": [
      "\u001b[0;31m---------------------------------------------------------------------------\u001b[0m",
      "\u001b[0;31mNameError\u001b[0m                                 Traceback (most recent call last)",
      "Cell \u001b[0;32mIn[141], line 7\u001b[0m\n\u001b[1;32m      4\u001b[0m \u001b[38;5;28;01mfrom\u001b[39;00m \u001b[38;5;21;01mmy_functions\u001b[39;00m \u001b[38;5;28;01mimport\u001b[39;00m \u001b[38;5;241m*\u001b[39m\n\u001b[1;32m      5\u001b[0m \u001b[38;5;28;01mdel\u001b[39;00m anim_singletime_var\n\u001b[0;32m----> 7\u001b[0m \u001b[43mplot_singletime_var\u001b[49m\u001b[43m(\u001b[49m\u001b[43mvariable\u001b[49m\u001b[38;5;241;43m=\u001b[39;49m\u001b[38;5;124;43m\"\u001b[39;49m\u001b[38;5;124;43mPrecac\u001b[39;49m\u001b[38;5;124;43m\"\u001b[39;49m\u001b[43m,\u001b[49m\u001b[43m \u001b[49m\u001b[43mtimestamp\u001b[49m\u001b[38;5;241;43m=\u001b[39;49m\u001b[38;5;124;43m\"\u001b[39;49m\u001b[38;5;124;43m0000001200\u001b[39;49m\u001b[38;5;124;43m\"\u001b[39;49m\u001b[43m)\u001b[49m\n\u001b[1;32m      8\u001b[0m \u001b[38;5;66;03m# Reload the module\u001b[39;00m\n\u001b[1;32m      9\u001b[0m importlib\u001b[38;5;241m.\u001b[39mreload(my_functions)\n",
      "File \u001b[0;32m~/code/stage-2023-rain-extremes-timing-intensity/scripts/start/my_functions.py:64\u001b[0m, in \u001b[0;36mplot_singletime_var\u001b[0;34m(variable, timestamp)\u001b[0m\n\u001b[1;32m     62\u001b[0m # Apply logarithmic scaling for positive values\n\u001b[1;32m     63\u001b[0m positive_data = np.where(variable_data > 0, np.log(variable_data), 0)\n\u001b[0;32m---> 64\u001b[0m # Plot the variable data\n\u001b[1;32m     65\u001b[0m im = plt.imshow(positive_data, origin='lower', extent=[lon.min(), lon.max(), lat.min(), lat.max()], norm=LogNorm(vmin=0.0001)) \n\u001b[1;32m     67\u001b[0m variable_name = \"Surface Accum Precip.\"\n",
      "\u001b[0;31mNameError\u001b[0m: name 'LogNorm' is not defined"
     ]
    },
    {
     "data": {
      "image/png": "[encoded data removed]",
      "text/plain": [
       "<Figure size 640x480 with 1 Axes>"
      ]
     },
     "metadata": {},
     "output_type": "display_data"
    }
   ],
   "source": [
    "import sys\n",
    "import importlib\n",
    "sys.path.append('/home/gmaxemin/code/stage-2023-rain-extremes-timing-intensity/scripts/start')\n",
    "from my_functions import *\n",
    "del anim_singletime_var\n",
    "\n",
    "plot_singletime_var(variable=\"Precac\", timestamp=\"0000001200\")\n",
    "# Reload the module\n",
    "importlib.reload(my_functions)"
   ]
  },
  {
   "cell_type": "code",
   "execution_count": 142,
   "id": "f0834a9c-dbba-4f7e-a241-1c41352cb58c",
   "metadata": {},
   "outputs": [],
   "source": [
    "import matplotlib.animation as animation\n",
    "def create_animation(variable: str, timesteps: list, duration: int = 20, output_file: str = \"animation.mp4\"):\n",
    "    ims = []\n",
    "    fig = None\n",
    "\n",
    "    for timestamp in timesteps:\n",
    "        if fig is None:\n",
    "            fig = plot_singletime_var(variable, timestamp)\n",
    "        else:\n",
    "            fig = plot_singletime_var(variable, timestamp)\n",
    "            plt.close(fig)\n",
    "\n",
    "        im = fig.gca().get_images()[0]\n",
    "        ims.append([im])\n",
    "\n",
    "    ani = animation.ArtistAnimation(fig, ims, interval=(duration * 1000) / len(timesteps), blit=True)\n",
    "    ani.save(output_file, writer='ffmpeg')\n",
    "\n",
    "    plt.close(fig)\n"
   ]
  },
  {
   "cell_type": "code",
   "execution_count": 143,
   "id": "59d04fb8-4e4c-4ddd-a23d-59d3510c7819",
   "metadata": {},
   "outputs": [
    {
     "name": "stdout",
     "output_type": "stream",
     "text": [
      "2\n"
     ]
    },
    {
     "name": "stderr",
     "output_type": "stream",
     "text": [
      "/home/gmaxemin/code/stage-2023-rain-extremes-timing-intensity/scripts/start/my_functions.py:62: RuntimeWarning: divide by zero encountered in log\n",
      "  # Apply logarithmic scaling for positive values\n"
     ]
    },
    {
     "ename": "NameError",
     "evalue": "name 'LogNorm' is not defined",
     "output_type": "error",
     "traceback": [
      "\u001b[0;31m---------------------------------------------------------------------------\u001b[0m",
      "\u001b[0;31mNameError\u001b[0m                                 Traceback (most recent call last)",
      "Cell \u001b[0;32mIn[143], line 1\u001b[0m\n\u001b[0;32m----> 1\u001b[0m \u001b[43mcreate_animation\u001b[49m\u001b[43m(\u001b[49m\u001b[43mvariable\u001b[49m\u001b[38;5;241;43m=\u001b[39;49m\u001b[38;5;124;43m\"\u001b[39;49m\u001b[38;5;124;43mPrecac\u001b[39;49m\u001b[38;5;124;43m\"\u001b[39;49m\u001b[43m,\u001b[49m\u001b[43m \u001b[49m\u001b[43mtimesteps\u001b[49m\u001b[38;5;241;43m=\u001b[39;49m\u001b[43m[\u001b[49m\u001b[38;5;124;43m\"\u001b[39;49m\u001b[38;5;124;43m0000001200\u001b[39;49m\u001b[38;5;124;43m\"\u001b[39;49m\u001b[43m,\u001b[49m\u001b[43m \u001b[49m\u001b[38;5;124;43m\"\u001b[39;49m\u001b[38;5;124;43m0000001440\u001b[39;49m\u001b[38;5;124;43m\"\u001b[39;49m\u001b[43m,\u001b[49m\u001b[43m \u001b[49m\u001b[38;5;124;43m\"\u001b[39;49m\u001b[38;5;124;43m0000001680\u001b[39;49m\u001b[38;5;124;43m\"\u001b[39;49m\u001b[43m]\u001b[49m\u001b[43m,\u001b[49m\u001b[43m \u001b[49m\u001b[43moutput_file\u001b[49m\u001b[38;5;241;43m=\u001b[39;49m\u001b[38;5;124;43m\"\u001b[39;49m\u001b[38;5;124;43mprec_testnew1.mp4\u001b[39;49m\u001b[38;5;124;43m\"\u001b[39;49m\u001b[43m)\u001b[49m\n",
      "Cell \u001b[0;32mIn[142], line 8\u001b[0m, in \u001b[0;36mcreate_animation\u001b[0;34m(variable, timesteps, duration, output_file)\u001b[0m\n\u001b[1;32m      6\u001b[0m \u001b[38;5;28;01mfor\u001b[39;00m timestamp \u001b[38;5;129;01min\u001b[39;00m timesteps:\n\u001b[1;32m      7\u001b[0m     \u001b[38;5;28;01mif\u001b[39;00m fig \u001b[38;5;129;01mis\u001b[39;00m \u001b[38;5;28;01mNone\u001b[39;00m:\n\u001b[0;32m----> 8\u001b[0m         fig \u001b[38;5;241m=\u001b[39m \u001b[43mplot_singletime_var\u001b[49m\u001b[43m(\u001b[49m\u001b[43mvariable\u001b[49m\u001b[43m,\u001b[49m\u001b[43m \u001b[49m\u001b[43mtimestamp\u001b[49m\u001b[43m)\u001b[49m\n\u001b[1;32m      9\u001b[0m     \u001b[38;5;28;01melse\u001b[39;00m:\n\u001b[1;32m     10\u001b[0m         fig \u001b[38;5;241m=\u001b[39m plot_singletime_var(variable, timestamp)\n",
      "File \u001b[0;32m~/code/stage-2023-rain-extremes-timing-intensity/scripts/start/my_functions.py:64\u001b[0m, in \u001b[0;36mplot_singletime_var\u001b[0;34m(variable, timestamp)\u001b[0m\n\u001b[1;32m     62\u001b[0m # Apply logarithmic scaling for positive values\n\u001b[1;32m     63\u001b[0m positive_data = np.where(variable_data > 0, np.log(variable_data), 0)\n\u001b[0;32m---> 64\u001b[0m # Plot the variable data\n\u001b[1;32m     65\u001b[0m im = plt.imshow(positive_data, origin='lower', extent=[lon.min(), lon.max(), lat.min(), lat.max()], norm=LogNorm(vmin=0.0001)) \n\u001b[1;32m     67\u001b[0m variable_name = \"Surface Accum Precip.\"\n",
      "\u001b[0;31mNameError\u001b[0m: name 'LogNorm' is not defined"
     ]
    },
    {
     "data": {
      "image/png": "[encoded data removed]",
      "text/plain": [
       "<Figure size 640x480 with 1 Axes>"
      ]
     },
     "metadata": {},
     "output_type": "display_data"
    }
   ],
   "source": [
    "create_animation(variable=\"Precac\", timesteps=[\"0000001200\", \"0000001440\", \"0000001680\"], output_file=\"prec_testnew1.mp4\")"
   ]
  },
  {
   "cell_type": "code",
   "execution_count": null,
   "id": "196e5cef-86e1-4019-93f0-954968bf2045",
   "metadata": {},
   "outputs": [],
   "source": []
  }
 ],
 "metadata": {
  "kernelspec": {
   "display_name": "Python 3 (ipykernel)",
   "language": "python",
   "name": "python3"
  },
  "language_info": {
   "codemirror_mode": {
    "name": "ipython",
    "version": 3
   },
   "file_extension": ".py",
   "mimetype": "text/x-python",
   "name": "python",
   "nbconvert_exporter": "python",
   "pygments_lexer": "ipython3",
   "version": "3.10.9"
  }
 },
 "nbformat": 4,
 "nbformat_minor": 5
}
