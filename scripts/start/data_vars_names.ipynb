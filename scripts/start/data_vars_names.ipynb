{
 "cells": [
  {
   "cell_type": "code",
   "execution_count": 8,
   "id": "4b86ef4c-8bec-4c8e-8854-f2024cb18a1e",
   "metadata": {},
   "outputs": [],
   "source": [
    "%load_ext autoreload\n",
    "%matplotlib inline"
   ]
  },
  {
   "cell_type": "code",
   "execution_count": 9,
   "id": "b1b5e9da-ef5e-4b78-bfce-7ca841555f3e",
   "metadata": {},
   "outputs": [],
   "source": [
    "%autoreload 2\n",
    "\n",
    "import sys,os,glob\n",
    "import matplotlib\n",
    "import matplotlib.pyplot as plt\n",
    "import sparse\n",
    "import xarray as xr\n",
    "import numpy as np\n",
    "import pandas as pd\n",
    "from pprint import pprint\n",
    "\n",
    "import netCDF4\n",
    "import matplotlib.animation as animation\n",
    "import imageio\n",
    "import math\n",
    "from IPython.display import Video\n",
    "from tqdm import tqdm"
   ]
  },
  {
   "cell_type": "code",
   "execution_count": 10,
   "id": "48e7e1a2-4913-4962-a283-5cda79647a80",
   "metadata": {},
   "outputs": [],
   "source": [
    "import os\n",
    "import glob\n",
    "import re\n",
    "\n",
    "path_DYAMOND_REGIONS = '/home/gmaxemin/windows/internship_g_maxemin/DYAMOND_REGIONS'\n",
    "path_reg1_SAM = os.path.join(path_DYAMOND_REGIONS, \"130E_165E_0N_20N/SAM\")\n",
    "path_2D = os.path.join(path_reg1_SAM,'2D')"
   ]
  },
  {
   "cell_type": "code",
   "execution_count": 21,
   "id": "e27446b1-81aa-49ef-8d25-06d55bc3a48f",
   "metadata": {},
   "outputs": [
    {
     "name": "stdout",
     "output_type": "stream",
     "text": [
      "OM500\n",
      "T2mm\n",
      "OM850\n",
      "Precac\n",
      "PW\n",
      "CWP\n",
      "U10m\n",
      "RH500\n",
      "PSFC\n",
      "V10m\n",
      "SHF\n",
      "LHF\n",
      "{'OM500', 'T2mm', 'OM850', 'Precac', 'PW', 'CWP', 'U10m', 'RH500', 'PSFC', 'V10m', 'SHF', 'LHF'}\n"
     ]
    }
   ],
   "source": [
    "# Set to store unique variables\n",
    "unique_variables = set()\n",
    "\n",
    "# Regular expression pattern to extract the variable part\n",
    "pattern = r'\\.([^.]*)\\.2D\\.nc$'\n",
    "\n",
    "# Iterate over each file name\n",
    "for file_name in file_names:\n",
    "    # Extract the variable part from the file name using the pattern\n",
    "    match = re.search(pattern, file_name)\n",
    "    \n",
    "    if match:\n",
    "        variable = match.group(1)\n",
    "        # Add the variable to the set\n",
    "        unique_variables.add(variable)\n",
    "\n",
    "# Print the unique variables\n",
    "for variable in unique_variables:\n",
    "    print(variable)\n",
    "print(unique_variables)"
   ]
  },
  {
   "cell_type": "code",
   "execution_count": 71,
   "id": "bb39d45d-c308-47c3-a0b4-1fbae31c1149",
   "metadata": {},
   "outputs": [
    {
     "name": "stdout",
     "output_type": "stream",
     "text": [
      "First file with variable 'LHF':\n",
      "/home/gmaxemin/windows/internship_g_maxemin/DYAMOND_REGIONS/130E_165E_0N_20N/SAM/2D/DYAMOND_9216x4608x74_7.5s_4km_4608_0000376320.LHF.2D.nc\n"
     ]
    }
   ],
   "source": [
    "variable_name = 'LHF'  # Replace with the desired variable name\n",
    "\n",
    "# Search for files containing the desired variable name\n",
    "matching_files = glob.glob(os.path.join(path_2D, '*{}*.2D.nc'.format(variable_name)))\n",
    "\n",
    "# Check if any files are found\n",
    "if matching_files:\n",
    "    # Get the first file\n",
    "    first_file = matching_files[0]\n",
    "    print(\"First file with variable '{}':\".format(variable_name))\n",
    "    print(first_file)\n",
    "else:\n",
    "    print(\"No file found with variable '{}'.\".format(variable_name))"
   ]
  },
  {
   "cell_type": "code",
   "execution_count": 72,
   "id": "969e0e31-9302-4850-8c69-4980a2d40b07",
   "metadata": {},
   "outputs": [],
   "source": [
    "path_file = first_file\n",
    "data_2D_dy_ex = xr.open_dataset(path_file)"
   ]
  },
  {
   "cell_type": "code",
   "execution_count": 73,
   "id": "6ed9a677-7de6-4506-b36b-0ab36fa95029",
   "metadata": {},
   "outputs": [
    {
     "name": "stdout",
     "output_type": "stream",
     "text": [
      "{'LHF': <class 'netCDF4._netCDF4.Variable'>\n",
      "float32 LHF(time, lat, lon)\n",
      "    long_name: Latent Heat Flux\n",
      "    units: W/m2\n",
      "unlimited dimensions: time\n",
      "current shape = (1, 518, 896)\n",
      "filling on, default _FillValue of 9.969209968386869e+36 used, 'lat': <class 'netCDF4._netCDF4.Variable'>\n",
      "float32 lat(lat)\n",
      "    units: degrees_north\n",
      "unlimited dimensions: \n",
      "current shape = (518,)\n",
      "filling on, default _FillValue of 9.969209968386869e+36 used, 'lon': <class 'netCDF4._netCDF4.Variable'>\n",
      "float32 lon(lon)\n",
      "    units: degrees_east\n",
      "unlimited dimensions: \n",
      "current shape = (896,)\n",
      "filling on, default _FillValue of 9.969209968386869e+36 used, 'time': <class 'netCDF4._netCDF4.Variable'>\n",
      "float32 time(time)\n",
      "    units: day\n",
      "    long_name: time\n",
      "unlimited dimensions: time\n",
      "current shape = (1,)\n",
      "filling on, default _FillValue of 9.969209968386869e+36 used}\n"
     ]
    }
   ],
   "source": [
    "# Open the NetCDF file\n",
    "file_path = path_file\n",
    "dataset = netCDF4.Dataset(file_path)\n",
    "\n",
    "# Print variable names\n",
    "print(dataset.variables)"
   ]
  },
  {
   "cell_type": "code",
   "execution_count": 74,
   "id": "2d6c70b5-f51e-40b1-996b-6b9632875f01",
   "metadata": {},
   "outputs": [],
   "source": [
    "name_dict = {\"OM500\":\"Pressure velocity at 500 mb\", \"T2mm\":\"2-m temperature\", \"OM850\":\"Pressure velocity at 850 mb\", \"Precac\":\"Surface Accum Precip.\", \"PW\":\"Precipitable Water\", \"CWP\":\"Cloud Water Path\", \"U10m\":\"10-m zonal wind\", \"RH500\":\"Relative Humidity 500mb\", \"PSFC\":\"P at the surface\",\"V10m\":\"10-m meridional wind\",\"SHF\":\"Sensible Heat Flux\", \"LHF\":\"Latent Heat Flux\"}\n",
    "\n",
    "unit_dict = {\"OM500\":\"Pa/s\",\"T2mm\":\"K\", \"OM850\":\"Pa/s\",\"Precac\":\"mm\", \"PW\":\"kg/m²\", \"CWP\":\"kg/m²\", \"U10m\":\"m/s\", \"RH500\":\"\", \"PSFC\":\"mbar\", \"10-m meridional wind\":\"m/s\",\"SHF\":\"W/m²\", \"LHF\":\"W/m²\"}\n",
    "        \n"
   ]
  },
  {
   "cell_type": "code",
   "execution_count": null,
   "id": "aca82ba3-ad3c-4b95-befa-7bd95a9341a0",
   "metadata": {},
   "outputs": [],
   "source": []
  }
 ],
 "metadata": {
  "kernelspec": {
   "display_name": "Python 3 (ipykernel)",
   "language": "python",
   "name": "python3"
  },
  "language_info": {
   "codemirror_mode": {
    "name": "ipython",
    "version": 3
   },
   "file_extension": ".py",
   "mimetype": "text/x-python",
   "name": "python",
   "nbconvert_exporter": "python",
   "pygments_lexer": "ipython3",
   "version": "3.10.9"
  }
 },
 "nbformat": 4,
 "nbformat_minor": 5
}
